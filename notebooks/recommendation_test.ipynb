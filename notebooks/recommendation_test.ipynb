{
 "cells": [
  {
   "cell_type": "code",
   "execution_count": 89,
   "metadata": {
    "collapsed": true,
    "pycharm": {
     "name": "#%%\n"
    }
   },
   "outputs": [],
   "source": [
    "import sys\n",
    "sys.path.append('../')\n",
    "\n",
    "from IPython.core.display import display\n",
    "import numpy as np\n",
    "import pandas as pd"
   ]
  },
  {
   "cell_type": "code",
   "execution_count": 90,
   "outputs": [
    {
     "name": "stderr",
     "output_type": "stream",
     "text": [
      "/Users/anton/miniconda3/envs/MT/lib/python3.6/site-packages/ipykernel_launcher.py:5: ParserWarning: Falling back to the 'python' engine because the 'c' engine does not support regex separators (separators > 1 char and different from '\\s+' are interpreted as regex); you can avoid this warning by specifying engine='python'.\n",
      "  \"\"\"\n"
     ]
    }
   ],
   "source": [
    "# import node embeddings\n",
    "df = pd.read_csv(\n",
    "    \"./movie_ratings/movie_ratings_alpha-0.1_beta-0.1_ws-10_neg-5_lr-0.025_icom-99_ind-99_k-100_ds-0.0.txt\",\n",
    "    sep=\"\\t| \",\n",
    "    header=None\n",
    ")\n",
    "df = df.rename(columns={0: 'node'})"
   ],
   "metadata": {
    "collapsed": false,
    "pycharm": {
     "name": "#%%\n"
    }
   }
  },
  {
   "cell_type": "code",
   "execution_count": 91,
   "outputs": [],
   "source": [
    "# import ratings\n",
    "ratings = pd.read_csv(\"movie_ratings/movie_ratings.csv\")\n",
    "# import test\n",
    "test = pd.read_csv(\"movie_ratings/movie_ratings_test.csv\", index_col=0)"
   ],
   "metadata": {
    "collapsed": false,
    "pycharm": {
     "name": "#%%\n"
    }
   }
  },
  {
   "cell_type": "code",
   "execution_count": 92,
   "outputs": [
    {
     "data": {
      "text/plain": "   node         1         2         3         4         5         6         7  \\\n0     1  0.017255 -0.014337  0.192036 -0.222628  0.327770  0.299692 -0.125977   \n1     2  0.140821  0.438964  0.205919 -0.032144  0.027903  0.286724  0.147996   \n2     3 -0.168504  0.527044  0.344568 -0.111838  0.040233  0.170690 -0.147194   \n3     4  0.015583 -0.210334  0.297835 -0.074934  0.118399 -0.286261 -0.418940   \n4     5 -0.136543  0.239739  0.257819 -0.437307  0.001001  0.196781  0.048071   \n\n          8         9  ...       119       120       121       122       123  \\\n0  0.069819 -0.186855  ... -0.084296 -0.422604  0.431959  0.426305 -0.370798   \n1 -0.109285 -0.351523  ...  0.015793 -0.292778  0.175085  0.246609 -0.266091   \n2 -0.223272  0.088621  ... -0.307309 -0.221391  0.065576  0.076140 -0.283813   \n3 -0.106137 -0.020894  ...  0.041337 -0.287994 -0.100775  0.726359 -0.088118   \n4  0.020122 -0.136704  ... -0.573853 -0.250213  0.129583  0.075273 -0.273440   \n\n        124       125       126       127       128  \n0  0.115638 -0.450964 -0.027164 -0.123626 -0.324357  \n1  0.021651  0.133873 -0.016711 -0.160067 -0.469002  \n2  0.232568 -0.039443  0.148100 -0.369995 -0.497061  \n3  0.294219 -0.113482 -0.022776 -0.318247 -0.150065  \n4 -0.213483 -0.117163  0.314794 -0.367967 -0.397165  \n\n[5 rows x 129 columns]",
      "text/html": "<div>\n<style scoped>\n    .dataframe tbody tr th:only-of-type {\n        vertical-align: middle;\n    }\n\n    .dataframe tbody tr th {\n        vertical-align: top;\n    }\n\n    .dataframe thead th {\n        text-align: right;\n    }\n</style>\n<table border=\"1\" class=\"dataframe\">\n  <thead>\n    <tr style=\"text-align: right;\">\n      <th></th>\n      <th>node</th>\n      <th>1</th>\n      <th>2</th>\n      <th>3</th>\n      <th>4</th>\n      <th>5</th>\n      <th>6</th>\n      <th>7</th>\n      <th>8</th>\n      <th>9</th>\n      <th>...</th>\n      <th>119</th>\n      <th>120</th>\n      <th>121</th>\n      <th>122</th>\n      <th>123</th>\n      <th>124</th>\n      <th>125</th>\n      <th>126</th>\n      <th>127</th>\n      <th>128</th>\n    </tr>\n  </thead>\n  <tbody>\n    <tr>\n      <th>0</th>\n      <td>1</td>\n      <td>0.017255</td>\n      <td>-0.014337</td>\n      <td>0.192036</td>\n      <td>-0.222628</td>\n      <td>0.327770</td>\n      <td>0.299692</td>\n      <td>-0.125977</td>\n      <td>0.069819</td>\n      <td>-0.186855</td>\n      <td>...</td>\n      <td>-0.084296</td>\n      <td>-0.422604</td>\n      <td>0.431959</td>\n      <td>0.426305</td>\n      <td>-0.370798</td>\n      <td>0.115638</td>\n      <td>-0.450964</td>\n      <td>-0.027164</td>\n      <td>-0.123626</td>\n      <td>-0.324357</td>\n    </tr>\n    <tr>\n      <th>1</th>\n      <td>2</td>\n      <td>0.140821</td>\n      <td>0.438964</td>\n      <td>0.205919</td>\n      <td>-0.032144</td>\n      <td>0.027903</td>\n      <td>0.286724</td>\n      <td>0.147996</td>\n      <td>-0.109285</td>\n      <td>-0.351523</td>\n      <td>...</td>\n      <td>0.015793</td>\n      <td>-0.292778</td>\n      <td>0.175085</td>\n      <td>0.246609</td>\n      <td>-0.266091</td>\n      <td>0.021651</td>\n      <td>0.133873</td>\n      <td>-0.016711</td>\n      <td>-0.160067</td>\n      <td>-0.469002</td>\n    </tr>\n    <tr>\n      <th>2</th>\n      <td>3</td>\n      <td>-0.168504</td>\n      <td>0.527044</td>\n      <td>0.344568</td>\n      <td>-0.111838</td>\n      <td>0.040233</td>\n      <td>0.170690</td>\n      <td>-0.147194</td>\n      <td>-0.223272</td>\n      <td>0.088621</td>\n      <td>...</td>\n      <td>-0.307309</td>\n      <td>-0.221391</td>\n      <td>0.065576</td>\n      <td>0.076140</td>\n      <td>-0.283813</td>\n      <td>0.232568</td>\n      <td>-0.039443</td>\n      <td>0.148100</td>\n      <td>-0.369995</td>\n      <td>-0.497061</td>\n    </tr>\n    <tr>\n      <th>3</th>\n      <td>4</td>\n      <td>0.015583</td>\n      <td>-0.210334</td>\n      <td>0.297835</td>\n      <td>-0.074934</td>\n      <td>0.118399</td>\n      <td>-0.286261</td>\n      <td>-0.418940</td>\n      <td>-0.106137</td>\n      <td>-0.020894</td>\n      <td>...</td>\n      <td>0.041337</td>\n      <td>-0.287994</td>\n      <td>-0.100775</td>\n      <td>0.726359</td>\n      <td>-0.088118</td>\n      <td>0.294219</td>\n      <td>-0.113482</td>\n      <td>-0.022776</td>\n      <td>-0.318247</td>\n      <td>-0.150065</td>\n    </tr>\n    <tr>\n      <th>4</th>\n      <td>5</td>\n      <td>-0.136543</td>\n      <td>0.239739</td>\n      <td>0.257819</td>\n      <td>-0.437307</td>\n      <td>0.001001</td>\n      <td>0.196781</td>\n      <td>0.048071</td>\n      <td>0.020122</td>\n      <td>-0.136704</td>\n      <td>...</td>\n      <td>-0.573853</td>\n      <td>-0.250213</td>\n      <td>0.129583</td>\n      <td>0.075273</td>\n      <td>-0.273440</td>\n      <td>-0.213483</td>\n      <td>-0.117163</td>\n      <td>0.314794</td>\n      <td>-0.367967</td>\n      <td>-0.397165</td>\n    </tr>\n  </tbody>\n</table>\n<p>5 rows × 129 columns</p>\n</div>"
     },
     "metadata": {},
     "output_type": "display_data"
    },
    {
     "data": {
      "text/plain": "                node            1            2            3            4  \\\ncount    6325.000000  6325.000000  6325.000000  6325.000000  6325.000000   \nmean    24289.992727    -0.111422     0.110745     0.072024    -0.118635   \nstd     36543.813244     0.184624     0.180154     0.170464     0.175585   \nmin         1.000000    -0.962409    -0.506082    -0.517343    -0.780928   \n25%      2112.000000    -0.241810    -0.007748    -0.042502    -0.234461   \n50%      4658.000000    -0.113007     0.102852     0.064216    -0.135364   \n75%     37384.000000     0.016079     0.231577     0.184666    -0.002733   \nmax    163949.000000     0.552065     0.750327     0.759574     0.607040   \n\n                 5            6            7            8            9  ...  \\\ncount  6325.000000  6325.000000  6325.000000  6325.000000  6325.000000  ...   \nmean      0.127478     0.138736     0.018908    -0.032209     0.035102  ...   \nstd       0.181788     0.180103     0.183292     0.163417     0.180166  ...   \nmin      -0.628886    -0.510092    -0.728804    -0.631015    -0.614673  ...   \n25%       0.000164     0.014605    -0.104847    -0.145271    -0.090769  ...   \n50%       0.117948     0.138708     0.029607    -0.021753     0.033471  ...   \n75%       0.254484     0.263047     0.143551     0.079358     0.172319  ...   \nmax       0.966547     0.956420     0.666286     0.583418     0.880508  ...   \n\n               119          120          121          122          123  \\\ncount  6325.000000  6325.000000  6325.000000  6325.000000  6325.000000   \nmean      0.066064    -0.173470     0.097064     0.197983    -0.078634   \nstd       0.200514     0.170845     0.170641     0.168712     0.191665   \nmin      -0.586972    -0.780203    -0.504854    -0.467396    -0.770520   \n25%      -0.078270    -0.286435    -0.021520     0.076822    -0.196425   \n50%       0.062582    -0.165707     0.088360     0.203982    -0.070509   \n75%       0.197903    -0.057376     0.220040     0.309879     0.048148   \nmax       0.721668     0.411708     0.744248     0.874157     0.551821   \n\n               124          125          126          127          128  \ncount  6325.000000  6325.000000  6325.000000  6325.000000  6325.000000  \nmean     -0.045096    -0.079732    -0.003587    -0.088073    -0.142125  \nstd       0.171420     0.168680     0.157411     0.167601     0.168278  \nmin      -0.776069    -0.864866    -0.650282    -0.819247    -0.744917  \n25%      -0.150234    -0.187576    -0.102455    -0.194036    -0.257103  \n50%      -0.040411    -0.073444     0.000048    -0.085112    -0.138225  \n75%       0.072928     0.033386     0.094001     0.027099    -0.023047  \nmax       0.550281     0.514349     0.626439     0.533104     0.505449  \n\n[8 rows x 129 columns]",
      "text/html": "<div>\n<style scoped>\n    .dataframe tbody tr th:only-of-type {\n        vertical-align: middle;\n    }\n\n    .dataframe tbody tr th {\n        vertical-align: top;\n    }\n\n    .dataframe thead th {\n        text-align: right;\n    }\n</style>\n<table border=\"1\" class=\"dataframe\">\n  <thead>\n    <tr style=\"text-align: right;\">\n      <th></th>\n      <th>node</th>\n      <th>1</th>\n      <th>2</th>\n      <th>3</th>\n      <th>4</th>\n      <th>5</th>\n      <th>6</th>\n      <th>7</th>\n      <th>8</th>\n      <th>9</th>\n      <th>...</th>\n      <th>119</th>\n      <th>120</th>\n      <th>121</th>\n      <th>122</th>\n      <th>123</th>\n      <th>124</th>\n      <th>125</th>\n      <th>126</th>\n      <th>127</th>\n      <th>128</th>\n    </tr>\n  </thead>\n  <tbody>\n    <tr>\n      <th>count</th>\n      <td>6325.000000</td>\n      <td>6325.000000</td>\n      <td>6325.000000</td>\n      <td>6325.000000</td>\n      <td>6325.000000</td>\n      <td>6325.000000</td>\n      <td>6325.000000</td>\n      <td>6325.000000</td>\n      <td>6325.000000</td>\n      <td>6325.000000</td>\n      <td>...</td>\n      <td>6325.000000</td>\n      <td>6325.000000</td>\n      <td>6325.000000</td>\n      <td>6325.000000</td>\n      <td>6325.000000</td>\n      <td>6325.000000</td>\n      <td>6325.000000</td>\n      <td>6325.000000</td>\n      <td>6325.000000</td>\n      <td>6325.000000</td>\n    </tr>\n    <tr>\n      <th>mean</th>\n      <td>24289.992727</td>\n      <td>-0.111422</td>\n      <td>0.110745</td>\n      <td>0.072024</td>\n      <td>-0.118635</td>\n      <td>0.127478</td>\n      <td>0.138736</td>\n      <td>0.018908</td>\n      <td>-0.032209</td>\n      <td>0.035102</td>\n      <td>...</td>\n      <td>0.066064</td>\n      <td>-0.173470</td>\n      <td>0.097064</td>\n      <td>0.197983</td>\n      <td>-0.078634</td>\n      <td>-0.045096</td>\n      <td>-0.079732</td>\n      <td>-0.003587</td>\n      <td>-0.088073</td>\n      <td>-0.142125</td>\n    </tr>\n    <tr>\n      <th>std</th>\n      <td>36543.813244</td>\n      <td>0.184624</td>\n      <td>0.180154</td>\n      <td>0.170464</td>\n      <td>0.175585</td>\n      <td>0.181788</td>\n      <td>0.180103</td>\n      <td>0.183292</td>\n      <td>0.163417</td>\n      <td>0.180166</td>\n      <td>...</td>\n      <td>0.200514</td>\n      <td>0.170845</td>\n      <td>0.170641</td>\n      <td>0.168712</td>\n      <td>0.191665</td>\n      <td>0.171420</td>\n      <td>0.168680</td>\n      <td>0.157411</td>\n      <td>0.167601</td>\n      <td>0.168278</td>\n    </tr>\n    <tr>\n      <th>min</th>\n      <td>1.000000</td>\n      <td>-0.962409</td>\n      <td>-0.506082</td>\n      <td>-0.517343</td>\n      <td>-0.780928</td>\n      <td>-0.628886</td>\n      <td>-0.510092</td>\n      <td>-0.728804</td>\n      <td>-0.631015</td>\n      <td>-0.614673</td>\n      <td>...</td>\n      <td>-0.586972</td>\n      <td>-0.780203</td>\n      <td>-0.504854</td>\n      <td>-0.467396</td>\n      <td>-0.770520</td>\n      <td>-0.776069</td>\n      <td>-0.864866</td>\n      <td>-0.650282</td>\n      <td>-0.819247</td>\n      <td>-0.744917</td>\n    </tr>\n    <tr>\n      <th>25%</th>\n      <td>2112.000000</td>\n      <td>-0.241810</td>\n      <td>-0.007748</td>\n      <td>-0.042502</td>\n      <td>-0.234461</td>\n      <td>0.000164</td>\n      <td>0.014605</td>\n      <td>-0.104847</td>\n      <td>-0.145271</td>\n      <td>-0.090769</td>\n      <td>...</td>\n      <td>-0.078270</td>\n      <td>-0.286435</td>\n      <td>-0.021520</td>\n      <td>0.076822</td>\n      <td>-0.196425</td>\n      <td>-0.150234</td>\n      <td>-0.187576</td>\n      <td>-0.102455</td>\n      <td>-0.194036</td>\n      <td>-0.257103</td>\n    </tr>\n    <tr>\n      <th>50%</th>\n      <td>4658.000000</td>\n      <td>-0.113007</td>\n      <td>0.102852</td>\n      <td>0.064216</td>\n      <td>-0.135364</td>\n      <td>0.117948</td>\n      <td>0.138708</td>\n      <td>0.029607</td>\n      <td>-0.021753</td>\n      <td>0.033471</td>\n      <td>...</td>\n      <td>0.062582</td>\n      <td>-0.165707</td>\n      <td>0.088360</td>\n      <td>0.203982</td>\n      <td>-0.070509</td>\n      <td>-0.040411</td>\n      <td>-0.073444</td>\n      <td>0.000048</td>\n      <td>-0.085112</td>\n      <td>-0.138225</td>\n    </tr>\n    <tr>\n      <th>75%</th>\n      <td>37384.000000</td>\n      <td>0.016079</td>\n      <td>0.231577</td>\n      <td>0.184666</td>\n      <td>-0.002733</td>\n      <td>0.254484</td>\n      <td>0.263047</td>\n      <td>0.143551</td>\n      <td>0.079358</td>\n      <td>0.172319</td>\n      <td>...</td>\n      <td>0.197903</td>\n      <td>-0.057376</td>\n      <td>0.220040</td>\n      <td>0.309879</td>\n      <td>0.048148</td>\n      <td>0.072928</td>\n      <td>0.033386</td>\n      <td>0.094001</td>\n      <td>0.027099</td>\n      <td>-0.023047</td>\n    </tr>\n    <tr>\n      <th>max</th>\n      <td>163949.000000</td>\n      <td>0.552065</td>\n      <td>0.750327</td>\n      <td>0.759574</td>\n      <td>0.607040</td>\n      <td>0.966547</td>\n      <td>0.956420</td>\n      <td>0.666286</td>\n      <td>0.583418</td>\n      <td>0.880508</td>\n      <td>...</td>\n      <td>0.721668</td>\n      <td>0.411708</td>\n      <td>0.744248</td>\n      <td>0.874157</td>\n      <td>0.551821</td>\n      <td>0.550281</td>\n      <td>0.514349</td>\n      <td>0.626439</td>\n      <td>0.533104</td>\n      <td>0.505449</td>\n    </tr>\n  </tbody>\n</table>\n<p>8 rows × 129 columns</p>\n</div>"
     },
     "metadata": {},
     "output_type": "display_data"
    }
   ],
   "source": [
    "# node embeddings\n",
    "display(df.head())\n",
    "display(df.describe())"
   ],
   "metadata": {
    "collapsed": false,
    "pycharm": {
     "name": "#%%\n"
    }
   }
  },
  {
   "cell_type": "code",
   "execution_count": 93,
   "outputs": [
    {
     "data": {
      "text/plain": "   userId  movieId  rating   timestamp\n0       1       31     2.5  1260759144\n1       1     1029     3.0  1260759179\n2       1     1061     3.0  1260759182\n3       1     1129     2.0  1260759185\n4       1     1172     4.0  1260759205",
      "text/html": "<div>\n<style scoped>\n    .dataframe tbody tr th:only-of-type {\n        vertical-align: middle;\n    }\n\n    .dataframe tbody tr th {\n        vertical-align: top;\n    }\n\n    .dataframe thead th {\n        text-align: right;\n    }\n</style>\n<table border=\"1\" class=\"dataframe\">\n  <thead>\n    <tr style=\"text-align: right;\">\n      <th></th>\n      <th>userId</th>\n      <th>movieId</th>\n      <th>rating</th>\n      <th>timestamp</th>\n    </tr>\n  </thead>\n  <tbody>\n    <tr>\n      <th>0</th>\n      <td>1</td>\n      <td>31</td>\n      <td>2.5</td>\n      <td>1260759144</td>\n    </tr>\n    <tr>\n      <th>1</th>\n      <td>1</td>\n      <td>1029</td>\n      <td>3.0</td>\n      <td>1260759179</td>\n    </tr>\n    <tr>\n      <th>2</th>\n      <td>1</td>\n      <td>1061</td>\n      <td>3.0</td>\n      <td>1260759182</td>\n    </tr>\n    <tr>\n      <th>3</th>\n      <td>1</td>\n      <td>1129</td>\n      <td>2.0</td>\n      <td>1260759185</td>\n    </tr>\n    <tr>\n      <th>4</th>\n      <td>1</td>\n      <td>1172</td>\n      <td>4.0</td>\n      <td>1260759205</td>\n    </tr>\n  </tbody>\n</table>\n</div>"
     },
     "metadata": {},
     "output_type": "display_data"
    },
    {
     "data": {
      "text/plain": "              userId        movieId         rating     timestamp\ncount  100004.000000  100004.000000  100004.000000  1.000040e+05\nmean      347.011310   12548.664363       3.543608  1.129639e+09\nstd       195.163838   26369.198969       1.058064  1.916858e+08\nmin         1.000000       1.000000       0.500000  7.896520e+08\n25%       182.000000    1028.000000       3.000000  9.658478e+08\n50%       367.000000    2406.500000       4.000000  1.110422e+09\n75%       520.000000    5418.000000       4.000000  1.296192e+09\nmax       671.000000  163949.000000       5.000000  1.476641e+09",
      "text/html": "<div>\n<style scoped>\n    .dataframe tbody tr th:only-of-type {\n        vertical-align: middle;\n    }\n\n    .dataframe tbody tr th {\n        vertical-align: top;\n    }\n\n    .dataframe thead th {\n        text-align: right;\n    }\n</style>\n<table border=\"1\" class=\"dataframe\">\n  <thead>\n    <tr style=\"text-align: right;\">\n      <th></th>\n      <th>userId</th>\n      <th>movieId</th>\n      <th>rating</th>\n      <th>timestamp</th>\n    </tr>\n  </thead>\n  <tbody>\n    <tr>\n      <th>count</th>\n      <td>100004.000000</td>\n      <td>100004.000000</td>\n      <td>100004.000000</td>\n      <td>1.000040e+05</td>\n    </tr>\n    <tr>\n      <th>mean</th>\n      <td>347.011310</td>\n      <td>12548.664363</td>\n      <td>3.543608</td>\n      <td>1.129639e+09</td>\n    </tr>\n    <tr>\n      <th>std</th>\n      <td>195.163838</td>\n      <td>26369.198969</td>\n      <td>1.058064</td>\n      <td>1.916858e+08</td>\n    </tr>\n    <tr>\n      <th>min</th>\n      <td>1.000000</td>\n      <td>1.000000</td>\n      <td>0.500000</td>\n      <td>7.896520e+08</td>\n    </tr>\n    <tr>\n      <th>25%</th>\n      <td>182.000000</td>\n      <td>1028.000000</td>\n      <td>3.000000</td>\n      <td>9.658478e+08</td>\n    </tr>\n    <tr>\n      <th>50%</th>\n      <td>367.000000</td>\n      <td>2406.500000</td>\n      <td>4.000000</td>\n      <td>1.110422e+09</td>\n    </tr>\n    <tr>\n      <th>75%</th>\n      <td>520.000000</td>\n      <td>5418.000000</td>\n      <td>4.000000</td>\n      <td>1.296192e+09</td>\n    </tr>\n    <tr>\n      <th>max</th>\n      <td>671.000000</td>\n      <td>163949.000000</td>\n      <td>5.000000</td>\n      <td>1.476641e+09</td>\n    </tr>\n  </tbody>\n</table>\n</div>"
     },
     "metadata": {},
     "output_type": "display_data"
    }
   ],
   "source": [
    "# ratings df\n",
    "display(ratings.head())\n",
    "display(ratings.describe())"
   ],
   "metadata": {
    "collapsed": false,
    "pycharm": {
     "name": "#%%\n"
    }
   }
  },
  {
   "cell_type": "code",
   "execution_count": 94,
   "outputs": [
    {
     "data": {
      "text/plain": "     userId  movieId  rating   timestamp  is_test\n4         1     1172     4.0  1260759205     True\n21        2       17     5.0   835355681     True\n101       3      318     5.0  1298862121     True\n148       4       34     5.0   949919556     True\n368       5      597     5.0  1163373711     True",
      "text/html": "<div>\n<style scoped>\n    .dataframe tbody tr th:only-of-type {\n        vertical-align: middle;\n    }\n\n    .dataframe tbody tr th {\n        vertical-align: top;\n    }\n\n    .dataframe thead th {\n        text-align: right;\n    }\n</style>\n<table border=\"1\" class=\"dataframe\">\n  <thead>\n    <tr style=\"text-align: right;\">\n      <th></th>\n      <th>userId</th>\n      <th>movieId</th>\n      <th>rating</th>\n      <th>timestamp</th>\n      <th>is_test</th>\n    </tr>\n  </thead>\n  <tbody>\n    <tr>\n      <th>4</th>\n      <td>1</td>\n      <td>1172</td>\n      <td>4.0</td>\n      <td>1260759205</td>\n      <td>True</td>\n    </tr>\n    <tr>\n      <th>21</th>\n      <td>2</td>\n      <td>17</td>\n      <td>5.0</td>\n      <td>835355681</td>\n      <td>True</td>\n    </tr>\n    <tr>\n      <th>101</th>\n      <td>3</td>\n      <td>318</td>\n      <td>5.0</td>\n      <td>1298862121</td>\n      <td>True</td>\n    </tr>\n    <tr>\n      <th>148</th>\n      <td>4</td>\n      <td>34</td>\n      <td>5.0</td>\n      <td>949919556</td>\n      <td>True</td>\n    </tr>\n    <tr>\n      <th>368</th>\n      <td>5</td>\n      <td>597</td>\n      <td>5.0</td>\n      <td>1163373711</td>\n      <td>True</td>\n    </tr>\n  </tbody>\n</table>\n</div>"
     },
     "metadata": {},
     "output_type": "display_data"
    },
    {
     "data": {
      "text/plain": "           userId        movieId      rating     timestamp\ncount  671.000000     671.000000  671.000000  6.710000e+02\nmean   336.000000    1404.698957    4.975410  1.100543e+09\nstd    193.845299    8360.597945    0.127222  2.105644e+08\nmin      1.000000       1.000000    4.000000  8.282124e+08\n25%    168.500000      29.000000    5.000000  9.389921e+08\n50%    336.000000     135.000000    5.000000  1.064891e+09\n75%    503.500000     525.500000    5.000000  1.282805e+09\nmax    671.000000  135887.000000    5.000000  1.476478e+09",
      "text/html": "<div>\n<style scoped>\n    .dataframe tbody tr th:only-of-type {\n        vertical-align: middle;\n    }\n\n    .dataframe tbody tr th {\n        vertical-align: top;\n    }\n\n    .dataframe thead th {\n        text-align: right;\n    }\n</style>\n<table border=\"1\" class=\"dataframe\">\n  <thead>\n    <tr style=\"text-align: right;\">\n      <th></th>\n      <th>userId</th>\n      <th>movieId</th>\n      <th>rating</th>\n      <th>timestamp</th>\n    </tr>\n  </thead>\n  <tbody>\n    <tr>\n      <th>count</th>\n      <td>671.000000</td>\n      <td>671.000000</td>\n      <td>671.000000</td>\n      <td>6.710000e+02</td>\n    </tr>\n    <tr>\n      <th>mean</th>\n      <td>336.000000</td>\n      <td>1404.698957</td>\n      <td>4.975410</td>\n      <td>1.100543e+09</td>\n    </tr>\n    <tr>\n      <th>std</th>\n      <td>193.845299</td>\n      <td>8360.597945</td>\n      <td>0.127222</td>\n      <td>2.105644e+08</td>\n    </tr>\n    <tr>\n      <th>min</th>\n      <td>1.000000</td>\n      <td>1.000000</td>\n      <td>4.000000</td>\n      <td>8.282124e+08</td>\n    </tr>\n    <tr>\n      <th>25%</th>\n      <td>168.500000</td>\n      <td>29.000000</td>\n      <td>5.000000</td>\n      <td>9.389921e+08</td>\n    </tr>\n    <tr>\n      <th>50%</th>\n      <td>336.000000</td>\n      <td>135.000000</td>\n      <td>5.000000</td>\n      <td>1.064891e+09</td>\n    </tr>\n    <tr>\n      <th>75%</th>\n      <td>503.500000</td>\n      <td>525.500000</td>\n      <td>5.000000</td>\n      <td>1.282805e+09</td>\n    </tr>\n    <tr>\n      <th>max</th>\n      <td>671.000000</td>\n      <td>135887.000000</td>\n      <td>5.000000</td>\n      <td>1.476478e+09</td>\n    </tr>\n  </tbody>\n</table>\n</div>"
     },
     "metadata": {},
     "output_type": "display_data"
    }
   ],
   "source": [
    "# test df\n",
    "display(test.head())\n",
    "display(test.describe())"
   ],
   "metadata": {
    "collapsed": false,
    "pycharm": {
     "name": "#%%\n"
    }
   }
  },
  {
   "cell_type": "code",
   "execution_count": 95,
   "outputs": [
    {
     "name": "stdout",
     "output_type": "stream",
     "text": [
      "   node         1         2         3         4        5         6         7  \\\n",
      "0     1  0.017255 -0.014337  0.192036 -0.222628  0.32777  0.299692 -0.125977   \n",
      "\n",
      "          8         9  ...       119       120       121       122       123  \\\n",
      "0  0.069819 -0.186855  ... -0.084296 -0.422604  0.431959  0.426305 -0.370798   \n",
      "\n",
      "        124       125       126       127       128  \n",
      "0  0.115638 -0.450964 -0.027164 -0.123626 -0.324357  \n",
      "\n",
      "[1 rows x 129 columns]\n"
     ]
    }
   ],
   "source": [
    "# compute Top-N lists for test dataset\n",
    "for i, row in test.iterrows():\n",
    "    userId = row['userId']\n",
    "    emb = df[df['node'] == userId]\n",
    "    print(emb) #TODO: I messed up. users and movies start at min id=1 :(\n",
    "    break"
   ],
   "metadata": {
    "collapsed": false,
    "pycharm": {
     "name": "#%%\n"
    }
   }
  }
 ],
 "metadata": {
  "kernelspec": {
   "name": "pycharm-97a28330",
   "language": "python",
   "display_name": "PyCharm (ComE_BGMM)"
  },
  "language_info": {
   "codemirror_mode": {
    "name": "ipython",
    "version": 2
   },
   "file_extension": ".py",
   "mimetype": "text/x-python",
   "name": "python",
   "nbconvert_exporter": "python",
   "pygments_lexer": "ipython2",
   "version": "2.7.6"
  }
 },
 "nbformat": 4,
 "nbformat_minor": 0
}