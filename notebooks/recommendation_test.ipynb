{
 "cells": [
  {
   "cell_type": "code",
   "execution_count": 563,
   "metadata": {
    "collapsed": true,
    "pycharm": {
     "name": "#%%\n"
    }
   },
   "outputs": [],
   "source": [
    "import sys\n",
    "sys.path.append('../')\n",
    "\n",
    "from IPython.core.display import display\n",
    "import numpy as np\n",
    "import pandas as pd"
   ]
  },
  {
   "cell_type": "code",
   "execution_count": 564,
   "outputs": [
    {
     "name": "stderr",
     "output_type": "stream",
     "text": [
      "/Users/anton/miniconda3/envs/MT/lib/python3.6/site-packages/ipykernel_launcher.py:5: ParserWarning: Falling back to the 'python' engine because the 'c' engine does not support regex separators (separators > 1 char and different from '\\s+' are interpreted as regex); you can avoid this warning by specifying engine='python'.\n",
      "  \"\"\"\n"
     ]
    }
   ],
   "source": [
    "# import node embeddings\n",
    "df = pd.read_csv(\n",
    "    \"./movie_ratings/movie_ratings_alpha-0.1_beta-0.1_ws-10_neg-5_lr-0.025_icom-107_ind-107_k-300_ds-0.0.txt\",\n",
    "    sep=\"\\t| \",\n",
    "    header=None\n",
    ")\n",
    "df = df.rename(columns={0: 'node'})\n",
    "df.set_index(['node'], inplace=True)"
   ],
   "metadata": {
    "collapsed": false,
    "pycharm": {
     "name": "#%%\n"
    }
   }
  },
  {
   "cell_type": "code",
   "execution_count": 565,
   "outputs": [],
   "source": [
    "# import ratings\n",
    "ratings = pd.read_csv(\"movie_ratings/movie_ratings_unique.csv\")\n",
    "ratings.set_index(['userId', 'movieId'], inplace=True)\n",
    "# import test\n",
    "test = pd.read_csv(\"movie_ratings/movie_ratings_test.csv\", index_col=0)\n",
    "test.set_index(['userId', 'movieId'], inplace=True)"
   ],
   "metadata": {
    "collapsed": false,
    "pycharm": {
     "name": "#%%\n"
    }
   }
  },
  {
   "cell_type": "code",
   "execution_count": 566,
   "outputs": [
    {
     "data": {
      "text/plain": "           1         2         3         4         5         6         7    \\\nnode                                                                         \n1     0.084126 -0.158210  0.055267  0.064245  0.119639 -0.457690  0.151260   \n2     0.189232  0.368353 -0.021794 -0.180266 -0.164473  0.112753 -0.024415   \n3     0.202998  0.574760  0.186271 -0.307789 -0.409419 -0.294299  0.235681   \n4     0.257892  0.118488 -0.068176  0.164954 -0.099770 -0.385578 -0.176414   \n5    -0.087077 -0.112597 -0.015801 -0.042038 -0.051923 -0.367648  0.079132   \n\n           8         9         10   ...       119       120       121  \\\nnode                                ...                                 \n1    -0.188201  0.306511 -0.171590  ...  0.151671 -0.428449  0.384514   \n2    -0.059802 -0.087151 -0.377635  ... -0.047132 -0.445814 -0.271653   \n3     0.074319  0.207355  0.147867  ... -0.323176  0.062072  0.202059   \n4     0.486536  0.246525 -0.154400  ...  0.002303 -0.457141  0.298918   \n5     0.445809  0.080819 -0.062714  ... -0.214951  0.092153 -0.000992   \n\n           122       123       124       125       126       127       128  \nnode                                                                        \n1     0.115550 -0.281860 -0.375460 -0.212332 -0.118784 -0.340415 -0.532844  \n2     0.155094 -0.182624 -0.277436 -0.269682  0.209155 -0.150452 -0.109370  \n3     0.245980 -0.446667  0.251941 -0.110601  0.085919 -0.233315 -0.669942  \n4    -0.118033 -0.224613 -0.202845 -0.158876 -0.008919  0.143959 -0.383050  \n5     0.378648 -0.211254 -0.131860 -0.561901  0.055496 -0.243451 -0.627809  \n\n[5 rows x 128 columns]",
      "text/html": "<div>\n<style scoped>\n    .dataframe tbody tr th:only-of-type {\n        vertical-align: middle;\n    }\n\n    .dataframe tbody tr th {\n        vertical-align: top;\n    }\n\n    .dataframe thead th {\n        text-align: right;\n    }\n</style>\n<table border=\"1\" class=\"dataframe\">\n  <thead>\n    <tr style=\"text-align: right;\">\n      <th></th>\n      <th>1</th>\n      <th>2</th>\n      <th>3</th>\n      <th>4</th>\n      <th>5</th>\n      <th>6</th>\n      <th>7</th>\n      <th>8</th>\n      <th>9</th>\n      <th>10</th>\n      <th>...</th>\n      <th>119</th>\n      <th>120</th>\n      <th>121</th>\n      <th>122</th>\n      <th>123</th>\n      <th>124</th>\n      <th>125</th>\n      <th>126</th>\n      <th>127</th>\n      <th>128</th>\n    </tr>\n    <tr>\n      <th>node</th>\n      <th></th>\n      <th></th>\n      <th></th>\n      <th></th>\n      <th></th>\n      <th></th>\n      <th></th>\n      <th></th>\n      <th></th>\n      <th></th>\n      <th></th>\n      <th></th>\n      <th></th>\n      <th></th>\n      <th></th>\n      <th></th>\n      <th></th>\n      <th></th>\n      <th></th>\n      <th></th>\n      <th></th>\n    </tr>\n  </thead>\n  <tbody>\n    <tr>\n      <th>1</th>\n      <td>0.084126</td>\n      <td>-0.158210</td>\n      <td>0.055267</td>\n      <td>0.064245</td>\n      <td>0.119639</td>\n      <td>-0.457690</td>\n      <td>0.151260</td>\n      <td>-0.188201</td>\n      <td>0.306511</td>\n      <td>-0.171590</td>\n      <td>...</td>\n      <td>0.151671</td>\n      <td>-0.428449</td>\n      <td>0.384514</td>\n      <td>0.115550</td>\n      <td>-0.281860</td>\n      <td>-0.375460</td>\n      <td>-0.212332</td>\n      <td>-0.118784</td>\n      <td>-0.340415</td>\n      <td>-0.532844</td>\n    </tr>\n    <tr>\n      <th>2</th>\n      <td>0.189232</td>\n      <td>0.368353</td>\n      <td>-0.021794</td>\n      <td>-0.180266</td>\n      <td>-0.164473</td>\n      <td>0.112753</td>\n      <td>-0.024415</td>\n      <td>-0.059802</td>\n      <td>-0.087151</td>\n      <td>-0.377635</td>\n      <td>...</td>\n      <td>-0.047132</td>\n      <td>-0.445814</td>\n      <td>-0.271653</td>\n      <td>0.155094</td>\n      <td>-0.182624</td>\n      <td>-0.277436</td>\n      <td>-0.269682</td>\n      <td>0.209155</td>\n      <td>-0.150452</td>\n      <td>-0.109370</td>\n    </tr>\n    <tr>\n      <th>3</th>\n      <td>0.202998</td>\n      <td>0.574760</td>\n      <td>0.186271</td>\n      <td>-0.307789</td>\n      <td>-0.409419</td>\n      <td>-0.294299</td>\n      <td>0.235681</td>\n      <td>0.074319</td>\n      <td>0.207355</td>\n      <td>0.147867</td>\n      <td>...</td>\n      <td>-0.323176</td>\n      <td>0.062072</td>\n      <td>0.202059</td>\n      <td>0.245980</td>\n      <td>-0.446667</td>\n      <td>0.251941</td>\n      <td>-0.110601</td>\n      <td>0.085919</td>\n      <td>-0.233315</td>\n      <td>-0.669942</td>\n    </tr>\n    <tr>\n      <th>4</th>\n      <td>0.257892</td>\n      <td>0.118488</td>\n      <td>-0.068176</td>\n      <td>0.164954</td>\n      <td>-0.099770</td>\n      <td>-0.385578</td>\n      <td>-0.176414</td>\n      <td>0.486536</td>\n      <td>0.246525</td>\n      <td>-0.154400</td>\n      <td>...</td>\n      <td>0.002303</td>\n      <td>-0.457141</td>\n      <td>0.298918</td>\n      <td>-0.118033</td>\n      <td>-0.224613</td>\n      <td>-0.202845</td>\n      <td>-0.158876</td>\n      <td>-0.008919</td>\n      <td>0.143959</td>\n      <td>-0.383050</td>\n    </tr>\n    <tr>\n      <th>5</th>\n      <td>-0.087077</td>\n      <td>-0.112597</td>\n      <td>-0.015801</td>\n      <td>-0.042038</td>\n      <td>-0.051923</td>\n      <td>-0.367648</td>\n      <td>0.079132</td>\n      <td>0.445809</td>\n      <td>0.080819</td>\n      <td>-0.062714</td>\n      <td>...</td>\n      <td>-0.214951</td>\n      <td>0.092153</td>\n      <td>-0.000992</td>\n      <td>0.378648</td>\n      <td>-0.211254</td>\n      <td>-0.131860</td>\n      <td>-0.561901</td>\n      <td>0.055496</td>\n      <td>-0.243451</td>\n      <td>-0.627809</td>\n    </tr>\n  </tbody>\n</table>\n<p>5 rows × 128 columns</p>\n</div>"
     },
     "metadata": {},
     "output_type": "display_data"
    },
    {
     "data": {
      "text/plain": "               1            2            3            4            5    \\\ncount  6835.000000  6835.000000  6835.000000  6835.000000  6835.000000   \nmean      0.078405     0.048297     0.115129    -0.092659    -0.126263   \nstd       0.201490     0.179932     0.210509     0.169755     0.175618   \nmin      -0.616688    -0.755005    -0.706490    -0.834755    -0.737403   \n25%      -0.057553    -0.071159    -0.002983    -0.195428    -0.238303   \n50%       0.074405     0.036614     0.132743    -0.087690    -0.127753   \n75%       0.219811     0.161051     0.250212     0.014769    -0.007301   \nmax       0.845680     0.709137     0.809617     0.577804     0.692225   \n\n               6            7            8            9            10   ...  \\\ncount  6835.000000  6835.000000  6835.000000  6835.000000  6835.000000  ...   \nmean     -0.197804     0.051906     0.002985     0.006459     0.204804  ...   \nstd       0.182212     0.184918     0.167601     0.187386     0.186090  ...   \nmin      -0.766144    -0.789684    -0.700273    -0.618574    -0.540283  ...   \n25%      -0.319454    -0.064229    -0.107144    -0.124308     0.083389  ...   \n50%      -0.207378     0.058246     0.007376    -0.000737     0.212001  ...   \n75%      -0.077391     0.170863     0.116817     0.124352     0.320747  ...   \nmax       0.584818     0.772504     0.562082     0.772284     0.858027  ...   \n\n               119          120          121          122          123  \\\ncount  6835.000000  6835.000000  6835.000000  6835.000000  6835.000000   \nmean     -0.074648     0.023204     0.067371     0.130251    -0.136144   \nstd       0.191998     0.212256     0.197551     0.203540     0.173769   \nmin      -0.769387    -0.736748    -0.644136    -0.551041    -0.839786   \n25%      -0.204798    -0.128299    -0.079646    -0.012380    -0.259488   \n50%      -0.067939     0.017214     0.079114     0.134905    -0.134756   \n75%       0.063769     0.176387     0.207024     0.259615    -0.007556   \nmax       0.566391     0.927946     0.729018     0.917395     0.429429   \n\n               124          125          126          127          128  \ncount  6835.000000  6835.000000  6835.000000  6835.000000  6835.000000  \nmean     -0.165764    -0.095447     0.061687    -0.151986    -0.151810  \nstd       0.179140     0.196246     0.182510     0.187898     0.171702  \nmin      -0.823649    -0.816942    -0.598190    -0.915370    -0.724223  \n25%      -0.281507    -0.223465    -0.069834    -0.274472    -0.265247  \n50%      -0.170685    -0.103659     0.051395    -0.159008    -0.149449  \n75%      -0.043371     0.026951     0.193507    -0.035574    -0.037947  \nmax       0.461738     0.791065     0.711909     0.966309     0.631978  \n\n[8 rows x 128 columns]",
      "text/html": "<div>\n<style scoped>\n    .dataframe tbody tr th:only-of-type {\n        vertical-align: middle;\n    }\n\n    .dataframe tbody tr th {\n        vertical-align: top;\n    }\n\n    .dataframe thead th {\n        text-align: right;\n    }\n</style>\n<table border=\"1\" class=\"dataframe\">\n  <thead>\n    <tr style=\"text-align: right;\">\n      <th></th>\n      <th>1</th>\n      <th>2</th>\n      <th>3</th>\n      <th>4</th>\n      <th>5</th>\n      <th>6</th>\n      <th>7</th>\n      <th>8</th>\n      <th>9</th>\n      <th>10</th>\n      <th>...</th>\n      <th>119</th>\n      <th>120</th>\n      <th>121</th>\n      <th>122</th>\n      <th>123</th>\n      <th>124</th>\n      <th>125</th>\n      <th>126</th>\n      <th>127</th>\n      <th>128</th>\n    </tr>\n  </thead>\n  <tbody>\n    <tr>\n      <th>count</th>\n      <td>6835.000000</td>\n      <td>6835.000000</td>\n      <td>6835.000000</td>\n      <td>6835.000000</td>\n      <td>6835.000000</td>\n      <td>6835.000000</td>\n      <td>6835.000000</td>\n      <td>6835.000000</td>\n      <td>6835.000000</td>\n      <td>6835.000000</td>\n      <td>...</td>\n      <td>6835.000000</td>\n      <td>6835.000000</td>\n      <td>6835.000000</td>\n      <td>6835.000000</td>\n      <td>6835.000000</td>\n      <td>6835.000000</td>\n      <td>6835.000000</td>\n      <td>6835.000000</td>\n      <td>6835.000000</td>\n      <td>6835.000000</td>\n    </tr>\n    <tr>\n      <th>mean</th>\n      <td>0.078405</td>\n      <td>0.048297</td>\n      <td>0.115129</td>\n      <td>-0.092659</td>\n      <td>-0.126263</td>\n      <td>-0.197804</td>\n      <td>0.051906</td>\n      <td>0.002985</td>\n      <td>0.006459</td>\n      <td>0.204804</td>\n      <td>...</td>\n      <td>-0.074648</td>\n      <td>0.023204</td>\n      <td>0.067371</td>\n      <td>0.130251</td>\n      <td>-0.136144</td>\n      <td>-0.165764</td>\n      <td>-0.095447</td>\n      <td>0.061687</td>\n      <td>-0.151986</td>\n      <td>-0.151810</td>\n    </tr>\n    <tr>\n      <th>std</th>\n      <td>0.201490</td>\n      <td>0.179932</td>\n      <td>0.210509</td>\n      <td>0.169755</td>\n      <td>0.175618</td>\n      <td>0.182212</td>\n      <td>0.184918</td>\n      <td>0.167601</td>\n      <td>0.187386</td>\n      <td>0.186090</td>\n      <td>...</td>\n      <td>0.191998</td>\n      <td>0.212256</td>\n      <td>0.197551</td>\n      <td>0.203540</td>\n      <td>0.173769</td>\n      <td>0.179140</td>\n      <td>0.196246</td>\n      <td>0.182510</td>\n      <td>0.187898</td>\n      <td>0.171702</td>\n    </tr>\n    <tr>\n      <th>min</th>\n      <td>-0.616688</td>\n      <td>-0.755005</td>\n      <td>-0.706490</td>\n      <td>-0.834755</td>\n      <td>-0.737403</td>\n      <td>-0.766144</td>\n      <td>-0.789684</td>\n      <td>-0.700273</td>\n      <td>-0.618574</td>\n      <td>-0.540283</td>\n      <td>...</td>\n      <td>-0.769387</td>\n      <td>-0.736748</td>\n      <td>-0.644136</td>\n      <td>-0.551041</td>\n      <td>-0.839786</td>\n      <td>-0.823649</td>\n      <td>-0.816942</td>\n      <td>-0.598190</td>\n      <td>-0.915370</td>\n      <td>-0.724223</td>\n    </tr>\n    <tr>\n      <th>25%</th>\n      <td>-0.057553</td>\n      <td>-0.071159</td>\n      <td>-0.002983</td>\n      <td>-0.195428</td>\n      <td>-0.238303</td>\n      <td>-0.319454</td>\n      <td>-0.064229</td>\n      <td>-0.107144</td>\n      <td>-0.124308</td>\n      <td>0.083389</td>\n      <td>...</td>\n      <td>-0.204798</td>\n      <td>-0.128299</td>\n      <td>-0.079646</td>\n      <td>-0.012380</td>\n      <td>-0.259488</td>\n      <td>-0.281507</td>\n      <td>-0.223465</td>\n      <td>-0.069834</td>\n      <td>-0.274472</td>\n      <td>-0.265247</td>\n    </tr>\n    <tr>\n      <th>50%</th>\n      <td>0.074405</td>\n      <td>0.036614</td>\n      <td>0.132743</td>\n      <td>-0.087690</td>\n      <td>-0.127753</td>\n      <td>-0.207378</td>\n      <td>0.058246</td>\n      <td>0.007376</td>\n      <td>-0.000737</td>\n      <td>0.212001</td>\n      <td>...</td>\n      <td>-0.067939</td>\n      <td>0.017214</td>\n      <td>0.079114</td>\n      <td>0.134905</td>\n      <td>-0.134756</td>\n      <td>-0.170685</td>\n      <td>-0.103659</td>\n      <td>0.051395</td>\n      <td>-0.159008</td>\n      <td>-0.149449</td>\n    </tr>\n    <tr>\n      <th>75%</th>\n      <td>0.219811</td>\n      <td>0.161051</td>\n      <td>0.250212</td>\n      <td>0.014769</td>\n      <td>-0.007301</td>\n      <td>-0.077391</td>\n      <td>0.170863</td>\n      <td>0.116817</td>\n      <td>0.124352</td>\n      <td>0.320747</td>\n      <td>...</td>\n      <td>0.063769</td>\n      <td>0.176387</td>\n      <td>0.207024</td>\n      <td>0.259615</td>\n      <td>-0.007556</td>\n      <td>-0.043371</td>\n      <td>0.026951</td>\n      <td>0.193507</td>\n      <td>-0.035574</td>\n      <td>-0.037947</td>\n    </tr>\n    <tr>\n      <th>max</th>\n      <td>0.845680</td>\n      <td>0.709137</td>\n      <td>0.809617</td>\n      <td>0.577804</td>\n      <td>0.692225</td>\n      <td>0.584818</td>\n      <td>0.772504</td>\n      <td>0.562082</td>\n      <td>0.772284</td>\n      <td>0.858027</td>\n      <td>...</td>\n      <td>0.566391</td>\n      <td>0.927946</td>\n      <td>0.729018</td>\n      <td>0.917395</td>\n      <td>0.429429</td>\n      <td>0.461738</td>\n      <td>0.791065</td>\n      <td>0.711909</td>\n      <td>0.966309</td>\n      <td>0.631978</td>\n    </tr>\n  </tbody>\n</table>\n<p>8 rows × 128 columns</p>\n</div>"
     },
     "metadata": {},
     "output_type": "display_data"
    }
   ],
   "source": [
    "# node embeddings\n",
    "display(df.head())\n",
    "display(df.describe())"
   ],
   "metadata": {
    "collapsed": false,
    "pycharm": {
     "name": "#%%\n"
    }
   }
  },
  {
   "cell_type": "code",
   "execution_count": 567,
   "outputs": [
    {
     "data": {
      "text/plain": "                Unnamed: 0  rating   timestamp\nuserId movieId                                \n1      1031              0     2.5  1260759144\n       2029              1     3.0  1260759179\n       2061              2     3.0  1260759182\n       2129              3     2.0  1260759185\n       2172              4     4.0  1260759205",
      "text/html": "<div>\n<style scoped>\n    .dataframe tbody tr th:only-of-type {\n        vertical-align: middle;\n    }\n\n    .dataframe tbody tr th {\n        vertical-align: top;\n    }\n\n    .dataframe thead th {\n        text-align: right;\n    }\n</style>\n<table border=\"1\" class=\"dataframe\">\n  <thead>\n    <tr style=\"text-align: right;\">\n      <th></th>\n      <th></th>\n      <th>Unnamed: 0</th>\n      <th>rating</th>\n      <th>timestamp</th>\n    </tr>\n    <tr>\n      <th>userId</th>\n      <th>movieId</th>\n      <th></th>\n      <th></th>\n      <th></th>\n    </tr>\n  </thead>\n  <tbody>\n    <tr>\n      <th rowspan=\"5\" valign=\"top\">1</th>\n      <th>1031</th>\n      <td>0</td>\n      <td>2.5</td>\n      <td>1260759144</td>\n    </tr>\n    <tr>\n      <th>2029</th>\n      <td>1</td>\n      <td>3.0</td>\n      <td>1260759179</td>\n    </tr>\n    <tr>\n      <th>2061</th>\n      <td>2</td>\n      <td>3.0</td>\n      <td>1260759182</td>\n    </tr>\n    <tr>\n      <th>2129</th>\n      <td>3</td>\n      <td>2.0</td>\n      <td>1260759185</td>\n    </tr>\n    <tr>\n      <th>2172</th>\n      <td>4</td>\n      <td>4.0</td>\n      <td>1260759205</td>\n    </tr>\n  </tbody>\n</table>\n</div>"
     },
     "metadata": {},
     "output_type": "display_data"
    },
    {
     "data": {
      "text/plain": "                rating   timestamp  is_test\nuserId movieId                             \n1      2172        4.0  1260759205     True\n2      1017        5.0   835355681     True\n3      1318        5.0  1298862121     True\n4      1034        5.0   949919556     True\n5      1597        5.0  1163373711     True",
      "text/html": "<div>\n<style scoped>\n    .dataframe tbody tr th:only-of-type {\n        vertical-align: middle;\n    }\n\n    .dataframe tbody tr th {\n        vertical-align: top;\n    }\n\n    .dataframe thead th {\n        text-align: right;\n    }\n</style>\n<table border=\"1\" class=\"dataframe\">\n  <thead>\n    <tr style=\"text-align: right;\">\n      <th></th>\n      <th></th>\n      <th>rating</th>\n      <th>timestamp</th>\n      <th>is_test</th>\n    </tr>\n    <tr>\n      <th>userId</th>\n      <th>movieId</th>\n      <th></th>\n      <th></th>\n      <th></th>\n    </tr>\n  </thead>\n  <tbody>\n    <tr>\n      <th>1</th>\n      <th>2172</th>\n      <td>4.0</td>\n      <td>1260759205</td>\n      <td>True</td>\n    </tr>\n    <tr>\n      <th>2</th>\n      <th>1017</th>\n      <td>5.0</td>\n      <td>835355681</td>\n      <td>True</td>\n    </tr>\n    <tr>\n      <th>3</th>\n      <th>1318</th>\n      <td>5.0</td>\n      <td>1298862121</td>\n      <td>True</td>\n    </tr>\n    <tr>\n      <th>4</th>\n      <th>1034</th>\n      <td>5.0</td>\n      <td>949919556</td>\n      <td>True</td>\n    </tr>\n    <tr>\n      <th>5</th>\n      <th>1597</th>\n      <td>5.0</td>\n      <td>1163373711</td>\n      <td>True</td>\n    </tr>\n  </tbody>\n</table>\n</div>"
     },
     "metadata": {},
     "output_type": "display_data"
    }
   ],
   "source": [
    "# ratings df\n",
    "display(ratings.head())\n",
    "#display(ratings.describe())\n",
    "\n",
    "# test df\n",
    "display(test.head())\n",
    "#display(test.describe())"
   ],
   "metadata": {
    "collapsed": false,
    "pycharm": {
     "name": "#%%\n"
    }
   }
  },
  {
   "cell_type": "code",
   "execution_count": 568,
   "outputs": [
    {
     "name": "stdout",
     "output_type": "stream",
     "text": [
      "len(ratings):  100004\n",
      "len(test):  671\n",
      "len(ratings):  99333\n"
     ]
    }
   ],
   "source": [
    "# remove test edges from ratings\n",
    "print(\"len(ratings): \", len(ratings))\n",
    "print(\"len(test): \", len(test))\n",
    "ratings = ratings[~ratings.index.isin(test.index)]\n",
    "print(\"len(ratings): \", len(ratings))"
   ],
   "metadata": {
    "collapsed": false,
    "pycharm": {
     "name": "#%%\n"
    }
   }
  },
  {
   "cell_type": "code",
   "execution_count": 569,
   "outputs": [],
   "source": [
    "def emb_from_row(row):\n",
    "    \"\"\"get node embedding np array from df row\"\"\"\n",
    "    return row.to_numpy().flatten()[1:]\n",
    "\n",
    "def emb_distance(emb1, emb2):\n",
    "    \"\"\"computes the euclidean distance between two node embeddings\"\"\"\n",
    "    return np.linalg.norm(emb1)"
   ],
   "metadata": {
    "collapsed": false,
    "pycharm": {
     "name": "#%%\n"
    }
   }
  },
  {
   "cell_type": "code",
   "execution_count": 570,
   "outputs": [
    {
     "name": "stdout",
     "output_type": "stream",
     "text": [
      "len(df):  6835\n",
      "len(userIds):  671\n",
      "len(df_movies):  6167\n"
     ]
    }
   ],
   "source": [
    "# get dataframe with movie embeddings\n",
    "print(\"len(df): \", len(df))\n",
    "userIds = ratings.index.get_level_values(level=\"userId\").unique()\n",
    "print(\"len(userIds): \", len(userIds))\n",
    "df_movies = df[~df.index.isin(userIds)]\n",
    "print(\"len(df_movies): \", len(df_movies))"
   ],
   "metadata": {
    "collapsed": false,
    "pycharm": {
     "name": "#%%\n"
    }
   }
  },
  {
   "cell_type": "code",
   "execution_count": 574,
   "outputs": [
    {
     "name": "stdout",
     "output_type": "stream",
     "text": [
      "len(df_movies):  6167\n",
      "len(movies_watched):  19\n",
      "len(df_movies_unwatched):  6148\n",
      "17.873420243310818\n"
     ]
    },
    {
     "ename": "TypeError",
     "evalue": "append() takes exactly one argument (0 given)",
     "output_type": "error",
     "traceback": [
      "\u001B[0;31m---------------------------------------------------------------------------\u001B[0m",
      "\u001B[0;31mTypeError\u001B[0m                                 Traceback (most recent call last)",
      "\u001B[0;32m<ipython-input-574-0f3e1d6414f0>\u001B[0m in \u001B[0;36m<module>\u001B[0;34m\u001B[0m\n\u001B[1;32m     18\u001B[0m         \u001B[0mdist\u001B[0m \u001B[0;34m=\u001B[0m \u001B[0memb_distance\u001B[0m\u001B[0;34m(\u001B[0m\u001B[0muser_emb\u001B[0m\u001B[0;34m,\u001B[0m \u001B[0mnode_emb\u001B[0m\u001B[0;34m)\u001B[0m\u001B[0;34m\u001B[0m\u001B[0;34m\u001B[0m\u001B[0m\n\u001B[1;32m     19\u001B[0m         \u001B[0mprint\u001B[0m\u001B[0;34m(\u001B[0m\u001B[0mdist\u001B[0m\u001B[0;34m)\u001B[0m\u001B[0;34m\u001B[0m\u001B[0;34m\u001B[0m\u001B[0m\n\u001B[0;32m---> 20\u001B[0;31m         \u001B[0mdistances\u001B[0m\u001B[0;34m.\u001B[0m\u001B[0mappend\u001B[0m\u001B[0;34m(\u001B[0m\u001B[0;34m)\u001B[0m\u001B[0;34m\u001B[0m\u001B[0;34m\u001B[0m\u001B[0m\n\u001B[0m\u001B[1;32m     21\u001B[0m \u001B[0;34m\u001B[0m\u001B[0m\n\u001B[1;32m     22\u001B[0m     \u001B[0;32mbreak\u001B[0m\u001B[0;34m\u001B[0m\u001B[0;34m\u001B[0m\u001B[0m\n",
      "\u001B[0;31mTypeError\u001B[0m: append() takes exactly one argument (0 given)"
     ]
    }
   ],
   "source": [
    "# compute Top-N lists for test dataset\n",
    "# for each testing row (for each user)\n",
    "for i, test_row in test.iterrows():\n",
    "    userId = i[0]\n",
    "    user_emb = emb_from_row(df[userId])\n",
    "\n",
    "    # get new (unrated) movies\n",
    "    print(\"len(df_movies): \", len(df_movies))\n",
    "    movies_watched = ratings.query(f\"userId == {userId}\").index.get_level_values(\"movieId\")\n",
    "    print(\"len(movies_watched): \", len(movies_watched))\n",
    "    df_movies_unwatched = df_movies[~df_movies.index.isin(movies_watched)]\n",
    "    print(\"len(df_movies_unwatched): \", len(df_movies_unwatched))\n",
    "\n",
    "    # for each node embedding get distance to user embedding\n",
    "    distances = []\n",
    "    for j, node_row in df.iterrows():\n",
    "        node_emb = emb_from_row(node_row)\n",
    "        dist = emb_distance(user_emb, node_emb)\n",
    "        print(dist)\n",
    "        distances.append()\n",
    "\n",
    "    break"
   ],
   "metadata": {
    "collapsed": false,
    "pycharm": {
     "name": "#%%\n"
    }
   }
  }
 ],
 "metadata": {
  "kernelspec": {
   "name": "pycharm-97a28330",
   "language": "python",
   "display_name": "PyCharm (ComE_BGMM)"
  },
  "language_info": {
   "codemirror_mode": {
    "name": "ipython",
    "version": 2
   },
   "file_extension": ".py",
   "mimetype": "text/x-python",
   "name": "python",
   "nbconvert_exporter": "python",
   "pygments_lexer": "ipython2",
   "version": "2.7.6"
  }
 },
 "nbformat": 4,
 "nbformat_minor": 0
}