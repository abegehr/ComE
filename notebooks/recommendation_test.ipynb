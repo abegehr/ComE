{
 "cells": [
  {
   "cell_type": "code",
   "execution_count": null,
   "metadata": {
    "collapsed": true,
    "pycharm": {
     "name": "#%%\n"
    }
   },
   "outputs": [],
   "source": [
    "import sys\n",
    "sys.path.append('../')\n",
    "\n",
    "from IPython.core.display import display\n",
    "import numpy as np\n",
    "import pandas as pd\n",
    "from sortedcontainers import SortedDict"
   ]
  },
  {
   "cell_type": "code",
   "execution_count": null,
   "outputs": [],
   "source": [
    "# import node embeddings\n",
    "df = pd.read_csv(\n",
    "    \"./movie_ratings/movie_ratings_alpha-0.1_beta-0.1_ws-10_neg-5_lr-0.025_icom-107_ind-107_k-300_ds-0.0.txt\",\n",
    "    sep=\"\\t| \",\n",
    "    header=None\n",
    ")\n",
    "df = df.rename(columns={0: 'node'})\n",
    "df.set_index(['node'], inplace=True)"
   ],
   "metadata": {
    "collapsed": false,
    "pycharm": {
     "name": "#%%\n"
    }
   }
  },
  {
   "cell_type": "code",
   "execution_count": null,
   "outputs": [],
   "source": [
    "# import ratings\n",
    "ratings = pd.read_csv(\"movie_ratings/movie_ratings_unique.csv\")\n",
    "ratings.set_index(['userId', 'movieId'], inplace=True)\n",
    "# import test\n",
    "test = pd.read_csv(\"movie_ratings/movie_ratings_test.csv\", index_col=0)\n",
    "test.set_index(['userId', 'movieId'], inplace=True)"
   ],
   "metadata": {
    "collapsed": false,
    "pycharm": {
     "name": "#%%\n"
    }
   }
  },
  {
   "cell_type": "code",
   "execution_count": null,
   "outputs": [],
   "source": [
    "# node embeddings\n",
    "display(df.head())\n",
    "display(df.describe())"
   ],
   "metadata": {
    "collapsed": false,
    "pycharm": {
     "name": "#%%\n"
    }
   }
  },
  {
   "cell_type": "code",
   "execution_count": null,
   "outputs": [],
   "source": [
    "# ratings df\n",
    "display(ratings.head())\n",
    "#display(ratings.describe())\n",
    "\n",
    "# test df\n",
    "display(test.head())\n",
    "#display(test.describe())"
   ],
   "metadata": {
    "collapsed": false,
    "pycharm": {
     "name": "#%%\n"
    }
   }
  },
  {
   "cell_type": "code",
   "execution_count": null,
   "outputs": [],
   "source": [
    "# remove test edges from ratings\n",
    "print(\"len(ratings): \", len(ratings))\n",
    "print(\"len(test): \", len(test))\n",
    "ratings = ratings[~ratings.index.isin(test.index)]\n",
    "print(\"len(ratings): \", len(ratings))"
   ],
   "metadata": {
    "collapsed": false,
    "pycharm": {
     "name": "#%%\n"
    }
   }
  },
  {
   "cell_type": "code",
   "execution_count": null,
   "outputs": [],
   "source": [
    "def emb_from_row(row):\n",
    "    \"\"\"get node embedding np array from df row\"\"\"\n",
    "    return row.to_numpy().flatten()\n",
    "\n",
    "def emb_distance(emb1, emb2):\n",
    "    \"\"\"computes the euclidean distance between two node embeddings\"\"\"\n",
    "    return np.linalg.norm(emb1-emb2)"
   ],
   "metadata": {
    "collapsed": false,
    "pycharm": {
     "name": "#%%\n"
    }
   }
  },
  {
   "cell_type": "code",
   "execution_count": null,
   "outputs": [],
   "source": [
    "# get dataframe with movie embeddings\n",
    "print(\"len(df): \", len(df))\n",
    "userIds = ratings.index.get_level_values(level=\"userId\").unique()\n",
    "print(\"len(userIds): \", len(userIds))\n",
    "df_movies = df[~df.index.isin(userIds)]\n",
    "print(\"len(df_movies): \", len(df_movies))"
   ],
   "metadata": {
    "collapsed": false,
    "pycharm": {
     "name": "#%%\n"
    }
   }
  },
  {
   "cell_type": "code",
   "execution_count": null,
   "outputs": [],
   "source": [
    "# compute Top-N lists for test dataset\n",
    "# for each testing row (for each user)\n",
    "results = {}\n",
    "for i, test_row in test.iterrows():\n",
    "    userId = i[0]\n",
    "    user_emb = emb_from_row(df.iloc[userId])\n",
    "\n",
    "    # get user's unwatched movies\n",
    "    #print(\"len(df_movies): \", len(df_movies))\n",
    "    movies_watched = ratings.query(f\"userId == {userId}\").index.get_level_values(\"movieId\")\n",
    "    #print(\"len(movies_watched): \", len(movies_watched))\n",
    "    df_movies_unwatched = df_movies[~df_movies.index.isin(movies_watched)]\n",
    "    #print(\"len(df_movies_unwatched): \", len(df_movies_unwatched))\n",
    "\n",
    "    # generate user's top_list from all unwatched movies\n",
    "    distances = {}\n",
    "    top_list = SortedDict()\n",
    "    for movie_id, node_row in df_movies_unwatched.iterrows():\n",
    "        node_emb = emb_from_row(node_row)\n",
    "        dist = emb_distance(user_emb, node_emb)\n",
    "        top_list[dist] = movie_id\n",
    "        distances[movie_id] = dist\n",
    "\n",
    "    results[userId] = top_list, distances\n",
    "    if userId % 10 == 0: print(f\"{userId}/{len(test)}\")"
   ],
   "metadata": {
    "collapsed": false,
    "pycharm": {
     "name": "#%%\n"
    }
   }
  },
  {
   "cell_type": "code",
   "execution_count": null,
   "outputs": [],
   "source": [
    "N = 20\n",
    "\n",
    "# counters\n",
    "hits = 0\n",
    "misses = 0\n",
    "\n",
    "for userId, (top_list, distances) in enumerate(results):\n",
    "    # get Top-N movies to watch\n",
    "    top_N = top_list.values()[:N]\n",
    "\n",
    "    # get user's test movie\n",
    "    test_movie = test.query(f\"userId == {userId}\").index.get_level_values('movieId')[0]\n",
    "\n",
    "    # evaluate\n",
    "    hit = test_movie in top_N\n",
    "    if hit:\n",
    "        hits += 1\n",
    "    else:\n",
    "        misses += 1\n",
    "\n",
    "    print(f\"Movie {test_movie} {'found' if hit else 'not found'} in user {userId}'s Top-{N} list: \", top_N)\n"
   ],
   "metadata": {
    "collapsed": false,
    "pycharm": {
     "name": "#%%\n"
    }
   }
  },
  {
   "cell_type": "code",
   "execution_count": null,
   "outputs": [],
   "source": [
    "print(\"hits: \", hits)\n",
    "print(\"misses: \", misses)\n"
   ],
   "metadata": {
    "collapsed": false,
    "pycharm": {
     "name": "#%%\n"
    }
   }
  }
 ],
 "metadata": {
  "kernelspec": {
   "name": "pycharm-97a28330",
   "language": "python",
   "display_name": "PyCharm (ComE_BGMM)"
  },
  "language_info": {
   "codemirror_mode": {
    "name": "ipython",
    "version": 2
   },
   "file_extension": ".py",
   "mimetype": "text/x-python",
   "name": "python",
   "nbconvert_exporter": "python",
   "pygments_lexer": "ipython2",
   "version": "2.7.6"
  }
 },
 "nbformat": 4,
 "nbformat_minor": 0
}