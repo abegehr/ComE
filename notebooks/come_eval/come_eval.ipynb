{
 "cells": [
  {
   "cell_type": "code",
   "execution_count": 385,
   "metadata": {
    "collapsed": true,
    "pycharm": {
     "name": "#%%\n"
    }
   },
   "outputs": [],
   "source": [
    "import sys\n",
    "sys.path.append('../../')\n",
    "\n",
    "from IPython.core.display import display\n",
    "import numpy as np\n",
    "import pandas as pd\n",
    "import networkx as nx\n",
    "import utils.graph_utils as graph_utils\n",
    "from utils.IO_utils import load_ground_true\n",
    "from sklearn import metrics\n",
    "from sklearn.model_selection import train_test_split\n",
    "from sklearn import svm\n"
   ]
  },
  {
   "cell_type": "code",
   "execution_count": 386,
   "outputs": [],
   "source": [
    "# settings\n",
    "np.random.seed(2020)\n",
    "name = \"Dblp\"\n",
    "dim = 4\n",
    "come_model_type = \"BGMM\"\n",
    "ks = [2, 5, 10, 20]"
   ],
   "metadata": {
    "collapsed": false,
    "pycharm": {
     "name": "#%%\n"
    }
   }
  },
  {
   "cell_type": "code",
   "execution_count": 387,
   "outputs": [],
   "source": [
    "# import graph and true labels\n",
    "\n",
    "# graph\n",
    "G = graph_utils.load_matfile(f\"../../data/{name}/{name}.mat\", undirected=True)\n",
    "\n",
    "# labels_true\n",
    "labels_true, _ = load_ground_true(path=f\"../../data/{name}\", file_name=name)\n",
    "labels_true = np.array(labels_true) - 1  # 1..5 -> 0..4"
   ],
   "metadata": {
    "collapsed": false,
    "pycharm": {
     "name": "#%%\n"
    }
   }
  },
  {
   "cell_type": "code",
   "execution_count": 388,
   "outputs": [
    {
     "name": "stdout",
     "output_type": "stream",
     "text": [
      "k = 2\n",
      "k = 5\n",
      "k = 10\n",
      "k = 20\n"
     ]
    },
    {
     "name": "stderr",
     "output_type": "stream",
     "text": [
      "/Users/anton/miniconda3/envs/MT/lib/python3.6/site-packages/ipykernel_launcher.py:8: ParserWarning: Falling back to the 'python' engine because the 'c' engine does not support regex separators (separators > 1 char and different from '\\s+' are interpreted as regex); you can avoid this warning by specifying engine='python'.\n",
      "  \n",
      "/Users/anton/miniconda3/envs/MT/lib/python3.6/site-packages/ipykernel_launcher.py:8: ParserWarning: Falling back to the 'python' engine because the 'c' engine does not support regex separators (separators > 1 char and different from '\\s+' are interpreted as regex); you can avoid this warning by specifying engine='python'.\n",
      "  \n",
      "/Users/anton/miniconda3/envs/MT/lib/python3.6/site-packages/ipykernel_launcher.py:8: ParserWarning: Falling back to the 'python' engine because the 'c' engine does not support regex separators (separators > 1 char and different from '\\s+' are interpreted as regex); you can avoid this warning by specifying engine='python'.\n",
      "  \n",
      "/Users/anton/miniconda3/envs/MT/lib/python3.6/site-packages/ipykernel_launcher.py:8: ParserWarning: Falling back to the 'python' engine because the 'c' engine does not support regex separators (separators > 1 char and different from '\\s+' are interpreted as regex); you can avoid this warning by specifying engine='python'.\n",
      "  \n"
     ]
    },
    {
     "data": {
      "text/plain": "              1         2         3         4  label_pred  label_true\nnode                                                                 \n0     -6.796496  4.498433 -1.441207 -1.233646           0           0\n1     -5.088080  3.510255 -1.421663 -0.529846           0           2\n2     -6.934660  4.554262 -1.417570 -1.316198           0           2\n3     -6.874332  4.453515 -1.601840 -1.015215           0           0\n4     -6.759759  4.354271 -1.476532 -1.125797           0           0\n...         ...       ...       ...       ...         ...         ...\n13179 -4.292210  2.988957 -1.035291 -0.667438           0           0\n13180 -0.588716 -1.609517 -0.547081 -4.872855           1           3\n13181 -0.320007 -1.589967 -0.812492 -3.796077           1           3\n13182  3.396378  2.351284 -2.776667 -1.646715           0           4\n13183 -4.759323  2.119804 -0.717980 -1.218262           0           0\n\n[13184 rows x 6 columns]",
      "text/html": "<div>\n<style scoped>\n    .dataframe tbody tr th:only-of-type {\n        vertical-align: middle;\n    }\n\n    .dataframe tbody tr th {\n        vertical-align: top;\n    }\n\n    .dataframe thead th {\n        text-align: right;\n    }\n</style>\n<table border=\"1\" class=\"dataframe\">\n  <thead>\n    <tr style=\"text-align: right;\">\n      <th></th>\n      <th>1</th>\n      <th>2</th>\n      <th>3</th>\n      <th>4</th>\n      <th>label_pred</th>\n      <th>label_true</th>\n    </tr>\n    <tr>\n      <th>node</th>\n      <th></th>\n      <th></th>\n      <th></th>\n      <th></th>\n      <th></th>\n      <th></th>\n    </tr>\n  </thead>\n  <tbody>\n    <tr>\n      <th>0</th>\n      <td>-6.796496</td>\n      <td>4.498433</td>\n      <td>-1.441207</td>\n      <td>-1.233646</td>\n      <td>0</td>\n      <td>0</td>\n    </tr>\n    <tr>\n      <th>1</th>\n      <td>-5.088080</td>\n      <td>3.510255</td>\n      <td>-1.421663</td>\n      <td>-0.529846</td>\n      <td>0</td>\n      <td>2</td>\n    </tr>\n    <tr>\n      <th>2</th>\n      <td>-6.934660</td>\n      <td>4.554262</td>\n      <td>-1.417570</td>\n      <td>-1.316198</td>\n      <td>0</td>\n      <td>2</td>\n    </tr>\n    <tr>\n      <th>3</th>\n      <td>-6.874332</td>\n      <td>4.453515</td>\n      <td>-1.601840</td>\n      <td>-1.015215</td>\n      <td>0</td>\n      <td>0</td>\n    </tr>\n    <tr>\n      <th>4</th>\n      <td>-6.759759</td>\n      <td>4.354271</td>\n      <td>-1.476532</td>\n      <td>-1.125797</td>\n      <td>0</td>\n      <td>0</td>\n    </tr>\n    <tr>\n      <th>...</th>\n      <td>...</td>\n      <td>...</td>\n      <td>...</td>\n      <td>...</td>\n      <td>...</td>\n      <td>...</td>\n    </tr>\n    <tr>\n      <th>13179</th>\n      <td>-4.292210</td>\n      <td>2.988957</td>\n      <td>-1.035291</td>\n      <td>-0.667438</td>\n      <td>0</td>\n      <td>0</td>\n    </tr>\n    <tr>\n      <th>13180</th>\n      <td>-0.588716</td>\n      <td>-1.609517</td>\n      <td>-0.547081</td>\n      <td>-4.872855</td>\n      <td>1</td>\n      <td>3</td>\n    </tr>\n    <tr>\n      <th>13181</th>\n      <td>-0.320007</td>\n      <td>-1.589967</td>\n      <td>-0.812492</td>\n      <td>-3.796077</td>\n      <td>1</td>\n      <td>3</td>\n    </tr>\n    <tr>\n      <th>13182</th>\n      <td>3.396378</td>\n      <td>2.351284</td>\n      <td>-2.776667</td>\n      <td>-1.646715</td>\n      <td>0</td>\n      <td>4</td>\n    </tr>\n    <tr>\n      <th>13183</th>\n      <td>-4.759323</td>\n      <td>2.119804</td>\n      <td>-0.717980</td>\n      <td>-1.218262</td>\n      <td>0</td>\n      <td>0</td>\n    </tr>\n  </tbody>\n</table>\n<p>13184 rows × 6 columns</p>\n</div>"
     },
     "metadata": {},
     "output_type": "display_data"
    },
    {
     "data": {
      "text/plain": "                  1             2             3             4    label_pred  \\\ncount  13184.000000  13184.000000  13184.000000  13184.000000  13184.000000   \nmean      -1.035944      1.334551     -1.522644     -1.741813      0.413683   \nstd        3.285863      2.287144      1.273684      1.867440      0.492512   \nmin       -9.700788     -4.734879     -7.730940     -8.815291      0.000000   \n25%       -4.115837     -0.440451     -2.275625     -2.669530      0.000000   \n50%       -0.563402      1.263789     -1.414083     -1.120545      0.000000   \n75%        1.027375      3.107751     -0.638744     -0.302374      1.000000   \nmax        7.785580      7.729998      1.319673      1.233773      1.000000   \n\n         label_true  \ncount  13184.000000  \nmean       2.190382  \nstd        1.315339  \nmin        0.000000  \n25%        1.000000  \n50%        3.000000  \n75%        3.000000  \nmax        4.000000  ",
      "text/html": "<div>\n<style scoped>\n    .dataframe tbody tr th:only-of-type {\n        vertical-align: middle;\n    }\n\n    .dataframe tbody tr th {\n        vertical-align: top;\n    }\n\n    .dataframe thead th {\n        text-align: right;\n    }\n</style>\n<table border=\"1\" class=\"dataframe\">\n  <thead>\n    <tr style=\"text-align: right;\">\n      <th></th>\n      <th>1</th>\n      <th>2</th>\n      <th>3</th>\n      <th>4</th>\n      <th>label_pred</th>\n      <th>label_true</th>\n    </tr>\n  </thead>\n  <tbody>\n    <tr>\n      <th>count</th>\n      <td>13184.000000</td>\n      <td>13184.000000</td>\n      <td>13184.000000</td>\n      <td>13184.000000</td>\n      <td>13184.000000</td>\n      <td>13184.000000</td>\n    </tr>\n    <tr>\n      <th>mean</th>\n      <td>-1.035944</td>\n      <td>1.334551</td>\n      <td>-1.522644</td>\n      <td>-1.741813</td>\n      <td>0.413683</td>\n      <td>2.190382</td>\n    </tr>\n    <tr>\n      <th>std</th>\n      <td>3.285863</td>\n      <td>2.287144</td>\n      <td>1.273684</td>\n      <td>1.867440</td>\n      <td>0.492512</td>\n      <td>1.315339</td>\n    </tr>\n    <tr>\n      <th>min</th>\n      <td>-9.700788</td>\n      <td>-4.734879</td>\n      <td>-7.730940</td>\n      <td>-8.815291</td>\n      <td>0.000000</td>\n      <td>0.000000</td>\n    </tr>\n    <tr>\n      <th>25%</th>\n      <td>-4.115837</td>\n      <td>-0.440451</td>\n      <td>-2.275625</td>\n      <td>-2.669530</td>\n      <td>0.000000</td>\n      <td>1.000000</td>\n    </tr>\n    <tr>\n      <th>50%</th>\n      <td>-0.563402</td>\n      <td>1.263789</td>\n      <td>-1.414083</td>\n      <td>-1.120545</td>\n      <td>0.000000</td>\n      <td>3.000000</td>\n    </tr>\n    <tr>\n      <th>75%</th>\n      <td>1.027375</td>\n      <td>3.107751</td>\n      <td>-0.638744</td>\n      <td>-0.302374</td>\n      <td>1.000000</td>\n      <td>3.000000</td>\n    </tr>\n    <tr>\n      <th>max</th>\n      <td>7.785580</td>\n      <td>7.729998</td>\n      <td>1.319673</td>\n      <td>1.233773</td>\n      <td>1.000000</td>\n      <td>4.000000</td>\n    </tr>\n  </tbody>\n</table>\n</div>"
     },
     "metadata": {},
     "output_type": "display_data"
    },
    {
     "data": {
      "text/plain": "              1         2         3         4  label_pred  label_true\nnode                                                                 \n0     -6.702092  4.152856 -2.236458 -1.515807           3           0\n1     -4.725461  3.106965 -2.034815 -0.672380           3           2\n2     -6.860550  4.252619 -2.187909 -1.644050           3           2\n3     -6.801749  4.132443 -2.431972 -1.335563           3           0\n4     -6.601711  3.977814 -2.239155 -1.398612           3           0\n...         ...       ...       ...       ...         ...         ...\n13179 -4.139425  2.724645 -1.644061 -0.721217           3           0\n13180 -0.371807 -1.011282  0.170915 -4.385050           2           3\n13181 -0.267822 -1.456311 -0.751795 -3.463749           2           3\n13182  3.000248  1.793526 -3.622529 -0.813414           0           4\n13183 -4.551679  1.659637 -1.298890 -1.169029           3           0\n\n[13184 rows x 6 columns]",
      "text/html": "<div>\n<style scoped>\n    .dataframe tbody tr th:only-of-type {\n        vertical-align: middle;\n    }\n\n    .dataframe tbody tr th {\n        vertical-align: top;\n    }\n\n    .dataframe thead th {\n        text-align: right;\n    }\n</style>\n<table border=\"1\" class=\"dataframe\">\n  <thead>\n    <tr style=\"text-align: right;\">\n      <th></th>\n      <th>1</th>\n      <th>2</th>\n      <th>3</th>\n      <th>4</th>\n      <th>label_pred</th>\n      <th>label_true</th>\n    </tr>\n    <tr>\n      <th>node</th>\n      <th></th>\n      <th></th>\n      <th></th>\n      <th></th>\n      <th></th>\n      <th></th>\n    </tr>\n  </thead>\n  <tbody>\n    <tr>\n      <th>0</th>\n      <td>-6.702092</td>\n      <td>4.152856</td>\n      <td>-2.236458</td>\n      <td>-1.515807</td>\n      <td>3</td>\n      <td>0</td>\n    </tr>\n    <tr>\n      <th>1</th>\n      <td>-4.725461</td>\n      <td>3.106965</td>\n      <td>-2.034815</td>\n      <td>-0.672380</td>\n      <td>3</td>\n      <td>2</td>\n    </tr>\n    <tr>\n      <th>2</th>\n      <td>-6.860550</td>\n      <td>4.252619</td>\n      <td>-2.187909</td>\n      <td>-1.644050</td>\n      <td>3</td>\n      <td>2</td>\n    </tr>\n    <tr>\n      <th>3</th>\n      <td>-6.801749</td>\n      <td>4.132443</td>\n      <td>-2.431972</td>\n      <td>-1.335563</td>\n      <td>3</td>\n      <td>0</td>\n    </tr>\n    <tr>\n      <th>4</th>\n      <td>-6.601711</td>\n      <td>3.977814</td>\n      <td>-2.239155</td>\n      <td>-1.398612</td>\n      <td>3</td>\n      <td>0</td>\n    </tr>\n    <tr>\n      <th>...</th>\n      <td>...</td>\n      <td>...</td>\n      <td>...</td>\n      <td>...</td>\n      <td>...</td>\n      <td>...</td>\n    </tr>\n    <tr>\n      <th>13179</th>\n      <td>-4.139425</td>\n      <td>2.724645</td>\n      <td>-1.644061</td>\n      <td>-0.721217</td>\n      <td>3</td>\n      <td>0</td>\n    </tr>\n    <tr>\n      <th>13180</th>\n      <td>-0.371807</td>\n      <td>-1.011282</td>\n      <td>0.170915</td>\n      <td>-4.385050</td>\n      <td>2</td>\n      <td>3</td>\n    </tr>\n    <tr>\n      <th>13181</th>\n      <td>-0.267822</td>\n      <td>-1.456311</td>\n      <td>-0.751795</td>\n      <td>-3.463749</td>\n      <td>2</td>\n      <td>3</td>\n    </tr>\n    <tr>\n      <th>13182</th>\n      <td>3.000248</td>\n      <td>1.793526</td>\n      <td>-3.622529</td>\n      <td>-0.813414</td>\n      <td>0</td>\n      <td>4</td>\n    </tr>\n    <tr>\n      <th>13183</th>\n      <td>-4.551679</td>\n      <td>1.659637</td>\n      <td>-1.298890</td>\n      <td>-1.169029</td>\n      <td>3</td>\n      <td>0</td>\n    </tr>\n  </tbody>\n</table>\n<p>13184 rows × 6 columns</p>\n</div>"
     },
     "metadata": {},
     "output_type": "display_data"
    },
    {
     "data": {
      "text/plain": "                  1             2             3             4    label_pred  \\\ncount  13184.000000  13184.000000  13184.000000  13184.000000  13184.000000   \nmean      -1.187027      1.020127     -1.870375     -1.697786      1.862940   \nstd        3.035517      1.986708      1.914760      1.919548      1.272699   \nmin       -9.446479     -5.087058     -9.334198     -9.933181      0.000000   \n25%       -3.728757     -0.416887     -3.161553     -2.082399      1.000000   \n50%       -0.712263      0.999967     -1.784255     -1.033435      2.000000   \n75%        0.067137      2.540374     -0.701547     -0.427521      3.000000   \nmax        7.669931      6.573850      3.510869      0.794800      4.000000   \n\n         label_true  \ncount  13184.000000  \nmean       2.190382  \nstd        1.315339  \nmin        0.000000  \n25%        1.000000  \n50%        3.000000  \n75%        3.000000  \nmax        4.000000  ",
      "text/html": "<div>\n<style scoped>\n    .dataframe tbody tr th:only-of-type {\n        vertical-align: middle;\n    }\n\n    .dataframe tbody tr th {\n        vertical-align: top;\n    }\n\n    .dataframe thead th {\n        text-align: right;\n    }\n</style>\n<table border=\"1\" class=\"dataframe\">\n  <thead>\n    <tr style=\"text-align: right;\">\n      <th></th>\n      <th>1</th>\n      <th>2</th>\n      <th>3</th>\n      <th>4</th>\n      <th>label_pred</th>\n      <th>label_true</th>\n    </tr>\n  </thead>\n  <tbody>\n    <tr>\n      <th>count</th>\n      <td>13184.000000</td>\n      <td>13184.000000</td>\n      <td>13184.000000</td>\n      <td>13184.000000</td>\n      <td>13184.000000</td>\n      <td>13184.000000</td>\n    </tr>\n    <tr>\n      <th>mean</th>\n      <td>-1.187027</td>\n      <td>1.020127</td>\n      <td>-1.870375</td>\n      <td>-1.697786</td>\n      <td>1.862940</td>\n      <td>2.190382</td>\n    </tr>\n    <tr>\n      <th>std</th>\n      <td>3.035517</td>\n      <td>1.986708</td>\n      <td>1.914760</td>\n      <td>1.919548</td>\n      <td>1.272699</td>\n      <td>1.315339</td>\n    </tr>\n    <tr>\n      <th>min</th>\n      <td>-9.446479</td>\n      <td>-5.087058</td>\n      <td>-9.334198</td>\n      <td>-9.933181</td>\n      <td>0.000000</td>\n      <td>0.000000</td>\n    </tr>\n    <tr>\n      <th>25%</th>\n      <td>-3.728757</td>\n      <td>-0.416887</td>\n      <td>-3.161553</td>\n      <td>-2.082399</td>\n      <td>1.000000</td>\n      <td>1.000000</td>\n    </tr>\n    <tr>\n      <th>50%</th>\n      <td>-0.712263</td>\n      <td>0.999967</td>\n      <td>-1.784255</td>\n      <td>-1.033435</td>\n      <td>2.000000</td>\n      <td>3.000000</td>\n    </tr>\n    <tr>\n      <th>75%</th>\n      <td>0.067137</td>\n      <td>2.540374</td>\n      <td>-0.701547</td>\n      <td>-0.427521</td>\n      <td>3.000000</td>\n      <td>3.000000</td>\n    </tr>\n    <tr>\n      <th>max</th>\n      <td>7.669931</td>\n      <td>6.573850</td>\n      <td>3.510869</td>\n      <td>0.794800</td>\n      <td>4.000000</td>\n      <td>4.000000</td>\n    </tr>\n  </tbody>\n</table>\n</div>"
     },
     "metadata": {},
     "output_type": "display_data"
    },
    {
     "data": {
      "text/plain": "              1         2         3         4  label_pred  label_true\nnode                                                                 \n0     -6.800461  4.643725 -2.036360 -1.494950           9           0\n1     -4.716460  3.453602 -1.775429 -0.668879           9           2\n2     -7.015396  4.759561 -2.054296 -1.601033           9           2\n3     -6.883151  4.669524 -2.219716 -1.284454           9           0\n4     -6.722364  4.461022 -2.055892 -1.357758           9           0\n...         ...       ...       ...       ...         ...         ...\n13179 -3.868071  2.871834 -1.265776 -0.786467           9           0\n13180 -0.997502 -1.378490 -0.241170 -4.315969           1           3\n13181 -0.608167 -1.469856 -0.809283 -2.964195           1           3\n13182  2.520513  1.157978 -3.690845 -0.700870           6           4\n13183 -4.421030  1.942140 -0.983423 -1.307279           9           0\n\n[13184 rows x 6 columns]",
      "text/html": "<div>\n<style scoped>\n    .dataframe tbody tr th:only-of-type {\n        vertical-align: middle;\n    }\n\n    .dataframe tbody tr th {\n        vertical-align: top;\n    }\n\n    .dataframe thead th {\n        text-align: right;\n    }\n</style>\n<table border=\"1\" class=\"dataframe\">\n  <thead>\n    <tr style=\"text-align: right;\">\n      <th></th>\n      <th>1</th>\n      <th>2</th>\n      <th>3</th>\n      <th>4</th>\n      <th>label_pred</th>\n      <th>label_true</th>\n    </tr>\n    <tr>\n      <th>node</th>\n      <th></th>\n      <th></th>\n      <th></th>\n      <th></th>\n      <th></th>\n      <th></th>\n    </tr>\n  </thead>\n  <tbody>\n    <tr>\n      <th>0</th>\n      <td>-6.800461</td>\n      <td>4.643725</td>\n      <td>-2.036360</td>\n      <td>-1.494950</td>\n      <td>9</td>\n      <td>0</td>\n    </tr>\n    <tr>\n      <th>1</th>\n      <td>-4.716460</td>\n      <td>3.453602</td>\n      <td>-1.775429</td>\n      <td>-0.668879</td>\n      <td>9</td>\n      <td>2</td>\n    </tr>\n    <tr>\n      <th>2</th>\n      <td>-7.015396</td>\n      <td>4.759561</td>\n      <td>-2.054296</td>\n      <td>-1.601033</td>\n      <td>9</td>\n      <td>2</td>\n    </tr>\n    <tr>\n      <th>3</th>\n      <td>-6.883151</td>\n      <td>4.669524</td>\n      <td>-2.219716</td>\n      <td>-1.284454</td>\n      <td>9</td>\n      <td>0</td>\n    </tr>\n    <tr>\n      <th>4</th>\n      <td>-6.722364</td>\n      <td>4.461022</td>\n      <td>-2.055892</td>\n      <td>-1.357758</td>\n      <td>9</td>\n      <td>0</td>\n    </tr>\n    <tr>\n      <th>...</th>\n      <td>...</td>\n      <td>...</td>\n      <td>...</td>\n      <td>...</td>\n      <td>...</td>\n      <td>...</td>\n    </tr>\n    <tr>\n      <th>13179</th>\n      <td>-3.868071</td>\n      <td>2.871834</td>\n      <td>-1.265776</td>\n      <td>-0.786467</td>\n      <td>9</td>\n      <td>0</td>\n    </tr>\n    <tr>\n      <th>13180</th>\n      <td>-0.997502</td>\n      <td>-1.378490</td>\n      <td>-0.241170</td>\n      <td>-4.315969</td>\n      <td>1</td>\n      <td>3</td>\n    </tr>\n    <tr>\n      <th>13181</th>\n      <td>-0.608167</td>\n      <td>-1.469856</td>\n      <td>-0.809283</td>\n      <td>-2.964195</td>\n      <td>1</td>\n      <td>3</td>\n    </tr>\n    <tr>\n      <th>13182</th>\n      <td>2.520513</td>\n      <td>1.157978</td>\n      <td>-3.690845</td>\n      <td>-0.700870</td>\n      <td>6</td>\n      <td>4</td>\n    </tr>\n    <tr>\n      <th>13183</th>\n      <td>-4.421030</td>\n      <td>1.942140</td>\n      <td>-0.983423</td>\n      <td>-1.307279</td>\n      <td>9</td>\n      <td>0</td>\n    </tr>\n  </tbody>\n</table>\n<p>13184 rows × 6 columns</p>\n</div>"
     },
     "metadata": {},
     "output_type": "display_data"
    },
    {
     "data": {
      "text/plain": "                  1             2             3             4    label_pred  \\\ncount  13184.000000  13184.000000  13184.000000  13184.000000  13184.000000   \nmean      -1.211152      1.112490     -1.772634     -1.746483      4.512288   \nstd        3.035529      2.146500      1.620022      1.970077      3.007992   \nmin       -9.714067     -5.279829    -10.201926    -10.142962      0.000000   \n25%       -3.767562     -0.466696     -2.749442     -2.299421      2.000000   \n50%       -0.716958      1.188536     -1.632691     -1.088055      5.000000   \n75%        0.384841      2.745050     -0.705701     -0.375888      7.000000   \nmax        7.452444      7.176283      2.069302      0.795317      9.000000   \n\n         label_true  \ncount  13184.000000  \nmean       2.190382  \nstd        1.315339  \nmin        0.000000  \n25%        1.000000  \n50%        3.000000  \n75%        3.000000  \nmax        4.000000  ",
      "text/html": "<div>\n<style scoped>\n    .dataframe tbody tr th:only-of-type {\n        vertical-align: middle;\n    }\n\n    .dataframe tbody tr th {\n        vertical-align: top;\n    }\n\n    .dataframe thead th {\n        text-align: right;\n    }\n</style>\n<table border=\"1\" class=\"dataframe\">\n  <thead>\n    <tr style=\"text-align: right;\">\n      <th></th>\n      <th>1</th>\n      <th>2</th>\n      <th>3</th>\n      <th>4</th>\n      <th>label_pred</th>\n      <th>label_true</th>\n    </tr>\n  </thead>\n  <tbody>\n    <tr>\n      <th>count</th>\n      <td>13184.000000</td>\n      <td>13184.000000</td>\n      <td>13184.000000</td>\n      <td>13184.000000</td>\n      <td>13184.000000</td>\n      <td>13184.000000</td>\n    </tr>\n    <tr>\n      <th>mean</th>\n      <td>-1.211152</td>\n      <td>1.112490</td>\n      <td>-1.772634</td>\n      <td>-1.746483</td>\n      <td>4.512288</td>\n      <td>2.190382</td>\n    </tr>\n    <tr>\n      <th>std</th>\n      <td>3.035529</td>\n      <td>2.146500</td>\n      <td>1.620022</td>\n      <td>1.970077</td>\n      <td>3.007992</td>\n      <td>1.315339</td>\n    </tr>\n    <tr>\n      <th>min</th>\n      <td>-9.714067</td>\n      <td>-5.279829</td>\n      <td>-10.201926</td>\n      <td>-10.142962</td>\n      <td>0.000000</td>\n      <td>0.000000</td>\n    </tr>\n    <tr>\n      <th>25%</th>\n      <td>-3.767562</td>\n      <td>-0.466696</td>\n      <td>-2.749442</td>\n      <td>-2.299421</td>\n      <td>2.000000</td>\n      <td>1.000000</td>\n    </tr>\n    <tr>\n      <th>50%</th>\n      <td>-0.716958</td>\n      <td>1.188536</td>\n      <td>-1.632691</td>\n      <td>-1.088055</td>\n      <td>5.000000</td>\n      <td>3.000000</td>\n    </tr>\n    <tr>\n      <th>75%</th>\n      <td>0.384841</td>\n      <td>2.745050</td>\n      <td>-0.705701</td>\n      <td>-0.375888</td>\n      <td>7.000000</td>\n      <td>3.000000</td>\n    </tr>\n    <tr>\n      <th>max</th>\n      <td>7.452444</td>\n      <td>7.176283</td>\n      <td>2.069302</td>\n      <td>0.795317</td>\n      <td>9.000000</td>\n      <td>4.000000</td>\n    </tr>\n  </tbody>\n</table>\n</div>"
     },
     "metadata": {},
     "output_type": "display_data"
    },
    {
     "data": {
      "text/plain": "              1         2         3         4  label_pred  label_true\nnode                                                                 \n0     -6.841020  4.842885 -1.869969 -1.546838          17           0\n1     -4.647691  3.514963 -1.550836 -0.749682           3           2\n2     -7.082926  4.964895 -1.875181 -1.645398          17           2\n3     -6.994099  4.887787 -2.030379 -1.367649          17           0\n4     -6.730424  4.619171 -1.836410 -1.441660          17           0\n...         ...       ...       ...       ...         ...         ...\n13179 -3.683623  2.859181 -1.084024 -0.828466           3           0\n13180 -1.141681 -1.855655 -0.545587 -4.323790          18           3\n13181 -0.480344 -1.342886 -0.601691 -2.779025          18           3\n13182  3.202816  2.189849 -3.150090 -1.615556           0           4\n13183 -4.514269  2.112977 -0.877835 -1.342467          17           0\n\n[13184 rows x 6 columns]",
      "text/html": "<div>\n<style scoped>\n    .dataframe tbody tr th:only-of-type {\n        vertical-align: middle;\n    }\n\n    .dataframe tbody tr th {\n        vertical-align: top;\n    }\n\n    .dataframe thead th {\n        text-align: right;\n    }\n</style>\n<table border=\"1\" class=\"dataframe\">\n  <thead>\n    <tr style=\"text-align: right;\">\n      <th></th>\n      <th>1</th>\n      <th>2</th>\n      <th>3</th>\n      <th>4</th>\n      <th>label_pred</th>\n      <th>label_true</th>\n    </tr>\n    <tr>\n      <th>node</th>\n      <th></th>\n      <th></th>\n      <th></th>\n      <th></th>\n      <th></th>\n      <th></th>\n    </tr>\n  </thead>\n  <tbody>\n    <tr>\n      <th>0</th>\n      <td>-6.841020</td>\n      <td>4.842885</td>\n      <td>-1.869969</td>\n      <td>-1.546838</td>\n      <td>17</td>\n      <td>0</td>\n    </tr>\n    <tr>\n      <th>1</th>\n      <td>-4.647691</td>\n      <td>3.514963</td>\n      <td>-1.550836</td>\n      <td>-0.749682</td>\n      <td>3</td>\n      <td>2</td>\n    </tr>\n    <tr>\n      <th>2</th>\n      <td>-7.082926</td>\n      <td>4.964895</td>\n      <td>-1.875181</td>\n      <td>-1.645398</td>\n      <td>17</td>\n      <td>2</td>\n    </tr>\n    <tr>\n      <th>3</th>\n      <td>-6.994099</td>\n      <td>4.887787</td>\n      <td>-2.030379</td>\n      <td>-1.367649</td>\n      <td>17</td>\n      <td>0</td>\n    </tr>\n    <tr>\n      <th>4</th>\n      <td>-6.730424</td>\n      <td>4.619171</td>\n      <td>-1.836410</td>\n      <td>-1.441660</td>\n      <td>17</td>\n      <td>0</td>\n    </tr>\n    <tr>\n      <th>...</th>\n      <td>...</td>\n      <td>...</td>\n      <td>...</td>\n      <td>...</td>\n      <td>...</td>\n      <td>...</td>\n    </tr>\n    <tr>\n      <th>13179</th>\n      <td>-3.683623</td>\n      <td>2.859181</td>\n      <td>-1.084024</td>\n      <td>-0.828466</td>\n      <td>3</td>\n      <td>0</td>\n    </tr>\n    <tr>\n      <th>13180</th>\n      <td>-1.141681</td>\n      <td>-1.855655</td>\n      <td>-0.545587</td>\n      <td>-4.323790</td>\n      <td>18</td>\n      <td>3</td>\n    </tr>\n    <tr>\n      <th>13181</th>\n      <td>-0.480344</td>\n      <td>-1.342886</td>\n      <td>-0.601691</td>\n      <td>-2.779025</td>\n      <td>18</td>\n      <td>3</td>\n    </tr>\n    <tr>\n      <th>13182</th>\n      <td>3.202816</td>\n      <td>2.189849</td>\n      <td>-3.150090</td>\n      <td>-1.615556</td>\n      <td>0</td>\n      <td>4</td>\n    </tr>\n    <tr>\n      <th>13183</th>\n      <td>-4.514269</td>\n      <td>2.112977</td>\n      <td>-0.877835</td>\n      <td>-1.342467</td>\n      <td>17</td>\n      <td>0</td>\n    </tr>\n  </tbody>\n</table>\n<p>13184 rows × 6 columns</p>\n</div>"
     },
     "metadata": {},
     "output_type": "display_data"
    },
    {
     "data": {
      "text/plain": "                  1             2             3             4    label_pred  \\\ncount  13184.000000  13184.000000  13184.000000  13184.000000  13184.000000   \nmean      -1.134218      1.176292     -1.633976     -1.824166     10.042703   \nstd        3.101592      2.210038      1.513799      1.961293      5.586085   \nmin       -9.736887     -5.312159    -10.052707     -9.522579      0.000000   \n25%       -3.744451     -0.481914     -2.508289     -2.568235      6.000000   \n50%       -0.685213      1.221515     -1.496483     -1.144779      9.000000   \n75%        0.743184      2.899617     -0.632295     -0.417058     16.000000   \nmax        7.801274      7.602280      1.787508      0.913062     19.000000   \n\n         label_true  \ncount  13184.000000  \nmean       2.190382  \nstd        1.315339  \nmin        0.000000  \n25%        1.000000  \n50%        3.000000  \n75%        3.000000  \nmax        4.000000  ",
      "text/html": "<div>\n<style scoped>\n    .dataframe tbody tr th:only-of-type {\n        vertical-align: middle;\n    }\n\n    .dataframe tbody tr th {\n        vertical-align: top;\n    }\n\n    .dataframe thead th {\n        text-align: right;\n    }\n</style>\n<table border=\"1\" class=\"dataframe\">\n  <thead>\n    <tr style=\"text-align: right;\">\n      <th></th>\n      <th>1</th>\n      <th>2</th>\n      <th>3</th>\n      <th>4</th>\n      <th>label_pred</th>\n      <th>label_true</th>\n    </tr>\n  </thead>\n  <tbody>\n    <tr>\n      <th>count</th>\n      <td>13184.000000</td>\n      <td>13184.000000</td>\n      <td>13184.000000</td>\n      <td>13184.000000</td>\n      <td>13184.000000</td>\n      <td>13184.000000</td>\n    </tr>\n    <tr>\n      <th>mean</th>\n      <td>-1.134218</td>\n      <td>1.176292</td>\n      <td>-1.633976</td>\n      <td>-1.824166</td>\n      <td>10.042703</td>\n      <td>2.190382</td>\n    </tr>\n    <tr>\n      <th>std</th>\n      <td>3.101592</td>\n      <td>2.210038</td>\n      <td>1.513799</td>\n      <td>1.961293</td>\n      <td>5.586085</td>\n      <td>1.315339</td>\n    </tr>\n    <tr>\n      <th>min</th>\n      <td>-9.736887</td>\n      <td>-5.312159</td>\n      <td>-10.052707</td>\n      <td>-9.522579</td>\n      <td>0.000000</td>\n      <td>0.000000</td>\n    </tr>\n    <tr>\n      <th>25%</th>\n      <td>-3.744451</td>\n      <td>-0.481914</td>\n      <td>-2.508289</td>\n      <td>-2.568235</td>\n      <td>6.000000</td>\n      <td>1.000000</td>\n    </tr>\n    <tr>\n      <th>50%</th>\n      <td>-0.685213</td>\n      <td>1.221515</td>\n      <td>-1.496483</td>\n      <td>-1.144779</td>\n      <td>9.000000</td>\n      <td>3.000000</td>\n    </tr>\n    <tr>\n      <th>75%</th>\n      <td>0.743184</td>\n      <td>2.899617</td>\n      <td>-0.632295</td>\n      <td>-0.417058</td>\n      <td>16.000000</td>\n      <td>3.000000</td>\n    </tr>\n    <tr>\n      <th>max</th>\n      <td>7.801274</td>\n      <td>7.602280</td>\n      <td>1.787508</td>\n      <td>0.913062</td>\n      <td>19.000000</td>\n      <td>4.000000</td>\n    </tr>\n  </tbody>\n</table>\n</div>"
     },
     "metadata": {},
     "output_type": "display_data"
    }
   ],
   "source": [
    "# import node embeddings and predicted labels\n",
    "dfs = {}\n",
    "for k in ks:\n",
    "    # import node embeddings\n",
    "    df = pd.read_csv(\n",
    "        f\"./data/{name}_alpha-0.1_beta-0.1_ws-10_neg-5_lr-0.025_icom-219_ind-219_ds-0.0_d-{dim}_type-{come_model_type}_k-{k}.txt\",\n",
    "        sep=\"\\t| \",\n",
    "        header=None\n",
    "    )\n",
    "    df = df.rename(columns={0: 'node'})\n",
    "    df.set_index(['node'], inplace=True)\n",
    "\n",
    "    # import predicted labels\n",
    "    labels_pred = pd.read_csv(f\"./data/labels_pred_{come_model_type}_d{dim}_k{k}.txt\", header=None)\n",
    "    labels_pred = labels_pred.rename(columns={0: 'label_pred'})\n",
    "    labels_pred.label_pred = labels_pred.astype(int)\n",
    "\n",
    "    # join labels pred and true to embeddings\n",
    "    df = df.join(labels_pred)\n",
    "    df['label_true'] = labels_true\n",
    "\n",
    "    print(f\"k = {k}\")\n",
    "    display(df)\n",
    "    display(df.describe())\n",
    "    dfs[k] = df"
   ],
   "metadata": {
    "collapsed": false,
    "pycharm": {
     "name": "#%%\n"
    }
   }
  },
  {
   "cell_type": "markdown",
   "source": [
    "# Community Detection"
   ],
   "metadata": {
    "collapsed": false,
    "pycharm": {
     "name": "#%% md\n"
    }
   }
  },
  {
   "cell_type": "code",
   "execution_count": 389,
   "outputs": [
    {
     "name": "stdout",
     "output_type": "stream",
     "text": [
      "K = 2\n",
      "  i0 conductance: 0.048010025495873125\n",
      "  i1 conductance: 0.048010025495873125\n",
      "=>conductance: 0.048010025495873125\n",
      "K = 5\n",
      "  i0 conductance: 0.08011804568805334\n",
      "  i1 conductance: 0.12810762331838565\n",
      "  i2 conductance: 0.09822740182156497\n",
      "  i3 conductance: 0.05032078534436114\n",
      "  i4 conductance: 0.03328584380261624\n",
      "=>conductance: 0.03328584380261624\n",
      "K = 10\n",
      "  i0 conductance: 0.13871552244815785\n",
      "  i1 conductance: 0.2171785811361783\n",
      "  i2 conductance: 0.18134927132798428\n",
      "  i3 conductance: 0.032694938440492476\n",
      "  i4 conductance: 0.31552587646076796\n",
      "  i5 conductance: 0.25084459459459457\n",
      "  i6 conductance: 0.2207247678945792\n",
      "  i7 conductance: 0.18122853872567724\n",
      "  i8 conductance: 0.23783783783783785\n",
      "  i9 conductance: 0.0436677258284158\n",
      "=>conductance: 0.032694938440492476\n",
      "K = 20\n",
      "  i0 conductance: 0.21921182266009853\n",
      "  i1 conductance: 0.328656233135456\n",
      "  i2 conductance: 0.8415841584158416\n",
      "  i3 conductance: 0.0750053728777133\n",
      "  i4 conductance: 0.18622848200312989\n",
      "  i5 conductance: 0.6513317191283293\n",
      "  i6 conductance: 0.2594764697468173\n",
      "  i7 conductance: 0.35733643050716224\n",
      "  i8 conductance: 0.23262104408980255\n",
      "  i9 conductance: 0.029648139393530087\n",
      "  i10 conductance: 0.19535419958153635\n",
      "  i11 conductance: 0.12137006701414743\n",
      "  i13 conductance: 1.0\n",
      "  i15 conductance: 0.3539325842696629\n",
      "  i16 conductance: 0.5589856670341786\n",
      "  i17 conductance: 0.2533543804262036\n",
      "  i18 conductance: 0.21278240700970708\n",
      "  i19 conductance: 0.18057482656095145\n",
      "=>conductance: 0.029648139393530087\n"
     ]
    }
   ],
   "source": [
    "# Conductance\n",
    "\n",
    "for k in dfs:\n",
    "    print(\"K =\", k)\n",
    "    df = dfs[k]\n",
    "    conductance_min = 1\n",
    "    for i in range(k):\n",
    "        nodes = df[df.label_pred == i].index.to_numpy()\n",
    "        if len(nodes) == 0: continue\n",
    "        conductance_i = nx.conductance(G, nodes)\n",
    "        print(f\"  i{i} conductance: {conductance_i}\")\n",
    "        conductance_min = min(conductance_min, conductance_i)\n",
    "    print(f\"=>conductance: {conductance_min}\")"
   ],
   "metadata": {
    "collapsed": false,
    "pycharm": {
     "name": "#%%\n"
    }
   }
  },
  {
   "cell_type": "code",
   "execution_count": 390,
   "outputs": [
    {
     "name": "stdout",
     "output_type": "stream",
     "text": [
      "K = 2\n",
      "NMI:  0.3857074793388268\n",
      "K = 5\n",
      "NMI:  0.5957147763352753\n",
      "K = 10\n",
      "NMI:  0.5852449824837167\n",
      "K = 20\n",
      "NMI:  0.5277372728135445\n"
     ]
    }
   ],
   "source": [
    "# NMI\n",
    "\n",
    "for k in dfs:\n",
    "    print(\"K =\", k)\n",
    "    df = dfs[k]\n",
    "    labels_pred = df.label_pred.to_numpy()\n",
    "    labels_true = df.label_true.to_numpy()\n",
    "\n",
    "    nmi = metrics.normalized_mutual_info_score(labels_true, labels_pred)\n",
    "    print(\"NMI: \", nmi)"
   ],
   "metadata": {
    "collapsed": false,
    "pycharm": {
     "name": "#%%\n"
    }
   }
  },
  {
   "cell_type": "markdown",
   "source": [
    "# Node Classification"
   ],
   "metadata": {
    "collapsed": false,
    "pycharm": {
     "name": "#%% md\n"
    }
   }
  },
  {
   "cell_type": "code",
   "execution_count": 391,
   "outputs": [
    {
     "name": "stdout",
     "output_type": "stream",
     "text": [
      "k = 2\n",
      "  micro_f1: 89.23\n",
      "  macro_f1: 88.97\n",
      "k = 5\n",
      "  micro_f1: 90.52\n",
      "  macro_f1: 90.36\n",
      "k = 10\n",
      "  micro_f1: 91.21\n",
      "  macro_f1: 90.94\n",
      "k = 20\n",
      "  micro_f1: 90.30\n",
      "  macro_f1: 89.88\n"
     ]
    }
   ],
   "source": [
    "# train LibSVM classifier on 90% of data and test on 10%.\n",
    "\n",
    "for k in ks:\n",
    "    print(f\"k = {k}\")\n",
    "    df = dfs[k]\n",
    "\n",
    "    # train/test split\n",
    "    train, test = train_test_split(df, test_size=0.1)\n",
    "    feature_col = np.arange(0, dim) + 1\n",
    "    X_train = train.loc[:, feature_col]\n",
    "    Y_train = train.label_true\n",
    "    X_test = test.loc[:, feature_col]\n",
    "    Y_test = test.label_true\n",
    "\n",
    "    # fit\n",
    "    clf = svm.SVC()\n",
    "    clf.fit(X_train, Y_train)\n",
    "\n",
    "    # pred\n",
    "    Y_pred = clf.predict(X_test)\n",
    "\n",
    "    # results\n",
    "    micro_f1 = metrics.f1_score(Y_test, Y_pred, average='micro')\n",
    "    macro_f1 = metrics.f1_score(Y_test, Y_pred, average='macro')\n",
    "    print(f\"  micro_f1: {micro_f1*100:.2f}\")\n",
    "    print(f\"  macro_f1: {macro_f1*100:.2f}\")"
   ],
   "metadata": {
    "collapsed": false,
    "pycharm": {
     "name": "#%%\n"
    }
   }
  }
 ],
 "metadata": {
  "kernelspec": {
   "name": "pycharm-97a28330",
   "language": "python",
   "display_name": "PyCharm (ComE_BGMM)"
  },
  "language_info": {
   "codemirror_mode": {
    "name": "ipython",
    "version": 2
   },
   "file_extension": ".py",
   "mimetype": "text/x-python",
   "name": "python",
   "nbconvert_exporter": "python",
   "pygments_lexer": "ipython2",
   "version": "2.7.6"
  }
 },
 "nbformat": 4,
 "nbformat_minor": 0
}