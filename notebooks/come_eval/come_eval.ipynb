{
 "cells": [
  {
   "cell_type": "code",
   "execution_count": 112,
   "metadata": {
    "collapsed": true,
    "pycharm": {
     "name": "#%%\n"
    }
   },
   "outputs": [],
   "source": [
    "import sys\n",
    "sys.path.append('../../')\n",
    "\n",
    "from IPython.core.display import display\n",
    "import numpy as np\n",
    "import pandas as pd\n",
    "import networkx as nx\n",
    "from sortedcontainers import SortedDict\n",
    "import matplotlib.pyplot as plt\n",
    "import seaborn as sns\n",
    "from  matplotlib.ticker import PercentFormatter\n",
    "import utils.graph_utils as graph_utils\n",
    "from utils.IO_utils import load_ground_true\n",
    "from sklearn import metrics"
   ]
  },
  {
   "cell_type": "code",
   "execution_count": 113,
   "outputs": [],
   "source": [
    "# settings\n",
    "name = \"Dblp\"\n",
    "come_model_type = \"GMM\"\n",
    "ks = [2] # [2, 5, 10, 20]"
   ],
   "metadata": {
    "collapsed": false,
    "pycharm": {
     "name": "#%%\n"
    }
   }
  },
  {
   "cell_type": "code",
   "execution_count": 114,
   "outputs": [],
   "source": [
    "# import graph and true labels\n",
    "\n",
    "# graph\n",
    "G = graph_utils.load_matfile(f\"../../data/{name}/{name}.mat\", undirected=True)\n",
    "\n",
    "# labels_true\n",
    "labels_true, _ = load_ground_true(path=f\"../../data/{name}\", file_name=name)"
   ],
   "metadata": {
    "collapsed": false,
    "pycharm": {
     "name": "#%%\n"
    }
   }
  },
  {
   "cell_type": "code",
   "execution_count": 115,
   "outputs": [
    {
     "name": "stderr",
     "output_type": "stream",
     "text": [
      "/Users/anton/miniconda3/envs/MT/lib/python3.6/site-packages/ipykernel_launcher.py:8: ParserWarning: Falling back to the 'python' engine because the 'c' engine does not support regex separators (separators > 1 char and different from '\\s+' are interpreted as regex); you can avoid this warning by specifying engine='python'.\n",
      "  \n"
     ]
    },
    {
     "data": {
      "text/plain": "              1         2         3         4         5         6         7  \\\nnode                                                                          \n0      0.305006 -0.466880 -0.267545  0.769969  0.285500  0.145671  0.145668   \n1      0.274115 -0.487077 -0.116241  0.739823  0.195494  0.060871  0.084048   \n2      0.417771 -0.439148 -0.307630  0.787992  0.405380  0.128854  0.119469   \n3      0.306671 -0.452776 -0.340008  0.667185  0.238152  0.025103  0.174575   \n4      0.218821 -0.380524 -0.374861  0.763850  0.261986  0.098802  0.026748   \n...         ...       ...       ...       ...       ...       ...       ...   \n13179  0.233857 -0.375045 -0.195243  0.585578  0.377580  0.057074  0.045089   \n13180 -0.128917 -0.556151 -0.205546 -0.030483  0.330267  0.210279  0.195406   \n13181 -0.181398 -0.531019 -0.020660  0.022836  0.288119  0.118601  0.141081   \n13182 -0.194442 -0.111312  0.242569  0.522421  0.321690 -0.176410  0.372978   \n13183 -0.239495 -0.012275 -0.225118  0.551441  0.411317 -0.069079  0.180567   \n\n              8         9        10  ...       120       121       122  \\\nnode                                 ...                                 \n0      0.589570  0.057389  0.295072  ...  0.628949  0.022924 -0.109912   \n1      0.557284 -0.170716  0.435309  ...  0.566391 -0.059694 -0.219559   \n2      0.588898  0.191887  0.283263  ...  0.637316  0.006722 -0.004066   \n3      0.546116  0.084083  0.320654  ...  0.566142 -0.080180 -0.132030   \n4      0.559295  0.217035  0.293235  ...  0.611178  0.038992 -0.054769   \n...         ...       ...       ...  ...       ...       ...       ...   \n13179  0.492758  0.113148  0.298501  ...  0.568135 -0.154959 -0.091873   \n13180  0.034497  0.400683  0.501986  ...  0.165083 -0.314047  0.298250   \n13181  0.019796  0.511212  0.564311  ...  0.170675 -0.129990  0.343729   \n13182  0.434806  0.289726  0.091346  ...  0.035933 -0.362200  0.334843   \n13183  0.613990  0.036140  0.208874  ...  0.511439  0.082809  0.243564   \n\n            123       124       125       126       127       128  label  \nnode                                                                      \n0     -0.527391 -0.116635 -0.446284  0.117288 -0.009859 -0.156843      1  \n1     -0.513448 -0.049340 -0.475041  0.052064  0.117735 -0.032222      1  \n2     -0.469753 -0.177917 -0.386277  0.056969  0.023117 -0.182263      1  \n3     -0.433514 -0.166257 -0.302751  0.087579  0.046053 -0.229579      1  \n4     -0.509383 -0.214571 -0.346377  0.035100 -0.079765 -0.218875      1  \n...         ...       ...       ...       ...       ...       ...    ...  \n13179 -0.352352 -0.144252 -0.037096  0.055319  0.095775 -0.173232      1  \n13180 -0.008569  0.241477 -0.022174 -0.508296  0.082054  0.339728      0  \n13181 -0.115812  0.100923 -0.177653 -0.494129  0.069173  0.356277      0  \n13182 -0.092144 -0.006204  0.035864 -0.058968  0.434660  0.242591      0  \n13183 -0.376817 -0.137878  0.164627  0.130602 -0.191773 -0.126802      1  \n\n[13184 rows x 129 columns]",
      "text/html": "<div>\n<style scoped>\n    .dataframe tbody tr th:only-of-type {\n        vertical-align: middle;\n    }\n\n    .dataframe tbody tr th {\n        vertical-align: top;\n    }\n\n    .dataframe thead th {\n        text-align: right;\n    }\n</style>\n<table border=\"1\" class=\"dataframe\">\n  <thead>\n    <tr style=\"text-align: right;\">\n      <th></th>\n      <th>1</th>\n      <th>2</th>\n      <th>3</th>\n      <th>4</th>\n      <th>5</th>\n      <th>6</th>\n      <th>7</th>\n      <th>8</th>\n      <th>9</th>\n      <th>10</th>\n      <th>...</th>\n      <th>120</th>\n      <th>121</th>\n      <th>122</th>\n      <th>123</th>\n      <th>124</th>\n      <th>125</th>\n      <th>126</th>\n      <th>127</th>\n      <th>128</th>\n      <th>label</th>\n    </tr>\n    <tr>\n      <th>node</th>\n      <th></th>\n      <th></th>\n      <th></th>\n      <th></th>\n      <th></th>\n      <th></th>\n      <th></th>\n      <th></th>\n      <th></th>\n      <th></th>\n      <th></th>\n      <th></th>\n      <th></th>\n      <th></th>\n      <th></th>\n      <th></th>\n      <th></th>\n      <th></th>\n      <th></th>\n      <th></th>\n      <th></th>\n    </tr>\n  </thead>\n  <tbody>\n    <tr>\n      <th>0</th>\n      <td>0.305006</td>\n      <td>-0.466880</td>\n      <td>-0.267545</td>\n      <td>0.769969</td>\n      <td>0.285500</td>\n      <td>0.145671</td>\n      <td>0.145668</td>\n      <td>0.589570</td>\n      <td>0.057389</td>\n      <td>0.295072</td>\n      <td>...</td>\n      <td>0.628949</td>\n      <td>0.022924</td>\n      <td>-0.109912</td>\n      <td>-0.527391</td>\n      <td>-0.116635</td>\n      <td>-0.446284</td>\n      <td>0.117288</td>\n      <td>-0.009859</td>\n      <td>-0.156843</td>\n      <td>1</td>\n    </tr>\n    <tr>\n      <th>1</th>\n      <td>0.274115</td>\n      <td>-0.487077</td>\n      <td>-0.116241</td>\n      <td>0.739823</td>\n      <td>0.195494</td>\n      <td>0.060871</td>\n      <td>0.084048</td>\n      <td>0.557284</td>\n      <td>-0.170716</td>\n      <td>0.435309</td>\n      <td>...</td>\n      <td>0.566391</td>\n      <td>-0.059694</td>\n      <td>-0.219559</td>\n      <td>-0.513448</td>\n      <td>-0.049340</td>\n      <td>-0.475041</td>\n      <td>0.052064</td>\n      <td>0.117735</td>\n      <td>-0.032222</td>\n      <td>1</td>\n    </tr>\n    <tr>\n      <th>2</th>\n      <td>0.417771</td>\n      <td>-0.439148</td>\n      <td>-0.307630</td>\n      <td>0.787992</td>\n      <td>0.405380</td>\n      <td>0.128854</td>\n      <td>0.119469</td>\n      <td>0.588898</td>\n      <td>0.191887</td>\n      <td>0.283263</td>\n      <td>...</td>\n      <td>0.637316</td>\n      <td>0.006722</td>\n      <td>-0.004066</td>\n      <td>-0.469753</td>\n      <td>-0.177917</td>\n      <td>-0.386277</td>\n      <td>0.056969</td>\n      <td>0.023117</td>\n      <td>-0.182263</td>\n      <td>1</td>\n    </tr>\n    <tr>\n      <th>3</th>\n      <td>0.306671</td>\n      <td>-0.452776</td>\n      <td>-0.340008</td>\n      <td>0.667185</td>\n      <td>0.238152</td>\n      <td>0.025103</td>\n      <td>0.174575</td>\n      <td>0.546116</td>\n      <td>0.084083</td>\n      <td>0.320654</td>\n      <td>...</td>\n      <td>0.566142</td>\n      <td>-0.080180</td>\n      <td>-0.132030</td>\n      <td>-0.433514</td>\n      <td>-0.166257</td>\n      <td>-0.302751</td>\n      <td>0.087579</td>\n      <td>0.046053</td>\n      <td>-0.229579</td>\n      <td>1</td>\n    </tr>\n    <tr>\n      <th>4</th>\n      <td>0.218821</td>\n      <td>-0.380524</td>\n      <td>-0.374861</td>\n      <td>0.763850</td>\n      <td>0.261986</td>\n      <td>0.098802</td>\n      <td>0.026748</td>\n      <td>0.559295</td>\n      <td>0.217035</td>\n      <td>0.293235</td>\n      <td>...</td>\n      <td>0.611178</td>\n      <td>0.038992</td>\n      <td>-0.054769</td>\n      <td>-0.509383</td>\n      <td>-0.214571</td>\n      <td>-0.346377</td>\n      <td>0.035100</td>\n      <td>-0.079765</td>\n      <td>-0.218875</td>\n      <td>1</td>\n    </tr>\n    <tr>\n      <th>...</th>\n      <td>...</td>\n      <td>...</td>\n      <td>...</td>\n      <td>...</td>\n      <td>...</td>\n      <td>...</td>\n      <td>...</td>\n      <td>...</td>\n      <td>...</td>\n      <td>...</td>\n      <td>...</td>\n      <td>...</td>\n      <td>...</td>\n      <td>...</td>\n      <td>...</td>\n      <td>...</td>\n      <td>...</td>\n      <td>...</td>\n      <td>...</td>\n      <td>...</td>\n      <td>...</td>\n    </tr>\n    <tr>\n      <th>13179</th>\n      <td>0.233857</td>\n      <td>-0.375045</td>\n      <td>-0.195243</td>\n      <td>0.585578</td>\n      <td>0.377580</td>\n      <td>0.057074</td>\n      <td>0.045089</td>\n      <td>0.492758</td>\n      <td>0.113148</td>\n      <td>0.298501</td>\n      <td>...</td>\n      <td>0.568135</td>\n      <td>-0.154959</td>\n      <td>-0.091873</td>\n      <td>-0.352352</td>\n      <td>-0.144252</td>\n      <td>-0.037096</td>\n      <td>0.055319</td>\n      <td>0.095775</td>\n      <td>-0.173232</td>\n      <td>1</td>\n    </tr>\n    <tr>\n      <th>13180</th>\n      <td>-0.128917</td>\n      <td>-0.556151</td>\n      <td>-0.205546</td>\n      <td>-0.030483</td>\n      <td>0.330267</td>\n      <td>0.210279</td>\n      <td>0.195406</td>\n      <td>0.034497</td>\n      <td>0.400683</td>\n      <td>0.501986</td>\n      <td>...</td>\n      <td>0.165083</td>\n      <td>-0.314047</td>\n      <td>0.298250</td>\n      <td>-0.008569</td>\n      <td>0.241477</td>\n      <td>-0.022174</td>\n      <td>-0.508296</td>\n      <td>0.082054</td>\n      <td>0.339728</td>\n      <td>0</td>\n    </tr>\n    <tr>\n      <th>13181</th>\n      <td>-0.181398</td>\n      <td>-0.531019</td>\n      <td>-0.020660</td>\n      <td>0.022836</td>\n      <td>0.288119</td>\n      <td>0.118601</td>\n      <td>0.141081</td>\n      <td>0.019796</td>\n      <td>0.511212</td>\n      <td>0.564311</td>\n      <td>...</td>\n      <td>0.170675</td>\n      <td>-0.129990</td>\n      <td>0.343729</td>\n      <td>-0.115812</td>\n      <td>0.100923</td>\n      <td>-0.177653</td>\n      <td>-0.494129</td>\n      <td>0.069173</td>\n      <td>0.356277</td>\n      <td>0</td>\n    </tr>\n    <tr>\n      <th>13182</th>\n      <td>-0.194442</td>\n      <td>-0.111312</td>\n      <td>0.242569</td>\n      <td>0.522421</td>\n      <td>0.321690</td>\n      <td>-0.176410</td>\n      <td>0.372978</td>\n      <td>0.434806</td>\n      <td>0.289726</td>\n      <td>0.091346</td>\n      <td>...</td>\n      <td>0.035933</td>\n      <td>-0.362200</td>\n      <td>0.334843</td>\n      <td>-0.092144</td>\n      <td>-0.006204</td>\n      <td>0.035864</td>\n      <td>-0.058968</td>\n      <td>0.434660</td>\n      <td>0.242591</td>\n      <td>0</td>\n    </tr>\n    <tr>\n      <th>13183</th>\n      <td>-0.239495</td>\n      <td>-0.012275</td>\n      <td>-0.225118</td>\n      <td>0.551441</td>\n      <td>0.411317</td>\n      <td>-0.069079</td>\n      <td>0.180567</td>\n      <td>0.613990</td>\n      <td>0.036140</td>\n      <td>0.208874</td>\n      <td>...</td>\n      <td>0.511439</td>\n      <td>0.082809</td>\n      <td>0.243564</td>\n      <td>-0.376817</td>\n      <td>-0.137878</td>\n      <td>0.164627</td>\n      <td>0.130602</td>\n      <td>-0.191773</td>\n      <td>-0.126802</td>\n      <td>1</td>\n    </tr>\n  </tbody>\n</table>\n<p>13184 rows × 129 columns</p>\n</div>"
     },
     "metadata": {},
     "output_type": "display_data"
    }
   ],
   "source": [
    "# import node embeddings and predicted labels\n",
    "dfs = {}\n",
    "for k in ks:\n",
    "    # import node embeddings\n",
    "    df = pd.read_csv(\n",
    "        f\"./data/{name}_alpha-0.1_beta-0.1_ws-10_neg-5_lr-0.025_icom-219_ind-219_k-{k}_ds-0.0_type-{come_model_type}.txt\",\n",
    "        sep=\"\\t| \",\n",
    "        header=None\n",
    "    )\n",
    "    df = df.rename(columns={0: 'node'})\n",
    "    df.set_index(['node'], inplace=True)\n",
    "\n",
    "    # import predicted labels\n",
    "    labels = pd.read_csv(f\"./data/labels_pred_{come_model_type}_{k}.txt\", header=None)\n",
    "    labels = labels.rename(columns={0: 'label'})\n",
    "    labels.label = labels.astype(int)\n",
    "\n",
    "    # join labels to embeddings\n",
    "    df = df.join(labels)\n",
    "\n",
    "    display(df)\n",
    "    dfs[k] = df"
   ],
   "metadata": {
    "collapsed": false,
    "pycharm": {
     "name": "#%%\n"
    }
   }
  },
  {
   "cell_type": "markdown",
   "source": [
    "# Community Detection"
   ],
   "metadata": {
    "collapsed": false,
    "pycharm": {
     "name": "#%% md\n"
    }
   }
  },
  {
   "cell_type": "code",
   "execution_count": 116,
   "outputs": [
    {
     "name": "stdout",
     "output_type": "stream",
     "text": [
      "K = 2\n",
      "NMI:  0.42676536769046264\n"
     ]
    }
   ],
   "source": [
    "# NMI\n",
    "\n",
    "for k in dfs:\n",
    "    print(\"K =\", k)\n",
    "    df = dfs[k]\n",
    "    labels_pred = df.label.to_numpy()\n",
    "\n",
    "    nmi = metrics.normalized_mutual_info_score(labels_true, labels_pred)\n",
    "    print(\"NMI: \", nmi)"
   ],
   "metadata": {
    "collapsed": false,
    "pycharm": {
     "name": "#%%\n"
    }
   }
  },
  {
   "cell_type": "code",
   "execution_count": 117,
   "outputs": [
    {
     "name": "stdout",
     "output_type": "stream",
     "text": [
      "K = 2\n",
      "  i0 conductance: 0.03589380074751901\n",
      "  i1 conductance: 0.03589380074751901\n",
      "=>conductance: 0.03589380074751901\n"
     ]
    }
   ],
   "source": [
    "# Conductance\n",
    "\n",
    "for k in dfs:\n",
    "    print(\"K =\", k)\n",
    "    df = dfs[k]\n",
    "    conductance_min = 1\n",
    "    for i in range(k):\n",
    "        nodes = df[df.label == i].index.to_numpy()\n",
    "        conductance_i = nx.conductance(G, nodes)\n",
    "        print(f\"  i{i} conductance: {conductance_i}\")\n",
    "        conductance_min = min(conductance_min, conductance_i)\n",
    "    print(f\"=>conductance: {conductance_min}\")"
   ],
   "metadata": {
    "collapsed": false,
    "pycharm": {
     "name": "#%%\n"
    }
   }
  },
  {
   "cell_type": "markdown",
   "source": [
    "# Node Classification"
   ],
   "metadata": {
    "collapsed": false,
    "pycharm": {
     "name": "#%% md\n"
    }
   }
  },
  {
   "cell_type": "code",
   "execution_count": 118,
   "outputs": [],
   "source": [
    "# train LibSVM classifier on 90% of data and test on 10%.\n",
    "\n",
    "#TODO"
   ],
   "metadata": {
    "collapsed": false,
    "pycharm": {
     "name": "#%%\n"
    }
   }
  },
  {
   "cell_type": "code",
   "execution_count": 119,
   "outputs": [],
   "source": [
    "def emb_from_row(row):\n",
    "    \"\"\"get node embedding np array from df row\"\"\"\n",
    "    return row.drop('label').to_numpy().flatten()\n"
   ],
   "metadata": {
    "collapsed": false,
    "pycharm": {
     "name": "#%%\n"
    }
   }
  }
 ],
 "metadata": {
  "kernelspec": {
   "name": "pycharm-97a28330",
   "language": "python",
   "display_name": "PyCharm (ComE_BGMM)"
  },
  "language_info": {
   "codemirror_mode": {
    "name": "ipython",
    "version": 2
   },
   "file_extension": ".py",
   "mimetype": "text/x-python",
   "name": "python",
   "nbconvert_exporter": "python",
   "pygments_lexer": "ipython2",
   "version": "2.7.6"
  }
 },
 "nbformat": 4,
 "nbformat_minor": 0
}