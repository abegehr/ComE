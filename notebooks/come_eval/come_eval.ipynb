{
 "cells": [
  {
   "cell_type": "code",
   "execution_count": 63,
   "metadata": {
    "collapsed": true,
    "pycharm": {
     "name": "#%%\n"
    }
   },
   "outputs": [],
   "source": [
    "import sys\n",
    "sys.path.append('../../')\n",
    "\n",
    "from IPython.core.display import display\n",
    "import numpy as np\n",
    "import pandas as pd\n",
    "import networkx as nx\n",
    "from sortedcontainers import SortedDict\n",
    "import matplotlib.pyplot as plt\n",
    "import seaborn as sns\n",
    "from  matplotlib.ticker import PercentFormatter\n",
    "import utils.graph_utils as graph_utils\n",
    "from utils.IO_utils import load_ground_true\n",
    "from sklearn import metrics"
   ]
  },
  {
   "cell_type": "code",
   "execution_count": 64,
   "outputs": [],
   "source": [
    "# settings\n",
    "name = \"Dblp\"\n",
    "come_model_type = \"BGMM\"\n",
    "ks = [2, 5]  # [2, 5, 10, 20]"
   ],
   "metadata": {
    "collapsed": false,
    "pycharm": {
     "name": "#%%\n"
    }
   }
  },
  {
   "cell_type": "code",
   "execution_count": 65,
   "outputs": [],
   "source": [
    "# import graph and true labels\n",
    "\n",
    "# graph\n",
    "G = graph_utils.load_matfile(f\"../../data/{name}/{name}.mat\", undirected=True)\n",
    "\n",
    "# labels_true\n",
    "labels_true, _ = load_ground_true(path=f\"../../data/{name}\", file_name=name)"
   ],
   "metadata": {
    "collapsed": false,
    "pycharm": {
     "name": "#%%\n"
    }
   }
  },
  {
   "cell_type": "code",
   "execution_count": 66,
   "outputs": [
    {
     "name": "stderr",
     "output_type": "stream",
     "text": [
      "/Users/anton/miniconda3/envs/MT/lib/python3.6/site-packages/ipykernel_launcher.py:8: ParserWarning: Falling back to the 'python' engine because the 'c' engine does not support regex separators (separators > 1 char and different from '\\s+' are interpreted as regex); you can avoid this warning by specifying engine='python'.\n",
      "  \n",
      "/Users/anton/miniconda3/envs/MT/lib/python3.6/site-packages/ipykernel_launcher.py:8: ParserWarning: Falling back to the 'python' engine because the 'c' engine does not support regex separators (separators > 1 char and different from '\\s+' are interpreted as regex); you can avoid this warning by specifying engine='python'.\n",
      "  \n"
     ]
    },
    {
     "data": {
      "text/plain": "              1         2         3         4         5         6         7  \\\nnode                                                                          \n0      0.447244 -0.590060 -0.327605  0.759601  0.407560  0.058691  0.100031   \n1      0.295918 -0.558974 -0.200630  0.670498  0.255454  0.012444  0.046877   \n2      0.533605 -0.535543 -0.390154  0.778972  0.445067  0.030342  0.050596   \n3      0.422736 -0.478823 -0.391336  0.637420  0.339128 -0.047656  0.112250   \n4      0.325676 -0.428440 -0.432361  0.703664  0.361787  0.000723 -0.070736   \n...         ...       ...       ...       ...       ...       ...       ...   \n13179  0.257980 -0.395774 -0.185478  0.552952  0.410871 -0.034553 -0.067511   \n13180 -0.020099 -0.540597 -0.269626  0.003425  0.431760  0.091559  0.119777   \n13181 -0.118595 -0.484969 -0.095687  0.009911  0.409799 -0.006928  0.062702   \n13182 -0.079081 -0.163665  0.329716  0.616806  0.285795 -0.213358  0.433964   \n13183 -0.150570 -0.100694 -0.298957  0.520190  0.341279 -0.023270  0.126024   \n\n              8         9        10  ...       120       121       122  \\\nnode                                 ...                                 \n0      0.519430  0.105071  0.309200  ...  0.643391  0.026815 -0.170982   \n1      0.438116 -0.062488  0.382698  ...  0.522785 -0.077961 -0.241738   \n2      0.546266  0.181827  0.356746  ...  0.632027  0.023890 -0.090602   \n3      0.464919  0.160469  0.317239  ...  0.552122 -0.017747 -0.144513   \n4      0.472260  0.272814  0.312631  ...  0.598659  0.039992 -0.145147   \n...         ...       ...       ...  ...       ...       ...       ...   \n13179  0.413107  0.183474  0.325979  ...  0.546140 -0.171239 -0.060339   \n13180  0.100602  0.358634  0.445394  ...  0.096251 -0.318657  0.178803   \n13181  0.008954  0.505634  0.593392  ...  0.109613 -0.070694  0.259097   \n13182  0.407094  0.309780  0.164280  ...  0.015118 -0.174937  0.108733   \n13183  0.471296  0.049665  0.342407  ...  0.582664  0.077317  0.175741   \n\n            123       124       125       126       127       128  label  \nnode                                                                      \n0     -0.574228 -0.198281 -0.451050  0.011072 -0.094810 -0.301875      1  \n1     -0.520454 -0.098120 -0.499365 -0.048436  0.035603 -0.250949      1  \n2     -0.596374 -0.249288 -0.443732 -0.064824 -0.046458 -0.358123      1  \n3     -0.465714 -0.285970 -0.305572  0.000968 -0.058966 -0.357066      1  \n4     -0.551694 -0.296413 -0.290567 -0.063562 -0.169452 -0.348867      1  \n...         ...       ...       ...       ...       ...       ...    ...  \n13179 -0.347124 -0.287109 -0.128301  0.030241  0.094815 -0.255052      1  \n13180 -0.034317  0.113252  0.093031 -0.522664  0.109797  0.340559      0  \n13181 -0.084647  0.026951 -0.060800 -0.500006  0.138947  0.363550      0  \n13182 -0.225076  0.090487  0.103506 -0.016391  0.368730  0.176136      0  \n13183 -0.417408 -0.164322  0.160704  0.148218 -0.103669 -0.158685      1  \n\n[13184 rows x 129 columns]",
      "text/html": "<div>\n<style scoped>\n    .dataframe tbody tr th:only-of-type {\n        vertical-align: middle;\n    }\n\n    .dataframe tbody tr th {\n        vertical-align: top;\n    }\n\n    .dataframe thead th {\n        text-align: right;\n    }\n</style>\n<table border=\"1\" class=\"dataframe\">\n  <thead>\n    <tr style=\"text-align: right;\">\n      <th></th>\n      <th>1</th>\n      <th>2</th>\n      <th>3</th>\n      <th>4</th>\n      <th>5</th>\n      <th>6</th>\n      <th>7</th>\n      <th>8</th>\n      <th>9</th>\n      <th>10</th>\n      <th>...</th>\n      <th>120</th>\n      <th>121</th>\n      <th>122</th>\n      <th>123</th>\n      <th>124</th>\n      <th>125</th>\n      <th>126</th>\n      <th>127</th>\n      <th>128</th>\n      <th>label</th>\n    </tr>\n    <tr>\n      <th>node</th>\n      <th></th>\n      <th></th>\n      <th></th>\n      <th></th>\n      <th></th>\n      <th></th>\n      <th></th>\n      <th></th>\n      <th></th>\n      <th></th>\n      <th></th>\n      <th></th>\n      <th></th>\n      <th></th>\n      <th></th>\n      <th></th>\n      <th></th>\n      <th></th>\n      <th></th>\n      <th></th>\n      <th></th>\n    </tr>\n  </thead>\n  <tbody>\n    <tr>\n      <th>0</th>\n      <td>0.447244</td>\n      <td>-0.590060</td>\n      <td>-0.327605</td>\n      <td>0.759601</td>\n      <td>0.407560</td>\n      <td>0.058691</td>\n      <td>0.100031</td>\n      <td>0.519430</td>\n      <td>0.105071</td>\n      <td>0.309200</td>\n      <td>...</td>\n      <td>0.643391</td>\n      <td>0.026815</td>\n      <td>-0.170982</td>\n      <td>-0.574228</td>\n      <td>-0.198281</td>\n      <td>-0.451050</td>\n      <td>0.011072</td>\n      <td>-0.094810</td>\n      <td>-0.301875</td>\n      <td>1</td>\n    </tr>\n    <tr>\n      <th>1</th>\n      <td>0.295918</td>\n      <td>-0.558974</td>\n      <td>-0.200630</td>\n      <td>0.670498</td>\n      <td>0.255454</td>\n      <td>0.012444</td>\n      <td>0.046877</td>\n      <td>0.438116</td>\n      <td>-0.062488</td>\n      <td>0.382698</td>\n      <td>...</td>\n      <td>0.522785</td>\n      <td>-0.077961</td>\n      <td>-0.241738</td>\n      <td>-0.520454</td>\n      <td>-0.098120</td>\n      <td>-0.499365</td>\n      <td>-0.048436</td>\n      <td>0.035603</td>\n      <td>-0.250949</td>\n      <td>1</td>\n    </tr>\n    <tr>\n      <th>2</th>\n      <td>0.533605</td>\n      <td>-0.535543</td>\n      <td>-0.390154</td>\n      <td>0.778972</td>\n      <td>0.445067</td>\n      <td>0.030342</td>\n      <td>0.050596</td>\n      <td>0.546266</td>\n      <td>0.181827</td>\n      <td>0.356746</td>\n      <td>...</td>\n      <td>0.632027</td>\n      <td>0.023890</td>\n      <td>-0.090602</td>\n      <td>-0.596374</td>\n      <td>-0.249288</td>\n      <td>-0.443732</td>\n      <td>-0.064824</td>\n      <td>-0.046458</td>\n      <td>-0.358123</td>\n      <td>1</td>\n    </tr>\n    <tr>\n      <th>3</th>\n      <td>0.422736</td>\n      <td>-0.478823</td>\n      <td>-0.391336</td>\n      <td>0.637420</td>\n      <td>0.339128</td>\n      <td>-0.047656</td>\n      <td>0.112250</td>\n      <td>0.464919</td>\n      <td>0.160469</td>\n      <td>0.317239</td>\n      <td>...</td>\n      <td>0.552122</td>\n      <td>-0.017747</td>\n      <td>-0.144513</td>\n      <td>-0.465714</td>\n      <td>-0.285970</td>\n      <td>-0.305572</td>\n      <td>0.000968</td>\n      <td>-0.058966</td>\n      <td>-0.357066</td>\n      <td>1</td>\n    </tr>\n    <tr>\n      <th>4</th>\n      <td>0.325676</td>\n      <td>-0.428440</td>\n      <td>-0.432361</td>\n      <td>0.703664</td>\n      <td>0.361787</td>\n      <td>0.000723</td>\n      <td>-0.070736</td>\n      <td>0.472260</td>\n      <td>0.272814</td>\n      <td>0.312631</td>\n      <td>...</td>\n      <td>0.598659</td>\n      <td>0.039992</td>\n      <td>-0.145147</td>\n      <td>-0.551694</td>\n      <td>-0.296413</td>\n      <td>-0.290567</td>\n      <td>-0.063562</td>\n      <td>-0.169452</td>\n      <td>-0.348867</td>\n      <td>1</td>\n    </tr>\n    <tr>\n      <th>...</th>\n      <td>...</td>\n      <td>...</td>\n      <td>...</td>\n      <td>...</td>\n      <td>...</td>\n      <td>...</td>\n      <td>...</td>\n      <td>...</td>\n      <td>...</td>\n      <td>...</td>\n      <td>...</td>\n      <td>...</td>\n      <td>...</td>\n      <td>...</td>\n      <td>...</td>\n      <td>...</td>\n      <td>...</td>\n      <td>...</td>\n      <td>...</td>\n      <td>...</td>\n      <td>...</td>\n    </tr>\n    <tr>\n      <th>13179</th>\n      <td>0.257980</td>\n      <td>-0.395774</td>\n      <td>-0.185478</td>\n      <td>0.552952</td>\n      <td>0.410871</td>\n      <td>-0.034553</td>\n      <td>-0.067511</td>\n      <td>0.413107</td>\n      <td>0.183474</td>\n      <td>0.325979</td>\n      <td>...</td>\n      <td>0.546140</td>\n      <td>-0.171239</td>\n      <td>-0.060339</td>\n      <td>-0.347124</td>\n      <td>-0.287109</td>\n      <td>-0.128301</td>\n      <td>0.030241</td>\n      <td>0.094815</td>\n      <td>-0.255052</td>\n      <td>1</td>\n    </tr>\n    <tr>\n      <th>13180</th>\n      <td>-0.020099</td>\n      <td>-0.540597</td>\n      <td>-0.269626</td>\n      <td>0.003425</td>\n      <td>0.431760</td>\n      <td>0.091559</td>\n      <td>0.119777</td>\n      <td>0.100602</td>\n      <td>0.358634</td>\n      <td>0.445394</td>\n      <td>...</td>\n      <td>0.096251</td>\n      <td>-0.318657</td>\n      <td>0.178803</td>\n      <td>-0.034317</td>\n      <td>0.113252</td>\n      <td>0.093031</td>\n      <td>-0.522664</td>\n      <td>0.109797</td>\n      <td>0.340559</td>\n      <td>0</td>\n    </tr>\n    <tr>\n      <th>13181</th>\n      <td>-0.118595</td>\n      <td>-0.484969</td>\n      <td>-0.095687</td>\n      <td>0.009911</td>\n      <td>0.409799</td>\n      <td>-0.006928</td>\n      <td>0.062702</td>\n      <td>0.008954</td>\n      <td>0.505634</td>\n      <td>0.593392</td>\n      <td>...</td>\n      <td>0.109613</td>\n      <td>-0.070694</td>\n      <td>0.259097</td>\n      <td>-0.084647</td>\n      <td>0.026951</td>\n      <td>-0.060800</td>\n      <td>-0.500006</td>\n      <td>0.138947</td>\n      <td>0.363550</td>\n      <td>0</td>\n    </tr>\n    <tr>\n      <th>13182</th>\n      <td>-0.079081</td>\n      <td>-0.163665</td>\n      <td>0.329716</td>\n      <td>0.616806</td>\n      <td>0.285795</td>\n      <td>-0.213358</td>\n      <td>0.433964</td>\n      <td>0.407094</td>\n      <td>0.309780</td>\n      <td>0.164280</td>\n      <td>...</td>\n      <td>0.015118</td>\n      <td>-0.174937</td>\n      <td>0.108733</td>\n      <td>-0.225076</td>\n      <td>0.090487</td>\n      <td>0.103506</td>\n      <td>-0.016391</td>\n      <td>0.368730</td>\n      <td>0.176136</td>\n      <td>0</td>\n    </tr>\n    <tr>\n      <th>13183</th>\n      <td>-0.150570</td>\n      <td>-0.100694</td>\n      <td>-0.298957</td>\n      <td>0.520190</td>\n      <td>0.341279</td>\n      <td>-0.023270</td>\n      <td>0.126024</td>\n      <td>0.471296</td>\n      <td>0.049665</td>\n      <td>0.342407</td>\n      <td>...</td>\n      <td>0.582664</td>\n      <td>0.077317</td>\n      <td>0.175741</td>\n      <td>-0.417408</td>\n      <td>-0.164322</td>\n      <td>0.160704</td>\n      <td>0.148218</td>\n      <td>-0.103669</td>\n      <td>-0.158685</td>\n      <td>1</td>\n    </tr>\n  </tbody>\n</table>\n<p>13184 rows × 129 columns</p>\n</div>"
     },
     "metadata": {},
     "output_type": "display_data"
    },
    {
     "data": {
      "text/plain": "              1         2         3         4         5         6         7  \\\nnode                                                                          \n0      0.434226 -0.387976 -0.342012  0.727168  0.339455  0.211082 -0.027637   \n1      0.265924 -0.362547 -0.275657  0.634993  0.248291  0.214578 -0.060368   \n2      0.539574 -0.342830 -0.470852  0.709976  0.387971  0.104439 -0.028320   \n3      0.404247 -0.354206 -0.359028  0.522853  0.318014  0.021533  0.011222   \n4      0.292309 -0.274753 -0.430262  0.620953  0.283817  0.120868 -0.159357   \n...         ...       ...       ...       ...       ...       ...       ...   \n13179  0.309951 -0.495111 -0.300779  0.458932  0.400343 -0.025314 -0.124034   \n13180 -0.179346 -0.425092 -0.131352 -0.008551  0.641813  0.157232 -0.034580   \n13181 -0.202129 -0.270683 -0.065851 -0.086173  0.563360  0.147709 -0.030454   \n13182 -0.133413 -0.190213  0.486498  0.676482  0.307131 -0.177244  0.441955   \n13183 -0.179544 -0.218217 -0.285240  0.443957  0.304113 -0.168138  0.209373   \n\n              8         9        10  ...       120       121       122  \\\nnode                                 ...                                 \n0      0.511111  0.133573  0.330798  ...  0.622809  0.135571 -0.293498   \n1      0.525814 -0.084931  0.387744  ...  0.515422  0.069670 -0.297604   \n2      0.518842  0.274218  0.313852  ...  0.635879  0.095333 -0.179778   \n3      0.436997  0.208020  0.299709  ...  0.512195  0.097435 -0.197099   \n4      0.449058  0.287632  0.281005  ...  0.567311  0.191719 -0.216171   \n...         ...       ...       ...  ...       ...       ...       ...   \n13179  0.430032  0.282203  0.353015  ...  0.635563 -0.128318 -0.118762   \n13180  0.084456  0.400029  0.587169  ...  0.065176 -0.193749  0.104673   \n13181  0.010829  0.400087  0.621894  ...  0.115228 -0.073927  0.141782   \n13182  0.480248  0.341053  0.185123  ... -0.058060 -0.213201  0.005732   \n13183  0.431296 -0.053079  0.356543  ...  0.604776  0.220713  0.120891   \n\n            123       124       125       126       127       128  label  \nnode                                                                      \n0     -0.539234 -0.265420 -0.379549 -0.110447 -0.076284 -0.343553      2  \n1     -0.484533 -0.044852 -0.506817 -0.237709  0.076055 -0.296019      2  \n2     -0.516522 -0.338626 -0.330501 -0.224829 -0.066941 -0.375785      2  \n3     -0.393147 -0.290320 -0.291386 -0.063158 -0.024950 -0.379730      2  \n4     -0.459852 -0.342050 -0.281305 -0.127021 -0.099702 -0.363577      2  \n...         ...       ...       ...       ...       ...       ...    ...  \n13179 -0.254270 -0.394024 -0.180928 -0.113551  0.027718 -0.182381      2  \n13180 -0.087115  0.047355  0.194254 -0.676473  0.227743  0.301922      1  \n13181 -0.137634  0.127659  0.144769 -0.535276  0.204934  0.395553      1  \n13182 -0.307556  0.068533  0.225266  0.048934  0.365815  0.087315      1  \n13183 -0.355934 -0.198225  0.133411  0.065918 -0.212550 -0.060412      0  \n\n[13184 rows x 129 columns]",
      "text/html": "<div>\n<style scoped>\n    .dataframe tbody tr th:only-of-type {\n        vertical-align: middle;\n    }\n\n    .dataframe tbody tr th {\n        vertical-align: top;\n    }\n\n    .dataframe thead th {\n        text-align: right;\n    }\n</style>\n<table border=\"1\" class=\"dataframe\">\n  <thead>\n    <tr style=\"text-align: right;\">\n      <th></th>\n      <th>1</th>\n      <th>2</th>\n      <th>3</th>\n      <th>4</th>\n      <th>5</th>\n      <th>6</th>\n      <th>7</th>\n      <th>8</th>\n      <th>9</th>\n      <th>10</th>\n      <th>...</th>\n      <th>120</th>\n      <th>121</th>\n      <th>122</th>\n      <th>123</th>\n      <th>124</th>\n      <th>125</th>\n      <th>126</th>\n      <th>127</th>\n      <th>128</th>\n      <th>label</th>\n    </tr>\n    <tr>\n      <th>node</th>\n      <th></th>\n      <th></th>\n      <th></th>\n      <th></th>\n      <th></th>\n      <th></th>\n      <th></th>\n      <th></th>\n      <th></th>\n      <th></th>\n      <th></th>\n      <th></th>\n      <th></th>\n      <th></th>\n      <th></th>\n      <th></th>\n      <th></th>\n      <th></th>\n      <th></th>\n      <th></th>\n      <th></th>\n    </tr>\n  </thead>\n  <tbody>\n    <tr>\n      <th>0</th>\n      <td>0.434226</td>\n      <td>-0.387976</td>\n      <td>-0.342012</td>\n      <td>0.727168</td>\n      <td>0.339455</td>\n      <td>0.211082</td>\n      <td>-0.027637</td>\n      <td>0.511111</td>\n      <td>0.133573</td>\n      <td>0.330798</td>\n      <td>...</td>\n      <td>0.622809</td>\n      <td>0.135571</td>\n      <td>-0.293498</td>\n      <td>-0.539234</td>\n      <td>-0.265420</td>\n      <td>-0.379549</td>\n      <td>-0.110447</td>\n      <td>-0.076284</td>\n      <td>-0.343553</td>\n      <td>2</td>\n    </tr>\n    <tr>\n      <th>1</th>\n      <td>0.265924</td>\n      <td>-0.362547</td>\n      <td>-0.275657</td>\n      <td>0.634993</td>\n      <td>0.248291</td>\n      <td>0.214578</td>\n      <td>-0.060368</td>\n      <td>0.525814</td>\n      <td>-0.084931</td>\n      <td>0.387744</td>\n      <td>...</td>\n      <td>0.515422</td>\n      <td>0.069670</td>\n      <td>-0.297604</td>\n      <td>-0.484533</td>\n      <td>-0.044852</td>\n      <td>-0.506817</td>\n      <td>-0.237709</td>\n      <td>0.076055</td>\n      <td>-0.296019</td>\n      <td>2</td>\n    </tr>\n    <tr>\n      <th>2</th>\n      <td>0.539574</td>\n      <td>-0.342830</td>\n      <td>-0.470852</td>\n      <td>0.709976</td>\n      <td>0.387971</td>\n      <td>0.104439</td>\n      <td>-0.028320</td>\n      <td>0.518842</td>\n      <td>0.274218</td>\n      <td>0.313852</td>\n      <td>...</td>\n      <td>0.635879</td>\n      <td>0.095333</td>\n      <td>-0.179778</td>\n      <td>-0.516522</td>\n      <td>-0.338626</td>\n      <td>-0.330501</td>\n      <td>-0.224829</td>\n      <td>-0.066941</td>\n      <td>-0.375785</td>\n      <td>2</td>\n    </tr>\n    <tr>\n      <th>3</th>\n      <td>0.404247</td>\n      <td>-0.354206</td>\n      <td>-0.359028</td>\n      <td>0.522853</td>\n      <td>0.318014</td>\n      <td>0.021533</td>\n      <td>0.011222</td>\n      <td>0.436997</td>\n      <td>0.208020</td>\n      <td>0.299709</td>\n      <td>...</td>\n      <td>0.512195</td>\n      <td>0.097435</td>\n      <td>-0.197099</td>\n      <td>-0.393147</td>\n      <td>-0.290320</td>\n      <td>-0.291386</td>\n      <td>-0.063158</td>\n      <td>-0.024950</td>\n      <td>-0.379730</td>\n      <td>2</td>\n    </tr>\n    <tr>\n      <th>4</th>\n      <td>0.292309</td>\n      <td>-0.274753</td>\n      <td>-0.430262</td>\n      <td>0.620953</td>\n      <td>0.283817</td>\n      <td>0.120868</td>\n      <td>-0.159357</td>\n      <td>0.449058</td>\n      <td>0.287632</td>\n      <td>0.281005</td>\n      <td>...</td>\n      <td>0.567311</td>\n      <td>0.191719</td>\n      <td>-0.216171</td>\n      <td>-0.459852</td>\n      <td>-0.342050</td>\n      <td>-0.281305</td>\n      <td>-0.127021</td>\n      <td>-0.099702</td>\n      <td>-0.363577</td>\n      <td>2</td>\n    </tr>\n    <tr>\n      <th>...</th>\n      <td>...</td>\n      <td>...</td>\n      <td>...</td>\n      <td>...</td>\n      <td>...</td>\n      <td>...</td>\n      <td>...</td>\n      <td>...</td>\n      <td>...</td>\n      <td>...</td>\n      <td>...</td>\n      <td>...</td>\n      <td>...</td>\n      <td>...</td>\n      <td>...</td>\n      <td>...</td>\n      <td>...</td>\n      <td>...</td>\n      <td>...</td>\n      <td>...</td>\n      <td>...</td>\n    </tr>\n    <tr>\n      <th>13179</th>\n      <td>0.309951</td>\n      <td>-0.495111</td>\n      <td>-0.300779</td>\n      <td>0.458932</td>\n      <td>0.400343</td>\n      <td>-0.025314</td>\n      <td>-0.124034</td>\n      <td>0.430032</td>\n      <td>0.282203</td>\n      <td>0.353015</td>\n      <td>...</td>\n      <td>0.635563</td>\n      <td>-0.128318</td>\n      <td>-0.118762</td>\n      <td>-0.254270</td>\n      <td>-0.394024</td>\n      <td>-0.180928</td>\n      <td>-0.113551</td>\n      <td>0.027718</td>\n      <td>-0.182381</td>\n      <td>2</td>\n    </tr>\n    <tr>\n      <th>13180</th>\n      <td>-0.179346</td>\n      <td>-0.425092</td>\n      <td>-0.131352</td>\n      <td>-0.008551</td>\n      <td>0.641813</td>\n      <td>0.157232</td>\n      <td>-0.034580</td>\n      <td>0.084456</td>\n      <td>0.400029</td>\n      <td>0.587169</td>\n      <td>...</td>\n      <td>0.065176</td>\n      <td>-0.193749</td>\n      <td>0.104673</td>\n      <td>-0.087115</td>\n      <td>0.047355</td>\n      <td>0.194254</td>\n      <td>-0.676473</td>\n      <td>0.227743</td>\n      <td>0.301922</td>\n      <td>1</td>\n    </tr>\n    <tr>\n      <th>13181</th>\n      <td>-0.202129</td>\n      <td>-0.270683</td>\n      <td>-0.065851</td>\n      <td>-0.086173</td>\n      <td>0.563360</td>\n      <td>0.147709</td>\n      <td>-0.030454</td>\n      <td>0.010829</td>\n      <td>0.400087</td>\n      <td>0.621894</td>\n      <td>...</td>\n      <td>0.115228</td>\n      <td>-0.073927</td>\n      <td>0.141782</td>\n      <td>-0.137634</td>\n      <td>0.127659</td>\n      <td>0.144769</td>\n      <td>-0.535276</td>\n      <td>0.204934</td>\n      <td>0.395553</td>\n      <td>1</td>\n    </tr>\n    <tr>\n      <th>13182</th>\n      <td>-0.133413</td>\n      <td>-0.190213</td>\n      <td>0.486498</td>\n      <td>0.676482</td>\n      <td>0.307131</td>\n      <td>-0.177244</td>\n      <td>0.441955</td>\n      <td>0.480248</td>\n      <td>0.341053</td>\n      <td>0.185123</td>\n      <td>...</td>\n      <td>-0.058060</td>\n      <td>-0.213201</td>\n      <td>0.005732</td>\n      <td>-0.307556</td>\n      <td>0.068533</td>\n      <td>0.225266</td>\n      <td>0.048934</td>\n      <td>0.365815</td>\n      <td>0.087315</td>\n      <td>1</td>\n    </tr>\n    <tr>\n      <th>13183</th>\n      <td>-0.179544</td>\n      <td>-0.218217</td>\n      <td>-0.285240</td>\n      <td>0.443957</td>\n      <td>0.304113</td>\n      <td>-0.168138</td>\n      <td>0.209373</td>\n      <td>0.431296</td>\n      <td>-0.053079</td>\n      <td>0.356543</td>\n      <td>...</td>\n      <td>0.604776</td>\n      <td>0.220713</td>\n      <td>0.120891</td>\n      <td>-0.355934</td>\n      <td>-0.198225</td>\n      <td>0.133411</td>\n      <td>0.065918</td>\n      <td>-0.212550</td>\n      <td>-0.060412</td>\n      <td>0</td>\n    </tr>\n  </tbody>\n</table>\n<p>13184 rows × 129 columns</p>\n</div>"
     },
     "metadata": {},
     "output_type": "display_data"
    }
   ],
   "source": [
    "# import node embeddings and predicted labels\n",
    "dfs = {}\n",
    "for k in ks:\n",
    "    # import node embeddings\n",
    "    df = pd.read_csv(\n",
    "        f\"./data/{name}_alpha-0.1_beta-0.1_ws-10_neg-5_lr-0.025_icom-219_ind-219_k-{k}_ds-0.0_type-{come_model_type}.txt\",\n",
    "        sep=\"\\t| \",\n",
    "        header=None\n",
    "    )\n",
    "    df = df.rename(columns={0: 'node'})\n",
    "    df.set_index(['node'], inplace=True)\n",
    "\n",
    "    # import predicted labels\n",
    "    labels = pd.read_csv(f\"./data/labels_pred_{come_model_type}_{k}.txt\", header=None)\n",
    "    labels = labels.rename(columns={0: 'label'})\n",
    "    labels.label = labels.astype(int)\n",
    "\n",
    "    # join labels to embeddings\n",
    "    df = df.join(labels)\n",
    "\n",
    "    display(df)\n",
    "    dfs[k] = df"
   ],
   "metadata": {
    "collapsed": false,
    "pycharm": {
     "name": "#%%\n"
    }
   }
  },
  {
   "cell_type": "markdown",
   "source": [
    "# Community Detection"
   ],
   "metadata": {
    "collapsed": false,
    "pycharm": {
     "name": "#%% md\n"
    }
   }
  },
  {
   "cell_type": "code",
   "execution_count": 67,
   "outputs": [
    {
     "name": "stdout",
     "output_type": "stream",
     "text": [
      "K = 2\n",
      "NMI:  0.44116900858585945\n",
      "K = 5\n",
      "NMI:  0.6498711817255415\n"
     ]
    }
   ],
   "source": [
    "# NMI\n",
    "\n",
    "for k in dfs:\n",
    "    print(\"K =\", k)\n",
    "    df = dfs[k]\n",
    "    labels_pred = df.label.to_numpy()\n",
    "\n",
    "    nmi = metrics.normalized_mutual_info_score(labels_true, labels_pred)\n",
    "    print(\"NMI: \", nmi)"
   ],
   "metadata": {
    "collapsed": false,
    "pycharm": {
     "name": "#%%\n"
    }
   }
  },
  {
   "cell_type": "code",
   "execution_count": 68,
   "outputs": [
    {
     "name": "stdout",
     "output_type": "stream",
     "text": [
      "K = 2\n",
      "  i0 conductance: 0.026228756671796718\n",
      "  i1 conductance: 0.026228756671796718\n",
      "=>conductance: 0.026228756671796718\n",
      "K = 5\n",
      "  i0 conductance: 0.24569508609827803\n",
      "  i1 conductance: 0.056777346557424176\n",
      "  i2 conductance: 0.08955412403688266\n",
      "  i3 conductance: 0.010057981303987693\n",
      "  i4 conductance: 0.06873344622465373\n",
      "=>conductance: 0.010057981303987693\n"
     ]
    }
   ],
   "source": [
    "# Conductance\n",
    "\n",
    "for k in dfs:\n",
    "    print(\"K =\", k)\n",
    "    df = dfs[k]\n",
    "    conductance_min = 1\n",
    "    for i in range(k):\n",
    "        nodes = df[df.label == i].index.to_numpy()\n",
    "        conductance_i = nx.conductance(G, nodes)\n",
    "        print(f\"  i{i} conductance: {conductance_i}\")\n",
    "        conductance_min = min(conductance_min, conductance_i)\n",
    "    print(f\"=>conductance: {conductance_min}\")"
   ],
   "metadata": {
    "collapsed": false,
    "pycharm": {
     "name": "#%%\n"
    }
   }
  },
  {
   "cell_type": "markdown",
   "source": [
    "# Node Classification"
   ],
   "metadata": {
    "collapsed": false,
    "pycharm": {
     "name": "#%% md\n"
    }
   }
  },
  {
   "cell_type": "code",
   "execution_count": null,
   "outputs": [],
   "source": [
    "# train LibSVM classifier on 90% of data and test on 10%.\n",
    "\n",
    "#TODO"
   ],
   "metadata": {
    "collapsed": false,
    "pycharm": {
     "name": "#%%\n"
    }
   }
  },
  {
   "cell_type": "code",
   "execution_count": null,
   "outputs": [],
   "source": [
    "def emb_from_row(row):\n",
    "    \"\"\"get node embedding np array from df row\"\"\"\n",
    "    return row.drop('label').to_numpy().flatten()\n"
   ],
   "metadata": {
    "collapsed": false,
    "pycharm": {
     "name": "#%%\n"
    }
   }
  }
 ],
 "metadata": {
  "kernelspec": {
   "name": "pycharm-97a28330",
   "language": "python",
   "display_name": "PyCharm (ComE_BGMM)"
  },
  "language_info": {
   "codemirror_mode": {
    "name": "ipython",
    "version": 2
   },
   "file_extension": ".py",
   "mimetype": "text/x-python",
   "name": "python",
   "nbconvert_exporter": "python",
   "pygments_lexer": "ipython2",
   "version": "2.7.6"
  }
 },
 "nbformat": 4,
 "nbformat_minor": 0
}