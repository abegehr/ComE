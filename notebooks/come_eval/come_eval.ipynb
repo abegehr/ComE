{
 "cells": [
  {
   "cell_type": "code",
   "execution_count": 197,
   "metadata": {
    "collapsed": true,
    "pycharm": {
     "name": "#%%\n"
    }
   },
   "outputs": [],
   "source": [
    "import sys\n",
    "sys.path.append('../../')\n",
    "\n",
    "from IPython.core.display import display\n",
    "import numpy as np\n",
    "import pandas as pd\n",
    "import networkx as nx\n",
    "from sortedcontainers import SortedDict\n",
    "import matplotlib.pyplot as plt\n",
    "import seaborn as sns\n",
    "from  matplotlib.ticker import PercentFormatter\n",
    "import utils.graph_utils as graph_utils\n",
    "from utils.IO_utils import load_ground_true\n",
    "from sklearn import metrics"
   ]
  },
  {
   "cell_type": "code",
   "execution_count": 198,
   "outputs": [],
   "source": [
    "# settings\n",
    "name = \"Dblp\"\n",
    "come_model_type = \"GMM\"\n",
    "ks = [2] # [2, 5, 10, 20]"
   ],
   "metadata": {
    "collapsed": false,
    "pycharm": {
     "name": "#%%\n"
    }
   }
  },
  {
   "cell_type": "code",
   "execution_count": 199,
   "outputs": [],
   "source": [
    "# import graph and true labels\n",
    "\n",
    "# graph\n",
    "G = graph_utils.load_matfile(f\"../../data/{name}/{name}.mat\", undirected=True)\n",
    "\n",
    "# labels_true\n",
    "labels_true, _ = load_ground_true(path=f\"../../data/{name}\", file_name=name)\n",
    "labels_true = np.array(labels_true) - 1  # 1..5 -> 0..4"
   ],
   "metadata": {
    "collapsed": false,
    "pycharm": {
     "name": "#%%\n"
    }
   }
  },
  {
   "cell_type": "code",
   "execution_count": 200,
   "outputs": [
    {
     "name": "stderr",
     "output_type": "stream",
     "text": [
      "/Users/anton/miniconda3/envs/MT/lib/python3.6/site-packages/ipykernel_launcher.py:8: ParserWarning: Falling back to the 'python' engine because the 'c' engine does not support regex separators (separators > 1 char and different from '\\s+' are interpreted as regex); you can avoid this warning by specifying engine='python'.\n",
      "  \n"
     ]
    },
    {
     "name": "stdout",
     "output_type": "stream",
     "text": [
      "k = 2\n"
     ]
    },
    {
     "data": {
      "text/plain": "              1         2         3         4         5         6         7  \\\nnode                                                                          \n0      0.305006 -0.466880 -0.267545  0.769969  0.285500  0.145671  0.145668   \n1      0.274115 -0.487077 -0.116241  0.739823  0.195494  0.060871  0.084048   \n2      0.417771 -0.439148 -0.307630  0.787992  0.405380  0.128854  0.119469   \n3      0.306671 -0.452776 -0.340008  0.667185  0.238152  0.025103  0.174575   \n4      0.218821 -0.380524 -0.374861  0.763850  0.261986  0.098802  0.026748   \n...         ...       ...       ...       ...       ...       ...       ...   \n13179  0.233857 -0.375045 -0.195243  0.585578  0.377580  0.057074  0.045089   \n13180 -0.128917 -0.556151 -0.205546 -0.030483  0.330267  0.210279  0.195406   \n13181 -0.181398 -0.531019 -0.020660  0.022836  0.288119  0.118601  0.141081   \n13182 -0.194442 -0.111312  0.242569  0.522421  0.321690 -0.176410  0.372978   \n13183 -0.239495 -0.012275 -0.225118  0.551441  0.411317 -0.069079  0.180567   \n\n              8         9        10  ...       121       122       123  \\\nnode                                 ...                                 \n0      0.589570  0.057389  0.295072  ...  0.022924 -0.109912 -0.527391   \n1      0.557284 -0.170716  0.435309  ... -0.059694 -0.219559 -0.513448   \n2      0.588898  0.191887  0.283263  ...  0.006722 -0.004066 -0.469753   \n3      0.546116  0.084083  0.320654  ... -0.080180 -0.132030 -0.433514   \n4      0.559295  0.217035  0.293235  ...  0.038992 -0.054769 -0.509383   \n...         ...       ...       ...  ...       ...       ...       ...   \n13179  0.492758  0.113148  0.298501  ... -0.154959 -0.091873 -0.352352   \n13180  0.034497  0.400683  0.501986  ... -0.314047  0.298250 -0.008569   \n13181  0.019796  0.511212  0.564311  ... -0.129990  0.343729 -0.115812   \n13182  0.434806  0.289726  0.091346  ... -0.362200  0.334843 -0.092144   \n13183  0.613990  0.036140  0.208874  ...  0.082809  0.243564 -0.376817   \n\n            124       125       126       127       128  label_pred  \\\nnode                                                                  \n0     -0.116635 -0.446284  0.117288 -0.009859 -0.156843           1   \n1     -0.049340 -0.475041  0.052064  0.117735 -0.032222           1   \n2     -0.177917 -0.386277  0.056969  0.023117 -0.182263           1   \n3     -0.166257 -0.302751  0.087579  0.046053 -0.229579           1   \n4     -0.214571 -0.346377  0.035100 -0.079765 -0.218875           1   \n...         ...       ...       ...       ...       ...         ...   \n13179 -0.144252 -0.037096  0.055319  0.095775 -0.173232           1   \n13180  0.241477 -0.022174 -0.508296  0.082054  0.339728           0   \n13181  0.100923 -0.177653 -0.494129  0.069173  0.356277           0   \n13182 -0.006204  0.035864 -0.058968  0.434660  0.242591           0   \n13183 -0.137878  0.164627  0.130602 -0.191773 -0.126802           1   \n\n       label_true  \nnode               \n0               0  \n1               2  \n2               2  \n3               0  \n4               0  \n...           ...  \n13179           0  \n13180           3  \n13181           3  \n13182           4  \n13183           0  \n\n[13184 rows x 130 columns]",
      "text/html": "<div>\n<style scoped>\n    .dataframe tbody tr th:only-of-type {\n        vertical-align: middle;\n    }\n\n    .dataframe tbody tr th {\n        vertical-align: top;\n    }\n\n    .dataframe thead th {\n        text-align: right;\n    }\n</style>\n<table border=\"1\" class=\"dataframe\">\n  <thead>\n    <tr style=\"text-align: right;\">\n      <th></th>\n      <th>1</th>\n      <th>2</th>\n      <th>3</th>\n      <th>4</th>\n      <th>5</th>\n      <th>6</th>\n      <th>7</th>\n      <th>8</th>\n      <th>9</th>\n      <th>10</th>\n      <th>...</th>\n      <th>121</th>\n      <th>122</th>\n      <th>123</th>\n      <th>124</th>\n      <th>125</th>\n      <th>126</th>\n      <th>127</th>\n      <th>128</th>\n      <th>label_pred</th>\n      <th>label_true</th>\n    </tr>\n    <tr>\n      <th>node</th>\n      <th></th>\n      <th></th>\n      <th></th>\n      <th></th>\n      <th></th>\n      <th></th>\n      <th></th>\n      <th></th>\n      <th></th>\n      <th></th>\n      <th></th>\n      <th></th>\n      <th></th>\n      <th></th>\n      <th></th>\n      <th></th>\n      <th></th>\n      <th></th>\n      <th></th>\n      <th></th>\n      <th></th>\n    </tr>\n  </thead>\n  <tbody>\n    <tr>\n      <th>0</th>\n      <td>0.305006</td>\n      <td>-0.466880</td>\n      <td>-0.267545</td>\n      <td>0.769969</td>\n      <td>0.285500</td>\n      <td>0.145671</td>\n      <td>0.145668</td>\n      <td>0.589570</td>\n      <td>0.057389</td>\n      <td>0.295072</td>\n      <td>...</td>\n      <td>0.022924</td>\n      <td>-0.109912</td>\n      <td>-0.527391</td>\n      <td>-0.116635</td>\n      <td>-0.446284</td>\n      <td>0.117288</td>\n      <td>-0.009859</td>\n      <td>-0.156843</td>\n      <td>1</td>\n      <td>0</td>\n    </tr>\n    <tr>\n      <th>1</th>\n      <td>0.274115</td>\n      <td>-0.487077</td>\n      <td>-0.116241</td>\n      <td>0.739823</td>\n      <td>0.195494</td>\n      <td>0.060871</td>\n      <td>0.084048</td>\n      <td>0.557284</td>\n      <td>-0.170716</td>\n      <td>0.435309</td>\n      <td>...</td>\n      <td>-0.059694</td>\n      <td>-0.219559</td>\n      <td>-0.513448</td>\n      <td>-0.049340</td>\n      <td>-0.475041</td>\n      <td>0.052064</td>\n      <td>0.117735</td>\n      <td>-0.032222</td>\n      <td>1</td>\n      <td>2</td>\n    </tr>\n    <tr>\n      <th>2</th>\n      <td>0.417771</td>\n      <td>-0.439148</td>\n      <td>-0.307630</td>\n      <td>0.787992</td>\n      <td>0.405380</td>\n      <td>0.128854</td>\n      <td>0.119469</td>\n      <td>0.588898</td>\n      <td>0.191887</td>\n      <td>0.283263</td>\n      <td>...</td>\n      <td>0.006722</td>\n      <td>-0.004066</td>\n      <td>-0.469753</td>\n      <td>-0.177917</td>\n      <td>-0.386277</td>\n      <td>0.056969</td>\n      <td>0.023117</td>\n      <td>-0.182263</td>\n      <td>1</td>\n      <td>2</td>\n    </tr>\n    <tr>\n      <th>3</th>\n      <td>0.306671</td>\n      <td>-0.452776</td>\n      <td>-0.340008</td>\n      <td>0.667185</td>\n      <td>0.238152</td>\n      <td>0.025103</td>\n      <td>0.174575</td>\n      <td>0.546116</td>\n      <td>0.084083</td>\n      <td>0.320654</td>\n      <td>...</td>\n      <td>-0.080180</td>\n      <td>-0.132030</td>\n      <td>-0.433514</td>\n      <td>-0.166257</td>\n      <td>-0.302751</td>\n      <td>0.087579</td>\n      <td>0.046053</td>\n      <td>-0.229579</td>\n      <td>1</td>\n      <td>0</td>\n    </tr>\n    <tr>\n      <th>4</th>\n      <td>0.218821</td>\n      <td>-0.380524</td>\n      <td>-0.374861</td>\n      <td>0.763850</td>\n      <td>0.261986</td>\n      <td>0.098802</td>\n      <td>0.026748</td>\n      <td>0.559295</td>\n      <td>0.217035</td>\n      <td>0.293235</td>\n      <td>...</td>\n      <td>0.038992</td>\n      <td>-0.054769</td>\n      <td>-0.509383</td>\n      <td>-0.214571</td>\n      <td>-0.346377</td>\n      <td>0.035100</td>\n      <td>-0.079765</td>\n      <td>-0.218875</td>\n      <td>1</td>\n      <td>0</td>\n    </tr>\n    <tr>\n      <th>...</th>\n      <td>...</td>\n      <td>...</td>\n      <td>...</td>\n      <td>...</td>\n      <td>...</td>\n      <td>...</td>\n      <td>...</td>\n      <td>...</td>\n      <td>...</td>\n      <td>...</td>\n      <td>...</td>\n      <td>...</td>\n      <td>...</td>\n      <td>...</td>\n      <td>...</td>\n      <td>...</td>\n      <td>...</td>\n      <td>...</td>\n      <td>...</td>\n      <td>...</td>\n      <td>...</td>\n    </tr>\n    <tr>\n      <th>13179</th>\n      <td>0.233857</td>\n      <td>-0.375045</td>\n      <td>-0.195243</td>\n      <td>0.585578</td>\n      <td>0.377580</td>\n      <td>0.057074</td>\n      <td>0.045089</td>\n      <td>0.492758</td>\n      <td>0.113148</td>\n      <td>0.298501</td>\n      <td>...</td>\n      <td>-0.154959</td>\n      <td>-0.091873</td>\n      <td>-0.352352</td>\n      <td>-0.144252</td>\n      <td>-0.037096</td>\n      <td>0.055319</td>\n      <td>0.095775</td>\n      <td>-0.173232</td>\n      <td>1</td>\n      <td>0</td>\n    </tr>\n    <tr>\n      <th>13180</th>\n      <td>-0.128917</td>\n      <td>-0.556151</td>\n      <td>-0.205546</td>\n      <td>-0.030483</td>\n      <td>0.330267</td>\n      <td>0.210279</td>\n      <td>0.195406</td>\n      <td>0.034497</td>\n      <td>0.400683</td>\n      <td>0.501986</td>\n      <td>...</td>\n      <td>-0.314047</td>\n      <td>0.298250</td>\n      <td>-0.008569</td>\n      <td>0.241477</td>\n      <td>-0.022174</td>\n      <td>-0.508296</td>\n      <td>0.082054</td>\n      <td>0.339728</td>\n      <td>0</td>\n      <td>3</td>\n    </tr>\n    <tr>\n      <th>13181</th>\n      <td>-0.181398</td>\n      <td>-0.531019</td>\n      <td>-0.020660</td>\n      <td>0.022836</td>\n      <td>0.288119</td>\n      <td>0.118601</td>\n      <td>0.141081</td>\n      <td>0.019796</td>\n      <td>0.511212</td>\n      <td>0.564311</td>\n      <td>...</td>\n      <td>-0.129990</td>\n      <td>0.343729</td>\n      <td>-0.115812</td>\n      <td>0.100923</td>\n      <td>-0.177653</td>\n      <td>-0.494129</td>\n      <td>0.069173</td>\n      <td>0.356277</td>\n      <td>0</td>\n      <td>3</td>\n    </tr>\n    <tr>\n      <th>13182</th>\n      <td>-0.194442</td>\n      <td>-0.111312</td>\n      <td>0.242569</td>\n      <td>0.522421</td>\n      <td>0.321690</td>\n      <td>-0.176410</td>\n      <td>0.372978</td>\n      <td>0.434806</td>\n      <td>0.289726</td>\n      <td>0.091346</td>\n      <td>...</td>\n      <td>-0.362200</td>\n      <td>0.334843</td>\n      <td>-0.092144</td>\n      <td>-0.006204</td>\n      <td>0.035864</td>\n      <td>-0.058968</td>\n      <td>0.434660</td>\n      <td>0.242591</td>\n      <td>0</td>\n      <td>4</td>\n    </tr>\n    <tr>\n      <th>13183</th>\n      <td>-0.239495</td>\n      <td>-0.012275</td>\n      <td>-0.225118</td>\n      <td>0.551441</td>\n      <td>0.411317</td>\n      <td>-0.069079</td>\n      <td>0.180567</td>\n      <td>0.613990</td>\n      <td>0.036140</td>\n      <td>0.208874</td>\n      <td>...</td>\n      <td>0.082809</td>\n      <td>0.243564</td>\n      <td>-0.376817</td>\n      <td>-0.137878</td>\n      <td>0.164627</td>\n      <td>0.130602</td>\n      <td>-0.191773</td>\n      <td>-0.126802</td>\n      <td>1</td>\n      <td>0</td>\n    </tr>\n  </tbody>\n</table>\n<p>13184 rows × 130 columns</p>\n</div>"
     },
     "metadata": {},
     "output_type": "display_data"
    },
    {
     "data": {
      "text/plain": "                  1             2             3             4             5  \\\ncount  13184.000000  13184.000000  13184.000000  13184.000000  13184.000000   \nmean      -0.051781     -0.302547      0.048093      0.296949      0.298413   \nstd        0.167067      0.202704      0.173806      0.237132      0.161112   \nmin       -0.738680     -0.984638     -0.549125     -0.502673     -0.317483   \n25%       -0.166453     -0.457009     -0.067273      0.117994      0.195739   \n50%       -0.048913     -0.287717      0.043891      0.295192      0.302898   \n75%        0.064279     -0.150278      0.160756      0.484957      0.405333   \nmax        0.573231      0.312830      0.729769      0.985580      0.866095   \n\n                  6             7             8             9            10  \\\ncount  13184.000000  13184.000000  13184.000000  13184.000000  13184.000000   \nmean      -0.073264      0.185268      0.308804      0.186108      0.388025   \nstd        0.184697      0.166071      0.181970      0.202842      0.152158   \nmin       -0.719233     -0.405115     -0.421883     -0.457067     -0.285070   \n25%       -0.211840      0.073862      0.186877      0.040458      0.289796   \n50%       -0.076033      0.177041      0.308882      0.173247      0.393894   \n75%        0.067229      0.292778      0.428846      0.313818      0.489991   \nmax        0.530542      0.880256      0.977802      0.926466      0.978306   \n\n       ...           121           122           123           124  \\\ncount  ...  13184.000000  13184.000000  13184.000000  13184.000000   \nmean   ...     -0.167927      0.258325     -0.256381      0.007310   \nstd    ...      0.165648      0.178690      0.209837      0.135285   \nmin    ...     -0.832682     -0.348916     -0.878605     -0.662500   \n25%    ...     -0.280665      0.133314     -0.419754     -0.076076   \n50%    ...     -0.158188      0.253377     -0.263822      0.009260   \n75%    ...     -0.049476      0.369090     -0.088316      0.090387   \nmax    ...      0.388878      1.005381      0.456588      0.543176   \n\n                125           126           127           128    label_pred  \\\ncount  13184.000000  13184.000000  13184.000000  13184.000000  13184.000000   \nmean      -0.071415     -0.042185      0.105839      0.172020      0.390246   \nstd        0.182414      0.155744      0.183775      0.225410      0.487824   \nmin       -0.708759     -0.751996     -0.541037     -0.464598      0.000000   \n25%       -0.197066     -0.142536     -0.017640     -0.002352      0.000000   \n50%       -0.063929     -0.041156      0.088836      0.181500      0.000000   \n75%        0.059805      0.058771      0.213611      0.341792      1.000000   \nmax        0.444104      0.530632      0.853895      0.845029      1.000000   \n\n         label_true  \ncount  13184.000000  \nmean       2.190382  \nstd        1.315339  \nmin        0.000000  \n25%        1.000000  \n50%        3.000000  \n75%        3.000000  \nmax        4.000000  \n\n[8 rows x 130 columns]",
      "text/html": "<div>\n<style scoped>\n    .dataframe tbody tr th:only-of-type {\n        vertical-align: middle;\n    }\n\n    .dataframe tbody tr th {\n        vertical-align: top;\n    }\n\n    .dataframe thead th {\n        text-align: right;\n    }\n</style>\n<table border=\"1\" class=\"dataframe\">\n  <thead>\n    <tr style=\"text-align: right;\">\n      <th></th>\n      <th>1</th>\n      <th>2</th>\n      <th>3</th>\n      <th>4</th>\n      <th>5</th>\n      <th>6</th>\n      <th>7</th>\n      <th>8</th>\n      <th>9</th>\n      <th>10</th>\n      <th>...</th>\n      <th>121</th>\n      <th>122</th>\n      <th>123</th>\n      <th>124</th>\n      <th>125</th>\n      <th>126</th>\n      <th>127</th>\n      <th>128</th>\n      <th>label_pred</th>\n      <th>label_true</th>\n    </tr>\n  </thead>\n  <tbody>\n    <tr>\n      <th>count</th>\n      <td>13184.000000</td>\n      <td>13184.000000</td>\n      <td>13184.000000</td>\n      <td>13184.000000</td>\n      <td>13184.000000</td>\n      <td>13184.000000</td>\n      <td>13184.000000</td>\n      <td>13184.000000</td>\n      <td>13184.000000</td>\n      <td>13184.000000</td>\n      <td>...</td>\n      <td>13184.000000</td>\n      <td>13184.000000</td>\n      <td>13184.000000</td>\n      <td>13184.000000</td>\n      <td>13184.000000</td>\n      <td>13184.000000</td>\n      <td>13184.000000</td>\n      <td>13184.000000</td>\n      <td>13184.000000</td>\n      <td>13184.000000</td>\n    </tr>\n    <tr>\n      <th>mean</th>\n      <td>-0.051781</td>\n      <td>-0.302547</td>\n      <td>0.048093</td>\n      <td>0.296949</td>\n      <td>0.298413</td>\n      <td>-0.073264</td>\n      <td>0.185268</td>\n      <td>0.308804</td>\n      <td>0.186108</td>\n      <td>0.388025</td>\n      <td>...</td>\n      <td>-0.167927</td>\n      <td>0.258325</td>\n      <td>-0.256381</td>\n      <td>0.007310</td>\n      <td>-0.071415</td>\n      <td>-0.042185</td>\n      <td>0.105839</td>\n      <td>0.172020</td>\n      <td>0.390246</td>\n      <td>2.190382</td>\n    </tr>\n    <tr>\n      <th>std</th>\n      <td>0.167067</td>\n      <td>0.202704</td>\n      <td>0.173806</td>\n      <td>0.237132</td>\n      <td>0.161112</td>\n      <td>0.184697</td>\n      <td>0.166071</td>\n      <td>0.181970</td>\n      <td>0.202842</td>\n      <td>0.152158</td>\n      <td>...</td>\n      <td>0.165648</td>\n      <td>0.178690</td>\n      <td>0.209837</td>\n      <td>0.135285</td>\n      <td>0.182414</td>\n      <td>0.155744</td>\n      <td>0.183775</td>\n      <td>0.225410</td>\n      <td>0.487824</td>\n      <td>1.315339</td>\n    </tr>\n    <tr>\n      <th>min</th>\n      <td>-0.738680</td>\n      <td>-0.984638</td>\n      <td>-0.549125</td>\n      <td>-0.502673</td>\n      <td>-0.317483</td>\n      <td>-0.719233</td>\n      <td>-0.405115</td>\n      <td>-0.421883</td>\n      <td>-0.457067</td>\n      <td>-0.285070</td>\n      <td>...</td>\n      <td>-0.832682</td>\n      <td>-0.348916</td>\n      <td>-0.878605</td>\n      <td>-0.662500</td>\n      <td>-0.708759</td>\n      <td>-0.751996</td>\n      <td>-0.541037</td>\n      <td>-0.464598</td>\n      <td>0.000000</td>\n      <td>0.000000</td>\n    </tr>\n    <tr>\n      <th>25%</th>\n      <td>-0.166453</td>\n      <td>-0.457009</td>\n      <td>-0.067273</td>\n      <td>0.117994</td>\n      <td>0.195739</td>\n      <td>-0.211840</td>\n      <td>0.073862</td>\n      <td>0.186877</td>\n      <td>0.040458</td>\n      <td>0.289796</td>\n      <td>...</td>\n      <td>-0.280665</td>\n      <td>0.133314</td>\n      <td>-0.419754</td>\n      <td>-0.076076</td>\n      <td>-0.197066</td>\n      <td>-0.142536</td>\n      <td>-0.017640</td>\n      <td>-0.002352</td>\n      <td>0.000000</td>\n      <td>1.000000</td>\n    </tr>\n    <tr>\n      <th>50%</th>\n      <td>-0.048913</td>\n      <td>-0.287717</td>\n      <td>0.043891</td>\n      <td>0.295192</td>\n      <td>0.302898</td>\n      <td>-0.076033</td>\n      <td>0.177041</td>\n      <td>0.308882</td>\n      <td>0.173247</td>\n      <td>0.393894</td>\n      <td>...</td>\n      <td>-0.158188</td>\n      <td>0.253377</td>\n      <td>-0.263822</td>\n      <td>0.009260</td>\n      <td>-0.063929</td>\n      <td>-0.041156</td>\n      <td>0.088836</td>\n      <td>0.181500</td>\n      <td>0.000000</td>\n      <td>3.000000</td>\n    </tr>\n    <tr>\n      <th>75%</th>\n      <td>0.064279</td>\n      <td>-0.150278</td>\n      <td>0.160756</td>\n      <td>0.484957</td>\n      <td>0.405333</td>\n      <td>0.067229</td>\n      <td>0.292778</td>\n      <td>0.428846</td>\n      <td>0.313818</td>\n      <td>0.489991</td>\n      <td>...</td>\n      <td>-0.049476</td>\n      <td>0.369090</td>\n      <td>-0.088316</td>\n      <td>0.090387</td>\n      <td>0.059805</td>\n      <td>0.058771</td>\n      <td>0.213611</td>\n      <td>0.341792</td>\n      <td>1.000000</td>\n      <td>3.000000</td>\n    </tr>\n    <tr>\n      <th>max</th>\n      <td>0.573231</td>\n      <td>0.312830</td>\n      <td>0.729769</td>\n      <td>0.985580</td>\n      <td>0.866095</td>\n      <td>0.530542</td>\n      <td>0.880256</td>\n      <td>0.977802</td>\n      <td>0.926466</td>\n      <td>0.978306</td>\n      <td>...</td>\n      <td>0.388878</td>\n      <td>1.005381</td>\n      <td>0.456588</td>\n      <td>0.543176</td>\n      <td>0.444104</td>\n      <td>0.530632</td>\n      <td>0.853895</td>\n      <td>0.845029</td>\n      <td>1.000000</td>\n      <td>4.000000</td>\n    </tr>\n  </tbody>\n</table>\n<p>8 rows × 130 columns</p>\n</div>"
     },
     "metadata": {},
     "output_type": "display_data"
    }
   ],
   "source": [
    "# import node embeddings and predicted labels\n",
    "dfs = {}\n",
    "for k in ks:\n",
    "    # import node embeddings\n",
    "    df = pd.read_csv(\n",
    "        f\"./data/{name}_alpha-0.1_beta-0.1_ws-10_neg-5_lr-0.025_icom-219_ind-219_k-{k}_ds-0.0_type-{come_model_type}.txt\",\n",
    "        sep=\"\\t| \",\n",
    "        header=None\n",
    "    )\n",
    "    df = df.rename(columns={0: 'node'})\n",
    "    df.set_index(['node'], inplace=True)\n",
    "\n",
    "    # import predicted labels\n",
    "    labels_pred = pd.read_csv(f\"./data/labels_pred_{come_model_type}_{k}.txt\", header=None)\n",
    "    labels_pred = labels_pred.rename(columns={0: 'label_pred'})\n",
    "    labels_pred.label_pred = labels_pred.astype(int)\n",
    "\n",
    "    # join labels pred and true to embeddings\n",
    "    df = df.join(labels_pred)\n",
    "    df['label_true'] = labels_true\n",
    "\n",
    "    print(f\"k = {k}\")\n",
    "    display(df)\n",
    "    display(df.describe())\n",
    "    dfs[k] = df"
   ],
   "metadata": {
    "collapsed": false,
    "pycharm": {
     "name": "#%%\n"
    }
   }
  },
  {
   "cell_type": "markdown",
   "source": [
    "# Community Detection"
   ],
   "metadata": {
    "collapsed": false,
    "pycharm": {
     "name": "#%% md\n"
    }
   }
  },
  {
   "cell_type": "code",
   "execution_count": 201,
   "outputs": [
    {
     "name": "stdout",
     "output_type": "stream",
     "text": [
      "K = 2\n",
      "NMI:  0.42676536769046264\n"
     ]
    }
   ],
   "source": [
    "# NMI\n",
    "\n",
    "for k in dfs:\n",
    "    print(\"K =\", k)\n",
    "    df = dfs[k]\n",
    "    labels_pred = df.label_pred.to_numpy()\n",
    "    labels_true = df.label_true.to_numpy()\n",
    "\n",
    "    nmi = metrics.normalized_mutual_info_score(labels_true, labels_pred)\n",
    "    print(\"NMI: \", nmi)"
   ],
   "metadata": {
    "collapsed": false,
    "pycharm": {
     "name": "#%%\n"
    }
   }
  },
  {
   "cell_type": "code",
   "execution_count": 202,
   "outputs": [
    {
     "name": "stdout",
     "output_type": "stream",
     "text": [
      "K = 2\n",
      "  i0 conductance: 0.07363816269138632\n",
      "  i1 conductance: 0.014079610637928038\n",
      "  i2 conductance: 0.41867257528452007\n",
      "  i3 conductance: 0.08748040313549832\n",
      "  i4 conductance: 0.04312428444218293\n",
      "=>conductance: 0.014079610637928038\n"
     ]
    }
   ],
   "source": [
    "# Conductance\n",
    "\n",
    "for k in dfs:\n",
    "    print(\"K =\", k)\n",
    "    df = dfs[k]\n",
    "    conductance_min = 1\n",
    "    for i in range(k):\n",
    "        nodes = df[df.label_pred == i].index.to_numpy()\n",
    "        conductance_i = nx.conductance(G, nodes)\n",
    "        print(f\"  i{i} conductance: {conductance_i}\")\n",
    "        conductance_min = min(conductance_min, conductance_i)\n",
    "    print(f\"=>conductance: {conductance_min}\")"
   ],
   "metadata": {
    "collapsed": false,
    "pycharm": {
     "name": "#%%\n"
    }
   }
  },
  {
   "cell_type": "markdown",
   "source": [
    "# Node Classification"
   ],
   "metadata": {
    "collapsed": false,
    "pycharm": {
     "name": "#%% md\n"
    }
   }
  },
  {
   "cell_type": "code",
   "execution_count": 203,
   "outputs": [
    {
     "ename": "SyntaxError",
     "evalue": "invalid syntax (<ipython-input-203-467d7ac4c663>, line 6)",
     "output_type": "error",
     "traceback": [
      "\u001B[0;36m  File \u001B[0;32m\"<ipython-input-203-467d7ac4c663>\"\u001B[0;36m, line \u001B[0;32m6\u001B[0m\n\u001B[0;31m    train =\u001B[0m\n\u001B[0m           ^\u001B[0m\n\u001B[0;31mSyntaxError\u001B[0m\u001B[0;31m:\u001B[0m invalid syntax\n"
     ]
    }
   ],
   "source": [
    "# train LibSVM classifier on 90% of data and test on 10%.\n",
    "\n",
    "for k in ks:\n",
    "    df = dfs[k]\n",
    "\n",
    "    train = df.\n",
    "\n",
    "#TODO"
   ],
   "metadata": {
    "collapsed": false,
    "pycharm": {
     "name": "#%%\n"
    }
   }
  },
  {
   "cell_type": "code",
   "execution_count": null,
   "outputs": [],
   "source": [
    "def emb_from_row(row):\n",
    "    \"\"\"get node embedding np array from df row\"\"\"\n",
    "    return row.drop('label').to_numpy().flatten()\n"
   ],
   "metadata": {
    "collapsed": false,
    "pycharm": {
     "name": "#%%\n"
    }
   }
  }
 ],
 "metadata": {
  "kernelspec": {
   "name": "pycharm-97a28330",
   "language": "python",
   "display_name": "PyCharm (ComE_BGMM)"
  },
  "language_info": {
   "codemirror_mode": {
    "name": "ipython",
    "version": 2
   },
   "file_extension": ".py",
   "mimetype": "text/x-python",
   "name": "python",
   "nbconvert_exporter": "python",
   "pygments_lexer": "ipython2",
   "version": "2.7.6"
  }
 },
 "nbformat": 4,
 "nbformat_minor": 0
}