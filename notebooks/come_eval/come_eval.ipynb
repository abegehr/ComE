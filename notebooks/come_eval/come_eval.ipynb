{
 "cells": [
  {
   "cell_type": "code",
   "execution_count": 360,
   "metadata": {
    "collapsed": true,
    "pycharm": {
     "name": "#%%\n"
    }
   },
   "outputs": [],
   "source": [
    "import sys\n",
    "sys.path.append('../../')\n",
    "\n",
    "from IPython.core.display import display\n",
    "import numpy as np\n",
    "import pandas as pd\n",
    "import networkx as nx\n",
    "import utils.graph_utils as graph_utils\n",
    "from utils.IO_utils import load_ground_true\n",
    "from sklearn import metrics\n",
    "from sklearn.model_selection import train_test_split\n",
    "from sklearn import svm\n"
   ]
  },
  {
   "cell_type": "code",
   "execution_count": 361,
   "outputs": [],
   "source": [
    "# settings\n",
    "np.random.seed(2020)\n",
    "name = \"Dblp\"\n",
    "dim = 2\n",
    "come_model_type = \"BGMM\"\n",
    "ks = [2, 5, 10, 20]"
   ],
   "metadata": {
    "collapsed": false,
    "pycharm": {
     "name": "#%%\n"
    }
   }
  },
  {
   "cell_type": "code",
   "execution_count": 362,
   "outputs": [],
   "source": [
    "# import graph and true labels\n",
    "\n",
    "# graph\n",
    "G = graph_utils.load_matfile(f\"../../data/{name}/{name}.mat\", undirected=True)\n",
    "\n",
    "# labels_true\n",
    "labels_true, _ = load_ground_true(path=f\"../../data/{name}\", file_name=name)\n",
    "labels_true = np.array(labels_true) - 1  # 1..5 -> 0..4"
   ],
   "metadata": {
    "collapsed": false,
    "pycharm": {
     "name": "#%%\n"
    }
   }
  },
  {
   "cell_type": "code",
   "execution_count": 363,
   "outputs": [
    {
     "name": "stderr",
     "output_type": "stream",
     "text": [
      "/Users/anton/miniconda3/envs/MT/lib/python3.6/site-packages/ipykernel_launcher.py:8: ParserWarning: Falling back to the 'python' engine because the 'c' engine does not support regex separators (separators > 1 char and different from '\\s+' are interpreted as regex); you can avoid this warning by specifying engine='python'.\n",
      "  \n",
      "/Users/anton/miniconda3/envs/MT/lib/python3.6/site-packages/ipykernel_launcher.py:8: ParserWarning: Falling back to the 'python' engine because the 'c' engine does not support regex separators (separators > 1 char and different from '\\s+' are interpreted as regex); you can avoid this warning by specifying engine='python'.\n",
      "  \n",
      "/Users/anton/miniconda3/envs/MT/lib/python3.6/site-packages/ipykernel_launcher.py:8: ParserWarning: Falling back to the 'python' engine because the 'c' engine does not support regex separators (separators > 1 char and different from '\\s+' are interpreted as regex); you can avoid this warning by specifying engine='python'.\n",
      "  \n",
      "/Users/anton/miniconda3/envs/MT/lib/python3.6/site-packages/ipykernel_launcher.py:8: ParserWarning: Falling back to the 'python' engine because the 'c' engine does not support regex separators (separators > 1 char and different from '\\s+' are interpreted as regex); you can avoid this warning by specifying engine='python'.\n",
      "  \n"
     ]
    },
    {
     "name": "stdout",
     "output_type": "stream",
     "text": [
      "k = 2\n",
      "k = 5\n",
      "k = 10\n",
      "k = 20\n"
     ]
    },
    {
     "data": {
      "text/plain": "              1         2  label_pred  label_true\nnode                                             \n0      1.286123  0.577509           1           0\n1      0.982056  0.566335           1           2\n2      1.359412  0.576667           1           2\n3      1.336915  0.579795           1           0\n4      1.365799  0.569054           1           0\n...         ...       ...         ...         ...\n13179  2.332630  0.647073           1           0\n13180  0.491310  0.758429           1           3\n13181  0.202133  0.807498           0           3\n13182  1.097447  0.468421           1           4\n13183  0.695060  0.679481           1           0\n\n[13184 rows x 4 columns]",
      "text/html": "<div>\n<style scoped>\n    .dataframe tbody tr th:only-of-type {\n        vertical-align: middle;\n    }\n\n    .dataframe tbody tr th {\n        vertical-align: top;\n    }\n\n    .dataframe thead th {\n        text-align: right;\n    }\n</style>\n<table border=\"1\" class=\"dataframe\">\n  <thead>\n    <tr style=\"text-align: right;\">\n      <th></th>\n      <th>1</th>\n      <th>2</th>\n      <th>label_pred</th>\n      <th>label_true</th>\n    </tr>\n    <tr>\n      <th>node</th>\n      <th></th>\n      <th></th>\n      <th></th>\n      <th></th>\n    </tr>\n  </thead>\n  <tbody>\n    <tr>\n      <th>0</th>\n      <td>1.286123</td>\n      <td>0.577509</td>\n      <td>1</td>\n      <td>0</td>\n    </tr>\n    <tr>\n      <th>1</th>\n      <td>0.982056</td>\n      <td>0.566335</td>\n      <td>1</td>\n      <td>2</td>\n    </tr>\n    <tr>\n      <th>2</th>\n      <td>1.359412</td>\n      <td>0.576667</td>\n      <td>1</td>\n      <td>2</td>\n    </tr>\n    <tr>\n      <th>3</th>\n      <td>1.336915</td>\n      <td>0.579795</td>\n      <td>1</td>\n      <td>0</td>\n    </tr>\n    <tr>\n      <th>4</th>\n      <td>1.365799</td>\n      <td>0.569054</td>\n      <td>1</td>\n      <td>0</td>\n    </tr>\n    <tr>\n      <th>...</th>\n      <td>...</td>\n      <td>...</td>\n      <td>...</td>\n      <td>...</td>\n    </tr>\n    <tr>\n      <th>13179</th>\n      <td>2.332630</td>\n      <td>0.647073</td>\n      <td>1</td>\n      <td>0</td>\n    </tr>\n    <tr>\n      <th>13180</th>\n      <td>0.491310</td>\n      <td>0.758429</td>\n      <td>1</td>\n      <td>3</td>\n    </tr>\n    <tr>\n      <th>13181</th>\n      <td>0.202133</td>\n      <td>0.807498</td>\n      <td>0</td>\n      <td>3</td>\n    </tr>\n    <tr>\n      <th>13182</th>\n      <td>1.097447</td>\n      <td>0.468421</td>\n      <td>1</td>\n      <td>4</td>\n    </tr>\n    <tr>\n      <th>13183</th>\n      <td>0.695060</td>\n      <td>0.679481</td>\n      <td>1</td>\n      <td>0</td>\n    </tr>\n  </tbody>\n</table>\n<p>13184 rows × 4 columns</p>\n</div>"
     },
     "metadata": {},
     "output_type": "display_data"
    },
    {
     "data": {
      "text/plain": "                  1             2    label_pred    label_true\ncount  13184.000000  13184.000000  13184.000000  13184.000000\nmean       1.423579      2.356415      0.486954      2.190382\nstd        3.378621      2.490361      0.499849      1.315339\nmin       -3.632531      0.136543      0.000000      0.000000\n25%       -0.489101      0.698993      0.000000      1.000000\n50%        0.300262      1.318017      0.000000      3.000000\n75%        1.680047      2.429821      1.000000      3.000000\nmax       13.769556     12.449275      1.000000      4.000000",
      "text/html": "<div>\n<style scoped>\n    .dataframe tbody tr th:only-of-type {\n        vertical-align: middle;\n    }\n\n    .dataframe tbody tr th {\n        vertical-align: top;\n    }\n\n    .dataframe thead th {\n        text-align: right;\n    }\n</style>\n<table border=\"1\" class=\"dataframe\">\n  <thead>\n    <tr style=\"text-align: right;\">\n      <th></th>\n      <th>1</th>\n      <th>2</th>\n      <th>label_pred</th>\n      <th>label_true</th>\n    </tr>\n  </thead>\n  <tbody>\n    <tr>\n      <th>count</th>\n      <td>13184.000000</td>\n      <td>13184.000000</td>\n      <td>13184.000000</td>\n      <td>13184.000000</td>\n    </tr>\n    <tr>\n      <th>mean</th>\n      <td>1.423579</td>\n      <td>2.356415</td>\n      <td>0.486954</td>\n      <td>2.190382</td>\n    </tr>\n    <tr>\n      <th>std</th>\n      <td>3.378621</td>\n      <td>2.490361</td>\n      <td>0.499849</td>\n      <td>1.315339</td>\n    </tr>\n    <tr>\n      <th>min</th>\n      <td>-3.632531</td>\n      <td>0.136543</td>\n      <td>0.000000</td>\n      <td>0.000000</td>\n    </tr>\n    <tr>\n      <th>25%</th>\n      <td>-0.489101</td>\n      <td>0.698993</td>\n      <td>0.000000</td>\n      <td>1.000000</td>\n    </tr>\n    <tr>\n      <th>50%</th>\n      <td>0.300262</td>\n      <td>1.318017</td>\n      <td>0.000000</td>\n      <td>3.000000</td>\n    </tr>\n    <tr>\n      <th>75%</th>\n      <td>1.680047</td>\n      <td>2.429821</td>\n      <td>1.000000</td>\n      <td>3.000000</td>\n    </tr>\n    <tr>\n      <th>max</th>\n      <td>13.769556</td>\n      <td>12.449275</td>\n      <td>1.000000</td>\n      <td>4.000000</td>\n    </tr>\n  </tbody>\n</table>\n</div>"
     },
     "metadata": {},
     "output_type": "display_data"
    },
    {
     "data": {
      "text/plain": "              1         2  label_pred  label_true\nnode                                             \n0      1.352153  0.582932           3           0\n1      1.114186  0.587815           3           2\n2      1.411475  0.590256           3           2\n3      1.426768  0.589569           3           0\n4      1.434277  0.583090           3           0\n...         ...       ...         ...         ...\n13179  1.612501  0.550363           3           0\n13180  0.446337  0.829410           2           3\n13181  0.179679  0.910783           1           3\n13182  1.552872  0.532086           3           4\n13183  0.854346  0.656770           3           0\n\n[13184 rows x 4 columns]",
      "text/html": "<div>\n<style scoped>\n    .dataframe tbody tr th:only-of-type {\n        vertical-align: middle;\n    }\n\n    .dataframe tbody tr th {\n        vertical-align: top;\n    }\n\n    .dataframe thead th {\n        text-align: right;\n    }\n</style>\n<table border=\"1\" class=\"dataframe\">\n  <thead>\n    <tr style=\"text-align: right;\">\n      <th></th>\n      <th>1</th>\n      <th>2</th>\n      <th>label_pred</th>\n      <th>label_true</th>\n    </tr>\n    <tr>\n      <th>node</th>\n      <th></th>\n      <th></th>\n      <th></th>\n      <th></th>\n    </tr>\n  </thead>\n  <tbody>\n    <tr>\n      <th>0</th>\n      <td>1.352153</td>\n      <td>0.582932</td>\n      <td>3</td>\n      <td>0</td>\n    </tr>\n    <tr>\n      <th>1</th>\n      <td>1.114186</td>\n      <td>0.587815</td>\n      <td>3</td>\n      <td>2</td>\n    </tr>\n    <tr>\n      <th>2</th>\n      <td>1.411475</td>\n      <td>0.590256</td>\n      <td>3</td>\n      <td>2</td>\n    </tr>\n    <tr>\n      <th>3</th>\n      <td>1.426768</td>\n      <td>0.589569</td>\n      <td>3</td>\n      <td>0</td>\n    </tr>\n    <tr>\n      <th>4</th>\n      <td>1.434277</td>\n      <td>0.583090</td>\n      <td>3</td>\n      <td>0</td>\n    </tr>\n    <tr>\n      <th>...</th>\n      <td>...</td>\n      <td>...</td>\n      <td>...</td>\n      <td>...</td>\n    </tr>\n    <tr>\n      <th>13179</th>\n      <td>1.612501</td>\n      <td>0.550363</td>\n      <td>3</td>\n      <td>0</td>\n    </tr>\n    <tr>\n      <th>13180</th>\n      <td>0.446337</td>\n      <td>0.829410</td>\n      <td>2</td>\n      <td>3</td>\n    </tr>\n    <tr>\n      <th>13181</th>\n      <td>0.179679</td>\n      <td>0.910783</td>\n      <td>1</td>\n      <td>3</td>\n    </tr>\n    <tr>\n      <th>13182</th>\n      <td>1.552872</td>\n      <td>0.532086</td>\n      <td>3</td>\n      <td>4</td>\n    </tr>\n    <tr>\n      <th>13183</th>\n      <td>0.854346</td>\n      <td>0.656770</td>\n      <td>3</td>\n      <td>0</td>\n    </tr>\n  </tbody>\n</table>\n<p>13184 rows × 4 columns</p>\n</div>"
     },
     "metadata": {},
     "output_type": "display_data"
    },
    {
     "data": {
      "text/plain": "                  1             2    label_pred    label_true\ncount  13184.000000  13184.000000  13184.000000  13184.000000\nmean       1.528348      2.429211      1.900637      2.190382\nstd        3.394325      2.638935      1.494531      1.315339\nmin       -3.324279      0.129260      0.000000      0.000000\n25%       -0.386737      0.680094      1.000000      1.000000\n50%        0.337265      1.382771      1.000000      3.000000\n75%        1.673855      2.422146      3.000000      3.000000\nmax       13.707522     13.197050      4.000000      4.000000",
      "text/html": "<div>\n<style scoped>\n    .dataframe tbody tr th:only-of-type {\n        vertical-align: middle;\n    }\n\n    .dataframe tbody tr th {\n        vertical-align: top;\n    }\n\n    .dataframe thead th {\n        text-align: right;\n    }\n</style>\n<table border=\"1\" class=\"dataframe\">\n  <thead>\n    <tr style=\"text-align: right;\">\n      <th></th>\n      <th>1</th>\n      <th>2</th>\n      <th>label_pred</th>\n      <th>label_true</th>\n    </tr>\n  </thead>\n  <tbody>\n    <tr>\n      <th>count</th>\n      <td>13184.000000</td>\n      <td>13184.000000</td>\n      <td>13184.000000</td>\n      <td>13184.000000</td>\n    </tr>\n    <tr>\n      <th>mean</th>\n      <td>1.528348</td>\n      <td>2.429211</td>\n      <td>1.900637</td>\n      <td>2.190382</td>\n    </tr>\n    <tr>\n      <th>std</th>\n      <td>3.394325</td>\n      <td>2.638935</td>\n      <td>1.494531</td>\n      <td>1.315339</td>\n    </tr>\n    <tr>\n      <th>min</th>\n      <td>-3.324279</td>\n      <td>0.129260</td>\n      <td>0.000000</td>\n      <td>0.000000</td>\n    </tr>\n    <tr>\n      <th>25%</th>\n      <td>-0.386737</td>\n      <td>0.680094</td>\n      <td>1.000000</td>\n      <td>1.000000</td>\n    </tr>\n    <tr>\n      <th>50%</th>\n      <td>0.337265</td>\n      <td>1.382771</td>\n      <td>1.000000</td>\n      <td>3.000000</td>\n    </tr>\n    <tr>\n      <th>75%</th>\n      <td>1.673855</td>\n      <td>2.422146</td>\n      <td>3.000000</td>\n      <td>3.000000</td>\n    </tr>\n    <tr>\n      <th>max</th>\n      <td>13.707522</td>\n      <td>13.197050</td>\n      <td>4.000000</td>\n      <td>4.000000</td>\n    </tr>\n  </tbody>\n</table>\n</div>"
     },
     "metadata": {},
     "output_type": "display_data"
    },
    {
     "data": {
      "text/plain": "              1         2  label_pred  label_true\nnode                                             \n0      1.328657  0.585205           6           0\n1      1.069673  0.573356           6           2\n2      1.396879  0.584950           6           2\n3      1.399617  0.582423           6           0\n4      1.413008  0.583084           6           0\n...         ...       ...         ...         ...\n13179  1.912183  0.607771           6           0\n13180  0.452584  0.812210           3           3\n13181 -0.466749  2.855247           5           3\n13182  1.176325  0.479732           6           4\n13183  0.804478  0.653688           6           0\n\n[13184 rows x 4 columns]",
      "text/html": "<div>\n<style scoped>\n    .dataframe tbody tr th:only-of-type {\n        vertical-align: middle;\n    }\n\n    .dataframe tbody tr th {\n        vertical-align: top;\n    }\n\n    .dataframe thead th {\n        text-align: right;\n    }\n</style>\n<table border=\"1\" class=\"dataframe\">\n  <thead>\n    <tr style=\"text-align: right;\">\n      <th></th>\n      <th>1</th>\n      <th>2</th>\n      <th>label_pred</th>\n      <th>label_true</th>\n    </tr>\n    <tr>\n      <th>node</th>\n      <th></th>\n      <th></th>\n      <th></th>\n      <th></th>\n    </tr>\n  </thead>\n  <tbody>\n    <tr>\n      <th>0</th>\n      <td>1.328657</td>\n      <td>0.585205</td>\n      <td>6</td>\n      <td>0</td>\n    </tr>\n    <tr>\n      <th>1</th>\n      <td>1.069673</td>\n      <td>0.573356</td>\n      <td>6</td>\n      <td>2</td>\n    </tr>\n    <tr>\n      <th>2</th>\n      <td>1.396879</td>\n      <td>0.584950</td>\n      <td>6</td>\n      <td>2</td>\n    </tr>\n    <tr>\n      <th>3</th>\n      <td>1.399617</td>\n      <td>0.582423</td>\n      <td>6</td>\n      <td>0</td>\n    </tr>\n    <tr>\n      <th>4</th>\n      <td>1.413008</td>\n      <td>0.583084</td>\n      <td>6</td>\n      <td>0</td>\n    </tr>\n    <tr>\n      <th>...</th>\n      <td>...</td>\n      <td>...</td>\n      <td>...</td>\n      <td>...</td>\n    </tr>\n    <tr>\n      <th>13179</th>\n      <td>1.912183</td>\n      <td>0.607771</td>\n      <td>6</td>\n      <td>0</td>\n    </tr>\n    <tr>\n      <th>13180</th>\n      <td>0.452584</td>\n      <td>0.812210</td>\n      <td>3</td>\n      <td>3</td>\n    </tr>\n    <tr>\n      <th>13181</th>\n      <td>-0.466749</td>\n      <td>2.855247</td>\n      <td>5</td>\n      <td>3</td>\n    </tr>\n    <tr>\n      <th>13182</th>\n      <td>1.176325</td>\n      <td>0.479732</td>\n      <td>6</td>\n      <td>4</td>\n    </tr>\n    <tr>\n      <th>13183</th>\n      <td>0.804478</td>\n      <td>0.653688</td>\n      <td>6</td>\n      <td>0</td>\n    </tr>\n  </tbody>\n</table>\n<p>13184 rows × 4 columns</p>\n</div>"
     },
     "metadata": {},
     "output_type": "display_data"
    },
    {
     "data": {
      "text/plain": "                  1             2    label_pred    label_true\ncount  13184.000000  13184.000000  13184.000000  13184.000000\nmean       1.553535      2.437627      3.951532      2.190382\nstd        3.441008      2.664336      1.832971      1.315339\nmin       -3.406817      0.138496      1.000000      0.000000\n25%       -0.390525      0.703629      3.000000      1.000000\n50%        0.342888      1.367069      4.000000      3.000000\n75%        1.715608      2.418033      5.000000      3.000000\nmax       13.920100     13.425713      6.000000      4.000000",
      "text/html": "<div>\n<style scoped>\n    .dataframe tbody tr th:only-of-type {\n        vertical-align: middle;\n    }\n\n    .dataframe tbody tr th {\n        vertical-align: top;\n    }\n\n    .dataframe thead th {\n        text-align: right;\n    }\n</style>\n<table border=\"1\" class=\"dataframe\">\n  <thead>\n    <tr style=\"text-align: right;\">\n      <th></th>\n      <th>1</th>\n      <th>2</th>\n      <th>label_pred</th>\n      <th>label_true</th>\n    </tr>\n  </thead>\n  <tbody>\n    <tr>\n      <th>count</th>\n      <td>13184.000000</td>\n      <td>13184.000000</td>\n      <td>13184.000000</td>\n      <td>13184.000000</td>\n    </tr>\n    <tr>\n      <th>mean</th>\n      <td>1.553535</td>\n      <td>2.437627</td>\n      <td>3.951532</td>\n      <td>2.190382</td>\n    </tr>\n    <tr>\n      <th>std</th>\n      <td>3.441008</td>\n      <td>2.664336</td>\n      <td>1.832971</td>\n      <td>1.315339</td>\n    </tr>\n    <tr>\n      <th>min</th>\n      <td>-3.406817</td>\n      <td>0.138496</td>\n      <td>1.000000</td>\n      <td>0.000000</td>\n    </tr>\n    <tr>\n      <th>25%</th>\n      <td>-0.390525</td>\n      <td>0.703629</td>\n      <td>3.000000</td>\n      <td>1.000000</td>\n    </tr>\n    <tr>\n      <th>50%</th>\n      <td>0.342888</td>\n      <td>1.367069</td>\n      <td>4.000000</td>\n      <td>3.000000</td>\n    </tr>\n    <tr>\n      <th>75%</th>\n      <td>1.715608</td>\n      <td>2.418033</td>\n      <td>5.000000</td>\n      <td>3.000000</td>\n    </tr>\n    <tr>\n      <th>max</th>\n      <td>13.920100</td>\n      <td>13.425713</td>\n      <td>6.000000</td>\n      <td>4.000000</td>\n    </tr>\n  </tbody>\n</table>\n</div>"
     },
     "metadata": {},
     "output_type": "display_data"
    },
    {
     "data": {
      "text/plain": "              1         2  label_pred  label_true\nnode                                             \n0      1.318439  0.578303           8           0\n1      1.035711  0.568304           8           2\n2      1.385092  0.575887           8           2\n3      1.376412  0.584247           8           0\n4      1.385279  0.573489           8           0\n...         ...       ...         ...         ...\n13179  2.364534  0.657486           9           0\n13180  0.481868  0.774769           3           3\n13181 -0.250789  2.113688          13           3\n13182  1.122975  0.483843           8           4\n13183  0.768052  0.660203           8           0\n\n[13184 rows x 4 columns]",
      "text/html": "<div>\n<style scoped>\n    .dataframe tbody tr th:only-of-type {\n        vertical-align: middle;\n    }\n\n    .dataframe tbody tr th {\n        vertical-align: top;\n    }\n\n    .dataframe thead th {\n        text-align: right;\n    }\n</style>\n<table border=\"1\" class=\"dataframe\">\n  <thead>\n    <tr style=\"text-align: right;\">\n      <th></th>\n      <th>1</th>\n      <th>2</th>\n      <th>label_pred</th>\n      <th>label_true</th>\n    </tr>\n    <tr>\n      <th>node</th>\n      <th></th>\n      <th></th>\n      <th></th>\n      <th></th>\n    </tr>\n  </thead>\n  <tbody>\n    <tr>\n      <th>0</th>\n      <td>1.318439</td>\n      <td>0.578303</td>\n      <td>8</td>\n      <td>0</td>\n    </tr>\n    <tr>\n      <th>1</th>\n      <td>1.035711</td>\n      <td>0.568304</td>\n      <td>8</td>\n      <td>2</td>\n    </tr>\n    <tr>\n      <th>2</th>\n      <td>1.385092</td>\n      <td>0.575887</td>\n      <td>8</td>\n      <td>2</td>\n    </tr>\n    <tr>\n      <th>3</th>\n      <td>1.376412</td>\n      <td>0.584247</td>\n      <td>8</td>\n      <td>0</td>\n    </tr>\n    <tr>\n      <th>4</th>\n      <td>1.385279</td>\n      <td>0.573489</td>\n      <td>8</td>\n      <td>0</td>\n    </tr>\n    <tr>\n      <th>...</th>\n      <td>...</td>\n      <td>...</td>\n      <td>...</td>\n      <td>...</td>\n    </tr>\n    <tr>\n      <th>13179</th>\n      <td>2.364534</td>\n      <td>0.657486</td>\n      <td>9</td>\n      <td>0</td>\n    </tr>\n    <tr>\n      <th>13180</th>\n      <td>0.481868</td>\n      <td>0.774769</td>\n      <td>3</td>\n      <td>3</td>\n    </tr>\n    <tr>\n      <th>13181</th>\n      <td>-0.250789</td>\n      <td>2.113688</td>\n      <td>13</td>\n      <td>3</td>\n    </tr>\n    <tr>\n      <th>13182</th>\n      <td>1.122975</td>\n      <td>0.483843</td>\n      <td>8</td>\n      <td>4</td>\n    </tr>\n    <tr>\n      <th>13183</th>\n      <td>0.768052</td>\n      <td>0.660203</td>\n      <td>8</td>\n      <td>0</td>\n    </tr>\n  </tbody>\n</table>\n<p>13184 rows × 4 columns</p>\n</div>"
     },
     "metadata": {},
     "output_type": "display_data"
    },
    {
     "data": {
      "text/plain": "                  1             2    label_pred    label_true\ncount  13184.000000  13184.000000  13184.000000  13184.000000\nmean       1.562302      2.430373      9.734603      2.190382\nstd        3.470484      2.668707      2.529360      1.315339\nmin       -3.506139      0.129730      3.000000      0.000000\n25%       -0.399263      0.715584      8.000000      1.000000\n50%        0.335453      1.360068      9.000000      3.000000\n75%        1.782309      2.405933     13.000000      3.000000\nmax       13.884957     13.537922     13.000000      4.000000",
      "text/html": "<div>\n<style scoped>\n    .dataframe tbody tr th:only-of-type {\n        vertical-align: middle;\n    }\n\n    .dataframe tbody tr th {\n        vertical-align: top;\n    }\n\n    .dataframe thead th {\n        text-align: right;\n    }\n</style>\n<table border=\"1\" class=\"dataframe\">\n  <thead>\n    <tr style=\"text-align: right;\">\n      <th></th>\n      <th>1</th>\n      <th>2</th>\n      <th>label_pred</th>\n      <th>label_true</th>\n    </tr>\n  </thead>\n  <tbody>\n    <tr>\n      <th>count</th>\n      <td>13184.000000</td>\n      <td>13184.000000</td>\n      <td>13184.000000</td>\n      <td>13184.000000</td>\n    </tr>\n    <tr>\n      <th>mean</th>\n      <td>1.562302</td>\n      <td>2.430373</td>\n      <td>9.734603</td>\n      <td>2.190382</td>\n    </tr>\n    <tr>\n      <th>std</th>\n      <td>3.470484</td>\n      <td>2.668707</td>\n      <td>2.529360</td>\n      <td>1.315339</td>\n    </tr>\n    <tr>\n      <th>min</th>\n      <td>-3.506139</td>\n      <td>0.129730</td>\n      <td>3.000000</td>\n      <td>0.000000</td>\n    </tr>\n    <tr>\n      <th>25%</th>\n      <td>-0.399263</td>\n      <td>0.715584</td>\n      <td>8.000000</td>\n      <td>1.000000</td>\n    </tr>\n    <tr>\n      <th>50%</th>\n      <td>0.335453</td>\n      <td>1.360068</td>\n      <td>9.000000</td>\n      <td>3.000000</td>\n    </tr>\n    <tr>\n      <th>75%</th>\n      <td>1.782309</td>\n      <td>2.405933</td>\n      <td>13.000000</td>\n      <td>3.000000</td>\n    </tr>\n    <tr>\n      <th>max</th>\n      <td>13.884957</td>\n      <td>13.537922</td>\n      <td>13.000000</td>\n      <td>4.000000</td>\n    </tr>\n  </tbody>\n</table>\n</div>"
     },
     "metadata": {},
     "output_type": "display_data"
    }
   ],
   "source": [
    "# import node embeddings and predicted labels\n",
    "dfs = {}\n",
    "for k in ks:\n",
    "    # import node embeddings\n",
    "    df = pd.read_csv(\n",
    "        f\"./data/{name}_alpha-0.1_beta-0.1_ws-10_neg-5_lr-0.025_icom-219_ind-219_ds-0.0_d-{dim}_type-{come_model_type}_k-{k}.txt\",\n",
    "        sep=\"\\t| \",\n",
    "        header=None\n",
    "    )\n",
    "    df = df.rename(columns={0: 'node'})\n",
    "    df.set_index(['node'], inplace=True)\n",
    "\n",
    "    # import predicted labels\n",
    "    labels_pred = pd.read_csv(f\"./data/labels_pred_{come_model_type}_d{dim}_k{k}.txt\", header=None)\n",
    "    labels_pred = labels_pred.rename(columns={0: 'label_pred'})\n",
    "    labels_pred.label_pred = labels_pred.astype(int)\n",
    "\n",
    "    # join labels pred and true to embeddings\n",
    "    df = df.join(labels_pred)\n",
    "    df['label_true'] = labels_true\n",
    "\n",
    "    print(f\"k = {k}\")\n",
    "    display(df)\n",
    "    display(df.describe())\n",
    "    dfs[k] = df"
   ],
   "metadata": {
    "collapsed": false,
    "pycharm": {
     "name": "#%%\n"
    }
   }
  },
  {
   "cell_type": "markdown",
   "source": [
    "# Community Detection"
   ],
   "metadata": {
    "collapsed": false,
    "pycharm": {
     "name": "#%% md\n"
    }
   }
  },
  {
   "cell_type": "code",
   "execution_count": 364,
   "outputs": [
    {
     "name": "stdout",
     "output_type": "stream",
     "text": [
      "K = 2\n",
      "  i0 conductance: 0.021070234113712373\n",
      "  i1 conductance: 0.021070234113712373\n",
      "=>conductance: 0.021070234113712373\n",
      "K = 5\n",
      "  i0 conductance: 0.02551070276610302\n",
      "  i1 conductance: 0.12795978925694906\n",
      "  i2 conductance: 0.3727126805778491\n",
      "  i3 conductance: 0.07776814108123735\n",
      "  i4 conductance: 0.13716451146618744\n",
      "=>conductance: 0.02551070276610302\n",
      "K = 10\n",
      "  i1 conductance: 0.030197444831591175\n",
      "  i3 conductance: 0.3623649078194533\n",
      "  i4 conductance: 0.13586348017451064\n",
      "  i5 conductance: 0.13004841576270149\n",
      "  i6 conductance: 0.08509239646483091\n",
      "=>conductance: 0.030197444831591175\n",
      "K = 20\n",
      "  i3 conductance: 0.37299338999055714\n",
      "  i8 conductance: 0.09183073758448428\n",
      "  i9 conductance: 0.03289726818006926\n",
      "  i10 conductance: 0.1359850548766249\n",
      "  i13 conductance: 0.1296968956991545\n",
      "=>conductance: 0.03289726818006926\n"
     ]
    }
   ],
   "source": [
    "# Conductance\n",
    "\n",
    "for k in dfs:\n",
    "    print(\"K =\", k)\n",
    "    df = dfs[k]\n",
    "    conductance_min = 1\n",
    "    for i in range(k):\n",
    "        nodes = df[df.label_pred == i].index.to_numpy()\n",
    "        if len(nodes) == 0: continue\n",
    "        conductance_i = nx.conductance(G, nodes)\n",
    "        print(f\"  i{i} conductance: {conductance_i}\")\n",
    "        conductance_min = min(conductance_min, conductance_i)\n",
    "    print(f\"=>conductance: {conductance_min}\")"
   ],
   "metadata": {
    "collapsed": false,
    "pycharm": {
     "name": "#%%\n"
    }
   }
  },
  {
   "cell_type": "code",
   "execution_count": 365,
   "outputs": [
    {
     "name": "stdout",
     "output_type": "stream",
     "text": [
      "K = 2\n",
      "NMI:  0.4623820822063423\n",
      "K = 5\n",
      "NMI:  0.46502447614120096\n",
      "K = 10\n",
      "NMI:  0.46005304584573076\n",
      "K = 20\n",
      "NMI:  0.45371067853180896\n"
     ]
    }
   ],
   "source": [
    "# NMI\n",
    "\n",
    "for k in dfs:\n",
    "    print(\"K =\", k)\n",
    "    df = dfs[k]\n",
    "    labels_pred = df.label_pred.to_numpy()\n",
    "    labels_true = df.label_true.to_numpy()\n",
    "\n",
    "    nmi = metrics.normalized_mutual_info_score(labels_true, labels_pred)\n",
    "    print(\"NMI: \", nmi)"
   ],
   "metadata": {
    "collapsed": false,
    "pycharm": {
     "name": "#%%\n"
    }
   }
  },
  {
   "cell_type": "markdown",
   "source": [
    "# Node Classification"
   ],
   "metadata": {
    "collapsed": false,
    "pycharm": {
     "name": "#%% md\n"
    }
   }
  },
  {
   "cell_type": "code",
   "execution_count": 366,
   "outputs": [
    {
     "name": "stdout",
     "output_type": "stream",
     "text": [
      "k = 2\n",
      "feature_col: [1 2]\n",
      "  micro_f1: 67.10\n",
      "  macro_f1: 50.93\n",
      "k = 5\n",
      "feature_col: [1 2]\n",
      "  micro_f1: 67.17\n",
      "  macro_f1: 49.64\n",
      "k = 10\n",
      "feature_col: [1 2]\n",
      "  micro_f1: 66.19\n",
      "  macro_f1: 48.62\n",
      "k = 20\n",
      "feature_col: [1 2]\n",
      "  micro_f1: 67.02\n",
      "  macro_f1: 49.59\n"
     ]
    }
   ],
   "source": [
    "# train LibSVM classifier on 90% of data and test on 10%.\n",
    "\n",
    "for k in ks:\n",
    "    print(f\"k = {k}\")\n",
    "    df = dfs[k]\n",
    "\n",
    "    # train/test split\n",
    "    train, test = train_test_split(df, test_size=0.1)\n",
    "    feature_col = np.arange(0, dim) + 1\n",
    "    X_train = train.loc[:, feature_col]\n",
    "    Y_train = train.label_true\n",
    "    X_test = test.loc[:, feature_col]\n",
    "    Y_test = test.label_true\n",
    "\n",
    "    # fit\n",
    "    clf = svm.SVC()\n",
    "    clf.fit(X_train, Y_train)\n",
    "\n",
    "    # pred\n",
    "    Y_pred = clf.predict(X_test)\n",
    "\n",
    "    # results\n",
    "    micro_f1 = metrics.f1_score(Y_test, Y_pred, average='micro')\n",
    "    macro_f1 = metrics.f1_score(Y_test, Y_pred, average='macro')\n",
    "    print(f\"  micro_f1: {micro_f1*100:.2f}\")\n",
    "    print(f\"  macro_f1: {macro_f1*100:.2f}\")"
   ],
   "metadata": {
    "collapsed": false,
    "pycharm": {
     "name": "#%%\n"
    }
   }
  }
 ],
 "metadata": {
  "kernelspec": {
   "name": "pycharm-97a28330",
   "language": "python",
   "display_name": "PyCharm (ComE_BGMM)"
  },
  "language_info": {
   "codemirror_mode": {
    "name": "ipython",
    "version": 2
   },
   "file_extension": ".py",
   "mimetype": "text/x-python",
   "name": "python",
   "nbconvert_exporter": "python",
   "pygments_lexer": "ipython2",
   "version": "2.7.6"
  }
 },
 "nbformat": 4,
 "nbformat_minor": 0
}