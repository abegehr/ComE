{
 "cells": [
  {
   "cell_type": "code",
   "execution_count": 1,
   "metadata": {},
   "outputs": [],
   "source": [
    "import numpy as np\n",
    "import os\n",
    "import utils.graph_utils as graph_utils\n",
    "import utils.IO_utils as io_utils\n",
    "import utils.plot_utils as plot_utils\n",
    "import importlib\n",
    "from sklearn import metrics"
   ]
  },
  {
   "cell_type": "code",
   "execution_count": 2,
   "metadata": {},
   "outputs": [
    {
     "data": {
      "text/plain": "<module 'utils.plot_utils' from '/Users/anton/local/repos/ComE_BGMM/utils/plot_utils.py'>"
     },
     "execution_count": 2,
     "metadata": {},
     "output_type": "execute_result"
    }
   ],
   "source": [
    "# reload module\n",
    "importlib.reload(graph_utils)\n",
    "importlib.reload(io_utils)\n",
    "importlib.reload(plot_utils)"
   ]
  },
  {
   "cell_type": "code",
   "execution_count": 3,
   "metadata": {},
   "outputs": [],
   "source": [
    "input_file = \"Dblp\""
   ]
  },
  {
   "cell_type": "code",
   "execution_count": 4,
   "metadata": {},
   "outputs": [
    {
     "data": {
      "text/plain": "array([1, 3, 3, ..., 4, 5, 1])"
     },
     "metadata": {},
     "output_type": "display_data"
    }
   ],
   "source": [
    "# load labels_true\n",
    "labels_true, k = io_utils.load_ground_true(file_name=input_file+\"/\"+input_file)\n",
    "labels_true = np.array(labels_true)\n",
    "\n",
    "display(labels_true)"
   ]
  },
  {
   "cell_type": "code",
   "execution_count": 5,
   "metadata": {},
   "outputs": [],
   "source": [
    "# load labels_pred\n",
    "labels_pred = np.loadtxt('./data/labels_pred.txt').astype(int)  #'./data/'+input_file+'/labels_pred.txt'"
   ]
  },
  {
   "cell_type": "code",
   "execution_count": 6,
   "metadata": {},
   "outputs": [
    {
     "name": "stdout",
     "output_type": "stream",
     "text": [
      "labels_true:  [1 3 3 ... 4 5 1]\n",
      "labels_pred:  [2 2 2 ... 0 2 2]\n"
     ]
    }
   ],
   "source": [
    "print(\"labels_true: \", labels_true)\n",
    "print(\"labels_pred: \", labels_pred)"
   ]
  },
  {
   "cell_type": "code",
   "execution_count": 7,
   "metadata": {},
   "outputs": [
    {
     "name": "stdout",
     "output_type": "stream",
     "text": [
      "labels_true:\n",
      "labels_pred:\n"
     ]
    },
    {
     "data": {
      "text/plain": "(array([2098,    0, 2167,    0,    0, 1973,    0, 5019,    0, 1927]),\n array([1. , 1.4, 1.8, 2.2, 2.6, 3. , 3.4, 3.8, 4.2, 4.6, 5. ]))"
     },
     "metadata": {},
     "output_type": "display_data"
    },
    {
     "data": {
      "text/plain": "(array([4641,    0,  209,    0,    0, 7963,    0,  333,    0,   38]),\n array([0. , 0.4, 0.8, 1.2, 1.6, 2. , 2.4, 2.8, 3.2, 3.6, 4. ]))"
     },
     "metadata": {},
     "output_type": "display_data"
    }
   ],
   "source": [
    "print(\"labels_true:\")\n",
    "display(np.histogram(labels_true))\n",
    "\n",
    "print(\"labels_pred:\")\n",
    "display(np.histogram(labels_pred))"
   ]
  },
  {
   "cell_type": "code",
   "execution_count": 8,
   "metadata": {},
   "outputs": [
    {
     "data": {
      "text/plain": "0.18549047539006694"
     },
     "execution_count": 8,
     "metadata": {},
     "output_type": "execute_result"
    }
   ],
   "source": [
    "# NMI\n",
    "\n",
    "metrics.normalized_mutual_info_score(labels_true, labels_pred)"
   ]
  },
  {
   "cell_type": "code",
   "execution_count": 8,
   "metadata": {},
   "outputs": [],
   "source": []
  }
 ],
 "metadata": {
  "kernelspec": {
   "name": "python3",
   "language": "python",
   "display_name": "Python 3"
  },
  "language_info": {
   "codemirror_mode": {
    "name": "ipython",
    "version": 3
   },
   "file_extension": ".py",
   "mimetype": "text/x-python",
   "name": "python",
   "nbconvert_exporter": "python",
   "pygments_lexer": "ipython3",
   "version": "3.6.1"
  }
 },
 "nbformat": 4,
 "nbformat_minor": 2
}