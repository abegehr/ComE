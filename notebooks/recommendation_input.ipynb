{
 "cells": [
  {
   "cell_type": "code",
   "execution_count": 92,
   "metadata": {
    "collapsed": true,
    "pycharm": {
     "name": "#%%\n"
    }
   },
   "outputs": [],
   "source": [
    "import sys\n",
    "sys.path.append('../')\n",
    "\n",
    "from IPython.core.display import display\n",
    "import numpy as np\n",
    "import pandas as pd"
   ]
  },
  {
   "cell_type": "code",
   "execution_count": 93,
   "outputs": [],
   "source": [
    "df = pd.read_csv(\"./movie_ratings/movie_ratings.csv\")"
   ],
   "metadata": {
    "collapsed": false,
    "pycharm": {
     "name": "#%%\n"
    }
   }
  },
  {
   "cell_type": "code",
   "execution_count": 94,
   "outputs": [
    {
     "data": {
      "text/plain": "   userId  movieId  rating   timestamp\n0       1       31     2.5  1260759144\n1       1     1029     3.0  1260759179\n2       1     1061     3.0  1260759182\n3       1     1129     2.0  1260759185\n4       1     1172     4.0  1260759205",
      "text/html": "<div>\n<style scoped>\n    .dataframe tbody tr th:only-of-type {\n        vertical-align: middle;\n    }\n\n    .dataframe tbody tr th {\n        vertical-align: top;\n    }\n\n    .dataframe thead th {\n        text-align: right;\n    }\n</style>\n<table border=\"1\" class=\"dataframe\">\n  <thead>\n    <tr style=\"text-align: right;\">\n      <th></th>\n      <th>userId</th>\n      <th>movieId</th>\n      <th>rating</th>\n      <th>timestamp</th>\n    </tr>\n  </thead>\n  <tbody>\n    <tr>\n      <th>0</th>\n      <td>1</td>\n      <td>31</td>\n      <td>2.5</td>\n      <td>1260759144</td>\n    </tr>\n    <tr>\n      <th>1</th>\n      <td>1</td>\n      <td>1029</td>\n      <td>3.0</td>\n      <td>1260759179</td>\n    </tr>\n    <tr>\n      <th>2</th>\n      <td>1</td>\n      <td>1061</td>\n      <td>3.0</td>\n      <td>1260759182</td>\n    </tr>\n    <tr>\n      <th>3</th>\n      <td>1</td>\n      <td>1129</td>\n      <td>2.0</td>\n      <td>1260759185</td>\n    </tr>\n    <tr>\n      <th>4</th>\n      <td>1</td>\n      <td>1172</td>\n      <td>4.0</td>\n      <td>1260759205</td>\n    </tr>\n  </tbody>\n</table>\n</div>"
     },
     "metadata": {},
     "output_type": "display_data"
    },
    {
     "data": {
      "text/plain": "              userId        movieId         rating     timestamp\ncount  100004.000000  100004.000000  100004.000000  1.000040e+05\nmean      347.011310   12548.664363       3.543608  1.129639e+09\nstd       195.163838   26369.198969       1.058064  1.916858e+08\nmin         1.000000       1.000000       0.500000  7.896520e+08\n25%       182.000000    1028.000000       3.000000  9.658478e+08\n50%       367.000000    2406.500000       4.000000  1.110422e+09\n75%       520.000000    5418.000000       4.000000  1.296192e+09\nmax       671.000000  163949.000000       5.000000  1.476641e+09",
      "text/html": "<div>\n<style scoped>\n    .dataframe tbody tr th:only-of-type {\n        vertical-align: middle;\n    }\n\n    .dataframe tbody tr th {\n        vertical-align: top;\n    }\n\n    .dataframe thead th {\n        text-align: right;\n    }\n</style>\n<table border=\"1\" class=\"dataframe\">\n  <thead>\n    <tr style=\"text-align: right;\">\n      <th></th>\n      <th>userId</th>\n      <th>movieId</th>\n      <th>rating</th>\n      <th>timestamp</th>\n    </tr>\n  </thead>\n  <tbody>\n    <tr>\n      <th>count</th>\n      <td>100004.000000</td>\n      <td>100004.000000</td>\n      <td>100004.000000</td>\n      <td>1.000040e+05</td>\n    </tr>\n    <tr>\n      <th>mean</th>\n      <td>347.011310</td>\n      <td>12548.664363</td>\n      <td>3.543608</td>\n      <td>1.129639e+09</td>\n    </tr>\n    <tr>\n      <th>std</th>\n      <td>195.163838</td>\n      <td>26369.198969</td>\n      <td>1.058064</td>\n      <td>1.916858e+08</td>\n    </tr>\n    <tr>\n      <th>min</th>\n      <td>1.000000</td>\n      <td>1.000000</td>\n      <td>0.500000</td>\n      <td>7.896520e+08</td>\n    </tr>\n    <tr>\n      <th>25%</th>\n      <td>182.000000</td>\n      <td>1028.000000</td>\n      <td>3.000000</td>\n      <td>9.658478e+08</td>\n    </tr>\n    <tr>\n      <th>50%</th>\n      <td>367.000000</td>\n      <td>2406.500000</td>\n      <td>4.000000</td>\n      <td>1.110422e+09</td>\n    </tr>\n    <tr>\n      <th>75%</th>\n      <td>520.000000</td>\n      <td>5418.000000</td>\n      <td>4.000000</td>\n      <td>1.296192e+09</td>\n    </tr>\n    <tr>\n      <th>max</th>\n      <td>671.000000</td>\n      <td>163949.000000</td>\n      <td>5.000000</td>\n      <td>1.476641e+09</td>\n    </tr>\n  </tbody>\n</table>\n</div>"
     },
     "metadata": {},
     "output_type": "display_data"
    }
   ],
   "source": [
    "display(df.head())\n",
    "display(df.describe())"
   ],
   "metadata": {
    "collapsed": false,
    "pycharm": {
     "name": "#%%\n"
    }
   }
  },
  {
   "cell_type": "code",
   "execution_count": 95,
   "outputs": [
    {
     "data": {
      "text/plain": "  userId movieId  rating   timestamp\n0     u1     m31     2.5  1260759144\n1     u1   m1029     3.0  1260759179\n2     u1   m1061     3.0  1260759182\n3     u1   m1129     2.0  1260759185\n4     u1   m1172     4.0  1260759205",
      "text/html": "<div>\n<style scoped>\n    .dataframe tbody tr th:only-of-type {\n        vertical-align: middle;\n    }\n\n    .dataframe tbody tr th {\n        vertical-align: top;\n    }\n\n    .dataframe thead th {\n        text-align: right;\n    }\n</style>\n<table border=\"1\" class=\"dataframe\">\n  <thead>\n    <tr style=\"text-align: right;\">\n      <th></th>\n      <th>userId</th>\n      <th>movieId</th>\n      <th>rating</th>\n      <th>timestamp</th>\n    </tr>\n  </thead>\n  <tbody>\n    <tr>\n      <th>0</th>\n      <td>u1</td>\n      <td>m31</td>\n      <td>2.5</td>\n      <td>1260759144</td>\n    </tr>\n    <tr>\n      <th>1</th>\n      <td>u1</td>\n      <td>m1029</td>\n      <td>3.0</td>\n      <td>1260759179</td>\n    </tr>\n    <tr>\n      <th>2</th>\n      <td>u1</td>\n      <td>m1061</td>\n      <td>3.0</td>\n      <td>1260759182</td>\n    </tr>\n    <tr>\n      <th>3</th>\n      <td>u1</td>\n      <td>m1129</td>\n      <td>2.0</td>\n      <td>1260759185</td>\n    </tr>\n    <tr>\n      <th>4</th>\n      <td>u1</td>\n      <td>m1172</td>\n      <td>4.0</td>\n      <td>1260759205</td>\n    </tr>\n  </tbody>\n</table>\n</div>"
     },
     "metadata": {},
     "output_type": "display_data"
    }
   ],
   "source": [
    "# mark users and movies\n",
    "df['userId'] = 'u' + df['userId'].astype(str)\n",
    "df['movieId'] = 'm' + df['movieId'].astype(str)\n",
    "\n",
    "display(df.head())"
   ],
   "metadata": {
    "collapsed": false,
    "pycharm": {
     "name": "#%%\n"
    }
   }
  },
  {
   "cell_type": "code",
   "execution_count": 96,
   "outputs": [],
   "source": [
    "# filter to likes (rating ≥ 4)\n",
    "df = df[df.rating >= 4]"
   ],
   "metadata": {
    "collapsed": false,
    "pycharm": {
     "name": "#%%\n"
    }
   }
  },
  {
   "cell_type": "code",
   "execution_count": 97,
   "outputs": [
    {
     "data": {
      "text/plain": "   userId movieId  rating   timestamp\n4      u1   m1172     4.0  1260759205\n12     u1   m1953     4.0  1260759191\n13     u1   m2105     4.0  1260759139\n20     u2     m10     4.0   835355493\n21     u2     m17     5.0   835355681",
      "text/html": "<div>\n<style scoped>\n    .dataframe tbody tr th:only-of-type {\n        vertical-align: middle;\n    }\n\n    .dataframe tbody tr th {\n        vertical-align: top;\n    }\n\n    .dataframe thead th {\n        text-align: right;\n    }\n</style>\n<table border=\"1\" class=\"dataframe\">\n  <thead>\n    <tr style=\"text-align: right;\">\n      <th></th>\n      <th>userId</th>\n      <th>movieId</th>\n      <th>rating</th>\n      <th>timestamp</th>\n    </tr>\n  </thead>\n  <tbody>\n    <tr>\n      <th>4</th>\n      <td>u1</td>\n      <td>m1172</td>\n      <td>4.0</td>\n      <td>1260759205</td>\n    </tr>\n    <tr>\n      <th>12</th>\n      <td>u1</td>\n      <td>m1953</td>\n      <td>4.0</td>\n      <td>1260759191</td>\n    </tr>\n    <tr>\n      <th>13</th>\n      <td>u1</td>\n      <td>m2105</td>\n      <td>4.0</td>\n      <td>1260759139</td>\n    </tr>\n    <tr>\n      <th>20</th>\n      <td>u2</td>\n      <td>m10</td>\n      <td>4.0</td>\n      <td>835355493</td>\n    </tr>\n    <tr>\n      <th>21</th>\n      <td>u2</td>\n      <td>m17</td>\n      <td>5.0</td>\n      <td>835355681</td>\n    </tr>\n  </tbody>\n</table>\n</div>"
     },
     "metadata": {},
     "output_type": "display_data"
    },
    {
     "data": {
      "text/plain": "u564    1115\nu547    1031\nu30      702\nu73      617\nu472     544\n        ... \nu429       2\nu170       2\nu79        1\nu579       1\nu221       1\nName: userId, Length: 671, dtype: int64"
     },
     "metadata": {},
     "output_type": "display_data"
    }
   ],
   "source": [
    "display(df.head())\n",
    "display(df.userId.value_counts())"
   ],
   "metadata": {
    "collapsed": false,
    "pycharm": {
     "name": "#%%\n"
    }
   }
  },
  {
   "cell_type": "code",
   "execution_count": 98,
   "outputs": [
    {
     "data": {
      "text/plain": "       userId movieId  rating   timestamp  user_max_rating\n4          u1   m1172     4.0  1260759205              4.0\n12         u1   m1953     4.0  1260759191              4.0\n13         u1   m2105     4.0  1260759139              4.0\n20         u2     m10     4.0   835355493              5.0\n21         u2     m17     5.0   835355681              5.0\n...       ...     ...     ...         ...              ...\n99995    u671   m5989     4.0  1064890625              5.0\n99996    u671   m5991     4.5  1064245387              5.0\n99997    u671   m5995     4.0  1066793014              5.0\n100000   u671   m6269     4.0  1065149201              5.0\n100001   u671   m6365     4.0  1070940363              5.0\n\n[51568 rows x 5 columns]",
      "text/html": "<div>\n<style scoped>\n    .dataframe tbody tr th:only-of-type {\n        vertical-align: middle;\n    }\n\n    .dataframe tbody tr th {\n        vertical-align: top;\n    }\n\n    .dataframe thead th {\n        text-align: right;\n    }\n</style>\n<table border=\"1\" class=\"dataframe\">\n  <thead>\n    <tr style=\"text-align: right;\">\n      <th></th>\n      <th>userId</th>\n      <th>movieId</th>\n      <th>rating</th>\n      <th>timestamp</th>\n      <th>user_max_rating</th>\n    </tr>\n  </thead>\n  <tbody>\n    <tr>\n      <th>4</th>\n      <td>u1</td>\n      <td>m1172</td>\n      <td>4.0</td>\n      <td>1260759205</td>\n      <td>4.0</td>\n    </tr>\n    <tr>\n      <th>12</th>\n      <td>u1</td>\n      <td>m1953</td>\n      <td>4.0</td>\n      <td>1260759191</td>\n      <td>4.0</td>\n    </tr>\n    <tr>\n      <th>13</th>\n      <td>u1</td>\n      <td>m2105</td>\n      <td>4.0</td>\n      <td>1260759139</td>\n      <td>4.0</td>\n    </tr>\n    <tr>\n      <th>20</th>\n      <td>u2</td>\n      <td>m10</td>\n      <td>4.0</td>\n      <td>835355493</td>\n      <td>5.0</td>\n    </tr>\n    <tr>\n      <th>21</th>\n      <td>u2</td>\n      <td>m17</td>\n      <td>5.0</td>\n      <td>835355681</td>\n      <td>5.0</td>\n    </tr>\n    <tr>\n      <th>...</th>\n      <td>...</td>\n      <td>...</td>\n      <td>...</td>\n      <td>...</td>\n      <td>...</td>\n    </tr>\n    <tr>\n      <th>99995</th>\n      <td>u671</td>\n      <td>m5989</td>\n      <td>4.0</td>\n      <td>1064890625</td>\n      <td>5.0</td>\n    </tr>\n    <tr>\n      <th>99996</th>\n      <td>u671</td>\n      <td>m5991</td>\n      <td>4.5</td>\n      <td>1064245387</td>\n      <td>5.0</td>\n    </tr>\n    <tr>\n      <th>99997</th>\n      <td>u671</td>\n      <td>m5995</td>\n      <td>4.0</td>\n      <td>1066793014</td>\n      <td>5.0</td>\n    </tr>\n    <tr>\n      <th>100000</th>\n      <td>u671</td>\n      <td>m6269</td>\n      <td>4.0</td>\n      <td>1065149201</td>\n      <td>5.0</td>\n    </tr>\n    <tr>\n      <th>100001</th>\n      <td>u671</td>\n      <td>m6365</td>\n      <td>4.0</td>\n      <td>1070940363</td>\n      <td>5.0</td>\n    </tr>\n  </tbody>\n</table>\n<p>51568 rows × 5 columns</p>\n</div>"
     },
     "execution_count": 98,
     "metadata": {},
     "output_type": "execute_result"
    }
   ],
   "source": [
    "# get max_rating for user\n",
    "df = df.join(df.groupby('userId')['rating'].max().rename('user_max_rating'), on='userId')\n",
    "df"
   ],
   "metadata": {
    "collapsed": false,
    "pycharm": {
     "name": "#%%\n"
    }
   }
  },
  {
   "cell_type": "code",
   "execution_count": 99,
   "outputs": [
    {
     "data": {
      "text/plain": "       userId movieId  rating   timestamp  is_test\n4          u1   m1172     4.0  1260759205     True\n12         u1   m1953     4.0  1260759191    False\n13         u1   m2105     4.0  1260759139    False\n20         u2     m10     4.0   835355493    False\n21         u2     m17     5.0   835355681    False\n...       ...     ...     ...         ...      ...\n99995    u671   m5989     4.0  1064890625    False\n99996    u671   m5991     4.5  1064245387    False\n99997    u671   m5995     4.0  1066793014    False\n100000   u671   m6269     4.0  1065149201    False\n100001   u671   m6365     4.0  1070940363    False\n\n[51568 rows x 5 columns]",
      "text/html": "<div>\n<style scoped>\n    .dataframe tbody tr th:only-of-type {\n        vertical-align: middle;\n    }\n\n    .dataframe tbody tr th {\n        vertical-align: top;\n    }\n\n    .dataframe thead th {\n        text-align: right;\n    }\n</style>\n<table border=\"1\" class=\"dataframe\">\n  <thead>\n    <tr style=\"text-align: right;\">\n      <th></th>\n      <th>userId</th>\n      <th>movieId</th>\n      <th>rating</th>\n      <th>timestamp</th>\n      <th>is_test</th>\n    </tr>\n  </thead>\n  <tbody>\n    <tr>\n      <th>4</th>\n      <td>u1</td>\n      <td>m1172</td>\n      <td>4.0</td>\n      <td>1260759205</td>\n      <td>True</td>\n    </tr>\n    <tr>\n      <th>12</th>\n      <td>u1</td>\n      <td>m1953</td>\n      <td>4.0</td>\n      <td>1260759191</td>\n      <td>False</td>\n    </tr>\n    <tr>\n      <th>13</th>\n      <td>u1</td>\n      <td>m2105</td>\n      <td>4.0</td>\n      <td>1260759139</td>\n      <td>False</td>\n    </tr>\n    <tr>\n      <th>20</th>\n      <td>u2</td>\n      <td>m10</td>\n      <td>4.0</td>\n      <td>835355493</td>\n      <td>False</td>\n    </tr>\n    <tr>\n      <th>21</th>\n      <td>u2</td>\n      <td>m17</td>\n      <td>5.0</td>\n      <td>835355681</td>\n      <td>False</td>\n    </tr>\n    <tr>\n      <th>...</th>\n      <td>...</td>\n      <td>...</td>\n      <td>...</td>\n      <td>...</td>\n      <td>...</td>\n    </tr>\n    <tr>\n      <th>99995</th>\n      <td>u671</td>\n      <td>m5989</td>\n      <td>4.0</td>\n      <td>1064890625</td>\n      <td>False</td>\n    </tr>\n    <tr>\n      <th>99996</th>\n      <td>u671</td>\n      <td>m5991</td>\n      <td>4.5</td>\n      <td>1064245387</td>\n      <td>False</td>\n    </tr>\n    <tr>\n      <th>99997</th>\n      <td>u671</td>\n      <td>m5995</td>\n      <td>4.0</td>\n      <td>1066793014</td>\n      <td>False</td>\n    </tr>\n    <tr>\n      <th>100000</th>\n      <td>u671</td>\n      <td>m6269</td>\n      <td>4.0</td>\n      <td>1065149201</td>\n      <td>False</td>\n    </tr>\n    <tr>\n      <th>100001</th>\n      <td>u671</td>\n      <td>m6365</td>\n      <td>4.0</td>\n      <td>1070940363</td>\n      <td>False</td>\n    </tr>\n  </tbody>\n</table>\n<p>51568 rows × 5 columns</p>\n</div>"
     },
     "execution_count": 99,
     "metadata": {},
     "output_type": "execute_result"
    }
   ],
   "source": [
    "# for each user get min movieId with highest rating => testMovies\n",
    "testMovies = df[df['rating'] == df['user_max_rating']].groupby('userId')['movieId'].min().rename('test_movie')\n",
    "# mark test movies\n",
    "df = df.join(testMovies, on='userId')\n",
    "df['is_test'] = df['movieId'] == df['test_movie']\n",
    "# drop tmp columns\n",
    "df.drop(['user_max_rating', 'test_movie'], axis=1, inplace=True)\n",
    "\n",
    "df"
   ],
   "metadata": {
    "collapsed": false,
    "pycharm": {
     "name": "#%%\n"
    }
   }
  },
  {
   "cell_type": "code",
   "execution_count": 100,
   "outputs": [
    {
     "data": {
      "text/plain": "   userId movieId  rating   timestamp  is_test\n12     u1   m1953     4.0  1260759191    False\n13     u1   m2105     4.0  1260759139    False\n20     u2     m10     4.0   835355493    False\n21     u2     m17     5.0   835355681    False\n22     u2     m39     5.0   835355604    False",
      "text/html": "<div>\n<style scoped>\n    .dataframe tbody tr th:only-of-type {\n        vertical-align: middle;\n    }\n\n    .dataframe tbody tr th {\n        vertical-align: top;\n    }\n\n    .dataframe thead th {\n        text-align: right;\n    }\n</style>\n<table border=\"1\" class=\"dataframe\">\n  <thead>\n    <tr style=\"text-align: right;\">\n      <th></th>\n      <th>userId</th>\n      <th>movieId</th>\n      <th>rating</th>\n      <th>timestamp</th>\n      <th>is_test</th>\n    </tr>\n  </thead>\n  <tbody>\n    <tr>\n      <th>12</th>\n      <td>u1</td>\n      <td>m1953</td>\n      <td>4.0</td>\n      <td>1260759191</td>\n      <td>False</td>\n    </tr>\n    <tr>\n      <th>13</th>\n      <td>u1</td>\n      <td>m2105</td>\n      <td>4.0</td>\n      <td>1260759139</td>\n      <td>False</td>\n    </tr>\n    <tr>\n      <th>20</th>\n      <td>u2</td>\n      <td>m10</td>\n      <td>4.0</td>\n      <td>835355493</td>\n      <td>False</td>\n    </tr>\n    <tr>\n      <th>21</th>\n      <td>u2</td>\n      <td>m17</td>\n      <td>5.0</td>\n      <td>835355681</td>\n      <td>False</td>\n    </tr>\n    <tr>\n      <th>22</th>\n      <td>u2</td>\n      <td>m39</td>\n      <td>5.0</td>\n      <td>835355604</td>\n      <td>False</td>\n    </tr>\n  </tbody>\n</table>\n</div>"
     },
     "metadata": {},
     "output_type": "display_data"
    },
    {
     "data": {
      "text/plain": "             rating     timestamp\ncount  50897.000000  5.089700e+04\nmean       4.359589  1.117952e+09\nstd        0.438699  1.917319e+08\nmin        4.000000  7.896520e+08\n25%        4.000000  9.582482e+08\n50%        4.000000  1.094221e+09\n75%        5.000000  1.274150e+09\nmax        5.000000  1.476641e+09",
      "text/html": "<div>\n<style scoped>\n    .dataframe tbody tr th:only-of-type {\n        vertical-align: middle;\n    }\n\n    .dataframe tbody tr th {\n        vertical-align: top;\n    }\n\n    .dataframe thead th {\n        text-align: right;\n    }\n</style>\n<table border=\"1\" class=\"dataframe\">\n  <thead>\n    <tr style=\"text-align: right;\">\n      <th></th>\n      <th>rating</th>\n      <th>timestamp</th>\n    </tr>\n  </thead>\n  <tbody>\n    <tr>\n      <th>count</th>\n      <td>50897.000000</td>\n      <td>5.089700e+04</td>\n    </tr>\n    <tr>\n      <th>mean</th>\n      <td>4.359589</td>\n      <td>1.117952e+09</td>\n    </tr>\n    <tr>\n      <th>std</th>\n      <td>0.438699</td>\n      <td>1.917319e+08</td>\n    </tr>\n    <tr>\n      <th>min</th>\n      <td>4.000000</td>\n      <td>7.896520e+08</td>\n    </tr>\n    <tr>\n      <th>25%</th>\n      <td>4.000000</td>\n      <td>9.582482e+08</td>\n    </tr>\n    <tr>\n      <th>50%</th>\n      <td>4.000000</td>\n      <td>1.094221e+09</td>\n    </tr>\n    <tr>\n      <th>75%</th>\n      <td>5.000000</td>\n      <td>1.274150e+09</td>\n    </tr>\n    <tr>\n      <th>max</th>\n      <td>5.000000</td>\n      <td>1.476641e+09</td>\n    </tr>\n  </tbody>\n</table>\n</div>"
     },
     "metadata": {},
     "output_type": "display_data"
    }
   ],
   "source": [
    "train = df[df['is_test'] == False]\n",
    "display(train.head())\n",
    "display(train.describe())"
   ],
   "metadata": {
    "collapsed": false,
    "pycharm": {
     "name": "#%%\n"
    }
   }
  },
  {
   "cell_type": "code",
   "execution_count": 101,
   "outputs": [
    {
     "data": {
      "text/plain": "    userId movieId  rating   timestamp  is_test\n4       u1   m1172     4.0  1260759205     True\n29      u2    m150     5.0   835355395     True\n113     u3   m1197     5.0  1298932770     True\n187     u4   m1022     5.0   949949638     True\n374     u5   m1035     5.0  1163373103     True",
      "text/html": "<div>\n<style scoped>\n    .dataframe tbody tr th:only-of-type {\n        vertical-align: middle;\n    }\n\n    .dataframe tbody tr th {\n        vertical-align: top;\n    }\n\n    .dataframe thead th {\n        text-align: right;\n    }\n</style>\n<table border=\"1\" class=\"dataframe\">\n  <thead>\n    <tr style=\"text-align: right;\">\n      <th></th>\n      <th>userId</th>\n      <th>movieId</th>\n      <th>rating</th>\n      <th>timestamp</th>\n      <th>is_test</th>\n    </tr>\n  </thead>\n  <tbody>\n    <tr>\n      <th>4</th>\n      <td>u1</td>\n      <td>m1172</td>\n      <td>4.0</td>\n      <td>1260759205</td>\n      <td>True</td>\n    </tr>\n    <tr>\n      <th>29</th>\n      <td>u2</td>\n      <td>m150</td>\n      <td>5.0</td>\n      <td>835355395</td>\n      <td>True</td>\n    </tr>\n    <tr>\n      <th>113</th>\n      <td>u3</td>\n      <td>m1197</td>\n      <td>5.0</td>\n      <td>1298932770</td>\n      <td>True</td>\n    </tr>\n    <tr>\n      <th>187</th>\n      <td>u4</td>\n      <td>m1022</td>\n      <td>5.0</td>\n      <td>949949638</td>\n      <td>True</td>\n    </tr>\n    <tr>\n      <th>374</th>\n      <td>u5</td>\n      <td>m1035</td>\n      <td>5.0</td>\n      <td>1163373103</td>\n      <td>True</td>\n    </tr>\n  </tbody>\n</table>\n</div>"
     },
     "metadata": {},
     "output_type": "display_data"
    },
    {
     "data": {
      "text/plain": "           rating     timestamp\ncount  671.000000  6.710000e+02\nmean     4.975410  1.102036e+09\nstd      0.127222  2.116010e+08\nmin      4.000000  8.282124e+08\n25%      5.000000  9.390214e+08\n50%      5.000000  1.064891e+09\n75%      5.000000  1.284735e+09\nmax      5.000000  1.476478e+09",
      "text/html": "<div>\n<style scoped>\n    .dataframe tbody tr th:only-of-type {\n        vertical-align: middle;\n    }\n\n    .dataframe tbody tr th {\n        vertical-align: top;\n    }\n\n    .dataframe thead th {\n        text-align: right;\n    }\n</style>\n<table border=\"1\" class=\"dataframe\">\n  <thead>\n    <tr style=\"text-align: right;\">\n      <th></th>\n      <th>rating</th>\n      <th>timestamp</th>\n    </tr>\n  </thead>\n  <tbody>\n    <tr>\n      <th>count</th>\n      <td>671.000000</td>\n      <td>6.710000e+02</td>\n    </tr>\n    <tr>\n      <th>mean</th>\n      <td>4.975410</td>\n      <td>1.102036e+09</td>\n    </tr>\n    <tr>\n      <th>std</th>\n      <td>0.127222</td>\n      <td>2.116010e+08</td>\n    </tr>\n    <tr>\n      <th>min</th>\n      <td>4.000000</td>\n      <td>8.282124e+08</td>\n    </tr>\n    <tr>\n      <th>25%</th>\n      <td>5.000000</td>\n      <td>9.390214e+08</td>\n    </tr>\n    <tr>\n      <th>50%</th>\n      <td>5.000000</td>\n      <td>1.064891e+09</td>\n    </tr>\n    <tr>\n      <th>75%</th>\n      <td>5.000000</td>\n      <td>1.284735e+09</td>\n    </tr>\n    <tr>\n      <th>max</th>\n      <td>5.000000</td>\n      <td>1.476478e+09</td>\n    </tr>\n  </tbody>\n</table>\n</div>"
     },
     "metadata": {},
     "output_type": "display_data"
    }
   ],
   "source": [
    "test = df[df['is_test']]\n",
    "display(test.head())\n",
    "display(test.describe())"
   ],
   "metadata": {
    "collapsed": false,
    "pycharm": {
     "name": "#%%\n"
    }
   }
  },
  {
   "cell_type": "code",
   "execution_count": 102,
   "outputs": [
    {
     "name": "stdout",
     "output_type": "stream",
     "text": [
      "done\n"
     ]
    }
   ],
   "source": [
    "# write train/test datasets\n",
    "train.to_csv(\"../data/movie_ratings/movie_ratings.csv\")\n",
    "train.to_csv(\"./movie_ratings/movie_ratings_train.csv\")\n",
    "test.to_csv(\"./movie_ratings/movie_ratings_test.csv\")\n",
    "\n",
    "print(\"done\")"
   ],
   "metadata": {
    "collapsed": false,
    "pycharm": {
     "name": "#%%\n"
    }
   }
  }
 ],
 "metadata": {
  "kernelspec": {
   "name": "pycharm-97a28330",
   "language": "python",
   "display_name": "PyCharm (ComE_BGMM)"
  },
  "language_info": {
   "codemirror_mode": {
    "name": "ipython",
    "version": 2
   },
   "file_extension": ".py",
   "mimetype": "text/x-python",
   "name": "python",
   "nbconvert_exporter": "python",
   "pygments_lexer": "ipython2",
   "version": "2.7.6"
  }
 },
 "nbformat": 4,
 "nbformat_minor": 0
}