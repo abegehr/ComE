{
 "cells": [
  {
   "cell_type": "code",
   "execution_count": 1,
   "metadata": {
    "collapsed": true,
    "pycharm": {
     "name": "#%%\n"
    }
   },
   "outputs": [],
   "source": [
    "import sys\n",
    "sys.path.append('../')\n",
    "\n",
    "from IPython.core.display import display\n",
    "import numpy as np\n",
    "import pandas as pd"
   ]
  },
  {
   "cell_type": "code",
   "execution_count": 2,
   "outputs": [],
   "source": [
    "df = pd.read_csv(\"./movie_ratings/movie_ratings.csv\")"
   ],
   "metadata": {
    "collapsed": false,
    "pycharm": {
     "name": "#%%\n"
    }
   }
  },
  {
   "cell_type": "code",
   "execution_count": 3,
   "outputs": [
    {
     "data": {
      "text/plain": "   userId  movieId  rating   timestamp\n0       1       31     2.5  1260759144\n1       1     1029     3.0  1260759179\n2       1     1061     3.0  1260759182\n3       1     1129     2.0  1260759185\n4       1     1172     4.0  1260759205",
      "text/html": "<div>\n<style scoped>\n    .dataframe tbody tr th:only-of-type {\n        vertical-align: middle;\n    }\n\n    .dataframe tbody tr th {\n        vertical-align: top;\n    }\n\n    .dataframe thead th {\n        text-align: right;\n    }\n</style>\n<table border=\"1\" class=\"dataframe\">\n  <thead>\n    <tr style=\"text-align: right;\">\n      <th></th>\n      <th>userId</th>\n      <th>movieId</th>\n      <th>rating</th>\n      <th>timestamp</th>\n    </tr>\n  </thead>\n  <tbody>\n    <tr>\n      <th>0</th>\n      <td>1</td>\n      <td>31</td>\n      <td>2.5</td>\n      <td>1260759144</td>\n    </tr>\n    <tr>\n      <th>1</th>\n      <td>1</td>\n      <td>1029</td>\n      <td>3.0</td>\n      <td>1260759179</td>\n    </tr>\n    <tr>\n      <th>2</th>\n      <td>1</td>\n      <td>1061</td>\n      <td>3.0</td>\n      <td>1260759182</td>\n    </tr>\n    <tr>\n      <th>3</th>\n      <td>1</td>\n      <td>1129</td>\n      <td>2.0</td>\n      <td>1260759185</td>\n    </tr>\n    <tr>\n      <th>4</th>\n      <td>1</td>\n      <td>1172</td>\n      <td>4.0</td>\n      <td>1260759205</td>\n    </tr>\n  </tbody>\n</table>\n</div>"
     },
     "metadata": {},
     "output_type": "display_data"
    },
    {
     "data": {
      "text/plain": "              userId        movieId         rating     timestamp\ncount  100004.000000  100004.000000  100004.000000  1.000040e+05\nmean      347.011310   12548.664363       3.543608  1.129639e+09\nstd       195.163838   26369.198969       1.058064  1.916858e+08\nmin         1.000000       1.000000       0.500000  7.896520e+08\n25%       182.000000    1028.000000       3.000000  9.658478e+08\n50%       367.000000    2406.500000       4.000000  1.110422e+09\n75%       520.000000    5418.000000       4.000000  1.296192e+09\nmax       671.000000  163949.000000       5.000000  1.476641e+09",
      "text/html": "<div>\n<style scoped>\n    .dataframe tbody tr th:only-of-type {\n        vertical-align: middle;\n    }\n\n    .dataframe tbody tr th {\n        vertical-align: top;\n    }\n\n    .dataframe thead th {\n        text-align: right;\n    }\n</style>\n<table border=\"1\" class=\"dataframe\">\n  <thead>\n    <tr style=\"text-align: right;\">\n      <th></th>\n      <th>userId</th>\n      <th>movieId</th>\n      <th>rating</th>\n      <th>timestamp</th>\n    </tr>\n  </thead>\n  <tbody>\n    <tr>\n      <th>count</th>\n      <td>100004.000000</td>\n      <td>100004.000000</td>\n      <td>100004.000000</td>\n      <td>1.000040e+05</td>\n    </tr>\n    <tr>\n      <th>mean</th>\n      <td>347.011310</td>\n      <td>12548.664363</td>\n      <td>3.543608</td>\n      <td>1.129639e+09</td>\n    </tr>\n    <tr>\n      <th>std</th>\n      <td>195.163838</td>\n      <td>26369.198969</td>\n      <td>1.058064</td>\n      <td>1.916858e+08</td>\n    </tr>\n    <tr>\n      <th>min</th>\n      <td>1.000000</td>\n      <td>1.000000</td>\n      <td>0.500000</td>\n      <td>7.896520e+08</td>\n    </tr>\n    <tr>\n      <th>25%</th>\n      <td>182.000000</td>\n      <td>1028.000000</td>\n      <td>3.000000</td>\n      <td>9.658478e+08</td>\n    </tr>\n    <tr>\n      <th>50%</th>\n      <td>367.000000</td>\n      <td>2406.500000</td>\n      <td>4.000000</td>\n      <td>1.110422e+09</td>\n    </tr>\n    <tr>\n      <th>75%</th>\n      <td>520.000000</td>\n      <td>5418.000000</td>\n      <td>4.000000</td>\n      <td>1.296192e+09</td>\n    </tr>\n    <tr>\n      <th>max</th>\n      <td>671.000000</td>\n      <td>163949.000000</td>\n      <td>5.000000</td>\n      <td>1.476641e+09</td>\n    </tr>\n  </tbody>\n</table>\n</div>"
     },
     "metadata": {},
     "output_type": "display_data"
    }
   ],
   "source": [
    "display(df.head())\n",
    "display(df.describe())"
   ],
   "metadata": {
    "collapsed": false,
    "pycharm": {
     "name": "#%%\n"
    }
   }
  },
  {
   "cell_type": "code",
   "execution_count": 4,
   "outputs": [
    {
     "data": {
      "text/plain": "   userId  movieId  rating   timestamp\n0       1     1031     2.5  1260759144\n1       1     2029     3.0  1260759179\n2       1     2061     3.0  1260759182\n3       1     2129     2.0  1260759185\n4       1     2172     4.0  1260759205",
      "text/html": "<div>\n<style scoped>\n    .dataframe tbody tr th:only-of-type {\n        vertical-align: middle;\n    }\n\n    .dataframe tbody tr th {\n        vertical-align: top;\n    }\n\n    .dataframe thead th {\n        text-align: right;\n    }\n</style>\n<table border=\"1\" class=\"dataframe\">\n  <thead>\n    <tr style=\"text-align: right;\">\n      <th></th>\n      <th>userId</th>\n      <th>movieId</th>\n      <th>rating</th>\n      <th>timestamp</th>\n    </tr>\n  </thead>\n  <tbody>\n    <tr>\n      <th>0</th>\n      <td>1</td>\n      <td>1031</td>\n      <td>2.5</td>\n      <td>1260759144</td>\n    </tr>\n    <tr>\n      <th>1</th>\n      <td>1</td>\n      <td>2029</td>\n      <td>3.0</td>\n      <td>1260759179</td>\n    </tr>\n    <tr>\n      <th>2</th>\n      <td>1</td>\n      <td>2061</td>\n      <td>3.0</td>\n      <td>1260759182</td>\n    </tr>\n    <tr>\n      <th>3</th>\n      <td>1</td>\n      <td>2129</td>\n      <td>2.0</td>\n      <td>1260759185</td>\n    </tr>\n    <tr>\n      <th>4</th>\n      <td>1</td>\n      <td>2172</td>\n      <td>4.0</td>\n      <td>1260759205</td>\n    </tr>\n  </tbody>\n</table>\n</div>"
     },
     "metadata": {},
     "output_type": "display_data"
    },
    {
     "data": {
      "text/plain": "              userId        movieId         rating     timestamp\ncount  100004.000000  100004.000000  100004.000000  1.000040e+05\nmean      347.011310   13548.664363       3.543608  1.129639e+09\nstd       195.163838   26369.198969       1.058064  1.916858e+08\nmin         1.000000    1001.000000       0.500000  7.896520e+08\n25%       182.000000    2028.000000       3.000000  9.658478e+08\n50%       367.000000    3406.500000       4.000000  1.110422e+09\n75%       520.000000    6418.000000       4.000000  1.296192e+09\nmax       671.000000  164949.000000       5.000000  1.476641e+09",
      "text/html": "<div>\n<style scoped>\n    .dataframe tbody tr th:only-of-type {\n        vertical-align: middle;\n    }\n\n    .dataframe tbody tr th {\n        vertical-align: top;\n    }\n\n    .dataframe thead th {\n        text-align: right;\n    }\n</style>\n<table border=\"1\" class=\"dataframe\">\n  <thead>\n    <tr style=\"text-align: right;\">\n      <th></th>\n      <th>userId</th>\n      <th>movieId</th>\n      <th>rating</th>\n      <th>timestamp</th>\n    </tr>\n  </thead>\n  <tbody>\n    <tr>\n      <th>count</th>\n      <td>100004.000000</td>\n      <td>100004.000000</td>\n      <td>100004.000000</td>\n      <td>1.000040e+05</td>\n    </tr>\n    <tr>\n      <th>mean</th>\n      <td>347.011310</td>\n      <td>13548.664363</td>\n      <td>3.543608</td>\n      <td>1.129639e+09</td>\n    </tr>\n    <tr>\n      <th>std</th>\n      <td>195.163838</td>\n      <td>26369.198969</td>\n      <td>1.058064</td>\n      <td>1.916858e+08</td>\n    </tr>\n    <tr>\n      <th>min</th>\n      <td>1.000000</td>\n      <td>1001.000000</td>\n      <td>0.500000</td>\n      <td>7.896520e+08</td>\n    </tr>\n    <tr>\n      <th>25%</th>\n      <td>182.000000</td>\n      <td>2028.000000</td>\n      <td>3.000000</td>\n      <td>9.658478e+08</td>\n    </tr>\n    <tr>\n      <th>50%</th>\n      <td>367.000000</td>\n      <td>3406.500000</td>\n      <td>4.000000</td>\n      <td>1.110422e+09</td>\n    </tr>\n    <tr>\n      <th>75%</th>\n      <td>520.000000</td>\n      <td>6418.000000</td>\n      <td>4.000000</td>\n      <td>1.296192e+09</td>\n    </tr>\n    <tr>\n      <th>max</th>\n      <td>671.000000</td>\n      <td>164949.000000</td>\n      <td>5.000000</td>\n      <td>1.476641e+09</td>\n    </tr>\n  </tbody>\n</table>\n</div>"
     },
     "metadata": {},
     "output_type": "display_data"
    }
   ],
   "source": [
    "# make user/movie ids unique\n",
    "num_users = len(df['userId'].value_counts())\n",
    "df['movieId'] = df['movieId'] + num_users + 329\n",
    "\n",
    "display(df.head())\n",
    "display(df.describe())"
   ],
   "metadata": {
    "collapsed": false,
    "pycharm": {
     "name": "#%%\n"
    }
   }
  },
  {
   "cell_type": "code",
   "execution_count": 5,
   "outputs": [],
   "source": [
    "# export movie_ratings_unique with unique user/movie ids\n",
    "df.to_csv(\"./movie_ratings/movie_ratings_unique.csv\")"
   ],
   "metadata": {
    "collapsed": false,
    "pycharm": {
     "name": "#%%\n"
    }
   }
  },
  {
   "cell_type": "code",
   "execution_count": 6,
   "outputs": [],
   "source": [
    "# filter to likes (rating ≥ 5)\n",
    "df = df[df.rating >= 5]"
   ],
   "metadata": {
    "collapsed": false,
    "pycharm": {
     "name": "#%%\n"
    }
   }
  },
  {
   "cell_type": "code",
   "execution_count": 7,
   "outputs": [
    {
     "data": {
      "text/plain": "    userId  movieId  rating  timestamp\n21       2     1017     5.0  835355681\n22       2     1039     5.0  835355604\n29       2     1150     5.0  835355395\n37       2     1222     5.0  835355840\n44       2     1265     5.0  835355697",
      "text/html": "<div>\n<style scoped>\n    .dataframe tbody tr th:only-of-type {\n        vertical-align: middle;\n    }\n\n    .dataframe tbody tr th {\n        vertical-align: top;\n    }\n\n    .dataframe thead th {\n        text-align: right;\n    }\n</style>\n<table border=\"1\" class=\"dataframe\">\n  <thead>\n    <tr style=\"text-align: right;\">\n      <th></th>\n      <th>userId</th>\n      <th>movieId</th>\n      <th>rating</th>\n      <th>timestamp</th>\n    </tr>\n  </thead>\n  <tbody>\n    <tr>\n      <th>21</th>\n      <td>2</td>\n      <td>1017</td>\n      <td>5.0</td>\n      <td>835355681</td>\n    </tr>\n    <tr>\n      <th>22</th>\n      <td>2</td>\n      <td>1039</td>\n      <td>5.0</td>\n      <td>835355604</td>\n    </tr>\n    <tr>\n      <th>29</th>\n      <td>2</td>\n      <td>1150</td>\n      <td>5.0</td>\n      <td>835355395</td>\n    </tr>\n    <tr>\n      <th>37</th>\n      <td>2</td>\n      <td>1222</td>\n      <td>5.0</td>\n      <td>835355840</td>\n    </tr>\n    <tr>\n      <th>44</th>\n      <td>2</td>\n      <td>1265</td>\n      <td>5.0</td>\n      <td>835355697</td>\n    </tr>\n  </tbody>\n</table>\n</div>"
     },
     "metadata": {},
     "output_type": "display_data"
    },
    {
     "data": {
      "text/plain": "564    408\n232    243\n242    219\n547    214\n30     196\n      ... \n347      1\n455      1\n335      1\n135      1\n122      1\nName: userId, Length: 644, dtype: int64"
     },
     "metadata": {},
     "output_type": "display_data"
    }
   ],
   "source": [
    "display(df.head())\n",
    "display(df.userId.value_counts())"
   ],
   "metadata": {
    "collapsed": false,
    "pycharm": {
     "name": "#%%\n"
    }
   }
  },
  {
   "cell_type": "code",
   "execution_count": 8,
   "outputs": [
    {
     "data": {
      "text/plain": "       userId  movieId  rating   timestamp  user_max_rating\n21          2     1017     5.0   835355681              5.0\n22          2     1039     5.0   835355604              5.0\n29          2     1150     5.0   835355395              5.0\n37          2     1222     5.0   835355840              5.0\n44          2     1265     5.0   835355697              5.0\n...       ...      ...     ...         ...              ...\n99975     671     5306     5.0  1064245548              5.0\n99978     671     5886     5.0  1064245488              5.0\n99979     671     5896     5.0  1065111996              5.0\n99982     671     5993     5.0  1064245483              5.0\n99994     671     6952     5.0  1063502716              5.0\n\n[15095 rows x 5 columns]",
      "text/html": "<div>\n<style scoped>\n    .dataframe tbody tr th:only-of-type {\n        vertical-align: middle;\n    }\n\n    .dataframe tbody tr th {\n        vertical-align: top;\n    }\n\n    .dataframe thead th {\n        text-align: right;\n    }\n</style>\n<table border=\"1\" class=\"dataframe\">\n  <thead>\n    <tr style=\"text-align: right;\">\n      <th></th>\n      <th>userId</th>\n      <th>movieId</th>\n      <th>rating</th>\n      <th>timestamp</th>\n      <th>user_max_rating</th>\n    </tr>\n  </thead>\n  <tbody>\n    <tr>\n      <th>21</th>\n      <td>2</td>\n      <td>1017</td>\n      <td>5.0</td>\n      <td>835355681</td>\n      <td>5.0</td>\n    </tr>\n    <tr>\n      <th>22</th>\n      <td>2</td>\n      <td>1039</td>\n      <td>5.0</td>\n      <td>835355604</td>\n      <td>5.0</td>\n    </tr>\n    <tr>\n      <th>29</th>\n      <td>2</td>\n      <td>1150</td>\n      <td>5.0</td>\n      <td>835355395</td>\n      <td>5.0</td>\n    </tr>\n    <tr>\n      <th>37</th>\n      <td>2</td>\n      <td>1222</td>\n      <td>5.0</td>\n      <td>835355840</td>\n      <td>5.0</td>\n    </tr>\n    <tr>\n      <th>44</th>\n      <td>2</td>\n      <td>1265</td>\n      <td>5.0</td>\n      <td>835355697</td>\n      <td>5.0</td>\n    </tr>\n    <tr>\n      <th>...</th>\n      <td>...</td>\n      <td>...</td>\n      <td>...</td>\n      <td>...</td>\n      <td>...</td>\n    </tr>\n    <tr>\n      <th>99975</th>\n      <td>671</td>\n      <td>5306</td>\n      <td>5.0</td>\n      <td>1064245548</td>\n      <td>5.0</td>\n    </tr>\n    <tr>\n      <th>99978</th>\n      <td>671</td>\n      <td>5886</td>\n      <td>5.0</td>\n      <td>1064245488</td>\n      <td>5.0</td>\n    </tr>\n    <tr>\n      <th>99979</th>\n      <td>671</td>\n      <td>5896</td>\n      <td>5.0</td>\n      <td>1065111996</td>\n      <td>5.0</td>\n    </tr>\n    <tr>\n      <th>99982</th>\n      <td>671</td>\n      <td>5993</td>\n      <td>5.0</td>\n      <td>1064245483</td>\n      <td>5.0</td>\n    </tr>\n    <tr>\n      <th>99994</th>\n      <td>671</td>\n      <td>6952</td>\n      <td>5.0</td>\n      <td>1063502716</td>\n      <td>5.0</td>\n    </tr>\n  </tbody>\n</table>\n<p>15095 rows × 5 columns</p>\n</div>"
     },
     "execution_count": 8,
     "metadata": {},
     "output_type": "execute_result"
    }
   ],
   "source": [
    "# get max_rating for user\n",
    "df = df.join(df.groupby('userId')['rating'].max().rename('user_max_rating'), on='userId')\n",
    "df"
   ],
   "metadata": {
    "collapsed": false,
    "pycharm": {
     "name": "#%%\n"
    }
   }
  },
  {
   "cell_type": "code",
   "execution_count": 9,
   "outputs": [
    {
     "data": {
      "text/plain": "       userId  movieId  rating   timestamp  is_test\n21          2     1017     5.0   835355681     True\n22          2     1039     5.0   835355604    False\n29          2     1150     5.0   835355395    False\n37          2     1222     5.0   835355840    False\n44          2     1265     5.0   835355697    False\n...       ...      ...     ...         ...      ...\n99975     671     5306     5.0  1064245548    False\n99978     671     5886     5.0  1064245488    False\n99979     671     5896     5.0  1065111996    False\n99982     671     5993     5.0  1064245483    False\n99994     671     6952     5.0  1063502716    False\n\n[15095 rows x 5 columns]",
      "text/html": "<div>\n<style scoped>\n    .dataframe tbody tr th:only-of-type {\n        vertical-align: middle;\n    }\n\n    .dataframe tbody tr th {\n        vertical-align: top;\n    }\n\n    .dataframe thead th {\n        text-align: right;\n    }\n</style>\n<table border=\"1\" class=\"dataframe\">\n  <thead>\n    <tr style=\"text-align: right;\">\n      <th></th>\n      <th>userId</th>\n      <th>movieId</th>\n      <th>rating</th>\n      <th>timestamp</th>\n      <th>is_test</th>\n    </tr>\n  </thead>\n  <tbody>\n    <tr>\n      <th>21</th>\n      <td>2</td>\n      <td>1017</td>\n      <td>5.0</td>\n      <td>835355681</td>\n      <td>True</td>\n    </tr>\n    <tr>\n      <th>22</th>\n      <td>2</td>\n      <td>1039</td>\n      <td>5.0</td>\n      <td>835355604</td>\n      <td>False</td>\n    </tr>\n    <tr>\n      <th>29</th>\n      <td>2</td>\n      <td>1150</td>\n      <td>5.0</td>\n      <td>835355395</td>\n      <td>False</td>\n    </tr>\n    <tr>\n      <th>37</th>\n      <td>2</td>\n      <td>1222</td>\n      <td>5.0</td>\n      <td>835355840</td>\n      <td>False</td>\n    </tr>\n    <tr>\n      <th>44</th>\n      <td>2</td>\n      <td>1265</td>\n      <td>5.0</td>\n      <td>835355697</td>\n      <td>False</td>\n    </tr>\n    <tr>\n      <th>...</th>\n      <td>...</td>\n      <td>...</td>\n      <td>...</td>\n      <td>...</td>\n      <td>...</td>\n    </tr>\n    <tr>\n      <th>99975</th>\n      <td>671</td>\n      <td>5306</td>\n      <td>5.0</td>\n      <td>1064245548</td>\n      <td>False</td>\n    </tr>\n    <tr>\n      <th>99978</th>\n      <td>671</td>\n      <td>5886</td>\n      <td>5.0</td>\n      <td>1064245488</td>\n      <td>False</td>\n    </tr>\n    <tr>\n      <th>99979</th>\n      <td>671</td>\n      <td>5896</td>\n      <td>5.0</td>\n      <td>1065111996</td>\n      <td>False</td>\n    </tr>\n    <tr>\n      <th>99982</th>\n      <td>671</td>\n      <td>5993</td>\n      <td>5.0</td>\n      <td>1064245483</td>\n      <td>False</td>\n    </tr>\n    <tr>\n      <th>99994</th>\n      <td>671</td>\n      <td>6952</td>\n      <td>5.0</td>\n      <td>1063502716</td>\n      <td>False</td>\n    </tr>\n  </tbody>\n</table>\n<p>15095 rows × 5 columns</p>\n</div>"
     },
     "execution_count": 9,
     "metadata": {},
     "output_type": "execute_result"
    }
   ],
   "source": [
    "# for each user get min movieId with highest rating => testMovies\n",
    "testMovies = df[df['rating'] == df['user_max_rating']].groupby('userId')['movieId'].min().rename('test_movie')\n",
    "# mark test movies\n",
    "df = df.join(testMovies, on='userId')\n",
    "df['is_test'] = df['movieId'] == df['test_movie']\n",
    "# drop tmp columns\n",
    "df.drop(['user_max_rating', 'test_movie'], axis=1, inplace=True)\n",
    "\n",
    "df"
   ],
   "metadata": {
    "collapsed": false,
    "pycharm": {
     "name": "#%%\n"
    }
   }
  },
  {
   "cell_type": "code",
   "execution_count": 10,
   "outputs": [
    {
     "data": {
      "text/plain": "    userId  movieId  rating  timestamp  is_test\n22       2     1039     5.0  835355604    False\n29       2     1150     5.0  835355395    False\n37       2     1222     5.0  835355840    False\n44       2     1265     5.0  835355697    False\n45       2     1266     5.0  835355586    False",
      "text/html": "<div>\n<style scoped>\n    .dataframe tbody tr th:only-of-type {\n        vertical-align: middle;\n    }\n\n    .dataframe tbody tr th {\n        vertical-align: top;\n    }\n\n    .dataframe thead th {\n        text-align: right;\n    }\n</style>\n<table border=\"1\" class=\"dataframe\">\n  <thead>\n    <tr style=\"text-align: right;\">\n      <th></th>\n      <th>userId</th>\n      <th>movieId</th>\n      <th>rating</th>\n      <th>timestamp</th>\n      <th>is_test</th>\n    </tr>\n  </thead>\n  <tbody>\n    <tr>\n      <th>22</th>\n      <td>2</td>\n      <td>1039</td>\n      <td>5.0</td>\n      <td>835355604</td>\n      <td>False</td>\n    </tr>\n    <tr>\n      <th>29</th>\n      <td>2</td>\n      <td>1150</td>\n      <td>5.0</td>\n      <td>835355395</td>\n      <td>False</td>\n    </tr>\n    <tr>\n      <th>37</th>\n      <td>2</td>\n      <td>1222</td>\n      <td>5.0</td>\n      <td>835355840</td>\n      <td>False</td>\n    </tr>\n    <tr>\n      <th>44</th>\n      <td>2</td>\n      <td>1265</td>\n      <td>5.0</td>\n      <td>835355697</td>\n      <td>False</td>\n    </tr>\n    <tr>\n      <th>45</th>\n      <td>2</td>\n      <td>1266</td>\n      <td>5.0</td>\n      <td>835355586</td>\n      <td>False</td>\n    </tr>\n  </tbody>\n</table>\n</div>"
     },
     "metadata": {},
     "output_type": "display_data"
    },
    {
     "data": {
      "text/plain": "             userId        movieId   rating     timestamp\ncount  14451.000000   14451.000000  14451.0  1.445100e+04\nmean     349.220123   10364.127465      5.0  1.081178e+09\nstd      194.496481   23341.503697      0.0  1.950448e+08\nmin        2.000000    1002.000000      5.0  7.896520e+08\n25%      187.000000    1918.500000      5.0  9.472925e+08\n50%      363.000000    2704.000000      5.0  9.862436e+08\n75%      530.000000    4702.000000      5.0  1.225364e+09\nmax      671.000000  164949.000000      5.0  1.476623e+09",
      "text/html": "<div>\n<style scoped>\n    .dataframe tbody tr th:only-of-type {\n        vertical-align: middle;\n    }\n\n    .dataframe tbody tr th {\n        vertical-align: top;\n    }\n\n    .dataframe thead th {\n        text-align: right;\n    }\n</style>\n<table border=\"1\" class=\"dataframe\">\n  <thead>\n    <tr style=\"text-align: right;\">\n      <th></th>\n      <th>userId</th>\n      <th>movieId</th>\n      <th>rating</th>\n      <th>timestamp</th>\n    </tr>\n  </thead>\n  <tbody>\n    <tr>\n      <th>count</th>\n      <td>14451.000000</td>\n      <td>14451.000000</td>\n      <td>14451.0</td>\n      <td>1.445100e+04</td>\n    </tr>\n    <tr>\n      <th>mean</th>\n      <td>349.220123</td>\n      <td>10364.127465</td>\n      <td>5.0</td>\n      <td>1.081178e+09</td>\n    </tr>\n    <tr>\n      <th>std</th>\n      <td>194.496481</td>\n      <td>23341.503697</td>\n      <td>0.0</td>\n      <td>1.950448e+08</td>\n    </tr>\n    <tr>\n      <th>min</th>\n      <td>2.000000</td>\n      <td>1002.000000</td>\n      <td>5.0</td>\n      <td>7.896520e+08</td>\n    </tr>\n    <tr>\n      <th>25%</th>\n      <td>187.000000</td>\n      <td>1918.500000</td>\n      <td>5.0</td>\n      <td>9.472925e+08</td>\n    </tr>\n    <tr>\n      <th>50%</th>\n      <td>363.000000</td>\n      <td>2704.000000</td>\n      <td>5.0</td>\n      <td>9.862436e+08</td>\n    </tr>\n    <tr>\n      <th>75%</th>\n      <td>530.000000</td>\n      <td>4702.000000</td>\n      <td>5.0</td>\n      <td>1.225364e+09</td>\n    </tr>\n    <tr>\n      <th>max</th>\n      <td>671.000000</td>\n      <td>164949.000000</td>\n      <td>5.0</td>\n      <td>1.476623e+09</td>\n    </tr>\n  </tbody>\n</table>\n</div>"
     },
     "metadata": {},
     "output_type": "display_data"
    }
   ],
   "source": [
    "train = df[df['is_test'] == False]\n",
    "display(train.head())\n",
    "display(train.describe())"
   ],
   "metadata": {
    "collapsed": false,
    "pycharm": {
     "name": "#%%\n"
    }
   }
  },
  {
   "cell_type": "code",
   "execution_count": 11,
   "outputs": [
    {
     "data": {
      "text/plain": "     userId  movieId  rating   timestamp  is_test\n21        2     1017     5.0   835355681     True\n101       3     1318     5.0  1298862121     True\n148       4     1034     5.0   949919556     True\n368       5     1597     5.0  1163373711     True\n454       6     1293     5.0  1108134539     True",
      "text/html": "<div>\n<style scoped>\n    .dataframe tbody tr th:only-of-type {\n        vertical-align: middle;\n    }\n\n    .dataframe tbody tr th {\n        vertical-align: top;\n    }\n\n    .dataframe thead th {\n        text-align: right;\n    }\n</style>\n<table border=\"1\" class=\"dataframe\">\n  <thead>\n    <tr style=\"text-align: right;\">\n      <th></th>\n      <th>userId</th>\n      <th>movieId</th>\n      <th>rating</th>\n      <th>timestamp</th>\n      <th>is_test</th>\n    </tr>\n  </thead>\n  <tbody>\n    <tr>\n      <th>21</th>\n      <td>2</td>\n      <td>1017</td>\n      <td>5.0</td>\n      <td>835355681</td>\n      <td>True</td>\n    </tr>\n    <tr>\n      <th>101</th>\n      <td>3</td>\n      <td>1318</td>\n      <td>5.0</td>\n      <td>1298862121</td>\n      <td>True</td>\n    </tr>\n    <tr>\n      <th>148</th>\n      <td>4</td>\n      <td>1034</td>\n      <td>5.0</td>\n      <td>949919556</td>\n      <td>True</td>\n    </tr>\n    <tr>\n      <th>368</th>\n      <td>5</td>\n      <td>1597</td>\n      <td>5.0</td>\n      <td>1163373711</td>\n      <td>True</td>\n    </tr>\n    <tr>\n      <th>454</th>\n      <td>6</td>\n      <td>1293</td>\n      <td>5.0</td>\n      <td>1108134539</td>\n      <td>True</td>\n    </tr>\n  </tbody>\n</table>\n</div>"
     },
     "metadata": {},
     "output_type": "display_data"
    },
    {
     "data": {
      "text/plain": "           userId        movieId  rating     timestamp\ncount  644.000000     644.000000   644.0  6.440000e+02\nmean   336.389752    2071.281056     5.0  1.095830e+09\nstd    194.559922    7144.029441     0.0  2.123092e+08\nmin      2.000000    1001.000000     5.0  8.282124e+08\n25%    166.750000    1025.000000     5.0  9.372049e+08\n50%    336.500000    1111.000000     5.0  1.046702e+09\n75%    505.250000    1400.500000     5.0  1.281543e+09\nmax    671.000000  136887.000000     5.0  1.476478e+09",
      "text/html": "<div>\n<style scoped>\n    .dataframe tbody tr th:only-of-type {\n        vertical-align: middle;\n    }\n\n    .dataframe tbody tr th {\n        vertical-align: top;\n    }\n\n    .dataframe thead th {\n        text-align: right;\n    }\n</style>\n<table border=\"1\" class=\"dataframe\">\n  <thead>\n    <tr style=\"text-align: right;\">\n      <th></th>\n      <th>userId</th>\n      <th>movieId</th>\n      <th>rating</th>\n      <th>timestamp</th>\n    </tr>\n  </thead>\n  <tbody>\n    <tr>\n      <th>count</th>\n      <td>644.000000</td>\n      <td>644.000000</td>\n      <td>644.0</td>\n      <td>6.440000e+02</td>\n    </tr>\n    <tr>\n      <th>mean</th>\n      <td>336.389752</td>\n      <td>2071.281056</td>\n      <td>5.0</td>\n      <td>1.095830e+09</td>\n    </tr>\n    <tr>\n      <th>std</th>\n      <td>194.559922</td>\n      <td>7144.029441</td>\n      <td>0.0</td>\n      <td>2.123092e+08</td>\n    </tr>\n    <tr>\n      <th>min</th>\n      <td>2.000000</td>\n      <td>1001.000000</td>\n      <td>5.0</td>\n      <td>8.282124e+08</td>\n    </tr>\n    <tr>\n      <th>25%</th>\n      <td>166.750000</td>\n      <td>1025.000000</td>\n      <td>5.0</td>\n      <td>9.372049e+08</td>\n    </tr>\n    <tr>\n      <th>50%</th>\n      <td>336.500000</td>\n      <td>1111.000000</td>\n      <td>5.0</td>\n      <td>1.046702e+09</td>\n    </tr>\n    <tr>\n      <th>75%</th>\n      <td>505.250000</td>\n      <td>1400.500000</td>\n      <td>5.0</td>\n      <td>1.281543e+09</td>\n    </tr>\n    <tr>\n      <th>max</th>\n      <td>671.000000</td>\n      <td>136887.000000</td>\n      <td>5.0</td>\n      <td>1.476478e+09</td>\n    </tr>\n  </tbody>\n</table>\n</div>"
     },
     "metadata": {},
     "output_type": "display_data"
    }
   ],
   "source": [
    "test = df[df['is_test']]\n",
    "display(test.head())\n",
    "display(test.describe())"
   ],
   "metadata": {
    "collapsed": false,
    "pycharm": {
     "name": "#%%\n"
    }
   }
  },
  {
   "cell_type": "code",
   "execution_count": 12,
   "outputs": [
    {
     "name": "stdout",
     "output_type": "stream",
     "text": [
      "done\n"
     ]
    }
   ],
   "source": [
    "# write train/test datasets\n",
    "train.to_csv(\"../data/movie_ratings/movie_ratings.csv\")\n",
    "train.to_csv(\"./movie_ratings/movie_ratings_train.csv\")\n",
    "test.to_csv(\"./movie_ratings/movie_ratings_test.csv\")\n",
    "\n",
    "print(\"done\")"
   ],
   "metadata": {
    "collapsed": false,
    "pycharm": {
     "name": "#%%\n"
    }
   }
  }
 ],
 "metadata": {
  "kernelspec": {
   "name": "pycharm-97a28330",
   "language": "python",
   "display_name": "PyCharm (ComE_BGMM)"
  },
  "language_info": {
   "codemirror_mode": {
    "name": "ipython",
    "version": 2
   },
   "file_extension": ".py",
   "mimetype": "text/x-python",
   "name": "python",
   "nbconvert_exporter": "python",
   "pygments_lexer": "ipython2",
   "version": "2.7.6"
  }
 },
 "nbformat": 4,
 "nbformat_minor": 0
}