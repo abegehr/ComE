{
 "cells": [
  {
   "cell_type": "code",
   "execution_count": 13,
   "metadata": {
    "collapsed": true,
    "pycharm": {
     "name": "#%%\n"
    }
   },
   "outputs": [],
   "source": [
    "import sys\n",
    "sys.path.append('../')\n",
    "\n",
    "import numpy as np\n",
    "import pandas as pd"
   ]
  },
  {
   "cell_type": "code",
   "execution_count": 14,
   "outputs": [],
   "source": [
    "df = pd.read_csv(\"./movie_ratings.csv\")"
   ],
   "metadata": {
    "collapsed": false,
    "pycharm": {
     "name": "#%%\n"
    }
   }
  },
  {
   "cell_type": "code",
   "execution_count": 15,
   "outputs": [
    {
     "data": {
      "text/plain": "   userId  movieId  rating   timestamp\n0       1       31     2.5  1260759144\n1       1     1029     3.0  1260759179\n2       1     1061     3.0  1260759182\n3       1     1129     2.0  1260759185\n4       1     1172     4.0  1260759205",
      "text/html": "<div>\n<style scoped>\n    .dataframe tbody tr th:only-of-type {\n        vertical-align: middle;\n    }\n\n    .dataframe tbody tr th {\n        vertical-align: top;\n    }\n\n    .dataframe thead th {\n        text-align: right;\n    }\n</style>\n<table border=\"1\" class=\"dataframe\">\n  <thead>\n    <tr style=\"text-align: right;\">\n      <th></th>\n      <th>userId</th>\n      <th>movieId</th>\n      <th>rating</th>\n      <th>timestamp</th>\n    </tr>\n  </thead>\n  <tbody>\n    <tr>\n      <th>0</th>\n      <td>1</td>\n      <td>31</td>\n      <td>2.5</td>\n      <td>1260759144</td>\n    </tr>\n    <tr>\n      <th>1</th>\n      <td>1</td>\n      <td>1029</td>\n      <td>3.0</td>\n      <td>1260759179</td>\n    </tr>\n    <tr>\n      <th>2</th>\n      <td>1</td>\n      <td>1061</td>\n      <td>3.0</td>\n      <td>1260759182</td>\n    </tr>\n    <tr>\n      <th>3</th>\n      <td>1</td>\n      <td>1129</td>\n      <td>2.0</td>\n      <td>1260759185</td>\n    </tr>\n    <tr>\n      <th>4</th>\n      <td>1</td>\n      <td>1172</td>\n      <td>4.0</td>\n      <td>1260759205</td>\n    </tr>\n  </tbody>\n</table>\n</div>"
     },
     "execution_count": 15,
     "metadata": {},
     "output_type": "execute_result"
    }
   ],
   "source": [
    "df.head()"
   ],
   "metadata": {
    "collapsed": false,
    "pycharm": {
     "name": "#%%\n"
    }
   }
  },
  {
   "cell_type": "code",
   "execution_count": 16,
   "outputs": [
    {
     "data": {
      "text/plain": "              userId        movieId         rating     timestamp\ncount  100004.000000  100004.000000  100004.000000  1.000040e+05\nmean      347.011310   12548.664363       3.543608  1.129639e+09\nstd       195.163838   26369.198969       1.058064  1.916858e+08\nmin         1.000000       1.000000       0.500000  7.896520e+08\n25%       182.000000    1028.000000       3.000000  9.658478e+08\n50%       367.000000    2406.500000       4.000000  1.110422e+09\n75%       520.000000    5418.000000       4.000000  1.296192e+09\nmax       671.000000  163949.000000       5.000000  1.476641e+09",
      "text/html": "<div>\n<style scoped>\n    .dataframe tbody tr th:only-of-type {\n        vertical-align: middle;\n    }\n\n    .dataframe tbody tr th {\n        vertical-align: top;\n    }\n\n    .dataframe thead th {\n        text-align: right;\n    }\n</style>\n<table border=\"1\" class=\"dataframe\">\n  <thead>\n    <tr style=\"text-align: right;\">\n      <th></th>\n      <th>userId</th>\n      <th>movieId</th>\n      <th>rating</th>\n      <th>timestamp</th>\n    </tr>\n  </thead>\n  <tbody>\n    <tr>\n      <th>count</th>\n      <td>100004.000000</td>\n      <td>100004.000000</td>\n      <td>100004.000000</td>\n      <td>1.000040e+05</td>\n    </tr>\n    <tr>\n      <th>mean</th>\n      <td>347.011310</td>\n      <td>12548.664363</td>\n      <td>3.543608</td>\n      <td>1.129639e+09</td>\n    </tr>\n    <tr>\n      <th>std</th>\n      <td>195.163838</td>\n      <td>26369.198969</td>\n      <td>1.058064</td>\n      <td>1.916858e+08</td>\n    </tr>\n    <tr>\n      <th>min</th>\n      <td>1.000000</td>\n      <td>1.000000</td>\n      <td>0.500000</td>\n      <td>7.896520e+08</td>\n    </tr>\n    <tr>\n      <th>25%</th>\n      <td>182.000000</td>\n      <td>1028.000000</td>\n      <td>3.000000</td>\n      <td>9.658478e+08</td>\n    </tr>\n    <tr>\n      <th>50%</th>\n      <td>367.000000</td>\n      <td>2406.500000</td>\n      <td>4.000000</td>\n      <td>1.110422e+09</td>\n    </tr>\n    <tr>\n      <th>75%</th>\n      <td>520.000000</td>\n      <td>5418.000000</td>\n      <td>4.000000</td>\n      <td>1.296192e+09</td>\n    </tr>\n    <tr>\n      <th>max</th>\n      <td>671.000000</td>\n      <td>163949.000000</td>\n      <td>5.000000</td>\n      <td>1.476641e+09</td>\n    </tr>\n  </tbody>\n</table>\n</div>"
     },
     "execution_count": 16,
     "metadata": {},
     "output_type": "execute_result"
    }
   ],
   "source": [
    "df.describe()"
   ],
   "metadata": {
    "collapsed": false,
    "pycharm": {
     "name": "#%%\n"
    }
   }
  },
  {
   "cell_type": "code",
   "execution_count": 17,
   "outputs": [],
   "source": [
    "# filter to likes (rating ≥ 4)\n",
    "df = df[df.rating >= 4]"
   ],
   "metadata": {
    "collapsed": false,
    "pycharm": {
     "name": "#%%\n"
    }
   }
  },
  {
   "cell_type": "code",
   "execution_count": 18,
   "outputs": [
    {
     "data": {
      "text/plain": "    userId  movieId  rating   timestamp\n4        1     1172     4.0  1260759205\n12       1     1953     4.0  1260759191\n13       1     2105     4.0  1260759139\n20       2       10     4.0   835355493\n21       2       17     5.0   835355681",
      "text/html": "<div>\n<style scoped>\n    .dataframe tbody tr th:only-of-type {\n        vertical-align: middle;\n    }\n\n    .dataframe tbody tr th {\n        vertical-align: top;\n    }\n\n    .dataframe thead th {\n        text-align: right;\n    }\n</style>\n<table border=\"1\" class=\"dataframe\">\n  <thead>\n    <tr style=\"text-align: right;\">\n      <th></th>\n      <th>userId</th>\n      <th>movieId</th>\n      <th>rating</th>\n      <th>timestamp</th>\n    </tr>\n  </thead>\n  <tbody>\n    <tr>\n      <th>4</th>\n      <td>1</td>\n      <td>1172</td>\n      <td>4.0</td>\n      <td>1260759205</td>\n    </tr>\n    <tr>\n      <th>12</th>\n      <td>1</td>\n      <td>1953</td>\n      <td>4.0</td>\n      <td>1260759191</td>\n    </tr>\n    <tr>\n      <th>13</th>\n      <td>1</td>\n      <td>2105</td>\n      <td>4.0</td>\n      <td>1260759139</td>\n    </tr>\n    <tr>\n      <th>20</th>\n      <td>2</td>\n      <td>10</td>\n      <td>4.0</td>\n      <td>835355493</td>\n    </tr>\n    <tr>\n      <th>21</th>\n      <td>2</td>\n      <td>17</td>\n      <td>5.0</td>\n      <td>835355681</td>\n    </tr>\n  </tbody>\n</table>\n</div>"
     },
     "execution_count": 18,
     "metadata": {},
     "output_type": "execute_result"
    }
   ],
   "source": [
    "df.head()"
   ],
   "metadata": {
    "collapsed": false,
    "pycharm": {
     "name": "#%%\n"
    }
   }
  },
  {
   "cell_type": "code",
   "execution_count": 19,
   "outputs": [
    {
     "data": {
      "text/plain": "564    1115\n547    1031\n30      702\n73      617\n472     544\n       ... \n170       2\n429       2\n579       1\n79        1\n221       1\nName: userId, Length: 671, dtype: int64"
     },
     "execution_count": 19,
     "metadata": {},
     "output_type": "execute_result"
    }
   ],
   "source": [
    "df.userId.value_counts()"
   ],
   "metadata": {
    "collapsed": false,
    "pycharm": {
     "name": "#%%\n"
    }
   }
  },
  {
   "cell_type": "code",
   "execution_count": 20,
   "outputs": [
    {
     "data": {
      "text/plain": "        userId  movieId  rating   timestamp  user_max_rating\n4            1     1172     4.0  1260759205              4.0\n12           1     1953     4.0  1260759191              4.0\n13           1     2105     4.0  1260759139              4.0\n20           2       10     4.0   835355493              5.0\n21           2       17     5.0   835355681              5.0\n...        ...      ...     ...         ...              ...\n99995      671     5989     4.0  1064890625              5.0\n99996      671     5991     4.5  1064245387              5.0\n99997      671     5995     4.0  1066793014              5.0\n100000     671     6269     4.0  1065149201              5.0\n100001     671     6365     4.0  1070940363              5.0\n\n[51568 rows x 5 columns]",
      "text/html": "<div>\n<style scoped>\n    .dataframe tbody tr th:only-of-type {\n        vertical-align: middle;\n    }\n\n    .dataframe tbody tr th {\n        vertical-align: top;\n    }\n\n    .dataframe thead th {\n        text-align: right;\n    }\n</style>\n<table border=\"1\" class=\"dataframe\">\n  <thead>\n    <tr style=\"text-align: right;\">\n      <th></th>\n      <th>userId</th>\n      <th>movieId</th>\n      <th>rating</th>\n      <th>timestamp</th>\n      <th>user_max_rating</th>\n    </tr>\n  </thead>\n  <tbody>\n    <tr>\n      <th>4</th>\n      <td>1</td>\n      <td>1172</td>\n      <td>4.0</td>\n      <td>1260759205</td>\n      <td>4.0</td>\n    </tr>\n    <tr>\n      <th>12</th>\n      <td>1</td>\n      <td>1953</td>\n      <td>4.0</td>\n      <td>1260759191</td>\n      <td>4.0</td>\n    </tr>\n    <tr>\n      <th>13</th>\n      <td>1</td>\n      <td>2105</td>\n      <td>4.0</td>\n      <td>1260759139</td>\n      <td>4.0</td>\n    </tr>\n    <tr>\n      <th>20</th>\n      <td>2</td>\n      <td>10</td>\n      <td>4.0</td>\n      <td>835355493</td>\n      <td>5.0</td>\n    </tr>\n    <tr>\n      <th>21</th>\n      <td>2</td>\n      <td>17</td>\n      <td>5.0</td>\n      <td>835355681</td>\n      <td>5.0</td>\n    </tr>\n    <tr>\n      <th>...</th>\n      <td>...</td>\n      <td>...</td>\n      <td>...</td>\n      <td>...</td>\n      <td>...</td>\n    </tr>\n    <tr>\n      <th>99995</th>\n      <td>671</td>\n      <td>5989</td>\n      <td>4.0</td>\n      <td>1064890625</td>\n      <td>5.0</td>\n    </tr>\n    <tr>\n      <th>99996</th>\n      <td>671</td>\n      <td>5991</td>\n      <td>4.5</td>\n      <td>1064245387</td>\n      <td>5.0</td>\n    </tr>\n    <tr>\n      <th>99997</th>\n      <td>671</td>\n      <td>5995</td>\n      <td>4.0</td>\n      <td>1066793014</td>\n      <td>5.0</td>\n    </tr>\n    <tr>\n      <th>100000</th>\n      <td>671</td>\n      <td>6269</td>\n      <td>4.0</td>\n      <td>1065149201</td>\n      <td>5.0</td>\n    </tr>\n    <tr>\n      <th>100001</th>\n      <td>671</td>\n      <td>6365</td>\n      <td>4.0</td>\n      <td>1070940363</td>\n      <td>5.0</td>\n    </tr>\n  </tbody>\n</table>\n<p>51568 rows × 5 columns</p>\n</div>"
     },
     "execution_count": 20,
     "metadata": {},
     "output_type": "execute_result"
    }
   ],
   "source": [
    "# get max_rating for user\n",
    "df = df.join(df.groupby('userId')['rating'].max().rename('user_max_rating'), on='userId')\n",
    "df"
   ],
   "metadata": {
    "collapsed": false,
    "pycharm": {
     "name": "#%%\n"
    }
   }
  },
  {
   "cell_type": "code",
   "execution_count": 21,
   "outputs": [
    {
     "data": {
      "text/plain": "        userId  movieId  rating   timestamp  is_test\n4            1     1172     4.0  1260759205     True\n12           1     1953     4.0  1260759191    False\n13           1     2105     4.0  1260759139    False\n20           2       10     4.0   835355493    False\n21           2       17     5.0   835355681     True\n...        ...      ...     ...         ...      ...\n99995      671     5989     4.0  1064890625    False\n99996      671     5991     4.5  1064245387    False\n99997      671     5995     4.0  1066793014    False\n100000     671     6269     4.0  1065149201    False\n100001     671     6365     4.0  1070940363    False\n\n[51568 rows x 5 columns]",
      "text/html": "<div>\n<style scoped>\n    .dataframe tbody tr th:only-of-type {\n        vertical-align: middle;\n    }\n\n    .dataframe tbody tr th {\n        vertical-align: top;\n    }\n\n    .dataframe thead th {\n        text-align: right;\n    }\n</style>\n<table border=\"1\" class=\"dataframe\">\n  <thead>\n    <tr style=\"text-align: right;\">\n      <th></th>\n      <th>userId</th>\n      <th>movieId</th>\n      <th>rating</th>\n      <th>timestamp</th>\n      <th>is_test</th>\n    </tr>\n  </thead>\n  <tbody>\n    <tr>\n      <th>4</th>\n      <td>1</td>\n      <td>1172</td>\n      <td>4.0</td>\n      <td>1260759205</td>\n      <td>True</td>\n    </tr>\n    <tr>\n      <th>12</th>\n      <td>1</td>\n      <td>1953</td>\n      <td>4.0</td>\n      <td>1260759191</td>\n      <td>False</td>\n    </tr>\n    <tr>\n      <th>13</th>\n      <td>1</td>\n      <td>2105</td>\n      <td>4.0</td>\n      <td>1260759139</td>\n      <td>False</td>\n    </tr>\n    <tr>\n      <th>20</th>\n      <td>2</td>\n      <td>10</td>\n      <td>4.0</td>\n      <td>835355493</td>\n      <td>False</td>\n    </tr>\n    <tr>\n      <th>21</th>\n      <td>2</td>\n      <td>17</td>\n      <td>5.0</td>\n      <td>835355681</td>\n      <td>True</td>\n    </tr>\n    <tr>\n      <th>...</th>\n      <td>...</td>\n      <td>...</td>\n      <td>...</td>\n      <td>...</td>\n      <td>...</td>\n    </tr>\n    <tr>\n      <th>99995</th>\n      <td>671</td>\n      <td>5989</td>\n      <td>4.0</td>\n      <td>1064890625</td>\n      <td>False</td>\n    </tr>\n    <tr>\n      <th>99996</th>\n      <td>671</td>\n      <td>5991</td>\n      <td>4.5</td>\n      <td>1064245387</td>\n      <td>False</td>\n    </tr>\n    <tr>\n      <th>99997</th>\n      <td>671</td>\n      <td>5995</td>\n      <td>4.0</td>\n      <td>1066793014</td>\n      <td>False</td>\n    </tr>\n    <tr>\n      <th>100000</th>\n      <td>671</td>\n      <td>6269</td>\n      <td>4.0</td>\n      <td>1065149201</td>\n      <td>False</td>\n    </tr>\n    <tr>\n      <th>100001</th>\n      <td>671</td>\n      <td>6365</td>\n      <td>4.0</td>\n      <td>1070940363</td>\n      <td>False</td>\n    </tr>\n  </tbody>\n</table>\n<p>51568 rows × 5 columns</p>\n</div>"
     },
     "execution_count": 21,
     "metadata": {},
     "output_type": "execute_result"
    }
   ],
   "source": [
    "# for each user get min movieId with highest rating => testMovies\n",
    "testMovies = df[df['rating'] == df['user_max_rating']].groupby('userId')['movieId'].min().rename('test_movie')\n",
    "# mark test movies\n",
    "df = df.join(testMovies, on='userId')\n",
    "df['is_test'] = df['movieId'] == df['test_movie']\n",
    "# drop tmp columns\n",
    "df.drop(['user_max_rating', 'test_movie'], axis=1, inplace=True)\n",
    "\n",
    "df"
   ],
   "metadata": {
    "collapsed": false,
    "pycharm": {
     "name": "#%%\n"
    }
   }
  },
  {
   "cell_type": "code",
   "execution_count": 22,
   "outputs": [
    {
     "data": {
      "text/plain": "        userId  movieId  rating   timestamp  is_test\n12           1     1953     4.0  1260759191    False\n13           1     2105     4.0  1260759139    False\n20           2       10     4.0   835355493    False\n22           2       39     5.0   835355604    False\n23           2       47     4.0   835355552    False\n...        ...      ...     ...         ...      ...\n99995      671     5989     4.0  1064890625    False\n99996      671     5991     4.5  1064245387    False\n99997      671     5995     4.0  1066793014    False\n100000     671     6269     4.0  1065149201    False\n100001     671     6365     4.0  1070940363    False\n\n[50897 rows x 5 columns]",
      "text/html": "<div>\n<style scoped>\n    .dataframe tbody tr th:only-of-type {\n        vertical-align: middle;\n    }\n\n    .dataframe tbody tr th {\n        vertical-align: top;\n    }\n\n    .dataframe thead th {\n        text-align: right;\n    }\n</style>\n<table border=\"1\" class=\"dataframe\">\n  <thead>\n    <tr style=\"text-align: right;\">\n      <th></th>\n      <th>userId</th>\n      <th>movieId</th>\n      <th>rating</th>\n      <th>timestamp</th>\n      <th>is_test</th>\n    </tr>\n  </thead>\n  <tbody>\n    <tr>\n      <th>12</th>\n      <td>1</td>\n      <td>1953</td>\n      <td>4.0</td>\n      <td>1260759191</td>\n      <td>False</td>\n    </tr>\n    <tr>\n      <th>13</th>\n      <td>1</td>\n      <td>2105</td>\n      <td>4.0</td>\n      <td>1260759139</td>\n      <td>False</td>\n    </tr>\n    <tr>\n      <th>20</th>\n      <td>2</td>\n      <td>10</td>\n      <td>4.0</td>\n      <td>835355493</td>\n      <td>False</td>\n    </tr>\n    <tr>\n      <th>22</th>\n      <td>2</td>\n      <td>39</td>\n      <td>5.0</td>\n      <td>835355604</td>\n      <td>False</td>\n    </tr>\n    <tr>\n      <th>23</th>\n      <td>2</td>\n      <td>47</td>\n      <td>4.0</td>\n      <td>835355552</td>\n      <td>False</td>\n    </tr>\n    <tr>\n      <th>...</th>\n      <td>...</td>\n      <td>...</td>\n      <td>...</td>\n      <td>...</td>\n      <td>...</td>\n    </tr>\n    <tr>\n      <th>99995</th>\n      <td>671</td>\n      <td>5989</td>\n      <td>4.0</td>\n      <td>1064890625</td>\n      <td>False</td>\n    </tr>\n    <tr>\n      <th>99996</th>\n      <td>671</td>\n      <td>5991</td>\n      <td>4.5</td>\n      <td>1064245387</td>\n      <td>False</td>\n    </tr>\n    <tr>\n      <th>99997</th>\n      <td>671</td>\n      <td>5995</td>\n      <td>4.0</td>\n      <td>1066793014</td>\n      <td>False</td>\n    </tr>\n    <tr>\n      <th>100000</th>\n      <td>671</td>\n      <td>6269</td>\n      <td>4.0</td>\n      <td>1065149201</td>\n      <td>False</td>\n    </tr>\n    <tr>\n      <th>100001</th>\n      <td>671</td>\n      <td>6365</td>\n      <td>4.0</td>\n      <td>1070940363</td>\n      <td>False</td>\n    </tr>\n  </tbody>\n</table>\n<p>50897 rows × 5 columns</p>\n</div>"
     },
     "execution_count": 22,
     "metadata": {},
     "output_type": "execute_result"
    }
   ],
   "source": [
    "train = df[df['is_test'] == False]\n",
    "train"
   ],
   "metadata": {
    "collapsed": false,
    "pycharm": {
     "name": "#%%\n"
    }
   }
  },
  {
   "cell_type": "code",
   "execution_count": 23,
   "outputs": [
    {
     "data": {
      "text/plain": "       userId  movieId  rating   timestamp  is_test\n4           1     1172     4.0  1260759205     True\n21          2       17     5.0   835355681     True\n101         3      318     5.0  1298862121     True\n148         4       34     5.0   949919556     True\n368         5      597     5.0  1163373711     True\n...       ...      ...     ...         ...      ...\n99739     667       32     5.0   847271481     True\n99801     668      296     5.0   993613478     True\n99822     669      260     5.0  1015829081     True\n99859     670       25     5.0   938782344     True\n99889     671        1     5.0  1064891129     True\n\n[671 rows x 5 columns]",
      "text/html": "<div>\n<style scoped>\n    .dataframe tbody tr th:only-of-type {\n        vertical-align: middle;\n    }\n\n    .dataframe tbody tr th {\n        vertical-align: top;\n    }\n\n    .dataframe thead th {\n        text-align: right;\n    }\n</style>\n<table border=\"1\" class=\"dataframe\">\n  <thead>\n    <tr style=\"text-align: right;\">\n      <th></th>\n      <th>userId</th>\n      <th>movieId</th>\n      <th>rating</th>\n      <th>timestamp</th>\n      <th>is_test</th>\n    </tr>\n  </thead>\n  <tbody>\n    <tr>\n      <th>4</th>\n      <td>1</td>\n      <td>1172</td>\n      <td>4.0</td>\n      <td>1260759205</td>\n      <td>True</td>\n    </tr>\n    <tr>\n      <th>21</th>\n      <td>2</td>\n      <td>17</td>\n      <td>5.0</td>\n      <td>835355681</td>\n      <td>True</td>\n    </tr>\n    <tr>\n      <th>101</th>\n      <td>3</td>\n      <td>318</td>\n      <td>5.0</td>\n      <td>1298862121</td>\n      <td>True</td>\n    </tr>\n    <tr>\n      <th>148</th>\n      <td>4</td>\n      <td>34</td>\n      <td>5.0</td>\n      <td>949919556</td>\n      <td>True</td>\n    </tr>\n    <tr>\n      <th>368</th>\n      <td>5</td>\n      <td>597</td>\n      <td>5.0</td>\n      <td>1163373711</td>\n      <td>True</td>\n    </tr>\n    <tr>\n      <th>...</th>\n      <td>...</td>\n      <td>...</td>\n      <td>...</td>\n      <td>...</td>\n      <td>...</td>\n    </tr>\n    <tr>\n      <th>99739</th>\n      <td>667</td>\n      <td>32</td>\n      <td>5.0</td>\n      <td>847271481</td>\n      <td>True</td>\n    </tr>\n    <tr>\n      <th>99801</th>\n      <td>668</td>\n      <td>296</td>\n      <td>5.0</td>\n      <td>993613478</td>\n      <td>True</td>\n    </tr>\n    <tr>\n      <th>99822</th>\n      <td>669</td>\n      <td>260</td>\n      <td>5.0</td>\n      <td>1015829081</td>\n      <td>True</td>\n    </tr>\n    <tr>\n      <th>99859</th>\n      <td>670</td>\n      <td>25</td>\n      <td>5.0</td>\n      <td>938782344</td>\n      <td>True</td>\n    </tr>\n    <tr>\n      <th>99889</th>\n      <td>671</td>\n      <td>1</td>\n      <td>5.0</td>\n      <td>1064891129</td>\n      <td>True</td>\n    </tr>\n  </tbody>\n</table>\n<p>671 rows × 5 columns</p>\n</div>"
     },
     "execution_count": 23,
     "metadata": {},
     "output_type": "execute_result"
    }
   ],
   "source": [
    "test = df[df['is_test']]\n",
    "test"
   ],
   "metadata": {
    "collapsed": false,
    "pycharm": {
     "name": "#%%\n"
    }
   }
  },
  {
   "cell_type": "code",
   "execution_count": 24,
   "outputs": [
    {
     "name": "stdout",
     "output_type": "stream",
     "text": [
      "done\n"
     ]
    }
   ],
   "source": [
    "# write train/test datasets\n",
    "train.to_csv(\"../data/movie_ratings/movie_ratings_train.csv\")\n",
    "train.to_csv(\"./movie_ratings_train.csv\")\n",
    "test.to_csv(\"./movie_ratings_test.csv\")\n",
    "\n",
    "print(\"done\")"
   ],
   "metadata": {
    "collapsed": false,
    "pycharm": {
     "name": "#%%\n"
    }
   }
  }
 ],
 "metadata": {
  "kernelspec": {
   "name": "pycharm-97a28330",
   "language": "python",
   "display_name": "PyCharm (ComE_BGMM)"
  },
  "language_info": {
   "codemirror_mode": {
    "name": "ipython",
    "version": 2
   },
   "file_extension": ".py",
   "mimetype": "text/x-python",
   "name": "python",
   "nbconvert_exporter": "python",
   "pygments_lexer": "ipython2",
   "version": "2.7.6"
  }
 },
 "nbformat": 4,
 "nbformat_minor": 0
}