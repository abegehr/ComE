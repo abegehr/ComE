{
 "cells": [
  {
   "cell_type": "code",
   "execution_count": 1,
   "metadata": {
    "collapsed": true,
    "pycharm": {
     "name": "#%%\n"
    }
   },
   "outputs": [],
   "source": [
    "import sys\n",
    "sys.path.append('../../')\n",
    "\n",
    "from IPython.core.display import display\n",
    "import numpy as np\n",
    "import pandas as pd\n",
    "from sortedcontainers import SortedDict"
   ]
  },
  {
   "cell_type": "code",
   "execution_count": 2,
   "outputs": [
    {
     "name": "stderr",
     "output_type": "stream",
     "text": [
      "/Users/anton/miniconda3/envs/MT/lib/python3.6/site-packages/ipykernel_launcher.py:5: ParserWarning: Falling back to the 'python' engine because the 'c' engine does not support regex separators (separators > 1 char and different from '\\s+' are interpreted as regex); you can avoid this warning by specifying engine='python'.\n",
      "  \"\"\"\n"
     ]
    }
   ],
   "source": [
    "# import node embeddings\n",
    "df = pd.read_csv(\n",
    "    \"./movie_ratings_alpha-0.1_beta-0.1_ws-10_neg-5_lr-0.025_icom-206_ind-206_k-100_ds-0.0.txt\",\n",
    "    sep=\"\\t| \",\n",
    "    header=None\n",
    ")\n",
    "df = df.rename(columns={0: 'node'})\n",
    "df.set_index(['node'], inplace=True)"
   ],
   "metadata": {
    "collapsed": false,
    "pycharm": {
     "name": "#%%\n"
    }
   }
  },
  {
   "cell_type": "code",
   "execution_count": 3,
   "outputs": [],
   "source": [
    "# import ratings\n",
    "ratings = pd.read_csv(\"./movie_ratings_unique.csv\")\n",
    "ratings.set_index(['userId', 'movieId'], inplace=True)\n",
    "# import test\n",
    "test = pd.read_csv(\"./movie_ratings_test.csv\", index_col=0)\n",
    "test.set_index(['userId', 'movieId'], inplace=True)"
   ],
   "metadata": {
    "collapsed": false,
    "pycharm": {
     "name": "#%%\n"
    }
   }
  },
  {
   "cell_type": "code",
   "execution_count": 4,
   "outputs": [
    {
     "data": {
      "text/plain": "           1         2         3         4         5         6         7    \\\nnode                                                                         \n2    -0.308762  0.098974 -0.245587  0.424734 -0.534265 -0.242575  0.257119   \n3    -0.273524 -0.107615 -0.269887  0.264508  0.020065 -0.113513 -0.147588   \n4    -0.084964 -0.034894  0.043311 -0.035493 -0.145349 -0.348867 -0.199865   \n5    -0.225072  0.089834  0.016027  0.047704  0.298841 -0.129375  0.317334   \n6     0.077986  0.151719 -0.022957 -0.112094 -0.082675 -0.454298 -0.137162   \n\n           8         9         10   ...       119       120       121  \\\nnode                                ...                                 \n2     0.040960 -0.117750 -0.053173  ... -0.177020  0.066940  0.453468   \n3    -0.355677  0.018933  0.140679  ...  0.005843 -0.086279  0.148112   \n4    -0.384744  0.094511  0.055395  ... -0.243541  0.197078  0.302467   \n5    -0.097228  0.121188 -0.022962  ... -0.351949 -0.498018  0.465731   \n6    -0.089500  0.057956  0.003579  ... -0.257253 -0.045414  0.267109   \n\n           122       123       124       125       126       127       128  \nnode                                                                        \n2    -0.038968  0.159571 -0.081401  0.390820  0.194385  0.063349 -0.252067  \n3    -0.381536 -0.167795  0.437124  0.239364  0.036150 -0.207161 -0.279669  \n4    -0.001396 -0.041610  0.202704 -0.256665  0.215160  0.089959 -0.103987  \n5     0.122407  0.002795 -0.013012  0.028776  0.274983 -0.004458 -0.384384  \n6    -0.059046  0.007127  0.107992  0.002877  0.194426  0.102571 -0.272264  \n\n[5 rows x 128 columns]",
      "text/html": "<div>\n<style scoped>\n    .dataframe tbody tr th:only-of-type {\n        vertical-align: middle;\n    }\n\n    .dataframe tbody tr th {\n        vertical-align: top;\n    }\n\n    .dataframe thead th {\n        text-align: right;\n    }\n</style>\n<table border=\"1\" class=\"dataframe\">\n  <thead>\n    <tr style=\"text-align: right;\">\n      <th></th>\n      <th>1</th>\n      <th>2</th>\n      <th>3</th>\n      <th>4</th>\n      <th>5</th>\n      <th>6</th>\n      <th>7</th>\n      <th>8</th>\n      <th>9</th>\n      <th>10</th>\n      <th>...</th>\n      <th>119</th>\n      <th>120</th>\n      <th>121</th>\n      <th>122</th>\n      <th>123</th>\n      <th>124</th>\n      <th>125</th>\n      <th>126</th>\n      <th>127</th>\n      <th>128</th>\n    </tr>\n    <tr>\n      <th>node</th>\n      <th></th>\n      <th></th>\n      <th></th>\n      <th></th>\n      <th></th>\n      <th></th>\n      <th></th>\n      <th></th>\n      <th></th>\n      <th></th>\n      <th></th>\n      <th></th>\n      <th></th>\n      <th></th>\n      <th></th>\n      <th></th>\n      <th></th>\n      <th></th>\n      <th></th>\n      <th></th>\n      <th></th>\n    </tr>\n  </thead>\n  <tbody>\n    <tr>\n      <th>2</th>\n      <td>-0.308762</td>\n      <td>0.098974</td>\n      <td>-0.245587</td>\n      <td>0.424734</td>\n      <td>-0.534265</td>\n      <td>-0.242575</td>\n      <td>0.257119</td>\n      <td>0.040960</td>\n      <td>-0.117750</td>\n      <td>-0.053173</td>\n      <td>...</td>\n      <td>-0.177020</td>\n      <td>0.066940</td>\n      <td>0.453468</td>\n      <td>-0.038968</td>\n      <td>0.159571</td>\n      <td>-0.081401</td>\n      <td>0.390820</td>\n      <td>0.194385</td>\n      <td>0.063349</td>\n      <td>-0.252067</td>\n    </tr>\n    <tr>\n      <th>3</th>\n      <td>-0.273524</td>\n      <td>-0.107615</td>\n      <td>-0.269887</td>\n      <td>0.264508</td>\n      <td>0.020065</td>\n      <td>-0.113513</td>\n      <td>-0.147588</td>\n      <td>-0.355677</td>\n      <td>0.018933</td>\n      <td>0.140679</td>\n      <td>...</td>\n      <td>0.005843</td>\n      <td>-0.086279</td>\n      <td>0.148112</td>\n      <td>-0.381536</td>\n      <td>-0.167795</td>\n      <td>0.437124</td>\n      <td>0.239364</td>\n      <td>0.036150</td>\n      <td>-0.207161</td>\n      <td>-0.279669</td>\n    </tr>\n    <tr>\n      <th>4</th>\n      <td>-0.084964</td>\n      <td>-0.034894</td>\n      <td>0.043311</td>\n      <td>-0.035493</td>\n      <td>-0.145349</td>\n      <td>-0.348867</td>\n      <td>-0.199865</td>\n      <td>-0.384744</td>\n      <td>0.094511</td>\n      <td>0.055395</td>\n      <td>...</td>\n      <td>-0.243541</td>\n      <td>0.197078</td>\n      <td>0.302467</td>\n      <td>-0.001396</td>\n      <td>-0.041610</td>\n      <td>0.202704</td>\n      <td>-0.256665</td>\n      <td>0.215160</td>\n      <td>0.089959</td>\n      <td>-0.103987</td>\n    </tr>\n    <tr>\n      <th>5</th>\n      <td>-0.225072</td>\n      <td>0.089834</td>\n      <td>0.016027</td>\n      <td>0.047704</td>\n      <td>0.298841</td>\n      <td>-0.129375</td>\n      <td>0.317334</td>\n      <td>-0.097228</td>\n      <td>0.121188</td>\n      <td>-0.022962</td>\n      <td>...</td>\n      <td>-0.351949</td>\n      <td>-0.498018</td>\n      <td>0.465731</td>\n      <td>0.122407</td>\n      <td>0.002795</td>\n      <td>-0.013012</td>\n      <td>0.028776</td>\n      <td>0.274983</td>\n      <td>-0.004458</td>\n      <td>-0.384384</td>\n    </tr>\n    <tr>\n      <th>6</th>\n      <td>0.077986</td>\n      <td>0.151719</td>\n      <td>-0.022957</td>\n      <td>-0.112094</td>\n      <td>-0.082675</td>\n      <td>-0.454298</td>\n      <td>-0.137162</td>\n      <td>-0.089500</td>\n      <td>0.057956</td>\n      <td>0.003579</td>\n      <td>...</td>\n      <td>-0.257253</td>\n      <td>-0.045414</td>\n      <td>0.267109</td>\n      <td>-0.059046</td>\n      <td>0.007127</td>\n      <td>0.107992</td>\n      <td>0.002877</td>\n      <td>0.194426</td>\n      <td>0.102571</td>\n      <td>-0.272264</td>\n    </tr>\n  </tbody>\n</table>\n<p>5 rows × 128 columns</p>\n</div>"
     },
     "metadata": {},
     "output_type": "display_data"
    },
    {
     "data": {
      "text/plain": "               1            2            3            4            5    \\\ncount  3727.000000  3727.000000  3727.000000  3727.000000  3727.000000   \nmean     -0.211893     0.146356    -0.084014     0.088436    -0.091640   \nstd       0.167406     0.162469     0.173241     0.193647     0.179042   \nmin      -0.814226    -0.408676    -1.244608    -0.562879    -0.720151   \n25%      -0.329090     0.034677    -0.196145    -0.040586    -0.208421   \n50%      -0.209427     0.141369    -0.080684     0.099497    -0.086656   \n75%      -0.098060     0.253759     0.031513     0.207099     0.022259   \nmax       0.520041     0.903764     0.466222     0.885834     0.521659   \n\n               6            7            8            9            10   ...  \\\ncount  3727.000000  3727.000000  3727.000000  3727.000000  3727.000000  ...   \nmean     -0.091354    -0.157548    -0.119663     0.075533    -0.116033  ...   \nstd       0.171601     0.178893     0.159232     0.177815     0.167535  ...   \nmin      -0.628977    -0.856720    -0.725366    -0.524310    -0.736966  ...   \n25%      -0.208813    -0.285545    -0.231821    -0.039950    -0.227262  ...   \n50%      -0.101008    -0.159802    -0.122097     0.078628    -0.113865  ...   \n75%       0.025868    -0.037058    -0.009354     0.195437     0.004584  ...   \nmax       0.459800     0.448255     0.417626     0.669514     0.387226  ...   \n\n               119          120          121          122          123  \\\ncount  3727.000000  3727.000000  3727.000000  3727.000000  3727.000000   \nmean     -0.188025    -0.141642     0.096064    -0.003288     0.002670   \nstd       0.186317     0.169230     0.166666     0.178383     0.183314   \nmin      -0.853803    -0.818848    -0.438042    -0.705130    -0.660262   \n25%      -0.311954    -0.255814    -0.008065    -0.116846    -0.132197   \n50%      -0.187002    -0.133427     0.095272    -0.001065     0.002642   \n75%      -0.069110    -0.025960     0.206091     0.120951     0.133342   \nmax       0.602499     0.497861     0.616371     0.522508     0.923479   \n\n               124          125          126          127          128  \ncount  3727.000000  3727.000000  3727.000000  3727.000000  3727.000000  \nmean      0.046230     0.125281     0.208782     0.027511    -0.161429  \nstd       0.173767     0.160584     0.196889     0.174470     0.185833  \nmin      -0.522802    -0.515613    -0.464914    -0.509620    -0.720470  \n25%      -0.079476     0.017718     0.073074    -0.090684    -0.285543  \n50%       0.043300     0.130540     0.223623     0.010908    -0.163047  \n75%       0.173926     0.240098     0.345463     0.148880    -0.036963  \nmax       0.689037     0.654508     0.873804     0.632028     0.467345  \n\n[8 rows x 128 columns]",
      "text/html": "<div>\n<style scoped>\n    .dataframe tbody tr th:only-of-type {\n        vertical-align: middle;\n    }\n\n    .dataframe tbody tr th {\n        vertical-align: top;\n    }\n\n    .dataframe thead th {\n        text-align: right;\n    }\n</style>\n<table border=\"1\" class=\"dataframe\">\n  <thead>\n    <tr style=\"text-align: right;\">\n      <th></th>\n      <th>1</th>\n      <th>2</th>\n      <th>3</th>\n      <th>4</th>\n      <th>5</th>\n      <th>6</th>\n      <th>7</th>\n      <th>8</th>\n      <th>9</th>\n      <th>10</th>\n      <th>...</th>\n      <th>119</th>\n      <th>120</th>\n      <th>121</th>\n      <th>122</th>\n      <th>123</th>\n      <th>124</th>\n      <th>125</th>\n      <th>126</th>\n      <th>127</th>\n      <th>128</th>\n    </tr>\n  </thead>\n  <tbody>\n    <tr>\n      <th>count</th>\n      <td>3727.000000</td>\n      <td>3727.000000</td>\n      <td>3727.000000</td>\n      <td>3727.000000</td>\n      <td>3727.000000</td>\n      <td>3727.000000</td>\n      <td>3727.000000</td>\n      <td>3727.000000</td>\n      <td>3727.000000</td>\n      <td>3727.000000</td>\n      <td>...</td>\n      <td>3727.000000</td>\n      <td>3727.000000</td>\n      <td>3727.000000</td>\n      <td>3727.000000</td>\n      <td>3727.000000</td>\n      <td>3727.000000</td>\n      <td>3727.000000</td>\n      <td>3727.000000</td>\n      <td>3727.000000</td>\n      <td>3727.000000</td>\n    </tr>\n    <tr>\n      <th>mean</th>\n      <td>-0.211893</td>\n      <td>0.146356</td>\n      <td>-0.084014</td>\n      <td>0.088436</td>\n      <td>-0.091640</td>\n      <td>-0.091354</td>\n      <td>-0.157548</td>\n      <td>-0.119663</td>\n      <td>0.075533</td>\n      <td>-0.116033</td>\n      <td>...</td>\n      <td>-0.188025</td>\n      <td>-0.141642</td>\n      <td>0.096064</td>\n      <td>-0.003288</td>\n      <td>0.002670</td>\n      <td>0.046230</td>\n      <td>0.125281</td>\n      <td>0.208782</td>\n      <td>0.027511</td>\n      <td>-0.161429</td>\n    </tr>\n    <tr>\n      <th>std</th>\n      <td>0.167406</td>\n      <td>0.162469</td>\n      <td>0.173241</td>\n      <td>0.193647</td>\n      <td>0.179042</td>\n      <td>0.171601</td>\n      <td>0.178893</td>\n      <td>0.159232</td>\n      <td>0.177815</td>\n      <td>0.167535</td>\n      <td>...</td>\n      <td>0.186317</td>\n      <td>0.169230</td>\n      <td>0.166666</td>\n      <td>0.178383</td>\n      <td>0.183314</td>\n      <td>0.173767</td>\n      <td>0.160584</td>\n      <td>0.196889</td>\n      <td>0.174470</td>\n      <td>0.185833</td>\n    </tr>\n    <tr>\n      <th>min</th>\n      <td>-0.814226</td>\n      <td>-0.408676</td>\n      <td>-1.244608</td>\n      <td>-0.562879</td>\n      <td>-0.720151</td>\n      <td>-0.628977</td>\n      <td>-0.856720</td>\n      <td>-0.725366</td>\n      <td>-0.524310</td>\n      <td>-0.736966</td>\n      <td>...</td>\n      <td>-0.853803</td>\n      <td>-0.818848</td>\n      <td>-0.438042</td>\n      <td>-0.705130</td>\n      <td>-0.660262</td>\n      <td>-0.522802</td>\n      <td>-0.515613</td>\n      <td>-0.464914</td>\n      <td>-0.509620</td>\n      <td>-0.720470</td>\n    </tr>\n    <tr>\n      <th>25%</th>\n      <td>-0.329090</td>\n      <td>0.034677</td>\n      <td>-0.196145</td>\n      <td>-0.040586</td>\n      <td>-0.208421</td>\n      <td>-0.208813</td>\n      <td>-0.285545</td>\n      <td>-0.231821</td>\n      <td>-0.039950</td>\n      <td>-0.227262</td>\n      <td>...</td>\n      <td>-0.311954</td>\n      <td>-0.255814</td>\n      <td>-0.008065</td>\n      <td>-0.116846</td>\n      <td>-0.132197</td>\n      <td>-0.079476</td>\n      <td>0.017718</td>\n      <td>0.073074</td>\n      <td>-0.090684</td>\n      <td>-0.285543</td>\n    </tr>\n    <tr>\n      <th>50%</th>\n      <td>-0.209427</td>\n      <td>0.141369</td>\n      <td>-0.080684</td>\n      <td>0.099497</td>\n      <td>-0.086656</td>\n      <td>-0.101008</td>\n      <td>-0.159802</td>\n      <td>-0.122097</td>\n      <td>0.078628</td>\n      <td>-0.113865</td>\n      <td>...</td>\n      <td>-0.187002</td>\n      <td>-0.133427</td>\n      <td>0.095272</td>\n      <td>-0.001065</td>\n      <td>0.002642</td>\n      <td>0.043300</td>\n      <td>0.130540</td>\n      <td>0.223623</td>\n      <td>0.010908</td>\n      <td>-0.163047</td>\n    </tr>\n    <tr>\n      <th>75%</th>\n      <td>-0.098060</td>\n      <td>0.253759</td>\n      <td>0.031513</td>\n      <td>0.207099</td>\n      <td>0.022259</td>\n      <td>0.025868</td>\n      <td>-0.037058</td>\n      <td>-0.009354</td>\n      <td>0.195437</td>\n      <td>0.004584</td>\n      <td>...</td>\n      <td>-0.069110</td>\n      <td>-0.025960</td>\n      <td>0.206091</td>\n      <td>0.120951</td>\n      <td>0.133342</td>\n      <td>0.173926</td>\n      <td>0.240098</td>\n      <td>0.345463</td>\n      <td>0.148880</td>\n      <td>-0.036963</td>\n    </tr>\n    <tr>\n      <th>max</th>\n      <td>0.520041</td>\n      <td>0.903764</td>\n      <td>0.466222</td>\n      <td>0.885834</td>\n      <td>0.521659</td>\n      <td>0.459800</td>\n      <td>0.448255</td>\n      <td>0.417626</td>\n      <td>0.669514</td>\n      <td>0.387226</td>\n      <td>...</td>\n      <td>0.602499</td>\n      <td>0.497861</td>\n      <td>0.616371</td>\n      <td>0.522508</td>\n      <td>0.923479</td>\n      <td>0.689037</td>\n      <td>0.654508</td>\n      <td>0.873804</td>\n      <td>0.632028</td>\n      <td>0.467345</td>\n    </tr>\n  </tbody>\n</table>\n<p>8 rows × 128 columns</p>\n</div>"
     },
     "metadata": {},
     "output_type": "display_data"
    }
   ],
   "source": [
    "# node embeddings\n",
    "display(df.head())\n",
    "display(df.describe())"
   ],
   "metadata": {
    "collapsed": false,
    "pycharm": {
     "name": "#%%\n"
    }
   }
  },
  {
   "cell_type": "code",
   "execution_count": 5,
   "outputs": [
    {
     "data": {
      "text/plain": "                Unnamed: 0  rating   timestamp\nuserId movieId                                \n1      1031              0     2.5  1260759144\n       2029              1     3.0  1260759179\n       2061              2     3.0  1260759182\n       2129              3     2.0  1260759185\n       2172              4     4.0  1260759205",
      "text/html": "<div>\n<style scoped>\n    .dataframe tbody tr th:only-of-type {\n        vertical-align: middle;\n    }\n\n    .dataframe tbody tr th {\n        vertical-align: top;\n    }\n\n    .dataframe thead th {\n        text-align: right;\n    }\n</style>\n<table border=\"1\" class=\"dataframe\">\n  <thead>\n    <tr style=\"text-align: right;\">\n      <th></th>\n      <th></th>\n      <th>Unnamed: 0</th>\n      <th>rating</th>\n      <th>timestamp</th>\n    </tr>\n    <tr>\n      <th>userId</th>\n      <th>movieId</th>\n      <th></th>\n      <th></th>\n      <th></th>\n    </tr>\n  </thead>\n  <tbody>\n    <tr>\n      <th rowspan=\"5\" valign=\"top\">1</th>\n      <th>1031</th>\n      <td>0</td>\n      <td>2.5</td>\n      <td>1260759144</td>\n    </tr>\n    <tr>\n      <th>2029</th>\n      <td>1</td>\n      <td>3.0</td>\n      <td>1260759179</td>\n    </tr>\n    <tr>\n      <th>2061</th>\n      <td>2</td>\n      <td>3.0</td>\n      <td>1260759182</td>\n    </tr>\n    <tr>\n      <th>2129</th>\n      <td>3</td>\n      <td>2.0</td>\n      <td>1260759185</td>\n    </tr>\n    <tr>\n      <th>2172</th>\n      <td>4</td>\n      <td>4.0</td>\n      <td>1260759205</td>\n    </tr>\n  </tbody>\n</table>\n</div>"
     },
     "metadata": {},
     "output_type": "display_data"
    },
    {
     "data": {
      "text/plain": "                rating   timestamp  is_test\nuserId movieId                             \n2      1017        5.0   835355681     True\n3      1318        5.0  1298862121     True\n4      1034        5.0   949919556     True\n5      1597        5.0  1163373711     True\n6      1293        5.0  1108134539     True",
      "text/html": "<div>\n<style scoped>\n    .dataframe tbody tr th:only-of-type {\n        vertical-align: middle;\n    }\n\n    .dataframe tbody tr th {\n        vertical-align: top;\n    }\n\n    .dataframe thead th {\n        text-align: right;\n    }\n</style>\n<table border=\"1\" class=\"dataframe\">\n  <thead>\n    <tr style=\"text-align: right;\">\n      <th></th>\n      <th></th>\n      <th>rating</th>\n      <th>timestamp</th>\n      <th>is_test</th>\n    </tr>\n    <tr>\n      <th>userId</th>\n      <th>movieId</th>\n      <th></th>\n      <th></th>\n      <th></th>\n    </tr>\n  </thead>\n  <tbody>\n    <tr>\n      <th>2</th>\n      <th>1017</th>\n      <td>5.0</td>\n      <td>835355681</td>\n      <td>True</td>\n    </tr>\n    <tr>\n      <th>3</th>\n      <th>1318</th>\n      <td>5.0</td>\n      <td>1298862121</td>\n      <td>True</td>\n    </tr>\n    <tr>\n      <th>4</th>\n      <th>1034</th>\n      <td>5.0</td>\n      <td>949919556</td>\n      <td>True</td>\n    </tr>\n    <tr>\n      <th>5</th>\n      <th>1597</th>\n      <td>5.0</td>\n      <td>1163373711</td>\n      <td>True</td>\n    </tr>\n    <tr>\n      <th>6</th>\n      <th>1293</th>\n      <td>5.0</td>\n      <td>1108134539</td>\n      <td>True</td>\n    </tr>\n  </tbody>\n</table>\n</div>"
     },
     "metadata": {},
     "output_type": "display_data"
    }
   ],
   "source": [
    "# ratings df\n",
    "display(ratings.head())\n",
    "#display(ratings.describe())\n",
    "\n",
    "# test df\n",
    "display(test.head())\n",
    "#display(test.describe())"
   ],
   "metadata": {
    "collapsed": false,
    "pycharm": {
     "name": "#%%\n"
    }
   }
  },
  {
   "cell_type": "code",
   "execution_count": 6,
   "outputs": [
    {
     "name": "stdout",
     "output_type": "stream",
     "text": [
      "len(ratings):  100004\n",
      "len(test):  644\n",
      "len(ratings):  99360\n"
     ]
    }
   ],
   "source": [
    "# remove test edges from ratings\n",
    "print(\"len(ratings): \", len(ratings))\n",
    "print(\"len(test): \", len(test))\n",
    "ratings = ratings[~ratings.index.isin(test.index)]\n",
    "print(\"len(ratings): \", len(ratings))"
   ],
   "metadata": {
    "collapsed": false,
    "pycharm": {
     "name": "#%%\n"
    }
   }
  },
  {
   "cell_type": "code",
   "execution_count": 7,
   "outputs": [],
   "source": [
    "def emb_from_row(row):\n",
    "    \"\"\"get node embedding np array from df row\"\"\"\n",
    "    return row.to_numpy().flatten()\n",
    "\n",
    "def emb_distance(emb1, emb2):\n",
    "    \"\"\"computes the euclidean distance between two node embeddings\"\"\"\n",
    "    return np.linalg.norm(emb1-emb2)"
   ],
   "metadata": {
    "collapsed": false,
    "pycharm": {
     "name": "#%%\n"
    }
   }
  },
  {
   "cell_type": "code",
   "execution_count": 8,
   "outputs": [
    {
     "name": "stdout",
     "output_type": "stream",
     "text": [
      "len(df):  3727\n",
      "len(userIds):  671\n",
      "len(df_movies):  3113\n"
     ]
    }
   ],
   "source": [
    "# get dataframe with movie embeddings\n",
    "print(\"len(df): \", len(df))\n",
    "userIds = ratings.index.get_level_values(level=\"userId\").unique()\n",
    "print(\"len(userIds): \", len(userIds))\n",
    "df_movies = df[~df.index.isin(userIds)]\n",
    "print(\"len(df_movies): \", len(df_movies))"
   ],
   "metadata": {
    "collapsed": false,
    "pycharm": {
     "name": "#%%\n"
    }
   }
  },
  {
   "cell_type": "code",
   "execution_count": null,
   "outputs": [
    {
     "name": "stdout",
     "output_type": "stream",
     "text": [
      "10/644\n",
      "20/644\n",
      "30/644\n",
      "40/644\n",
      "60/644\n",
      "70/644\n",
      "80/644\n",
      "90/644\n",
      "100/644\n",
      "110/644\n",
      "120/644\n",
      "130/644\n",
      "150/644\n",
      "160/644\n",
      "180/644\n",
      "190/644\n",
      "200/644\n",
      "220/644\n",
      "230/644\n",
      "240/644\n",
      "250/644\n",
      "260/644\n",
      "270/644\n",
      "280/644\n",
      "290/644\n",
      "300/644\n",
      "320/644\n",
      "330/644\n",
      "340/644\n",
      "350/644\n",
      "360/644\n",
      "370/644\n",
      "380/644\n",
      "390/644\n",
      "400/644\n",
      "410/644\n",
      "420/644\n",
      "430/644\n",
      "440/644\n",
      "450/644\n",
      "460/644\n",
      "480/644\n",
      "490/644\n",
      "500/644\n",
      "510/644\n",
      "520/644\n",
      "530/644\n",
      "550/644\n",
      "560/644\n",
      "570/644\n",
      "580/644\n",
      "590/644\n"
     ]
    }
   ],
   "source": [
    "# compute Top-N lists for test dataset\n",
    "# for each testing row (for each user)\n",
    "results = {}\n",
    "for i, test_row in test.iterrows():\n",
    "    userId = i[0]\n",
    "    if not userId in df.index: continue # for users with only one rating\n",
    "    user_emb = emb_from_row(df.loc[userId])\n",
    "\n",
    "    # get user's unwatched movies\n",
    "    #print(\"len(df_movies): \", len(df_movies))\n",
    "    movies_watched = ratings.query(f\"userId == {userId}\").index.get_level_values(\"movieId\")\n",
    "    #print(\"len(movies_watched): \", len(movies_watched))\n",
    "    df_movies_unwatched = df_movies[~df_movies.index.isin(movies_watched)]\n",
    "    #print(\"len(df_movies_unwatched): \", len(df_movies_unwatched))\n",
    "\n",
    "    # generate user's top_list from all unwatched movies\n",
    "    distances = {}\n",
    "    top_list = SortedDict()\n",
    "    for movie_id, node_row in df_movies_unwatched.iterrows():\n",
    "        node_emb = emb_from_row(node_row)\n",
    "        dist = emb_distance(user_emb, node_emb)\n",
    "        top_list[dist] = movie_id\n",
    "        distances[movie_id] = dist\n",
    "\n",
    "    results[userId] = top_list, distances\n",
    "    if userId % 10 == 0: print(f\"{userId}/{len(test)}\")"
   ],
   "metadata": {
    "collapsed": false,
    "pycharm": {
     "name": "#%%\n",
     "is_executing": true
    }
   }
  },
  {
   "cell_type": "code",
   "execution_count": null,
   "outputs": [],
   "source": [
    "ratings.loc[14]"
   ],
   "metadata": {
    "collapsed": false,
    "pycharm": {
     "name": "#%%\n",
     "is_executing": true
    }
   }
  },
  {
   "cell_type": "code",
   "execution_count": null,
   "outputs": [],
   "source": [
    "N = 50\n",
    "\n",
    "# counters\n",
    "hits = 0\n",
    "misses = 0\n",
    "\n",
    "for userId in results.keys():\n",
    "    (top_list, distances) = results[userId]\n",
    "\n",
    "    # get Top-N movies to watch\n",
    "    top_N = top_list.values()[:N]\n",
    "\n",
    "    # get user's test movie\n",
    "    test_movie = test.query(f\"userId == {userId}\").index.get_level_values('movieId')[0]\n",
    "\n",
    "    # evaluate\n",
    "    hit = test_movie in top_N\n",
    "    if hit:\n",
    "        hits += 1\n",
    "    else:\n",
    "        misses += 1\n",
    "\n",
    "    print(f\"Movie {test_movie} {'found' if hit else 'not found'} in user {userId}'s Top-{N} list: \", top_N)\n"
   ],
   "metadata": {
    "collapsed": false,
    "pycharm": {
     "name": "#%%\n",
     "is_executing": true
    }
   }
  },
  {
   "cell_type": "code",
   "execution_count": null,
   "outputs": [],
   "source": [
    "print(\"hits: \", hits)\n",
    "print(\"misses: \", misses)\n"
   ],
   "metadata": {
    "collapsed": false,
    "pycharm": {
     "name": "#%%\n",
     "is_executing": true
    }
   }
  }
 ],
 "metadata": {
  "kernelspec": {
   "name": "pycharm-97a28330",
   "language": "python",
   "display_name": "PyCharm (ComE_BGMM)"
  },
  "language_info": {
   "codemirror_mode": {
    "name": "ipython",
    "version": 2
   },
   "file_extension": ".py",
   "mimetype": "text/x-python",
   "name": "python",
   "nbconvert_exporter": "python",
   "pygments_lexer": "ipython2",
   "version": "2.7.6"
  }
 },
 "nbformat": 4,
 "nbformat_minor": 0
}