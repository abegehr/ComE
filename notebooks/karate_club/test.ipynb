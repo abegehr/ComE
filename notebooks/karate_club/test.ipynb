{
 "cells": [
  {
   "cell_type": "code",
   "execution_count": 67,
   "metadata": {
    "collapsed": true
   },
   "outputs": [],
   "source": [
    "import sys\n",
    "sys.path.append('../../')\n",
    "\n",
    "from IPython.core.display import display\n",
    "import numpy as np\n",
    "import pandas as pd\n",
    "import networkx as nx\n",
    "from sortedcontainers import SortedDict\n",
    "import matplotlib.pyplot as plt\n",
    "import seaborn as sns\n",
    "from  matplotlib.ticker import PercentFormatter"
   ]
  },
  {
   "cell_type": "code",
   "execution_count": 7,
   "outputs": [
    {
     "name": "stderr",
     "output_type": "stream",
     "text": [
      "/Users/anton/miniconda3/envs/MT/lib/python3.6/site-packages/ipykernel_launcher.py:5: ParserWarning: Falling back to the 'python' engine because the 'c' engine does not support regex separators (separators > 1 char and different from '\\s+' are interpreted as regex); you can avoid this warning by specifying engine='python'.\n",
      "  \"\"\"\n"
     ]
    },
    {
     "data": {
      "text/plain": "             1         2\nnode                    \n0    -0.005211 -1.090077\n1     0.234183 -0.874326\n2     0.490883 -0.682946\n3     0.169664 -0.959395\n4    -0.221307 -1.477360\n5    -0.356060 -1.700488\n6    -0.310993 -1.730003\n7     0.166877 -0.969558\n8     0.706476 -0.545441\n9     0.813209 -0.513318\n10   -0.232803 -1.459659\n11    0.052465 -1.170051\n12    0.122514 -1.033933\n13    0.352971 -0.795364\n14    1.451908 -0.372086\n15    1.431855 -0.357774\n16   -0.412848 -2.036346\n17    0.099156 -1.039841\n18    1.406106 -0.381833\n19    0.357884 -0.748953\n20    1.522635 -0.361033\n21    0.179045 -0.984934\n22    1.413654 -0.391335\n23    1.661324 -0.374435\n24    1.256188 -0.407276\n25    1.329393 -0.365966\n26    1.552133 -0.354065\n27    1.124270 -0.442584\n28    0.953360 -0.477570\n29    1.658902 -0.348751\n30    0.661464 -0.590565\n31    0.954997 -0.445263\n32    1.299765 -0.392564\n33    1.119008 -0.406907",
      "text/html": "<div>\n<style scoped>\n    .dataframe tbody tr th:only-of-type {\n        vertical-align: middle;\n    }\n\n    .dataframe tbody tr th {\n        vertical-align: top;\n    }\n\n    .dataframe thead th {\n        text-align: right;\n    }\n</style>\n<table border=\"1\" class=\"dataframe\">\n  <thead>\n    <tr style=\"text-align: right;\">\n      <th></th>\n      <th>1</th>\n      <th>2</th>\n    </tr>\n    <tr>\n      <th>node</th>\n      <th></th>\n      <th></th>\n    </tr>\n  </thead>\n  <tbody>\n    <tr>\n      <th>0</th>\n      <td>-0.005211</td>\n      <td>-1.090077</td>\n    </tr>\n    <tr>\n      <th>1</th>\n      <td>0.234183</td>\n      <td>-0.874326</td>\n    </tr>\n    <tr>\n      <th>2</th>\n      <td>0.490883</td>\n      <td>-0.682946</td>\n    </tr>\n    <tr>\n      <th>3</th>\n      <td>0.169664</td>\n      <td>-0.959395</td>\n    </tr>\n    <tr>\n      <th>4</th>\n      <td>-0.221307</td>\n      <td>-1.477360</td>\n    </tr>\n    <tr>\n      <th>5</th>\n      <td>-0.356060</td>\n      <td>-1.700488</td>\n    </tr>\n    <tr>\n      <th>6</th>\n      <td>-0.310993</td>\n      <td>-1.730003</td>\n    </tr>\n    <tr>\n      <th>7</th>\n      <td>0.166877</td>\n      <td>-0.969558</td>\n    </tr>\n    <tr>\n      <th>8</th>\n      <td>0.706476</td>\n      <td>-0.545441</td>\n    </tr>\n    <tr>\n      <th>9</th>\n      <td>0.813209</td>\n      <td>-0.513318</td>\n    </tr>\n    <tr>\n      <th>10</th>\n      <td>-0.232803</td>\n      <td>-1.459659</td>\n    </tr>\n    <tr>\n      <th>11</th>\n      <td>0.052465</td>\n      <td>-1.170051</td>\n    </tr>\n    <tr>\n      <th>12</th>\n      <td>0.122514</td>\n      <td>-1.033933</td>\n    </tr>\n    <tr>\n      <th>13</th>\n      <td>0.352971</td>\n      <td>-0.795364</td>\n    </tr>\n    <tr>\n      <th>14</th>\n      <td>1.451908</td>\n      <td>-0.372086</td>\n    </tr>\n    <tr>\n      <th>15</th>\n      <td>1.431855</td>\n      <td>-0.357774</td>\n    </tr>\n    <tr>\n      <th>16</th>\n      <td>-0.412848</td>\n      <td>-2.036346</td>\n    </tr>\n    <tr>\n      <th>17</th>\n      <td>0.099156</td>\n      <td>-1.039841</td>\n    </tr>\n    <tr>\n      <th>18</th>\n      <td>1.406106</td>\n      <td>-0.381833</td>\n    </tr>\n    <tr>\n      <th>19</th>\n      <td>0.357884</td>\n      <td>-0.748953</td>\n    </tr>\n    <tr>\n      <th>20</th>\n      <td>1.522635</td>\n      <td>-0.361033</td>\n    </tr>\n    <tr>\n      <th>21</th>\n      <td>0.179045</td>\n      <td>-0.984934</td>\n    </tr>\n    <tr>\n      <th>22</th>\n      <td>1.413654</td>\n      <td>-0.391335</td>\n    </tr>\n    <tr>\n      <th>23</th>\n      <td>1.661324</td>\n      <td>-0.374435</td>\n    </tr>\n    <tr>\n      <th>24</th>\n      <td>1.256188</td>\n      <td>-0.407276</td>\n    </tr>\n    <tr>\n      <th>25</th>\n      <td>1.329393</td>\n      <td>-0.365966</td>\n    </tr>\n    <tr>\n      <th>26</th>\n      <td>1.552133</td>\n      <td>-0.354065</td>\n    </tr>\n    <tr>\n      <th>27</th>\n      <td>1.124270</td>\n      <td>-0.442584</td>\n    </tr>\n    <tr>\n      <th>28</th>\n      <td>0.953360</td>\n      <td>-0.477570</td>\n    </tr>\n    <tr>\n      <th>29</th>\n      <td>1.658902</td>\n      <td>-0.348751</td>\n    </tr>\n    <tr>\n      <th>30</th>\n      <td>0.661464</td>\n      <td>-0.590565</td>\n    </tr>\n    <tr>\n      <th>31</th>\n      <td>0.954997</td>\n      <td>-0.445263</td>\n    </tr>\n    <tr>\n      <th>32</th>\n      <td>1.299765</td>\n      <td>-0.392564</td>\n    </tr>\n    <tr>\n      <th>33</th>\n      <td>1.119008</td>\n      <td>-0.406907</td>\n    </tr>\n  </tbody>\n</table>\n</div>"
     },
     "execution_count": 7,
     "metadata": {},
     "output_type": "execute_result"
    }
   ],
   "source": [
    "# import node embeddings\n",
    "df = pd.read_csv(\n",
    "    \"./karate_club_alpha-0.1_beta-0.1_ws-10_neg-5_lr-0.025_icom-362_ind-362_k-5_ds-0.0.txt\",\n",
    "    sep=\"\\t| \",\n",
    "    header=None\n",
    ")\n",
    "df = df.rename(columns={0: 'node'})\n",
    "df.set_index(['node'], inplace=True)\n",
    "df"
   ],
   "metadata": {
    "collapsed": false,
    "pycharm": {
     "name": "#%%\n"
    }
   }
  },
  {
   "cell_type": "code",
   "execution_count": 6,
   "outputs": [
    {
     "data": {
      "text/plain": "    label\n0       0\n1       0\n2       0\n3       0\n4       0\n5       0\n6       0\n7       0\n8       1\n9       1\n10      0\n11      0\n12      0\n13      0\n14      1\n15      1\n16      0\n17      0\n18      1\n19      0\n20      1\n21      0\n22      1\n23      1\n24      1\n25      1\n26      1\n27      1\n28      1\n29      1\n30      1\n31      1\n32      1\n33      1",
      "text/html": "<div>\n<style scoped>\n    .dataframe tbody tr th:only-of-type {\n        vertical-align: middle;\n    }\n\n    .dataframe tbody tr th {\n        vertical-align: top;\n    }\n\n    .dataframe thead th {\n        text-align: right;\n    }\n</style>\n<table border=\"1\" class=\"dataframe\">\n  <thead>\n    <tr style=\"text-align: right;\">\n      <th></th>\n      <th>label</th>\n    </tr>\n  </thead>\n  <tbody>\n    <tr>\n      <th>0</th>\n      <td>0</td>\n    </tr>\n    <tr>\n      <th>1</th>\n      <td>0</td>\n    </tr>\n    <tr>\n      <th>2</th>\n      <td>0</td>\n    </tr>\n    <tr>\n      <th>3</th>\n      <td>0</td>\n    </tr>\n    <tr>\n      <th>4</th>\n      <td>0</td>\n    </tr>\n    <tr>\n      <th>5</th>\n      <td>0</td>\n    </tr>\n    <tr>\n      <th>6</th>\n      <td>0</td>\n    </tr>\n    <tr>\n      <th>7</th>\n      <td>0</td>\n    </tr>\n    <tr>\n      <th>8</th>\n      <td>1</td>\n    </tr>\n    <tr>\n      <th>9</th>\n      <td>1</td>\n    </tr>\n    <tr>\n      <th>10</th>\n      <td>0</td>\n    </tr>\n    <tr>\n      <th>11</th>\n      <td>0</td>\n    </tr>\n    <tr>\n      <th>12</th>\n      <td>0</td>\n    </tr>\n    <tr>\n      <th>13</th>\n      <td>0</td>\n    </tr>\n    <tr>\n      <th>14</th>\n      <td>1</td>\n    </tr>\n    <tr>\n      <th>15</th>\n      <td>1</td>\n    </tr>\n    <tr>\n      <th>16</th>\n      <td>0</td>\n    </tr>\n    <tr>\n      <th>17</th>\n      <td>0</td>\n    </tr>\n    <tr>\n      <th>18</th>\n      <td>1</td>\n    </tr>\n    <tr>\n      <th>19</th>\n      <td>0</td>\n    </tr>\n    <tr>\n      <th>20</th>\n      <td>1</td>\n    </tr>\n    <tr>\n      <th>21</th>\n      <td>0</td>\n    </tr>\n    <tr>\n      <th>22</th>\n      <td>1</td>\n    </tr>\n    <tr>\n      <th>23</th>\n      <td>1</td>\n    </tr>\n    <tr>\n      <th>24</th>\n      <td>1</td>\n    </tr>\n    <tr>\n      <th>25</th>\n      <td>1</td>\n    </tr>\n    <tr>\n      <th>26</th>\n      <td>1</td>\n    </tr>\n    <tr>\n      <th>27</th>\n      <td>1</td>\n    </tr>\n    <tr>\n      <th>28</th>\n      <td>1</td>\n    </tr>\n    <tr>\n      <th>29</th>\n      <td>1</td>\n    </tr>\n    <tr>\n      <th>30</th>\n      <td>1</td>\n    </tr>\n    <tr>\n      <th>31</th>\n      <td>1</td>\n    </tr>\n    <tr>\n      <th>32</th>\n      <td>1</td>\n    </tr>\n    <tr>\n      <th>33</th>\n      <td>1</td>\n    </tr>\n  </tbody>\n</table>\n</div>"
     },
     "execution_count": 6,
     "metadata": {},
     "output_type": "execute_result"
    }
   ],
   "source": [
    "# import predicted labels\n",
    "labels = pd.read_csv(\"./labels_pred.txt\", header=None)\n",
    "labels = labels.rename(columns={0: 'label'})\n",
    "labels.label = labels.astype(int)\n",
    "labels"
   ],
   "metadata": {
    "collapsed": false,
    "pycharm": {
     "name": "#%%\n"
    }
   }
  },
  {
   "cell_type": "code",
   "execution_count": 8,
   "outputs": [],
   "source": [
    "df = df.join(labels)"
   ],
   "metadata": {
    "collapsed": false,
    "pycharm": {
     "name": "#%% join labels to embeddings\n"
    }
   }
  },
  {
   "cell_type": "code",
   "execution_count": 10,
   "outputs": [
    {
     "data": {
      "text/plain": "             1         2  label\nnode                           \n0    -0.005211 -1.090077      0\n1     0.234183 -0.874326      0\n2     0.490883 -0.682946      0\n3     0.169664 -0.959395      0\n4    -0.221307 -1.477360      0\n5    -0.356060 -1.700488      0\n6    -0.310993 -1.730003      0\n7     0.166877 -0.969558      0\n8     0.706476 -0.545441      1\n9     0.813209 -0.513318      1\n10   -0.232803 -1.459659      0\n11    0.052465 -1.170051      0\n12    0.122514 -1.033933      0\n13    0.352971 -0.795364      0\n14    1.451908 -0.372086      1\n15    1.431855 -0.357774      1\n16   -0.412848 -2.036346      0\n17    0.099156 -1.039841      0\n18    1.406106 -0.381833      1\n19    0.357884 -0.748953      0\n20    1.522635 -0.361033      1\n21    0.179045 -0.984934      0\n22    1.413654 -0.391335      1\n23    1.661324 -0.374435      1\n24    1.256188 -0.407276      1\n25    1.329393 -0.365966      1\n26    1.552133 -0.354065      1\n27    1.124270 -0.442584      1\n28    0.953360 -0.477570      1\n29    1.658902 -0.348751      1\n30    0.661464 -0.590565      1\n31    0.954997 -0.445263      1\n32    1.299765 -0.392564      1\n33    1.119008 -0.406907      1",
      "text/html": "<div>\n<style scoped>\n    .dataframe tbody tr th:only-of-type {\n        vertical-align: middle;\n    }\n\n    .dataframe tbody tr th {\n        vertical-align: top;\n    }\n\n    .dataframe thead th {\n        text-align: right;\n    }\n</style>\n<table border=\"1\" class=\"dataframe\">\n  <thead>\n    <tr style=\"text-align: right;\">\n      <th></th>\n      <th>1</th>\n      <th>2</th>\n      <th>label</th>\n    </tr>\n    <tr>\n      <th>node</th>\n      <th></th>\n      <th></th>\n      <th></th>\n    </tr>\n  </thead>\n  <tbody>\n    <tr>\n      <th>0</th>\n      <td>-0.005211</td>\n      <td>-1.090077</td>\n      <td>0</td>\n    </tr>\n    <tr>\n      <th>1</th>\n      <td>0.234183</td>\n      <td>-0.874326</td>\n      <td>0</td>\n    </tr>\n    <tr>\n      <th>2</th>\n      <td>0.490883</td>\n      <td>-0.682946</td>\n      <td>0</td>\n    </tr>\n    <tr>\n      <th>3</th>\n      <td>0.169664</td>\n      <td>-0.959395</td>\n      <td>0</td>\n    </tr>\n    <tr>\n      <th>4</th>\n      <td>-0.221307</td>\n      <td>-1.477360</td>\n      <td>0</td>\n    </tr>\n    <tr>\n      <th>5</th>\n      <td>-0.356060</td>\n      <td>-1.700488</td>\n      <td>0</td>\n    </tr>\n    <tr>\n      <th>6</th>\n      <td>-0.310993</td>\n      <td>-1.730003</td>\n      <td>0</td>\n    </tr>\n    <tr>\n      <th>7</th>\n      <td>0.166877</td>\n      <td>-0.969558</td>\n      <td>0</td>\n    </tr>\n    <tr>\n      <th>8</th>\n      <td>0.706476</td>\n      <td>-0.545441</td>\n      <td>1</td>\n    </tr>\n    <tr>\n      <th>9</th>\n      <td>0.813209</td>\n      <td>-0.513318</td>\n      <td>1</td>\n    </tr>\n    <tr>\n      <th>10</th>\n      <td>-0.232803</td>\n      <td>-1.459659</td>\n      <td>0</td>\n    </tr>\n    <tr>\n      <th>11</th>\n      <td>0.052465</td>\n      <td>-1.170051</td>\n      <td>0</td>\n    </tr>\n    <tr>\n      <th>12</th>\n      <td>0.122514</td>\n      <td>-1.033933</td>\n      <td>0</td>\n    </tr>\n    <tr>\n      <th>13</th>\n      <td>0.352971</td>\n      <td>-0.795364</td>\n      <td>0</td>\n    </tr>\n    <tr>\n      <th>14</th>\n      <td>1.451908</td>\n      <td>-0.372086</td>\n      <td>1</td>\n    </tr>\n    <tr>\n      <th>15</th>\n      <td>1.431855</td>\n      <td>-0.357774</td>\n      <td>1</td>\n    </tr>\n    <tr>\n      <th>16</th>\n      <td>-0.412848</td>\n      <td>-2.036346</td>\n      <td>0</td>\n    </tr>\n    <tr>\n      <th>17</th>\n      <td>0.099156</td>\n      <td>-1.039841</td>\n      <td>0</td>\n    </tr>\n    <tr>\n      <th>18</th>\n      <td>1.406106</td>\n      <td>-0.381833</td>\n      <td>1</td>\n    </tr>\n    <tr>\n      <th>19</th>\n      <td>0.357884</td>\n      <td>-0.748953</td>\n      <td>0</td>\n    </tr>\n    <tr>\n      <th>20</th>\n      <td>1.522635</td>\n      <td>-0.361033</td>\n      <td>1</td>\n    </tr>\n    <tr>\n      <th>21</th>\n      <td>0.179045</td>\n      <td>-0.984934</td>\n      <td>0</td>\n    </tr>\n    <tr>\n      <th>22</th>\n      <td>1.413654</td>\n      <td>-0.391335</td>\n      <td>1</td>\n    </tr>\n    <tr>\n      <th>23</th>\n      <td>1.661324</td>\n      <td>-0.374435</td>\n      <td>1</td>\n    </tr>\n    <tr>\n      <th>24</th>\n      <td>1.256188</td>\n      <td>-0.407276</td>\n      <td>1</td>\n    </tr>\n    <tr>\n      <th>25</th>\n      <td>1.329393</td>\n      <td>-0.365966</td>\n      <td>1</td>\n    </tr>\n    <tr>\n      <th>26</th>\n      <td>1.552133</td>\n      <td>-0.354065</td>\n      <td>1</td>\n    </tr>\n    <tr>\n      <th>27</th>\n      <td>1.124270</td>\n      <td>-0.442584</td>\n      <td>1</td>\n    </tr>\n    <tr>\n      <th>28</th>\n      <td>0.953360</td>\n      <td>-0.477570</td>\n      <td>1</td>\n    </tr>\n    <tr>\n      <th>29</th>\n      <td>1.658902</td>\n      <td>-0.348751</td>\n      <td>1</td>\n    </tr>\n    <tr>\n      <th>30</th>\n      <td>0.661464</td>\n      <td>-0.590565</td>\n      <td>1</td>\n    </tr>\n    <tr>\n      <th>31</th>\n      <td>0.954997</td>\n      <td>-0.445263</td>\n      <td>1</td>\n    </tr>\n    <tr>\n      <th>32</th>\n      <td>1.299765</td>\n      <td>-0.392564</td>\n      <td>1</td>\n    </tr>\n    <tr>\n      <th>33</th>\n      <td>1.119008</td>\n      <td>-0.406907</td>\n      <td>1</td>\n    </tr>\n  </tbody>\n</table>\n</div>"
     },
     "metadata": {},
     "output_type": "display_data"
    },
    {
     "data": {
      "text/plain": "               1          2      label\ncount  34.000000  34.000000  34.000000\nmean    0.676561  -0.773000   0.529412\nstd     0.672893   0.467923   0.506640\nmin    -0.412848  -2.036346   0.000000\n25%     0.133605  -1.021683   0.000000\n50%     0.683970  -0.568003   1.000000\n75%     1.321986  -0.391642   1.000000\nmax     1.661324  -0.348751   1.000000",
      "text/html": "<div>\n<style scoped>\n    .dataframe tbody tr th:only-of-type {\n        vertical-align: middle;\n    }\n\n    .dataframe tbody tr th {\n        vertical-align: top;\n    }\n\n    .dataframe thead th {\n        text-align: right;\n    }\n</style>\n<table border=\"1\" class=\"dataframe\">\n  <thead>\n    <tr style=\"text-align: right;\">\n      <th></th>\n      <th>1</th>\n      <th>2</th>\n      <th>label</th>\n    </tr>\n  </thead>\n  <tbody>\n    <tr>\n      <th>count</th>\n      <td>34.000000</td>\n      <td>34.000000</td>\n      <td>34.000000</td>\n    </tr>\n    <tr>\n      <th>mean</th>\n      <td>0.676561</td>\n      <td>-0.773000</td>\n      <td>0.529412</td>\n    </tr>\n    <tr>\n      <th>std</th>\n      <td>0.672893</td>\n      <td>0.467923</td>\n      <td>0.506640</td>\n    </tr>\n    <tr>\n      <th>min</th>\n      <td>-0.412848</td>\n      <td>-2.036346</td>\n      <td>0.000000</td>\n    </tr>\n    <tr>\n      <th>25%</th>\n      <td>0.133605</td>\n      <td>-1.021683</td>\n      <td>0.000000</td>\n    </tr>\n    <tr>\n      <th>50%</th>\n      <td>0.683970</td>\n      <td>-0.568003</td>\n      <td>1.000000</td>\n    </tr>\n    <tr>\n      <th>75%</th>\n      <td>1.321986</td>\n      <td>-0.391642</td>\n      <td>1.000000</td>\n    </tr>\n    <tr>\n      <th>max</th>\n      <td>1.661324</td>\n      <td>-0.348751</td>\n      <td>1.000000</td>\n    </tr>\n  </tbody>\n</table>\n</div>"
     },
     "metadata": {},
     "output_type": "display_data"
    }
   ],
   "source": [
    "# node embeddings\n",
    "display(df)\n",
    "display(df.describe())"
   ],
   "metadata": {
    "collapsed": false,
    "pycharm": {
     "name": "#%%\n"
    }
   }
  },
  {
   "cell_type": "code",
   "execution_count": 15,
   "outputs": [],
   "source": [
    "def emb_from_row(row):\n",
    "    \"\"\"get node embedding np array from df row\"\"\"\n",
    "    return row.drop('label').to_numpy().flatten()\n",
    "\n",
    "def emb_distance(emb1, emb2):\n",
    "    \"\"\"computes the euclidean distance between two node embeddings\"\"\"\n",
    "    return np.linalg.norm(emb1-emb2)"
   ],
   "metadata": {
    "collapsed": false,
    "pycharm": {
     "name": "#%%\n"
    }
   }
  },
  {
   "cell_type": "code",
   "execution_count": 13,
   "outputs": [
    {
     "name": "stdout",
     "output_type": "stream",
     "text": [
      "PRE NUM_OF_EDGES:  78\n",
      "POST NUM_OF_EDGES:  75\n"
     ]
    }
   ],
   "source": [
    "# get nx train graph\n",
    "G = nx.karate_club_graph()\n",
    "\n",
    "# DEBUG remove some edges for karate_club\n",
    "print(\"PRE NUM_OF_EDGES: \", G.number_of_edges())\n",
    "G.remove_edge(33, 23)\n",
    "G.remove_edge(0, 1)\n",
    "G.remove_edge(32, 30)\n",
    "print(\"POST NUM_OF_EDGES: \", G.number_of_edges())"
   ],
   "metadata": {
    "collapsed": false,
    "pycharm": {
     "name": "#%%\n"
    }
   }
  },
  {
   "cell_type": "code",
   "execution_count": 40,
   "outputs": [
    {
     "name": "stdout",
     "output_type": "stream",
     "text": [
      "user_label:  1.0\n",
      "user_emb:  [ 1.1190075  -0.40690675]\n",
      "len(users_in_community):  18\n",
      "len(friends):  16\n",
      "len(not_friends_in_community):  3\n",
      "0/3\n",
      "user_label:  0.0\n",
      "user_emb:  [-0.00521125 -1.0900768 ]\n",
      "len(users_in_community):  16\n",
      "len(friends):  15\n",
      "len(not_friends_in_community):  2\n",
      "1/3\n",
      "user_label:  1.0\n",
      "user_emb:  [ 1.2997648  -0.39256394]\n",
      "len(users_in_community):  18\n",
      "len(friends):  11\n",
      "len(not_friends_in_community):  7\n",
      "2/3\n"
     ]
    }
   ],
   "source": [
    "test_users = [33, 0, 32]\n",
    "test_friends = {\n",
    "    33: 23,\n",
    "    0: 1,\n",
    "    32: 30\n",
    "}\n",
    "\n",
    "# compute Top-N lists for test dataset\n",
    "# for each testing row\n",
    "results = {}\n",
    "for i, userId in enumerate(test_users):\n",
    "    if not userId in df.index: continue\n",
    "    user_label = df.loc[userId].label\n",
    "    print(\"user_label: \", user_label)\n",
    "    user_emb = emb_from_row(df.loc[userId])\n",
    "    print(\"user_emb: \", user_emb)\n",
    "\n",
    "    # get user's non_friends in user's community\n",
    "    # users_in_community\n",
    "    users_in_community = df[df.label == user_label]\n",
    "    print(\"len(users_in_community): \", len(users_in_community))\n",
    "    # friends\n",
    "    friends = list(G[userId])\n",
    "    print(\"len(friends): \", len(friends))\n",
    "    # not_friends_in_community\n",
    "    not_friends_in_community = users_in_community[~users_in_community.index.isin(friends+[userId])]\n",
    "    print(\"len(not_friends_in_community): \", len(not_friends_in_community))\n",
    "\n",
    "    # generate user's top_list from all not_friends\n",
    "    distances = {}\n",
    "    top_list = SortedDict()\n",
    "    for movie_id, node_row in not_friends_in_community.iterrows():\n",
    "        node_emb = emb_from_row(node_row)\n",
    "        dist = emb_distance(user_emb, node_emb)\n",
    "        top_list[dist] = movie_id\n",
    "        distances[movie_id] = dist\n",
    "\n",
    "    results[userId] = top_list, distances\n",
    "    print(f\"{i}/{len(test_users)}\")"
   ],
   "metadata": {
    "collapsed": false,
    "pycharm": {
     "name": "#%%\n"
    }
   }
  },
  {
   "cell_type": "code",
   "execution_count": 41,
   "outputs": [
    {
     "name": "stdout",
     "output_type": "stream",
     "text": [
      "Friend suggestion 23 found in user 33's Top-100 list:  [24, 25, 23]\n",
      "Friend suggestion 1 found in user 0's Top-100 list:  [1, 16]\n",
      "Friend suggestion 30 found in user 32's Top-100 list:  [25, 24, 27, 26, 28, 9, 30]\n"
     ]
    }
   ],
   "source": [
    "N = 100\n",
    "\n",
    "# counters\n",
    "hits = 0\n",
    "misses = 0\n",
    "\n",
    "for userId in results.keys():\n",
    "    (top_list, distances) = results[userId]\n",
    "\n",
    "    # get Top-N friend suggestions\n",
    "    top_N = top_list.values()[:N]\n",
    "\n",
    "    # get user's test friend\n",
    "    test_friend = test_friends[userId]\n",
    "\n",
    "    # evaluate\n",
    "    hit = test_friend in top_N\n",
    "    if hit:\n",
    "        hits += 1\n",
    "    else:\n",
    "        misses += 1\n",
    "\n",
    "    print(f\"Friend suggestion {test_friend} {'found' if hit else 'not found'} in user {userId}'s Top-{N} list: \", top_N)\n"
   ],
   "metadata": {
    "collapsed": false,
    "pycharm": {
     "name": "#%%\n"
    }
   }
  },
  {
   "cell_type": "code",
   "execution_count": null,
   "outputs": [],
   "source": [
    "print(\"hits: \", hits)\n",
    "print(\"misses: \", misses)"
   ],
   "metadata": {
    "collapsed": false,
    "pycharm": {
     "name": "#%%\n"
    }
   }
  },
  {
   "cell_type": "code",
   "execution_count": 54,
   "outputs": [
    {
     "data": {
      "text/plain": "[25, 24, 27, 26, 28, 9, 30]"
     },
     "execution_count": 54,
     "metadata": {},
     "output_type": "execute_result"
    }
   ],
   "source": [
    "list(results[32][0].values())"
   ],
   "metadata": {
    "collapsed": false,
    "pycharm": {
     "name": "#%%\n"
    }
   }
  },
  {
   "cell_type": "code",
   "execution_count": 75,
   "outputs": [
    {
     "data": {
      "text/plain": "<Figure size 432x288 with 1 Axes>",
      "image/png": "[encoded data removed]"
     },
     "metadata": {
      "needs_background": "light"
     },
     "output_type": "display_data"
    }
   ],
   "source": [
    "ax = sns.lineplot(x=[1,2,3,4,5,6,7], y=[1/3, 1/3, 2/3, 2/3, 2/3, 2/3, 3/3])\n",
    "ax.set(xlabel='N', ylabel='hit rate', ylim=(0, None))\n",
    "ax.yaxis.set_major_formatter(PercentFormatter(1))\n",
    "\n",
    "fig = ax.get_figure()\n",
    "fig.savefig(\"./hit_rates.png\")\n"
   ],
   "metadata": {
    "collapsed": false,
    "pycharm": {
     "name": "#%%\n"
    }
   }
  }
 ],
 "metadata": {
  "kernelspec": {
   "name": "pycharm-97a28330",
   "language": "python",
   "display_name": "PyCharm (ComE_BGMM)"
  },
  "language_info": {
   "codemirror_mode": {
    "name": "ipython",
    "version": 2
   },
   "file_extension": ".py",
   "mimetype": "text/x-python",
   "name": "python",
   "nbconvert_exporter": "python",
   "pygments_lexer": "ipython2",
   "version": "2.7.6"
  }
 },
 "nbformat": 4,
 "nbformat_minor": 0
}