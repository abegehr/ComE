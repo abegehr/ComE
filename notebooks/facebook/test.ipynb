{
 "cells": [
  {
   "cell_type": "code",
   "execution_count": 51,
   "metadata": {
    "collapsed": true,
    "pycharm": {
     "name": "#%%\n"
    }
   },
   "outputs": [],
   "source": [
    "import sys\n",
    "sys.path.append('../../')\n",
    "\n",
    "from IPython.core.display import display\n",
    "import numpy as np\n",
    "import pandas as pd\n",
    "import networkx as nx\n",
    "from sortedcontainers import SortedDict\n",
    "import seaborn as sns\n",
    "from  matplotlib.ticker import PercentFormatter\n",
    "import time"
   ]
  },
  {
   "cell_type": "code",
   "execution_count": 52,
   "outputs": [],
   "source": [
    "# settings\n",
    "sns.set_style(\"darkgrid\")\n",
    "dim = 2"
   ],
   "metadata": {
    "collapsed": false,
    "pycharm": {
     "name": "#%%\n"
    }
   }
  },
  {
   "cell_type": "code",
   "execution_count": 53,
   "outputs": [
    {
     "name": "stderr",
     "output_type": "stream",
     "text": [
      "/Users/anton/miniconda3/envs/MT/lib/python3.6/site-packages/ipykernel_launcher.py:5: ParserWarning: Falling back to the 'python' engine because the 'c' engine does not support regex separators (separators > 1 char and different from '\\s+' are interpreted as regex); you can avoid this warning by specifying engine='python'.\n",
      "  \"\"\"\n"
     ]
    }
   ],
   "source": [
    "# import node embeddings\n",
    "df = pd.read_csv(\n",
    "    f\"./data/facebook_alpha-0.1_beta-0.1_ws-10_neg-5_lr-0.025_icom-36_ind-36_ds-0.0_d-{dim}_type-BGMM_k-10.txt\",\n",
    "    sep=\"\\t| \",\n",
    "    header=None\n",
    ")\n",
    "df = df.rename(columns={0: 'node'})\n",
    "df.set_index(['node'], inplace=True)"
   ],
   "metadata": {
    "collapsed": false,
    "pycharm": {
     "name": "#%%\n"
    }
   }
  },
  {
   "cell_type": "code",
   "execution_count": 54,
   "outputs": [],
   "source": [
    "# import train\n",
    "train = pd.read_csv(\"./data/facebook_train.csv\", index_col=0)\n",
    "# import test\n",
    "test = pd.read_csv(\"./data/facebook_test.csv\", index_col=['u', 'v'])"
   ],
   "metadata": {
    "collapsed": false,
    "pycharm": {
     "name": "#%%\n"
    }
   }
  },
  {
   "cell_type": "code",
   "execution_count": 55,
   "outputs": [
    {
     "data": {
      "text/plain": "array([1., 1., 1., ..., 6., 6., 6.])"
     },
     "execution_count": 55,
     "metadata": {},
     "output_type": "execute_result"
    }
   ],
   "source": [
    "# import labels\n",
    "labels = np.genfromtxt(f\"./data/labels_pred_BGMM_d{dim}_k10.txt\")\n",
    "labels"
   ],
   "metadata": {
    "collapsed": false,
    "pycharm": {
     "name": "#%%\n"
    }
   }
  },
  {
   "cell_type": "code",
   "execution_count": 56,
   "outputs": [],
   "source": [
    "# add labels to embeddings\n",
    "df['label'] = labels"
   ],
   "metadata": {
    "collapsed": false,
    "pycharm": {
     "name": "#%%\n"
    }
   }
  },
  {
   "cell_type": "code",
   "execution_count": 57,
   "outputs": [
    {
     "data": {
      "text/plain": "             1         2  label\nnode                           \n0    -4.001292  4.017002    1.0\n1    -4.303226  4.328349    1.0\n2    -3.510165  3.493527    1.0\n3    -4.429653  4.469522    1.0\n4    -3.582412  3.565915    1.0",
      "text/html": "<div>\n<style scoped>\n    .dataframe tbody tr th:only-of-type {\n        vertical-align: middle;\n    }\n\n    .dataframe tbody tr th {\n        vertical-align: top;\n    }\n\n    .dataframe thead th {\n        text-align: right;\n    }\n</style>\n<table border=\"1\" class=\"dataframe\">\n  <thead>\n    <tr style=\"text-align: right;\">\n      <th></th>\n      <th>1</th>\n      <th>2</th>\n      <th>label</th>\n    </tr>\n    <tr>\n      <th>node</th>\n      <th></th>\n      <th></th>\n      <th></th>\n    </tr>\n  </thead>\n  <tbody>\n    <tr>\n      <th>0</th>\n      <td>-4.001292</td>\n      <td>4.017002</td>\n      <td>1.0</td>\n    </tr>\n    <tr>\n      <th>1</th>\n      <td>-4.303226</td>\n      <td>4.328349</td>\n      <td>1.0</td>\n    </tr>\n    <tr>\n      <th>2</th>\n      <td>-3.510165</td>\n      <td>3.493527</td>\n      <td>1.0</td>\n    </tr>\n    <tr>\n      <th>3</th>\n      <td>-4.429653</td>\n      <td>4.469522</td>\n      <td>1.0</td>\n    </tr>\n    <tr>\n      <th>4</th>\n      <td>-3.582412</td>\n      <td>3.565915</td>\n      <td>1.0</td>\n    </tr>\n  </tbody>\n</table>\n</div>"
     },
     "metadata": {},
     "output_type": "display_data"
    },
    {
     "data": {
      "text/plain": "                 1            2        label\ncount  3964.000000  3964.000000  3964.000000\nmean     -3.137470    -0.250075     2.614026\nstd       1.930306     3.969619     1.606467\nmin      -6.907726    -7.603607     1.000000\n25%      -4.914396    -3.758388     1.000000\n50%      -3.191420    -0.248374     2.000000\n75%      -1.127887     3.132293     3.000000\nmax      -0.400827     6.904348     6.000000",
      "text/html": "<div>\n<style scoped>\n    .dataframe tbody tr th:only-of-type {\n        vertical-align: middle;\n    }\n\n    .dataframe tbody tr th {\n        vertical-align: top;\n    }\n\n    .dataframe thead th {\n        text-align: right;\n    }\n</style>\n<table border=\"1\" class=\"dataframe\">\n  <thead>\n    <tr style=\"text-align: right;\">\n      <th></th>\n      <th>1</th>\n      <th>2</th>\n      <th>label</th>\n    </tr>\n  </thead>\n  <tbody>\n    <tr>\n      <th>count</th>\n      <td>3964.000000</td>\n      <td>3964.000000</td>\n      <td>3964.000000</td>\n    </tr>\n    <tr>\n      <th>mean</th>\n      <td>-3.137470</td>\n      <td>-0.250075</td>\n      <td>2.614026</td>\n    </tr>\n    <tr>\n      <th>std</th>\n      <td>1.930306</td>\n      <td>3.969619</td>\n      <td>1.606467</td>\n    </tr>\n    <tr>\n      <th>min</th>\n      <td>-6.907726</td>\n      <td>-7.603607</td>\n      <td>1.000000</td>\n    </tr>\n    <tr>\n      <th>25%</th>\n      <td>-4.914396</td>\n      <td>-3.758388</td>\n      <td>1.000000</td>\n    </tr>\n    <tr>\n      <th>50%</th>\n      <td>-3.191420</td>\n      <td>-0.248374</td>\n      <td>2.000000</td>\n    </tr>\n    <tr>\n      <th>75%</th>\n      <td>-1.127887</td>\n      <td>3.132293</td>\n      <td>3.000000</td>\n    </tr>\n    <tr>\n      <th>max</th>\n      <td>-0.400827</td>\n      <td>6.904348</td>\n      <td>6.000000</td>\n    </tr>\n  </tbody>\n</table>\n</div>"
     },
     "metadata": {},
     "output_type": "display_data"
    },
    {
     "data": {
      "text/plain": "   u  v\n0  0  1\n1  0  2\n2  0  3\n3  0  4\n4  0  5",
      "text/html": "<div>\n<style scoped>\n    .dataframe tbody tr th:only-of-type {\n        vertical-align: middle;\n    }\n\n    .dataframe tbody tr th {\n        vertical-align: top;\n    }\n\n    .dataframe thead th {\n        text-align: right;\n    }\n</style>\n<table border=\"1\" class=\"dataframe\">\n  <thead>\n    <tr style=\"text-align: right;\">\n      <th></th>\n      <th>u</th>\n      <th>v</th>\n    </tr>\n  </thead>\n  <tbody>\n    <tr>\n      <th>0</th>\n      <td>0</td>\n      <td>1</td>\n    </tr>\n    <tr>\n      <th>1</th>\n      <td>0</td>\n      <td>2</td>\n    </tr>\n    <tr>\n      <th>2</th>\n      <td>0</td>\n      <td>3</td>\n    </tr>\n    <tr>\n      <th>3</th>\n      <td>0</td>\n      <td>4</td>\n    </tr>\n    <tr>\n      <th>4</th>\n      <td>0</td>\n      <td>5</td>\n    </tr>\n  </tbody>\n</table>\n</div>"
     },
     "metadata": {},
     "output_type": "display_data"
    },
    {
     "data": {
      "text/plain": "                  u             v\ncount  86999.000000  86999.000000\nmean    1865.069449   2154.507420\nstd      910.682085    894.143924\nmin        0.000000      1.000000\n25%     1160.000000   1601.000000\n50%     1983.000000   2259.000000\n75%     2423.000000   2631.000000\nmax     4031.000000   4038.000000",
      "text/html": "<div>\n<style scoped>\n    .dataframe tbody tr th:only-of-type {\n        vertical-align: middle;\n    }\n\n    .dataframe tbody tr th {\n        vertical-align: top;\n    }\n\n    .dataframe thead th {\n        text-align: right;\n    }\n</style>\n<table border=\"1\" class=\"dataframe\">\n  <thead>\n    <tr style=\"text-align: right;\">\n      <th></th>\n      <th>u</th>\n      <th>v</th>\n    </tr>\n  </thead>\n  <tbody>\n    <tr>\n      <th>count</th>\n      <td>86999.000000</td>\n      <td>86999.000000</td>\n    </tr>\n    <tr>\n      <th>mean</th>\n      <td>1865.069449</td>\n      <td>2154.507420</td>\n    </tr>\n    <tr>\n      <th>std</th>\n      <td>910.682085</td>\n      <td>894.143924</td>\n    </tr>\n    <tr>\n      <th>min</th>\n      <td>0.000000</td>\n      <td>1.000000</td>\n    </tr>\n    <tr>\n      <th>25%</th>\n      <td>1160.000000</td>\n      <td>1601.000000</td>\n    </tr>\n    <tr>\n      <th>50%</th>\n      <td>1983.000000</td>\n      <td>2259.000000</td>\n    </tr>\n    <tr>\n      <th>75%</th>\n      <td>2423.000000</td>\n      <td>2631.000000</td>\n    </tr>\n    <tr>\n      <th>max</th>\n      <td>4031.000000</td>\n      <td>4038.000000</td>\n    </tr>\n  </tbody>\n</table>\n</div>"
     },
     "metadata": {},
     "output_type": "display_data"
    },
    {
     "data": {
      "text/plain": "        Unnamed: 0\nu  v              \n0  276           0\n9  21            1\n21 281           2\n25 141           3\n26 9             4",
      "text/html": "<div>\n<style scoped>\n    .dataframe tbody tr th:only-of-type {\n        vertical-align: middle;\n    }\n\n    .dataframe tbody tr th {\n        vertical-align: top;\n    }\n\n    .dataframe thead th {\n        text-align: right;\n    }\n</style>\n<table border=\"1\" class=\"dataframe\">\n  <thead>\n    <tr style=\"text-align: right;\">\n      <th></th>\n      <th></th>\n      <th>Unnamed: 0</th>\n    </tr>\n    <tr>\n      <th>u</th>\n      <th>v</th>\n      <th></th>\n    </tr>\n  </thead>\n  <tbody>\n    <tr>\n      <th>0</th>\n      <th>276</th>\n      <td>0</td>\n    </tr>\n    <tr>\n      <th>9</th>\n      <th>21</th>\n      <td>1</td>\n    </tr>\n    <tr>\n      <th>21</th>\n      <th>281</th>\n      <td>2</td>\n    </tr>\n    <tr>\n      <th>25</th>\n      <th>141</th>\n      <td>3</td>\n    </tr>\n    <tr>\n      <th>26</th>\n      <th>9</th>\n      <td>4</td>\n    </tr>\n  </tbody>\n</table>\n</div>"
     },
     "metadata": {},
     "output_type": "display_data"
    },
    {
     "data": {
      "text/plain": "        Unnamed: 0\ncount  1169.000000\nmean    584.000000\nstd     337.605539\nmin       0.000000\n25%     292.000000\n50%     584.000000\n75%     876.000000\nmax    1168.000000",
      "text/html": "<div>\n<style scoped>\n    .dataframe tbody tr th:only-of-type {\n        vertical-align: middle;\n    }\n\n    .dataframe tbody tr th {\n        vertical-align: top;\n    }\n\n    .dataframe thead th {\n        text-align: right;\n    }\n</style>\n<table border=\"1\" class=\"dataframe\">\n  <thead>\n    <tr style=\"text-align: right;\">\n      <th></th>\n      <th>Unnamed: 0</th>\n    </tr>\n  </thead>\n  <tbody>\n    <tr>\n      <th>count</th>\n      <td>1169.000000</td>\n    </tr>\n    <tr>\n      <th>mean</th>\n      <td>584.000000</td>\n    </tr>\n    <tr>\n      <th>std</th>\n      <td>337.605539</td>\n    </tr>\n    <tr>\n      <th>min</th>\n      <td>0.000000</td>\n    </tr>\n    <tr>\n      <th>25%</th>\n      <td>292.000000</td>\n    </tr>\n    <tr>\n      <th>50%</th>\n      <td>584.000000</td>\n    </tr>\n    <tr>\n      <th>75%</th>\n      <td>876.000000</td>\n    </tr>\n    <tr>\n      <th>max</th>\n      <td>1168.000000</td>\n    </tr>\n  </tbody>\n</table>\n</div>"
     },
     "metadata": {},
     "output_type": "display_data"
    }
   ],
   "source": [
    "# node embeddings\n",
    "display(df.head())\n",
    "display(df.describe())\n",
    "\n",
    "# train df\n",
    "display(train.head())\n",
    "display(train.describe())\n",
    "\n",
    "# test df\n",
    "display(test.head())\n",
    "display(test.describe())"
   ],
   "metadata": {
    "collapsed": false,
    "pycharm": {
     "name": "#%%\n"
    }
   }
  },
  {
   "cell_type": "code",
   "execution_count": 58,
   "outputs": [],
   "source": [
    "def emb_from_row(row):\n",
    "    \"\"\"get node embedding np array from df row\"\"\"\n",
    "    return row.drop('label').to_numpy().flatten()\n",
    "\n",
    "def emb_distance(emb1, emb2):\n",
    "    \"\"\"computes the euclidean distance between two node embeddings\"\"\"\n",
    "    return np.linalg.norm(emb1-emb2)"
   ],
   "metadata": {
    "collapsed": false,
    "pycharm": {
     "name": "#%%\n"
    }
   }
  },
  {
   "cell_type": "code",
   "execution_count": 59,
   "outputs": [],
   "source": [
    "# get nx train graph\n",
    "G_train = nx.from_pandas_edgelist(train, \"u\", \"v\")"
   ],
   "metadata": {
    "collapsed": false,
    "pycharm": {
     "name": "#%%\n"
    }
   }
  },
  {
   "cell_type": "code",
   "execution_count": null,
   "outputs": [],
   "source": [
    "# compute Top-N lists for test dataset\n",
    "# for each testing row\n",
    "results = {}\n",
    "results_com = {}\n",
    "i = 1\n",
    "start_time = time.time()\n",
    "for index, _ in test.iterrows():\n",
    "    userId = index[0]\n",
    "    if not userId in df.index: continue\n",
    "    user_emb = emb_from_row(df.loc[userId])\n",
    "    user_label = df.loc[userId].label\n",
    "\n",
    "    # get user's non_friends in user's community\n",
    "    # users_in_community\n",
    "    users_in_community = df[df.label == user_label]\n",
    "    #print(\"len(users_in_community): \", len(users_in_community))\n",
    "    # friends\n",
    "    friends = list(G_train[userId])\n",
    "    #print(\"len(friends): \", len(friends))\n",
    "    # not_friends\n",
    "    not_friends = df[~df.index.isin(friends+[userId])]\n",
    "    #print(\"len(not_friends): \", len(not_friends))\n",
    "    # not_friends_in_community\n",
    "    not_friends_in_community = users_in_community[~users_in_community.index.isin(friends+[userId])]\n",
    "    #print(\"len(not_friends_in_community): \", len(not_friends_in_community))\n",
    "\n",
    "    # generate user's top_list from all not_friends\n",
    "    distances = {}\n",
    "    top_list = SortedDict()\n",
    "    for movie_id, node_row in not_friends.iterrows():\n",
    "        node_emb = emb_from_row(node_row)\n",
    "        dist = emb_distance(user_emb, node_emb)\n",
    "        top_list[dist] = movie_id\n",
    "        distances[movie_id] = dist\n",
    "    results[userId] = top_list, distances\n",
    "\n",
    "    # generate user's top_list from all not_friends_in_community\n",
    "    distances_com = {}\n",
    "    top_list_com = SortedDict()\n",
    "    for movie_id, node_row in not_friends_in_community.iterrows():\n",
    "        node_emb = emb_from_row(node_row)\n",
    "        dist = emb_distance(user_emb, node_emb)\n",
    "        top_list_com[dist] = movie_id\n",
    "        distances_com[movie_id] = dist\n",
    "    results_com[userId] = top_list_com, distances_com\n",
    "\n",
    "    if i % 10 == 0:\n",
    "        elapsed_sec = (time.time() - start_time)\n",
    "        elapsed_min = elapsed_sec / 60\n",
    "        print(f\"{i}/{len(test)} in {elapsed_min:.2f} min\")\n",
    "        print(f\"  => done at {time.ctime(time.time() + ((len(test)-i)/i)*elapsed_sec)}\")\n",
    "    i += 1"
   ],
   "metadata": {
    "collapsed": false,
    "pycharm": {
     "name": "#%%\n",
     "is_executing": true
    }
   }
  },
  {
   "cell_type": "code",
   "execution_count": null,
   "outputs": [],
   "source": [
    "N = 100\n",
    "hit_rates = []\n",
    "hit_rates_com = []\n",
    "\n",
    "for n in range(1, N + 1):\n",
    "\n",
    "    # counters\n",
    "    hits = 0\n",
    "    misses = 0\n",
    "    hits_com = 0\n",
    "    misses_com = 0\n",
    "\n",
    "    for userId in results.keys():\n",
    "        top_list, _ = results[userId]\n",
    "        top_list_com, _ = results_com[userId]\n",
    "        # get Top-N friend suggestions\n",
    "        top_n = top_list.values()[:n]\n",
    "        top_n_com = top_list_com.values()[:n]\n",
    "        # get user's test friend\n",
    "        test_friend = test.query(f\"u == {userId}\").index.get_level_values('v')[0]\n",
    "        # evaluate\n",
    "        hit = test_friend in top_n\n",
    "        if hit:\n",
    "            hits += 1\n",
    "        else:\n",
    "            misses += 1\n",
    "        hit_com = test_friend in top_n_com\n",
    "        if hit_com:\n",
    "            hits_com += 1\n",
    "        else:\n",
    "            misses_com += 1\n",
    "\n",
    "        #print(f\"Friend suggestion {test_friend} {'found' if hit else 'not found'} in user {userId}'s Top-{N} list: \", top_N)\n",
    "\n",
    "    hit_rate = hits / (hits+misses)\n",
    "    hit_rate_com = hits_com / (hits_com+misses_com)\n",
    "    print(f\"{n}: {hits}/{hits+misses} = {hit_rate}\")\n",
    "    print(f\"{n}: {hits_com}/{hits_com+misses_com} = {hit_rate_com} (com)\")\n",
    "\n",
    "    hit_rates.append(hit_rate)\n",
    "    hit_rates_com.append(hit_rate_com)"
   ],
   "metadata": {
    "collapsed": false,
    "pycharm": {
     "name": "#%%\n",
     "is_executing": true
    }
   }
  },
  {
   "cell_type": "code",
   "execution_count": null,
   "outputs": [],
   "source": [
    "# export hit-rates\n",
    "\n",
    "Ns = np.arange(N) + 1\n",
    "\n",
    "hit_rate_1_df = pd.DataFrame(\n",
    "    zip(Ns, hit_rates, ['Algorithm 1' for _ in range(N)]),\n",
    "    columns=['N', 'hit_rate', 'Algorithm']\n",
    ")\n",
    "hit_rate_2_df = pd.DataFrame(\n",
    "    zip(Ns, hit_rates_com, ['Algorithm 2' for _ in range(N)]),\n",
    "    columns=['N', 'hit_rate', 'Algorithm']\n",
    ")\n",
    "hit_rate_df = pd.concat([hit_rate_1_df, hit_rate_2_df])\n",
    "hit_rate_df.to_csv(f\"./data/hit_rate_df_d-{dim}.csv\")\n"
   ],
   "metadata": {
    "collapsed": false,
    "pycharm": {
     "name": "#%%\n",
     "is_executing": true
    }
   }
  },
  {
   "cell_type": "code",
   "execution_count": null,
   "outputs": [],
   "source": [
    "# hit rates plot\n",
    "\n",
    "ax = sns.lineplot(x='N', y='hit_rate', hue='Algorithm', data=hit_rate_df)\n",
    "ax.set(xlabel='N', ylabel='hit rate', ylim=(0, 1))\n",
    "ax.yaxis.set_major_formatter(PercentFormatter(1))\n",
    "\n",
    "fig = ax.get_figure()\n",
    "fig.savefig(f\"./plots/hit_rates_d-{dim}.png\", format='png', dpi=1000)"
   ],
   "metadata": {
    "collapsed": false,
    "pycharm": {
     "name": "#%%\n",
     "is_executing": true
    }
   }
  },
  {
   "cell_type": "code",
   "execution_count": null,
   "outputs": [],
   "source": [
    "# hit rates plot on log scale\n",
    "\n",
    "ax = sns.lineplot(x='N', y='hit_rate', hue='Algorithm', data=hit_rate_df)\n",
    "ax.set(xlabel='N', ylabel='hit rate', ylim=(0, 1), xscale=\"log\")\n",
    "ax.yaxis.set_major_formatter(PercentFormatter(1))\n",
    "\n",
    "fig = ax.get_figure()\n",
    "fig.savefig(f\"./plots/hit_rates_d-{dim}_log.png\", format='png', dpi=1000)\n"
   ],
   "metadata": {
    "collapsed": false,
    "pycharm": {
     "name": "#%%\n",
     "is_executing": true
    }
   }
  }
 ],
 "metadata": {
  "kernelspec": {
   "name": "pycharm-97a28330",
   "language": "python",
   "display_name": "PyCharm (ComE_BGMM)"
  },
  "language_info": {
   "codemirror_mode": {
    "name": "ipython",
    "version": 2
   },
   "file_extension": ".py",
   "mimetype": "text/x-python",
   "name": "python",
   "nbconvert_exporter": "python",
   "pygments_lexer": "ipython2",
   "version": "2.7.6"
  }
 },
 "nbformat": 4,
 "nbformat_minor": 0
}