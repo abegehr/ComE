{
 "cells": [
  {
   "cell_type": "code",
   "execution_count": 13,
   "metadata": {
    "collapsed": true,
    "pycharm": {
     "name": "#%%\n"
    }
   },
   "outputs": [],
   "source": [
    "import sys\n",
    "sys.path.append('../../')\n",
    "\n",
    "from IPython.core.display import display\n",
    "import numpy as np\n",
    "import pandas as pd\n",
    "import networkx as nx\n",
    "from sortedcontainers import SortedDict\n",
    "import seaborn as sns\n",
    "from  matplotlib.ticker import PercentFormatter\n",
    "import time"
   ]
  },
  {
   "cell_type": "code",
   "execution_count": 14,
   "outputs": [],
   "source": [
    "# settings\n",
    "sns.set_style(\"darkgrid\")\n",
    "dim = 128"
   ],
   "metadata": {
    "collapsed": false,
    "pycharm": {
     "name": "#%%\n"
    }
   }
  },
  {
   "cell_type": "code",
   "execution_count": 15,
   "outputs": [
    {
     "name": "stderr",
     "output_type": "stream",
     "text": [
      "/Users/anton/miniconda3/envs/MT/lib/python3.6/site-packages/ipykernel_launcher.py:5: ParserWarning: Falling back to the 'python' engine because the 'c' engine does not support regex separators (separators > 1 char and different from '\\s+' are interpreted as regex); you can avoid this warning by specifying engine='python'.\n",
      "  \"\"\"\n"
     ]
    }
   ],
   "source": [
    "# import node embeddings\n",
    "df = pd.read_csv(\n",
    "    f\"./facebook_alpha-0.1_beta-0.1_ws-10_neg-5_lr-0.025_icom-36_ind-36_ds-0.0_d-{dim}_type-BGMM_k-10.txt\",\n",
    "    sep=\"\\t| \",\n",
    "    header=None\n",
    ")\n",
    "df = df.rename(columns={0: 'node'})\n",
    "df.set_index(['node'], inplace=True)"
   ],
   "metadata": {
    "collapsed": false,
    "pycharm": {
     "name": "#%%\n"
    }
   }
  },
  {
   "cell_type": "code",
   "execution_count": 16,
   "outputs": [],
   "source": [
    "# import train\n",
    "train = pd.read_csv(\"./facebook_train.csv\", index_col=0)\n",
    "# import test\n",
    "test = pd.read_csv(\"./facebook_test.csv\", index_col=['u', 'v'])"
   ],
   "metadata": {
    "collapsed": false,
    "pycharm": {
     "name": "#%%\n"
    }
   }
  },
  {
   "cell_type": "code",
   "execution_count": 17,
   "outputs": [
    {
     "data": {
      "text/plain": "array([0., 5., 0., ..., 0., 6., 6.])"
     },
     "execution_count": 17,
     "metadata": {},
     "output_type": "execute_result"
    }
   ],
   "source": [
    "# import labels\n",
    "labels = np.genfromtxt(f\"./labels_pred_BGMM_d{dim}_k10.txt\")\n",
    "labels"
   ],
   "metadata": {
    "collapsed": false,
    "pycharm": {
     "name": "#%%\n"
    }
   }
  },
  {
   "cell_type": "code",
   "execution_count": 18,
   "outputs": [],
   "source": [
    "# add labels to embeddings\n",
    "df['label'] = labels"
   ],
   "metadata": {
    "collapsed": false,
    "pycharm": {
     "name": "#%%\n"
    }
   }
  },
  {
   "cell_type": "code",
   "execution_count": 19,
   "outputs": [
    {
     "data": {
      "text/plain": "             1         2         3         4         5         6         7  \\\nnode                                                                         \n0     1.410215  1.055887  0.276106  0.337015 -0.855183 -2.079889  0.359319   \n1     0.642537  0.210880 -0.079735  0.394628 -0.354652 -0.673384 -0.264542   \n2     0.364444  0.483713  0.041530 -0.253252 -0.341561 -0.855875  0.262481   \n3     0.760110  0.369128  0.191771  0.325326 -0.209396 -0.604434  0.049080   \n4     0.486993  0.028743  0.081050 -0.222652 -0.348967 -0.806270  0.705609   \n\n             8         9        10  ...       120       121       122  \\\nnode                                ...                                 \n0    -1.668620  0.876247 -1.597333  ... -1.559046 -0.227659  0.615875   \n1    -0.573317  0.387186 -0.928790  ... -0.942434 -0.044016  0.357568   \n2    -0.731090  0.282645 -0.468689  ... -0.349008 -0.063245 -0.019917   \n3    -0.714295  0.193736 -0.875754  ... -0.954742 -0.068425  0.373606   \n4    -0.529239  0.516686 -0.425610  ... -0.495183 -0.013476  0.070995   \n\n           123       124       125       126       127       128  label  \nnode                                                                     \n0     1.590270 -0.201614 -0.807248  0.872891  2.338391  0.422456    0.0  \n1     0.653752 -0.403103 -0.440986  0.245575  0.464131  0.173977    5.0  \n2     0.298720  0.008025 -0.167265  0.273740  0.909920 -0.209141    0.0  \n3     0.926925 -0.254449 -0.417411  0.377861  0.640826  0.327309    5.0  \n4     0.500861  0.040166  0.071827 -0.117763  0.805720 -0.078896    6.0  \n\n[5 rows x 129 columns]",
      "text/html": "<div>\n<style scoped>\n    .dataframe tbody tr th:only-of-type {\n        vertical-align: middle;\n    }\n\n    .dataframe tbody tr th {\n        vertical-align: top;\n    }\n\n    .dataframe thead th {\n        text-align: right;\n    }\n</style>\n<table border=\"1\" class=\"dataframe\">\n  <thead>\n    <tr style=\"text-align: right;\">\n      <th></th>\n      <th>1</th>\n      <th>2</th>\n      <th>3</th>\n      <th>4</th>\n      <th>5</th>\n      <th>6</th>\n      <th>7</th>\n      <th>8</th>\n      <th>9</th>\n      <th>10</th>\n      <th>...</th>\n      <th>120</th>\n      <th>121</th>\n      <th>122</th>\n      <th>123</th>\n      <th>124</th>\n      <th>125</th>\n      <th>126</th>\n      <th>127</th>\n      <th>128</th>\n      <th>label</th>\n    </tr>\n    <tr>\n      <th>node</th>\n      <th></th>\n      <th></th>\n      <th></th>\n      <th></th>\n      <th></th>\n      <th></th>\n      <th></th>\n      <th></th>\n      <th></th>\n      <th></th>\n      <th></th>\n      <th></th>\n      <th></th>\n      <th></th>\n      <th></th>\n      <th></th>\n      <th></th>\n      <th></th>\n      <th></th>\n      <th></th>\n      <th></th>\n    </tr>\n  </thead>\n  <tbody>\n    <tr>\n      <th>0</th>\n      <td>1.410215</td>\n      <td>1.055887</td>\n      <td>0.276106</td>\n      <td>0.337015</td>\n      <td>-0.855183</td>\n      <td>-2.079889</td>\n      <td>0.359319</td>\n      <td>-1.668620</td>\n      <td>0.876247</td>\n      <td>-1.597333</td>\n      <td>...</td>\n      <td>-1.559046</td>\n      <td>-0.227659</td>\n      <td>0.615875</td>\n      <td>1.590270</td>\n      <td>-0.201614</td>\n      <td>-0.807248</td>\n      <td>0.872891</td>\n      <td>2.338391</td>\n      <td>0.422456</td>\n      <td>0.0</td>\n    </tr>\n    <tr>\n      <th>1</th>\n      <td>0.642537</td>\n      <td>0.210880</td>\n      <td>-0.079735</td>\n      <td>0.394628</td>\n      <td>-0.354652</td>\n      <td>-0.673384</td>\n      <td>-0.264542</td>\n      <td>-0.573317</td>\n      <td>0.387186</td>\n      <td>-0.928790</td>\n      <td>...</td>\n      <td>-0.942434</td>\n      <td>-0.044016</td>\n      <td>0.357568</td>\n      <td>0.653752</td>\n      <td>-0.403103</td>\n      <td>-0.440986</td>\n      <td>0.245575</td>\n      <td>0.464131</td>\n      <td>0.173977</td>\n      <td>5.0</td>\n    </tr>\n    <tr>\n      <th>2</th>\n      <td>0.364444</td>\n      <td>0.483713</td>\n      <td>0.041530</td>\n      <td>-0.253252</td>\n      <td>-0.341561</td>\n      <td>-0.855875</td>\n      <td>0.262481</td>\n      <td>-0.731090</td>\n      <td>0.282645</td>\n      <td>-0.468689</td>\n      <td>...</td>\n      <td>-0.349008</td>\n      <td>-0.063245</td>\n      <td>-0.019917</td>\n      <td>0.298720</td>\n      <td>0.008025</td>\n      <td>-0.167265</td>\n      <td>0.273740</td>\n      <td>0.909920</td>\n      <td>-0.209141</td>\n      <td>0.0</td>\n    </tr>\n    <tr>\n      <th>3</th>\n      <td>0.760110</td>\n      <td>0.369128</td>\n      <td>0.191771</td>\n      <td>0.325326</td>\n      <td>-0.209396</td>\n      <td>-0.604434</td>\n      <td>0.049080</td>\n      <td>-0.714295</td>\n      <td>0.193736</td>\n      <td>-0.875754</td>\n      <td>...</td>\n      <td>-0.954742</td>\n      <td>-0.068425</td>\n      <td>0.373606</td>\n      <td>0.926925</td>\n      <td>-0.254449</td>\n      <td>-0.417411</td>\n      <td>0.377861</td>\n      <td>0.640826</td>\n      <td>0.327309</td>\n      <td>5.0</td>\n    </tr>\n    <tr>\n      <th>4</th>\n      <td>0.486993</td>\n      <td>0.028743</td>\n      <td>0.081050</td>\n      <td>-0.222652</td>\n      <td>-0.348967</td>\n      <td>-0.806270</td>\n      <td>0.705609</td>\n      <td>-0.529239</td>\n      <td>0.516686</td>\n      <td>-0.425610</td>\n      <td>...</td>\n      <td>-0.495183</td>\n      <td>-0.013476</td>\n      <td>0.070995</td>\n      <td>0.500861</td>\n      <td>0.040166</td>\n      <td>0.071827</td>\n      <td>-0.117763</td>\n      <td>0.805720</td>\n      <td>-0.078896</td>\n      <td>6.0</td>\n    </tr>\n  </tbody>\n</table>\n<p>5 rows × 129 columns</p>\n</div>"
     },
     "metadata": {},
     "output_type": "display_data"
    },
    {
     "data": {
      "text/plain": "                 1            2            3            4            5  \\\ncount  3964.000000  3964.000000  3964.000000  3964.000000  3964.000000   \nmean      0.245962     0.234974    -0.118125    -0.069435     0.130555   \nstd       0.285687     0.536587     0.349763     0.284315     0.373223   \nmin      -0.692461    -0.683688    -2.198696    -1.892806    -0.855183   \n25%       0.045890    -0.118894    -0.274778    -0.250238    -0.115985   \n50%       0.216832     0.047774    -0.047532    -0.041141     0.087722   \n75%       0.364162     0.408460     0.114134     0.123863     0.323650   \nmax       1.410215     2.177685     0.673434     0.971740     1.719087   \n\n                 6            7            8            9           10  ...  \\\ncount  3964.000000  3964.000000  3964.000000  3964.000000  3964.000000  ...   \nmean     -0.061437     0.135782     0.032777    -0.030051     0.159000  ...   \nstd       0.393623     0.279270     0.570081     0.695714     0.558243  ...   \nmin      -2.079889    -0.787928    -1.668620    -1.995587    -1.597333  ...   \n25%      -0.191114    -0.023315    -0.245293    -0.274042    -0.058783  ...   \n50%      -0.021151     0.123140     0.022771    -0.021171     0.086926  ...   \n75%       0.151224     0.264197     0.197018     0.114206     0.230962  ...   \nmax       1.372390     1.184074     2.493209     2.639332     2.432325  ...   \n\n               120          121          122          123          124  \\\ncount  3964.000000  3964.000000  3964.000000  3964.000000  3964.000000   \nmean     -0.055033     0.093342     0.198299    -0.009326     0.003912   \nstd       0.555397     0.396318     0.625316     0.704484     0.415985   \nmin      -1.706021    -0.641542    -0.842246    -2.712219    -1.082921   \n25%      -0.276742    -0.104644    -0.125527    -0.058614    -0.209601   \n50%      -0.050763     0.030199     0.071797     0.098033    -0.045417   \n75%       0.143825     0.202780     0.274561     0.329461     0.191753   \nmax       3.097754     3.346251     2.757494     1.590270     2.287718   \n\n               125          126          127          128       label  \ncount  3964.000000  3964.000000  3964.000000  3964.000000  3964.00000  \nmean     -0.083582     0.338404    -0.135958    -0.183193     4.26665  \nstd       0.439189     0.330743     0.820394     0.626242     2.83347  \nmin      -1.936546    -0.436558    -3.588310    -1.661151     0.00000  \n25%      -0.204926     0.128835    -0.166092    -0.516550     2.00000  \n50%       0.018314     0.277037     0.001256    -0.290211     4.00000  \n75%       0.175263     0.440702     0.196135    -0.043263     7.00000  \nmax       0.639313     1.988750     2.338391     2.369749     9.00000  \n\n[8 rows x 129 columns]",
      "text/html": "<div>\n<style scoped>\n    .dataframe tbody tr th:only-of-type {\n        vertical-align: middle;\n    }\n\n    .dataframe tbody tr th {\n        vertical-align: top;\n    }\n\n    .dataframe thead th {\n        text-align: right;\n    }\n</style>\n<table border=\"1\" class=\"dataframe\">\n  <thead>\n    <tr style=\"text-align: right;\">\n      <th></th>\n      <th>1</th>\n      <th>2</th>\n      <th>3</th>\n      <th>4</th>\n      <th>5</th>\n      <th>6</th>\n      <th>7</th>\n      <th>8</th>\n      <th>9</th>\n      <th>10</th>\n      <th>...</th>\n      <th>120</th>\n      <th>121</th>\n      <th>122</th>\n      <th>123</th>\n      <th>124</th>\n      <th>125</th>\n      <th>126</th>\n      <th>127</th>\n      <th>128</th>\n      <th>label</th>\n    </tr>\n  </thead>\n  <tbody>\n    <tr>\n      <th>count</th>\n      <td>3964.000000</td>\n      <td>3964.000000</td>\n      <td>3964.000000</td>\n      <td>3964.000000</td>\n      <td>3964.000000</td>\n      <td>3964.000000</td>\n      <td>3964.000000</td>\n      <td>3964.000000</td>\n      <td>3964.000000</td>\n      <td>3964.000000</td>\n      <td>...</td>\n      <td>3964.000000</td>\n      <td>3964.000000</td>\n      <td>3964.000000</td>\n      <td>3964.000000</td>\n      <td>3964.000000</td>\n      <td>3964.000000</td>\n      <td>3964.000000</td>\n      <td>3964.000000</td>\n      <td>3964.000000</td>\n      <td>3964.00000</td>\n    </tr>\n    <tr>\n      <th>mean</th>\n      <td>0.245962</td>\n      <td>0.234974</td>\n      <td>-0.118125</td>\n      <td>-0.069435</td>\n      <td>0.130555</td>\n      <td>-0.061437</td>\n      <td>0.135782</td>\n      <td>0.032777</td>\n      <td>-0.030051</td>\n      <td>0.159000</td>\n      <td>...</td>\n      <td>-0.055033</td>\n      <td>0.093342</td>\n      <td>0.198299</td>\n      <td>-0.009326</td>\n      <td>0.003912</td>\n      <td>-0.083582</td>\n      <td>0.338404</td>\n      <td>-0.135958</td>\n      <td>-0.183193</td>\n      <td>4.26665</td>\n    </tr>\n    <tr>\n      <th>std</th>\n      <td>0.285687</td>\n      <td>0.536587</td>\n      <td>0.349763</td>\n      <td>0.284315</td>\n      <td>0.373223</td>\n      <td>0.393623</td>\n      <td>0.279270</td>\n      <td>0.570081</td>\n      <td>0.695714</td>\n      <td>0.558243</td>\n      <td>...</td>\n      <td>0.555397</td>\n      <td>0.396318</td>\n      <td>0.625316</td>\n      <td>0.704484</td>\n      <td>0.415985</td>\n      <td>0.439189</td>\n      <td>0.330743</td>\n      <td>0.820394</td>\n      <td>0.626242</td>\n      <td>2.83347</td>\n    </tr>\n    <tr>\n      <th>min</th>\n      <td>-0.692461</td>\n      <td>-0.683688</td>\n      <td>-2.198696</td>\n      <td>-1.892806</td>\n      <td>-0.855183</td>\n      <td>-2.079889</td>\n      <td>-0.787928</td>\n      <td>-1.668620</td>\n      <td>-1.995587</td>\n      <td>-1.597333</td>\n      <td>...</td>\n      <td>-1.706021</td>\n      <td>-0.641542</td>\n      <td>-0.842246</td>\n      <td>-2.712219</td>\n      <td>-1.082921</td>\n      <td>-1.936546</td>\n      <td>-0.436558</td>\n      <td>-3.588310</td>\n      <td>-1.661151</td>\n      <td>0.00000</td>\n    </tr>\n    <tr>\n      <th>25%</th>\n      <td>0.045890</td>\n      <td>-0.118894</td>\n      <td>-0.274778</td>\n      <td>-0.250238</td>\n      <td>-0.115985</td>\n      <td>-0.191114</td>\n      <td>-0.023315</td>\n      <td>-0.245293</td>\n      <td>-0.274042</td>\n      <td>-0.058783</td>\n      <td>...</td>\n      <td>-0.276742</td>\n      <td>-0.104644</td>\n      <td>-0.125527</td>\n      <td>-0.058614</td>\n      <td>-0.209601</td>\n      <td>-0.204926</td>\n      <td>0.128835</td>\n      <td>-0.166092</td>\n      <td>-0.516550</td>\n      <td>2.00000</td>\n    </tr>\n    <tr>\n      <th>50%</th>\n      <td>0.216832</td>\n      <td>0.047774</td>\n      <td>-0.047532</td>\n      <td>-0.041141</td>\n      <td>0.087722</td>\n      <td>-0.021151</td>\n      <td>0.123140</td>\n      <td>0.022771</td>\n      <td>-0.021171</td>\n      <td>0.086926</td>\n      <td>...</td>\n      <td>-0.050763</td>\n      <td>0.030199</td>\n      <td>0.071797</td>\n      <td>0.098033</td>\n      <td>-0.045417</td>\n      <td>0.018314</td>\n      <td>0.277037</td>\n      <td>0.001256</td>\n      <td>-0.290211</td>\n      <td>4.00000</td>\n    </tr>\n    <tr>\n      <th>75%</th>\n      <td>0.364162</td>\n      <td>0.408460</td>\n      <td>0.114134</td>\n      <td>0.123863</td>\n      <td>0.323650</td>\n      <td>0.151224</td>\n      <td>0.264197</td>\n      <td>0.197018</td>\n      <td>0.114206</td>\n      <td>0.230962</td>\n      <td>...</td>\n      <td>0.143825</td>\n      <td>0.202780</td>\n      <td>0.274561</td>\n      <td>0.329461</td>\n      <td>0.191753</td>\n      <td>0.175263</td>\n      <td>0.440702</td>\n      <td>0.196135</td>\n      <td>-0.043263</td>\n      <td>7.00000</td>\n    </tr>\n    <tr>\n      <th>max</th>\n      <td>1.410215</td>\n      <td>2.177685</td>\n      <td>0.673434</td>\n      <td>0.971740</td>\n      <td>1.719087</td>\n      <td>1.372390</td>\n      <td>1.184074</td>\n      <td>2.493209</td>\n      <td>2.639332</td>\n      <td>2.432325</td>\n      <td>...</td>\n      <td>3.097754</td>\n      <td>3.346251</td>\n      <td>2.757494</td>\n      <td>1.590270</td>\n      <td>2.287718</td>\n      <td>0.639313</td>\n      <td>1.988750</td>\n      <td>2.338391</td>\n      <td>2.369749</td>\n      <td>9.00000</td>\n    </tr>\n  </tbody>\n</table>\n<p>8 rows × 129 columns</p>\n</div>"
     },
     "metadata": {},
     "output_type": "display_data"
    },
    {
     "data": {
      "text/plain": "   u  v\n0  0  1\n1  0  2\n2  0  3\n3  0  4\n4  0  5",
      "text/html": "<div>\n<style scoped>\n    .dataframe tbody tr th:only-of-type {\n        vertical-align: middle;\n    }\n\n    .dataframe tbody tr th {\n        vertical-align: top;\n    }\n\n    .dataframe thead th {\n        text-align: right;\n    }\n</style>\n<table border=\"1\" class=\"dataframe\">\n  <thead>\n    <tr style=\"text-align: right;\">\n      <th></th>\n      <th>u</th>\n      <th>v</th>\n    </tr>\n  </thead>\n  <tbody>\n    <tr>\n      <th>0</th>\n      <td>0</td>\n      <td>1</td>\n    </tr>\n    <tr>\n      <th>1</th>\n      <td>0</td>\n      <td>2</td>\n    </tr>\n    <tr>\n      <th>2</th>\n      <td>0</td>\n      <td>3</td>\n    </tr>\n    <tr>\n      <th>3</th>\n      <td>0</td>\n      <td>4</td>\n    </tr>\n    <tr>\n      <th>4</th>\n      <td>0</td>\n      <td>5</td>\n    </tr>\n  </tbody>\n</table>\n</div>"
     },
     "metadata": {},
     "output_type": "display_data"
    },
    {
     "data": {
      "text/plain": "                  u             v\ncount  86999.000000  86999.000000\nmean    1865.069449   2154.507420\nstd      910.682085    894.143924\nmin        0.000000      1.000000\n25%     1160.000000   1601.000000\n50%     1983.000000   2259.000000\n75%     2423.000000   2631.000000\nmax     4031.000000   4038.000000",
      "text/html": "<div>\n<style scoped>\n    .dataframe tbody tr th:only-of-type {\n        vertical-align: middle;\n    }\n\n    .dataframe tbody tr th {\n        vertical-align: top;\n    }\n\n    .dataframe thead th {\n        text-align: right;\n    }\n</style>\n<table border=\"1\" class=\"dataframe\">\n  <thead>\n    <tr style=\"text-align: right;\">\n      <th></th>\n      <th>u</th>\n      <th>v</th>\n    </tr>\n  </thead>\n  <tbody>\n    <tr>\n      <th>count</th>\n      <td>86999.000000</td>\n      <td>86999.000000</td>\n    </tr>\n    <tr>\n      <th>mean</th>\n      <td>1865.069449</td>\n      <td>2154.507420</td>\n    </tr>\n    <tr>\n      <th>std</th>\n      <td>910.682085</td>\n      <td>894.143924</td>\n    </tr>\n    <tr>\n      <th>min</th>\n      <td>0.000000</td>\n      <td>1.000000</td>\n    </tr>\n    <tr>\n      <th>25%</th>\n      <td>1160.000000</td>\n      <td>1601.000000</td>\n    </tr>\n    <tr>\n      <th>50%</th>\n      <td>1983.000000</td>\n      <td>2259.000000</td>\n    </tr>\n    <tr>\n      <th>75%</th>\n      <td>2423.000000</td>\n      <td>2631.000000</td>\n    </tr>\n    <tr>\n      <th>max</th>\n      <td>4031.000000</td>\n      <td>4038.000000</td>\n    </tr>\n  </tbody>\n</table>\n</div>"
     },
     "metadata": {},
     "output_type": "display_data"
    },
    {
     "data": {
      "text/plain": "        Unnamed: 0\nu  v              \n0  276           0\n9  21            1\n21 281           2\n25 141           3\n26 9             4",
      "text/html": "<div>\n<style scoped>\n    .dataframe tbody tr th:only-of-type {\n        vertical-align: middle;\n    }\n\n    .dataframe tbody tr th {\n        vertical-align: top;\n    }\n\n    .dataframe thead th {\n        text-align: right;\n    }\n</style>\n<table border=\"1\" class=\"dataframe\">\n  <thead>\n    <tr style=\"text-align: right;\">\n      <th></th>\n      <th></th>\n      <th>Unnamed: 0</th>\n    </tr>\n    <tr>\n      <th>u</th>\n      <th>v</th>\n      <th></th>\n    </tr>\n  </thead>\n  <tbody>\n    <tr>\n      <th>0</th>\n      <th>276</th>\n      <td>0</td>\n    </tr>\n    <tr>\n      <th>9</th>\n      <th>21</th>\n      <td>1</td>\n    </tr>\n    <tr>\n      <th>21</th>\n      <th>281</th>\n      <td>2</td>\n    </tr>\n    <tr>\n      <th>25</th>\n      <th>141</th>\n      <td>3</td>\n    </tr>\n    <tr>\n      <th>26</th>\n      <th>9</th>\n      <td>4</td>\n    </tr>\n  </tbody>\n</table>\n</div>"
     },
     "metadata": {},
     "output_type": "display_data"
    },
    {
     "data": {
      "text/plain": "        Unnamed: 0\ncount  1169.000000\nmean    584.000000\nstd     337.605539\nmin       0.000000\n25%     292.000000\n50%     584.000000\n75%     876.000000\nmax    1168.000000",
      "text/html": "<div>\n<style scoped>\n    .dataframe tbody tr th:only-of-type {\n        vertical-align: middle;\n    }\n\n    .dataframe tbody tr th {\n        vertical-align: top;\n    }\n\n    .dataframe thead th {\n        text-align: right;\n    }\n</style>\n<table border=\"1\" class=\"dataframe\">\n  <thead>\n    <tr style=\"text-align: right;\">\n      <th></th>\n      <th>Unnamed: 0</th>\n    </tr>\n  </thead>\n  <tbody>\n    <tr>\n      <th>count</th>\n      <td>1169.000000</td>\n    </tr>\n    <tr>\n      <th>mean</th>\n      <td>584.000000</td>\n    </tr>\n    <tr>\n      <th>std</th>\n      <td>337.605539</td>\n    </tr>\n    <tr>\n      <th>min</th>\n      <td>0.000000</td>\n    </tr>\n    <tr>\n      <th>25%</th>\n      <td>292.000000</td>\n    </tr>\n    <tr>\n      <th>50%</th>\n      <td>584.000000</td>\n    </tr>\n    <tr>\n      <th>75%</th>\n      <td>876.000000</td>\n    </tr>\n    <tr>\n      <th>max</th>\n      <td>1168.000000</td>\n    </tr>\n  </tbody>\n</table>\n</div>"
     },
     "metadata": {},
     "output_type": "display_data"
    }
   ],
   "source": [
    "# node embeddings\n",
    "display(df.head())\n",
    "display(df.describe())\n",
    "\n",
    "# train df\n",
    "display(train.head())\n",
    "display(train.describe())\n",
    "\n",
    "# test df\n",
    "display(test.head())\n",
    "display(test.describe())"
   ],
   "metadata": {
    "collapsed": false,
    "pycharm": {
     "name": "#%%\n"
    }
   }
  },
  {
   "cell_type": "code",
   "execution_count": 20,
   "outputs": [],
   "source": [
    "def emb_from_row(row):\n",
    "    \"\"\"get node embedding np array from df row\"\"\"\n",
    "    return row.drop('label').to_numpy().flatten()\n",
    "\n",
    "def emb_distance(emb1, emb2):\n",
    "    \"\"\"computes the euclidean distance between two node embeddings\"\"\"\n",
    "    return np.linalg.norm(emb1-emb2)"
   ],
   "metadata": {
    "collapsed": false,
    "pycharm": {
     "name": "#%%\n"
    }
   }
  },
  {
   "cell_type": "code",
   "execution_count": 21,
   "outputs": [],
   "source": [
    "# get nx train graph\n",
    "G_train = nx.from_pandas_edgelist(train, \"u\", \"v\")"
   ],
   "metadata": {
    "collapsed": false,
    "pycharm": {
     "name": "#%%\n"
    }
   }
  },
  {
   "cell_type": "code",
   "execution_count": 22,
   "outputs": [
    {
     "name": "stdout",
     "output_type": "stream",
     "text": [
      "10/1169 in 0.48 min\n",
      "  => done at Wed Sep 30 22:45:05 2020\n",
      "20/1169 in 0.98 min\n",
      "  => done at Wed Sep 30 22:46:05 2020\n",
      "30/1169 in 1.41 min\n",
      "  => done at Wed Sep 30 22:43:54 2020\n",
      "40/1169 in 1.79 min\n",
      "  => done at Wed Sep 30 22:41:15 2020\n",
      "50/1169 in 2.22 min\n",
      "  => done at Wed Sep 30 22:40:47 2020\n",
      "60/1169 in 2.76 min\n",
      "  => done at Wed Sep 30 22:42:46 2020\n",
      "70/1169 in 3.16 min\n",
      "  => done at Wed Sep 30 22:41:44 2020\n",
      "80/1169 in 3.66 min\n",
      "  => done at Wed Sep 30 22:42:22 2020\n",
      "90/1169 in 4.08 min\n",
      "  => done at Wed Sep 30 22:41:58 2020\n",
      "100/1169 in 4.58 min\n",
      "  => done at Wed Sep 30 22:42:29 2020\n",
      "110/1169 in 5.11 min\n",
      "  => done at Wed Sep 30 22:43:17 2020\n",
      "120/1169 in 5.59 min\n",
      "  => done at Wed Sep 30 22:43:24 2020\n",
      "130/1169 in 6.02 min\n",
      "  => done at Wed Sep 30 22:43:03 2020\n",
      "140/1169 in 6.43 min\n",
      "  => done at Wed Sep 30 22:42:39 2020\n",
      "150/1169 in 6.87 min\n",
      "  => done at Wed Sep 30 22:42:29 2020\n",
      "160/1169 in 7.31 min\n",
      "  => done at Wed Sep 30 22:42:21 2020\n",
      "170/1169 in 7.84 min\n",
      "  => done at Wed Sep 30 22:42:54 2020\n",
      "180/1169 in 8.24 min\n",
      "  => done at Wed Sep 30 22:42:27 2020\n"
     ]
    },
    {
     "ename": "KeyboardInterrupt",
     "evalue": "",
     "output_type": "error",
     "traceback": [
      "\u001B[0;31m---------------------------------------------------------------------------\u001B[0m",
      "\u001B[0;31mKeyboardInterrupt\u001B[0m                         Traceback (most recent call last)",
      "\u001B[0;32m<ipython-input-22-965fd48eb317>\u001B[0m in \u001B[0;36m<module>\u001B[0;34m\u001B[0m\n\u001B[1;32m     29\u001B[0m     \u001B[0mtop_list\u001B[0m \u001B[0;34m=\u001B[0m \u001B[0mSortedDict\u001B[0m\u001B[0;34m(\u001B[0m\u001B[0;34m)\u001B[0m\u001B[0;34m\u001B[0m\u001B[0;34m\u001B[0m\u001B[0m\n\u001B[1;32m     30\u001B[0m     \u001B[0;32mfor\u001B[0m \u001B[0mmovie_id\u001B[0m\u001B[0;34m,\u001B[0m \u001B[0mnode_row\u001B[0m \u001B[0;32min\u001B[0m \u001B[0mnot_friends\u001B[0m\u001B[0;34m.\u001B[0m\u001B[0miterrows\u001B[0m\u001B[0;34m(\u001B[0m\u001B[0;34m)\u001B[0m\u001B[0;34m:\u001B[0m\u001B[0;34m\u001B[0m\u001B[0;34m\u001B[0m\u001B[0m\n\u001B[0;32m---> 31\u001B[0;31m         \u001B[0mnode_emb\u001B[0m \u001B[0;34m=\u001B[0m \u001B[0memb_from_row\u001B[0m\u001B[0;34m(\u001B[0m\u001B[0mnode_row\u001B[0m\u001B[0;34m)\u001B[0m\u001B[0;34m\u001B[0m\u001B[0;34m\u001B[0m\u001B[0m\n\u001B[0m\u001B[1;32m     32\u001B[0m         \u001B[0mdist\u001B[0m \u001B[0;34m=\u001B[0m \u001B[0memb_distance\u001B[0m\u001B[0;34m(\u001B[0m\u001B[0muser_emb\u001B[0m\u001B[0;34m,\u001B[0m \u001B[0mnode_emb\u001B[0m\u001B[0;34m)\u001B[0m\u001B[0;34m\u001B[0m\u001B[0;34m\u001B[0m\u001B[0m\n\u001B[1;32m     33\u001B[0m         \u001B[0mtop_list\u001B[0m\u001B[0;34m[\u001B[0m\u001B[0mdist\u001B[0m\u001B[0;34m]\u001B[0m \u001B[0;34m=\u001B[0m \u001B[0mmovie_id\u001B[0m\u001B[0;34m\u001B[0m\u001B[0;34m\u001B[0m\u001B[0m\n",
      "\u001B[0;32m<ipython-input-20-c42b5f9878ea>\u001B[0m in \u001B[0;36memb_from_row\u001B[0;34m(row)\u001B[0m\n\u001B[1;32m      1\u001B[0m \u001B[0;32mdef\u001B[0m \u001B[0memb_from_row\u001B[0m\u001B[0;34m(\u001B[0m\u001B[0mrow\u001B[0m\u001B[0;34m)\u001B[0m\u001B[0;34m:\u001B[0m\u001B[0;34m\u001B[0m\u001B[0;34m\u001B[0m\u001B[0m\n\u001B[1;32m      2\u001B[0m     \u001B[0;34m\"\"\"get node embedding np array from df row\"\"\"\u001B[0m\u001B[0;34m\u001B[0m\u001B[0;34m\u001B[0m\u001B[0m\n\u001B[0;32m----> 3\u001B[0;31m     \u001B[0;32mreturn\u001B[0m \u001B[0mrow\u001B[0m\u001B[0;34m.\u001B[0m\u001B[0mdrop\u001B[0m\u001B[0;34m(\u001B[0m\u001B[0;34m'label'\u001B[0m\u001B[0;34m)\u001B[0m\u001B[0;34m.\u001B[0m\u001B[0mto_numpy\u001B[0m\u001B[0;34m(\u001B[0m\u001B[0;34m)\u001B[0m\u001B[0;34m.\u001B[0m\u001B[0mflatten\u001B[0m\u001B[0;34m(\u001B[0m\u001B[0;34m)\u001B[0m\u001B[0;34m\u001B[0m\u001B[0;34m\u001B[0m\u001B[0m\n\u001B[0m\u001B[1;32m      4\u001B[0m \u001B[0;34m\u001B[0m\u001B[0m\n\u001B[1;32m      5\u001B[0m \u001B[0;32mdef\u001B[0m \u001B[0memb_distance\u001B[0m\u001B[0;34m(\u001B[0m\u001B[0memb1\u001B[0m\u001B[0;34m,\u001B[0m \u001B[0memb2\u001B[0m\u001B[0;34m)\u001B[0m\u001B[0;34m:\u001B[0m\u001B[0;34m\u001B[0m\u001B[0;34m\u001B[0m\u001B[0m\n",
      "\u001B[0;32m~/miniconda3/envs/MT/lib/python3.6/site-packages/pandas/core/series.py\u001B[0m in \u001B[0;36mdrop\u001B[0;34m(self, labels, axis, index, columns, level, inplace, errors)\u001B[0m\n\u001B[1;32m   4502\u001B[0m             \u001B[0mlevel\u001B[0m\u001B[0;34m=\u001B[0m\u001B[0mlevel\u001B[0m\u001B[0;34m,\u001B[0m\u001B[0;34m\u001B[0m\u001B[0;34m\u001B[0m\u001B[0m\n\u001B[1;32m   4503\u001B[0m             \u001B[0minplace\u001B[0m\u001B[0;34m=\u001B[0m\u001B[0minplace\u001B[0m\u001B[0;34m,\u001B[0m\u001B[0;34m\u001B[0m\u001B[0;34m\u001B[0m\u001B[0m\n\u001B[0;32m-> 4504\u001B[0;31m             \u001B[0merrors\u001B[0m\u001B[0;34m=\u001B[0m\u001B[0merrors\u001B[0m\u001B[0;34m,\u001B[0m\u001B[0;34m\u001B[0m\u001B[0;34m\u001B[0m\u001B[0m\n\u001B[0m\u001B[1;32m   4505\u001B[0m         )\n\u001B[1;32m   4506\u001B[0m \u001B[0;34m\u001B[0m\u001B[0m\n",
      "\u001B[0;32m~/miniconda3/envs/MT/lib/python3.6/site-packages/pandas/core/generic.py\u001B[0m in \u001B[0;36mdrop\u001B[0;34m(self, labels, axis, index, columns, level, inplace, errors)\u001B[0m\n\u001B[1;32m   3876\u001B[0m         \u001B[0;32mfor\u001B[0m \u001B[0maxis\u001B[0m\u001B[0;34m,\u001B[0m \u001B[0mlabels\u001B[0m \u001B[0;32min\u001B[0m \u001B[0maxes\u001B[0m\u001B[0;34m.\u001B[0m\u001B[0mitems\u001B[0m\u001B[0;34m(\u001B[0m\u001B[0;34m)\u001B[0m\u001B[0;34m:\u001B[0m\u001B[0;34m\u001B[0m\u001B[0;34m\u001B[0m\u001B[0m\n\u001B[1;32m   3877\u001B[0m             \u001B[0;32mif\u001B[0m \u001B[0mlabels\u001B[0m \u001B[0;32mis\u001B[0m \u001B[0;32mnot\u001B[0m \u001B[0;32mNone\u001B[0m\u001B[0;34m:\u001B[0m\u001B[0;34m\u001B[0m\u001B[0;34m\u001B[0m\u001B[0m\n\u001B[0;32m-> 3878\u001B[0;31m                 \u001B[0mobj\u001B[0m \u001B[0;34m=\u001B[0m \u001B[0mobj\u001B[0m\u001B[0;34m.\u001B[0m\u001B[0m_drop_axis\u001B[0m\u001B[0;34m(\u001B[0m\u001B[0mlabels\u001B[0m\u001B[0;34m,\u001B[0m \u001B[0maxis\u001B[0m\u001B[0;34m,\u001B[0m \u001B[0mlevel\u001B[0m\u001B[0;34m=\u001B[0m\u001B[0mlevel\u001B[0m\u001B[0;34m,\u001B[0m \u001B[0merrors\u001B[0m\u001B[0;34m=\u001B[0m\u001B[0merrors\u001B[0m\u001B[0;34m)\u001B[0m\u001B[0;34m\u001B[0m\u001B[0;34m\u001B[0m\u001B[0m\n\u001B[0m\u001B[1;32m   3879\u001B[0m \u001B[0;34m\u001B[0m\u001B[0m\n\u001B[1;32m   3880\u001B[0m         \u001B[0;32mif\u001B[0m \u001B[0minplace\u001B[0m\u001B[0;34m:\u001B[0m\u001B[0;34m\u001B[0m\u001B[0;34m\u001B[0m\u001B[0m\n",
      "\u001B[0;32m~/miniconda3/envs/MT/lib/python3.6/site-packages/pandas/core/generic.py\u001B[0m in \u001B[0;36m_drop_axis\u001B[0;34m(self, labels, axis, level, errors)\u001B[0m\n\u001B[1;32m   3911\u001B[0m             \u001B[0;32melse\u001B[0m\u001B[0;34m:\u001B[0m\u001B[0;34m\u001B[0m\u001B[0;34m\u001B[0m\u001B[0m\n\u001B[1;32m   3912\u001B[0m                 \u001B[0mnew_axis\u001B[0m \u001B[0;34m=\u001B[0m \u001B[0maxis\u001B[0m\u001B[0;34m.\u001B[0m\u001B[0mdrop\u001B[0m\u001B[0;34m(\u001B[0m\u001B[0mlabels\u001B[0m\u001B[0;34m,\u001B[0m \u001B[0merrors\u001B[0m\u001B[0;34m=\u001B[0m\u001B[0merrors\u001B[0m\u001B[0;34m)\u001B[0m\u001B[0;34m\u001B[0m\u001B[0;34m\u001B[0m\u001B[0m\n\u001B[0;32m-> 3913\u001B[0;31m             \u001B[0mresult\u001B[0m \u001B[0;34m=\u001B[0m \u001B[0mself\u001B[0m\u001B[0;34m.\u001B[0m\u001B[0mreindex\u001B[0m\u001B[0;34m(\u001B[0m\u001B[0;34m**\u001B[0m\u001B[0;34m{\u001B[0m\u001B[0maxis_name\u001B[0m\u001B[0;34m:\u001B[0m \u001B[0mnew_axis\u001B[0m\u001B[0;34m}\u001B[0m\u001B[0;34m)\u001B[0m\u001B[0;34m\u001B[0m\u001B[0;34m\u001B[0m\u001B[0m\n\u001B[0m\u001B[1;32m   3914\u001B[0m \u001B[0;34m\u001B[0m\u001B[0m\n\u001B[1;32m   3915\u001B[0m         \u001B[0;31m# Case for non-unique axis\u001B[0m\u001B[0;34m\u001B[0m\u001B[0;34m\u001B[0m\u001B[0;34m\u001B[0m\u001B[0m\n",
      "\u001B[0;32m~/miniconda3/envs/MT/lib/python3.6/site-packages/pandas/core/series.py\u001B[0m in \u001B[0;36mreindex\u001B[0;34m(self, index, **kwargs)\u001B[0m\n\u001B[1;32m   4397\u001B[0m     )\n\u001B[1;32m   4398\u001B[0m     \u001B[0;32mdef\u001B[0m \u001B[0mreindex\u001B[0m\u001B[0;34m(\u001B[0m\u001B[0mself\u001B[0m\u001B[0;34m,\u001B[0m \u001B[0mindex\u001B[0m\u001B[0;34m=\u001B[0m\u001B[0;32mNone\u001B[0m\u001B[0;34m,\u001B[0m \u001B[0;34m**\u001B[0m\u001B[0mkwargs\u001B[0m\u001B[0;34m)\u001B[0m\u001B[0;34m:\u001B[0m\u001B[0;34m\u001B[0m\u001B[0;34m\u001B[0m\u001B[0m\n\u001B[0;32m-> 4399\u001B[0;31m         \u001B[0;32mreturn\u001B[0m \u001B[0msuper\u001B[0m\u001B[0;34m(\u001B[0m\u001B[0;34m)\u001B[0m\u001B[0;34m.\u001B[0m\u001B[0mreindex\u001B[0m\u001B[0;34m(\u001B[0m\u001B[0mindex\u001B[0m\u001B[0;34m=\u001B[0m\u001B[0mindex\u001B[0m\u001B[0;34m,\u001B[0m \u001B[0;34m**\u001B[0m\u001B[0mkwargs\u001B[0m\u001B[0;34m)\u001B[0m\u001B[0;34m\u001B[0m\u001B[0;34m\u001B[0m\u001B[0m\n\u001B[0m\u001B[1;32m   4400\u001B[0m \u001B[0;34m\u001B[0m\u001B[0m\n\u001B[1;32m   4401\u001B[0m     def drop(\n",
      "\u001B[0;32m~/miniconda3/envs/MT/lib/python3.6/site-packages/pandas/core/generic.py\u001B[0m in \u001B[0;36mreindex\u001B[0;34m(self, *args, **kwargs)\u001B[0m\n\u001B[1;32m   4451\u001B[0m         \u001B[0;31m# perform the reindex on the axes\u001B[0m\u001B[0;34m\u001B[0m\u001B[0;34m\u001B[0m\u001B[0;34m\u001B[0m\u001B[0m\n\u001B[1;32m   4452\u001B[0m         return self._reindex_axes(\n\u001B[0;32m-> 4453\u001B[0;31m             \u001B[0maxes\u001B[0m\u001B[0;34m,\u001B[0m \u001B[0mlevel\u001B[0m\u001B[0;34m,\u001B[0m \u001B[0mlimit\u001B[0m\u001B[0;34m,\u001B[0m \u001B[0mtolerance\u001B[0m\u001B[0;34m,\u001B[0m \u001B[0mmethod\u001B[0m\u001B[0;34m,\u001B[0m \u001B[0mfill_value\u001B[0m\u001B[0;34m,\u001B[0m \u001B[0mcopy\u001B[0m\u001B[0;34m\u001B[0m\u001B[0;34m\u001B[0m\u001B[0m\n\u001B[0m\u001B[1;32m   4454\u001B[0m         ).__finalize__(self, method=\"reindex\")\n\u001B[1;32m   4455\u001B[0m \u001B[0;34m\u001B[0m\u001B[0m\n",
      "\u001B[0;32m~/miniconda3/envs/MT/lib/python3.6/site-packages/pandas/core/generic.py\u001B[0m in \u001B[0;36m_reindex_axes\u001B[0;34m(self, axes, level, limit, tolerance, method, fill_value, copy)\u001B[0m\n\u001B[1;32m   4474\u001B[0m                 \u001B[0mfill_value\u001B[0m\u001B[0;34m=\u001B[0m\u001B[0mfill_value\u001B[0m\u001B[0;34m,\u001B[0m\u001B[0;34m\u001B[0m\u001B[0;34m\u001B[0m\u001B[0m\n\u001B[1;32m   4475\u001B[0m                 \u001B[0mcopy\u001B[0m\u001B[0;34m=\u001B[0m\u001B[0mcopy\u001B[0m\u001B[0;34m,\u001B[0m\u001B[0;34m\u001B[0m\u001B[0;34m\u001B[0m\u001B[0m\n\u001B[0;32m-> 4476\u001B[0;31m                 \u001B[0mallow_dups\u001B[0m\u001B[0;34m=\u001B[0m\u001B[0;32mFalse\u001B[0m\u001B[0;34m,\u001B[0m\u001B[0;34m\u001B[0m\u001B[0;34m\u001B[0m\u001B[0m\n\u001B[0m\u001B[1;32m   4477\u001B[0m             )\n\u001B[1;32m   4478\u001B[0m \u001B[0;34m\u001B[0m\u001B[0m\n",
      "\u001B[0;32m~/miniconda3/envs/MT/lib/python3.6/site-packages/pandas/core/generic.py\u001B[0m in \u001B[0;36m_reindex_with_indexers\u001B[0;34m(self, reindexers, fill_value, copy, allow_dups)\u001B[0m\n\u001B[1;32m   4527\u001B[0m             \u001B[0mnew_data\u001B[0m \u001B[0;34m=\u001B[0m \u001B[0mnew_data\u001B[0m\u001B[0;34m.\u001B[0m\u001B[0mcopy\u001B[0m\u001B[0;34m(\u001B[0m\u001B[0;34m)\u001B[0m\u001B[0;34m\u001B[0m\u001B[0;34m\u001B[0m\u001B[0m\n\u001B[1;32m   4528\u001B[0m \u001B[0;34m\u001B[0m\u001B[0m\n\u001B[0;32m-> 4529\u001B[0;31m         \u001B[0;32mreturn\u001B[0m \u001B[0mself\u001B[0m\u001B[0;34m.\u001B[0m\u001B[0m_constructor\u001B[0m\u001B[0;34m(\u001B[0m\u001B[0mnew_data\u001B[0m\u001B[0;34m)\u001B[0m\u001B[0;34m.\u001B[0m\u001B[0m__finalize__\u001B[0m\u001B[0;34m(\u001B[0m\u001B[0mself\u001B[0m\u001B[0;34m)\u001B[0m\u001B[0;34m\u001B[0m\u001B[0;34m\u001B[0m\u001B[0m\n\u001B[0m\u001B[1;32m   4530\u001B[0m \u001B[0;34m\u001B[0m\u001B[0m\n\u001B[1;32m   4531\u001B[0m     def filter(\n",
      "\u001B[0;32m~/miniconda3/envs/MT/lib/python3.6/site-packages/pandas/core/generic.py\u001B[0m in \u001B[0;36m__finalize__\u001B[0;34m(self, other, method, **kwargs)\u001B[0m\n\u001B[1;32m   5108\u001B[0m             \u001B[0;31m# For subclasses using _metadata.\u001B[0m\u001B[0;34m\u001B[0m\u001B[0;34m\u001B[0m\u001B[0;34m\u001B[0m\u001B[0m\n\u001B[1;32m   5109\u001B[0m             \u001B[0;32mfor\u001B[0m \u001B[0mname\u001B[0m \u001B[0;32min\u001B[0m \u001B[0mself\u001B[0m\u001B[0;34m.\u001B[0m\u001B[0m_metadata\u001B[0m\u001B[0;34m:\u001B[0m\u001B[0;34m\u001B[0m\u001B[0;34m\u001B[0m\u001B[0m\n\u001B[0;32m-> 5110\u001B[0;31m                 \u001B[0;32massert\u001B[0m \u001B[0misinstance\u001B[0m\u001B[0;34m(\u001B[0m\u001B[0mname\u001B[0m\u001B[0;34m,\u001B[0m \u001B[0mstr\u001B[0m\u001B[0;34m)\u001B[0m\u001B[0;34m\u001B[0m\u001B[0;34m\u001B[0m\u001B[0m\n\u001B[0m\u001B[1;32m   5111\u001B[0m                 \u001B[0mobject\u001B[0m\u001B[0;34m.\u001B[0m\u001B[0m__setattr__\u001B[0m\u001B[0;34m(\u001B[0m\u001B[0mself\u001B[0m\u001B[0;34m,\u001B[0m \u001B[0mname\u001B[0m\u001B[0;34m,\u001B[0m \u001B[0mgetattr\u001B[0m\u001B[0;34m(\u001B[0m\u001B[0mother\u001B[0m\u001B[0;34m,\u001B[0m \u001B[0mname\u001B[0m\u001B[0;34m,\u001B[0m \u001B[0;32mNone\u001B[0m\u001B[0;34m)\u001B[0m\u001B[0;34m)\u001B[0m\u001B[0;34m\u001B[0m\u001B[0;34m\u001B[0m\u001B[0m\n\u001B[1;32m   5112\u001B[0m         \u001B[0;32mreturn\u001B[0m \u001B[0mself\u001B[0m\u001B[0;34m\u001B[0m\u001B[0;34m\u001B[0m\u001B[0m\n",
      "\u001B[0;31mKeyboardInterrupt\u001B[0m: "
     ]
    }
   ],
   "source": [
    "# compute Top-N lists for test dataset\n",
    "# for each testing row\n",
    "results = {}\n",
    "results_com = {}\n",
    "i = 1\n",
    "start_time = time.time()\n",
    "for index, _ in test.iterrows():\n",
    "    userId = index[0]\n",
    "    if not userId in df.index: continue\n",
    "    user_emb = emb_from_row(df.loc[userId])\n",
    "    user_label = df.loc[userId].label\n",
    "\n",
    "    # get user's non_friends in user's community\n",
    "    # users_in_community\n",
    "    users_in_community = df[df.label == user_label]\n",
    "    #print(\"len(users_in_community): \", len(users_in_community))\n",
    "    # friends\n",
    "    friends = list(G_train[userId])\n",
    "    #print(\"len(friends): \", len(friends))\n",
    "    # not_friends\n",
    "    not_friends = df[~df.index.isin(friends+[userId])]\n",
    "    #print(\"len(not_friends): \", len(not_friends))\n",
    "    # not_friends_in_community\n",
    "    not_friends_in_community = users_in_community[~users_in_community.index.isin(friends+[userId])]\n",
    "    #print(\"len(not_friends_in_community): \", len(not_friends_in_community))\n",
    "\n",
    "    # generate user's top_list from all not_friends\n",
    "    distances = {}\n",
    "    top_list = SortedDict()\n",
    "    for movie_id, node_row in not_friends.iterrows():\n",
    "        node_emb = emb_from_row(node_row)\n",
    "        dist = emb_distance(user_emb, node_emb)\n",
    "        top_list[dist] = movie_id\n",
    "        distances[movie_id] = dist\n",
    "    results[userId] = top_list, distances\n",
    "\n",
    "    # generate user's top_list from all not_friends_in_community\n",
    "    distances_com = {}\n",
    "    top_list_com = SortedDict()\n",
    "    for movie_id, node_row in not_friends_in_community.iterrows():\n",
    "        node_emb = emb_from_row(node_row)\n",
    "        dist = emb_distance(user_emb, node_emb)\n",
    "        top_list_com[dist] = movie_id\n",
    "        distances_com[movie_id] = dist\n",
    "    results_com[userId] = top_list_com, distances_com\n",
    "\n",
    "    if i % 10 == 0:\n",
    "        elapsed_sec = (time.time() - start_time)\n",
    "        elapsed_min = elapsed_sec / 60\n",
    "        print(f\"{i}/{len(test)} in {elapsed_min:.2f} min\")\n",
    "        print(f\"  => done at {time.ctime(time.time() + ((len(test)-i)/i)*elapsed_sec)}\")\n",
    "    i += 1"
   ],
   "metadata": {
    "collapsed": false,
    "pycharm": {
     "name": "#%%\n"
    }
   }
  },
  {
   "cell_type": "code",
   "execution_count": null,
   "outputs": [],
   "source": [
    "N = 100\n",
    "hit_rates = []\n",
    "hit_rates_com = []\n",
    "\n",
    "for n in range(1, N + 1):\n",
    "\n",
    "    # counters\n",
    "    hits = 0\n",
    "    misses = 0\n",
    "    hits_com = 0\n",
    "    misses_com = 0\n",
    "\n",
    "    for userId in results.keys():\n",
    "        top_list, _ = results[userId]\n",
    "        top_list_com, _ = results_com[userId]\n",
    "        # get Top-N friend suggestions\n",
    "        top_n = top_list.values()[:n]\n",
    "        top_n_com = top_list_com.values()[:n]\n",
    "        # get user's test friend\n",
    "        test_friend = test.query(f\"u == {userId}\").index.get_level_values('v')[0]\n",
    "        # evaluate\n",
    "        hit = test_friend in top_n\n",
    "        if hit:\n",
    "            hits += 1\n",
    "        else:\n",
    "            misses += 1\n",
    "        hit_com = test_friend in top_n_com\n",
    "        if hit_com:\n",
    "            hits_com += 1\n",
    "        else:\n",
    "            misses_com += 1\n",
    "\n",
    "        #print(f\"Friend suggestion {test_friend} {'found' if hit else 'not found'} in user {userId}'s Top-{N} list: \", top_N)\n",
    "\n",
    "    hit_rate = hits / (hits+misses)\n",
    "    hit_rate_com = hits_com / (hits_com+misses_com)\n",
    "    print(f\"{n}: {hits}/{hits+misses} = {hit_rate}\")\n",
    "    print(f\"{n}: {hits_com}/{hits_com+misses_com} = {hit_rate_com} (com)\")\n",
    "\n",
    "    hit_rates.append(hit_rate)\n",
    "    hit_rates_com.append(hit_rate_com)"
   ],
   "metadata": {
    "collapsed": false,
    "pycharm": {
     "name": "#%%\n"
    }
   }
  },
  {
   "cell_type": "code",
   "execution_count": null,
   "outputs": [],
   "source": [
    "# export hit-rates\n",
    "\n",
    "Ns = np.arange(N) + 1\n",
    "\n",
    "hit_rate_1_df = pd.DataFrame(\n",
    "    zip(Ns, hit_rates, ['Algorithm 1' for _ in range(N)]),\n",
    "    columns=['N', 'hit_rate', 'Algorithm']\n",
    ")\n",
    "hit_rate_2_df = pd.DataFrame(\n",
    "    zip(Ns, hit_rates_com, ['Algorithm 2' for _ in range(N)]),\n",
    "    columns=['N', 'hit_rate', 'Algorithm']\n",
    ")\n",
    "hit_rate_df = pd.concat([hit_rate_1_df, hit_rate_2_df])\n",
    "hit_rate_df.to_csv(f\"./hit_rate_df_d-{dim}.csv\")\n"
   ],
   "metadata": {
    "collapsed": false,
    "pycharm": {
     "name": "#%%\n"
    }
   }
  },
  {
   "cell_type": "code",
   "execution_count": null,
   "outputs": [],
   "source": [
    "# hit rates plot\n",
    "\n",
    "ax = sns.lineplot(x='N', y='hit_rate', hue='Algorithm', data=hit_rate_df)\n",
    "ax.set(xlabel='N', ylabel='hit rate', ylim=(0, 1))\n",
    "ax.yaxis.set_major_formatter(PercentFormatter(1))\n",
    "\n",
    "fig = ax.get_figure()\n",
    "fig.savefig(f\"./hit_rates_d-{dim}.png\", format='png', dpi=1000)"
   ],
   "metadata": {
    "collapsed": false,
    "pycharm": {
     "name": "#%%\n"
    }
   }
  },
  {
   "cell_type": "code",
   "execution_count": null,
   "outputs": [],
   "source": [
    "# hit rates plot on log scale\n",
    "\n",
    "ax = sns.lineplot(x='N', y='hit_rate', hue='Algorithm', data=hit_rate_df)\n",
    "ax.set(xlabel='N', ylabel='hit rate', ylim=(0, 1), xscale=\"log\")\n",
    "ax.yaxis.set_major_formatter(PercentFormatter(1))\n",
    "\n",
    "fig = ax.get_figure()\n",
    "fig.savefig(f\"./hit_rates_d-{dim}_log.png\", format='png', dpi=1000)\n"
   ],
   "metadata": {
    "collapsed": false,
    "pycharm": {
     "name": "#%%\n"
    }
   }
  }
 ],
 "metadata": {
  "kernelspec": {
   "name": "pycharm-97a28330",
   "language": "python",
   "display_name": "PyCharm (ComE_BGMM)"
  },
  "language_info": {
   "codemirror_mode": {
    "name": "ipython",
    "version": 2
   },
   "file_extension": ".py",
   "mimetype": "text/x-python",
   "name": "python",
   "nbconvert_exporter": "python",
   "pygments_lexer": "ipython2",
   "version": "2.7.6"
  }
 },
 "nbformat": 4,
 "nbformat_minor": 0
}