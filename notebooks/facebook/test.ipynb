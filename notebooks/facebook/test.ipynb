{
 "cells": [
  {
   "cell_type": "code",
   "execution_count": 56,
   "metadata": {
    "collapsed": true,
    "pycharm": {
     "name": "#%%\n"
    }
   },
   "outputs": [],
   "source": [
    "import sys\n",
    "sys.path.append('../../')\n",
    "\n",
    "from IPython.core.display import display\n",
    "import numpy as np\n",
    "import pandas as pd\n",
    "import networkx as nx\n",
    "from sortedcontainers import SortedDict\n",
    "import seaborn as sns\n",
    "from  matplotlib.ticker import PercentFormatter\n",
    "import time"
   ]
  },
  {
   "cell_type": "code",
   "execution_count": 57,
   "outputs": [],
   "source": [
    "# settings\n",
    "sns.set_style(\"darkgrid\")\n",
    "dim = 128"
   ],
   "metadata": {
    "collapsed": false,
    "pycharm": {
     "name": "#%%\n"
    }
   }
  },
  {
   "cell_type": "code",
   "execution_count": 58,
   "outputs": [
    {
     "name": "stderr",
     "output_type": "stream",
     "text": [
      "/Users/anton/miniconda3/envs/MT/lib/python3.6/site-packages/ipykernel_launcher.py:5: ParserWarning: Falling back to the 'python' engine because the 'c' engine does not support regex separators (separators > 1 char and different from '\\s+' are interpreted as regex); you can avoid this warning by specifying engine='python'.\n",
      "  \"\"\"\n"
     ]
    }
   ],
   "source": [
    "# import node embeddings\n",
    "df = pd.read_csv(\n",
    "    f\"./facebook_alpha-0.1_beta-0.1_ws-10_neg-5_lr-0.025_icom-36_ind-36_ds-0.0_d-{dim}_type-BGMM_k-10.txt\",\n",
    "    sep=\"\\t| \",\n",
    "    header=None\n",
    ")\n",
    "df = df.rename(columns={0: 'node'})\n",
    "df.set_index(['node'], inplace=True)"
   ],
   "metadata": {
    "collapsed": false,
    "pycharm": {
     "name": "#%%\n"
    }
   }
  },
  {
   "cell_type": "code",
   "execution_count": 59,
   "outputs": [],
   "source": [
    "# import train\n",
    "train = pd.read_csv(\"./facebook_train.csv\", index_col=0)\n",
    "# import test\n",
    "test = pd.read_csv(\"./facebook_test.csv\", index_col=['u', 'v'])"
   ],
   "metadata": {
    "collapsed": false,
    "pycharm": {
     "name": "#%%\n"
    }
   }
  },
  {
   "cell_type": "code",
   "execution_count": 60,
   "outputs": [
    {
     "data": {
      "text/plain": "      label\n0         0\n1         5\n2         0\n3         5\n4         6\n...     ...\n3959      6\n3960      6\n3961      0\n3962      6\n3963      6\n\n[3964 rows x 1 columns]",
      "text/html": "<div>\n<style scoped>\n    .dataframe tbody tr th:only-of-type {\n        vertical-align: middle;\n    }\n\n    .dataframe tbody tr th {\n        vertical-align: top;\n    }\n\n    .dataframe thead th {\n        text-align: right;\n    }\n</style>\n<table border=\"1\" class=\"dataframe\">\n  <thead>\n    <tr style=\"text-align: right;\">\n      <th></th>\n      <th>label</th>\n    </tr>\n  </thead>\n  <tbody>\n    <tr>\n      <th>0</th>\n      <td>0</td>\n    </tr>\n    <tr>\n      <th>1</th>\n      <td>5</td>\n    </tr>\n    <tr>\n      <th>2</th>\n      <td>0</td>\n    </tr>\n    <tr>\n      <th>3</th>\n      <td>5</td>\n    </tr>\n    <tr>\n      <th>4</th>\n      <td>6</td>\n    </tr>\n    <tr>\n      <th>...</th>\n      <td>...</td>\n    </tr>\n    <tr>\n      <th>3959</th>\n      <td>6</td>\n    </tr>\n    <tr>\n      <th>3960</th>\n      <td>6</td>\n    </tr>\n    <tr>\n      <th>3961</th>\n      <td>0</td>\n    </tr>\n    <tr>\n      <th>3962</th>\n      <td>6</td>\n    </tr>\n    <tr>\n      <th>3963</th>\n      <td>6</td>\n    </tr>\n  </tbody>\n</table>\n<p>3964 rows × 1 columns</p>\n</div>"
     },
     "execution_count": 60,
     "metadata": {},
     "output_type": "execute_result"
    }
   ],
   "source": [
    "# import predicted labels\n",
    "labels = pd.read_csv(f\"./labels_pred_BGMM_d{dim}_k10.txt\", header=None)\n",
    "labels = labels.rename(columns={0: 'label'})\n",
    "labels.label = labels.astype(int)\n",
    "labels"
   ],
   "metadata": {
    "collapsed": false,
    "pycharm": {
     "name": "#%%\n"
    }
   }
  },
  {
   "cell_type": "code",
   "execution_count": 61,
   "outputs": [],
   "source": [
    "df = df.join(labels)"
   ],
   "metadata": {
    "collapsed": false,
    "pycharm": {
     "name": "#%% join labels to embeddings\n"
    }
   }
  },
  {
   "cell_type": "code",
   "execution_count": 62,
   "outputs": [
    {
     "data": {
      "text/plain": "             1         2         3         4         5         6         7  \\\nnode                                                                         \n0     1.410215  1.055887  0.276106  0.337015 -0.855183 -2.079889  0.359319   \n1     0.642537  0.210880 -0.079735  0.394628 -0.354652 -0.673384 -0.264542   \n2     0.364444  0.483713  0.041530 -0.253252 -0.341561 -0.855875  0.262481   \n3     0.760110  0.369128  0.191771  0.325326 -0.209396 -0.604434  0.049080   \n4     0.486993  0.028743  0.081050 -0.222652 -0.348967 -0.806270  0.705609   \n\n             8         9        10  ...       120       121       122  \\\nnode                                ...                                 \n0    -1.668620  0.876247 -1.597333  ... -1.559046 -0.227659  0.615875   \n1    -0.573317  0.387186 -0.928790  ... -0.942434 -0.044016  0.357568   \n2    -0.731090  0.282645 -0.468689  ... -0.349008 -0.063245 -0.019917   \n3    -0.714295  0.193736 -0.875754  ... -0.954742 -0.068425  0.373606   \n4    -0.529239  0.516686 -0.425610  ... -0.495183 -0.013476  0.070995   \n\n           123       124       125       126       127       128  label  \nnode                                                                     \n0     1.590270 -0.201614 -0.807248  0.872891  2.338391  0.422456    0.0  \n1     0.653752 -0.403103 -0.440986  0.245575  0.464131  0.173977    5.0  \n2     0.298720  0.008025 -0.167265  0.273740  0.909920 -0.209141    0.0  \n3     0.926925 -0.254449 -0.417411  0.377861  0.640826  0.327309    5.0  \n4     0.500861  0.040166  0.071827 -0.117763  0.805720 -0.078896    6.0  \n\n[5 rows x 129 columns]",
      "text/html": "<div>\n<style scoped>\n    .dataframe tbody tr th:only-of-type {\n        vertical-align: middle;\n    }\n\n    .dataframe tbody tr th {\n        vertical-align: top;\n    }\n\n    .dataframe thead th {\n        text-align: right;\n    }\n</style>\n<table border=\"1\" class=\"dataframe\">\n  <thead>\n    <tr style=\"text-align: right;\">\n      <th></th>\n      <th>1</th>\n      <th>2</th>\n      <th>3</th>\n      <th>4</th>\n      <th>5</th>\n      <th>6</th>\n      <th>7</th>\n      <th>8</th>\n      <th>9</th>\n      <th>10</th>\n      <th>...</th>\n      <th>120</th>\n      <th>121</th>\n      <th>122</th>\n      <th>123</th>\n      <th>124</th>\n      <th>125</th>\n      <th>126</th>\n      <th>127</th>\n      <th>128</th>\n      <th>label</th>\n    </tr>\n    <tr>\n      <th>node</th>\n      <th></th>\n      <th></th>\n      <th></th>\n      <th></th>\n      <th></th>\n      <th></th>\n      <th></th>\n      <th></th>\n      <th></th>\n      <th></th>\n      <th></th>\n      <th></th>\n      <th></th>\n      <th></th>\n      <th></th>\n      <th></th>\n      <th></th>\n      <th></th>\n      <th></th>\n      <th></th>\n      <th></th>\n    </tr>\n  </thead>\n  <tbody>\n    <tr>\n      <th>0</th>\n      <td>1.410215</td>\n      <td>1.055887</td>\n      <td>0.276106</td>\n      <td>0.337015</td>\n      <td>-0.855183</td>\n      <td>-2.079889</td>\n      <td>0.359319</td>\n      <td>-1.668620</td>\n      <td>0.876247</td>\n      <td>-1.597333</td>\n      <td>...</td>\n      <td>-1.559046</td>\n      <td>-0.227659</td>\n      <td>0.615875</td>\n      <td>1.590270</td>\n      <td>-0.201614</td>\n      <td>-0.807248</td>\n      <td>0.872891</td>\n      <td>2.338391</td>\n      <td>0.422456</td>\n      <td>0.0</td>\n    </tr>\n    <tr>\n      <th>1</th>\n      <td>0.642537</td>\n      <td>0.210880</td>\n      <td>-0.079735</td>\n      <td>0.394628</td>\n      <td>-0.354652</td>\n      <td>-0.673384</td>\n      <td>-0.264542</td>\n      <td>-0.573317</td>\n      <td>0.387186</td>\n      <td>-0.928790</td>\n      <td>...</td>\n      <td>-0.942434</td>\n      <td>-0.044016</td>\n      <td>0.357568</td>\n      <td>0.653752</td>\n      <td>-0.403103</td>\n      <td>-0.440986</td>\n      <td>0.245575</td>\n      <td>0.464131</td>\n      <td>0.173977</td>\n      <td>5.0</td>\n    </tr>\n    <tr>\n      <th>2</th>\n      <td>0.364444</td>\n      <td>0.483713</td>\n      <td>0.041530</td>\n      <td>-0.253252</td>\n      <td>-0.341561</td>\n      <td>-0.855875</td>\n      <td>0.262481</td>\n      <td>-0.731090</td>\n      <td>0.282645</td>\n      <td>-0.468689</td>\n      <td>...</td>\n      <td>-0.349008</td>\n      <td>-0.063245</td>\n      <td>-0.019917</td>\n      <td>0.298720</td>\n      <td>0.008025</td>\n      <td>-0.167265</td>\n      <td>0.273740</td>\n      <td>0.909920</td>\n      <td>-0.209141</td>\n      <td>0.0</td>\n    </tr>\n    <tr>\n      <th>3</th>\n      <td>0.760110</td>\n      <td>0.369128</td>\n      <td>0.191771</td>\n      <td>0.325326</td>\n      <td>-0.209396</td>\n      <td>-0.604434</td>\n      <td>0.049080</td>\n      <td>-0.714295</td>\n      <td>0.193736</td>\n      <td>-0.875754</td>\n      <td>...</td>\n      <td>-0.954742</td>\n      <td>-0.068425</td>\n      <td>0.373606</td>\n      <td>0.926925</td>\n      <td>-0.254449</td>\n      <td>-0.417411</td>\n      <td>0.377861</td>\n      <td>0.640826</td>\n      <td>0.327309</td>\n      <td>5.0</td>\n    </tr>\n    <tr>\n      <th>4</th>\n      <td>0.486993</td>\n      <td>0.028743</td>\n      <td>0.081050</td>\n      <td>-0.222652</td>\n      <td>-0.348967</td>\n      <td>-0.806270</td>\n      <td>0.705609</td>\n      <td>-0.529239</td>\n      <td>0.516686</td>\n      <td>-0.425610</td>\n      <td>...</td>\n      <td>-0.495183</td>\n      <td>-0.013476</td>\n      <td>0.070995</td>\n      <td>0.500861</td>\n      <td>0.040166</td>\n      <td>0.071827</td>\n      <td>-0.117763</td>\n      <td>0.805720</td>\n      <td>-0.078896</td>\n      <td>6.0</td>\n    </tr>\n  </tbody>\n</table>\n<p>5 rows × 129 columns</p>\n</div>"
     },
     "metadata": {},
     "output_type": "display_data"
    },
    {
     "data": {
      "text/plain": "                 1            2            3            4            5  \\\ncount  3964.000000  3964.000000  3964.000000  3964.000000  3964.000000   \nmean      0.245962     0.234974    -0.118125    -0.069435     0.130555   \nstd       0.285687     0.536587     0.349763     0.284315     0.373223   \nmin      -0.692461    -0.683688    -2.198696    -1.892806    -0.855183   \n25%       0.045890    -0.118894    -0.274778    -0.250238    -0.115985   \n50%       0.216832     0.047774    -0.047532    -0.041141     0.087722   \n75%       0.364162     0.408460     0.114134     0.123863     0.323650   \nmax       1.410215     2.177685     0.673434     0.971740     1.719087   \n\n                 6            7            8            9           10  ...  \\\ncount  3964.000000  3964.000000  3964.000000  3964.000000  3964.000000  ...   \nmean     -0.061437     0.135782     0.032777    -0.030051     0.159000  ...   \nstd       0.393623     0.279270     0.570081     0.695714     0.558243  ...   \nmin      -2.079889    -0.787928    -1.668620    -1.995587    -1.597333  ...   \n25%      -0.191114    -0.023315    -0.245293    -0.274042    -0.058783  ...   \n50%      -0.021151     0.123140     0.022771    -0.021171     0.086926  ...   \n75%       0.151224     0.264197     0.197018     0.114206     0.230962  ...   \nmax       1.372390     1.184074     2.493209     2.639332     2.432325  ...   \n\n               120          121          122          123          124  \\\ncount  3964.000000  3964.000000  3964.000000  3964.000000  3964.000000   \nmean     -0.055033     0.093342     0.198299    -0.009326     0.003912   \nstd       0.555397     0.396318     0.625316     0.704484     0.415985   \nmin      -1.706021    -0.641542    -0.842246    -2.712219    -1.082921   \n25%      -0.276742    -0.104644    -0.125527    -0.058614    -0.209601   \n50%      -0.050763     0.030199     0.071797     0.098033    -0.045417   \n75%       0.143825     0.202780     0.274561     0.329461     0.191753   \nmax       3.097754     3.346251     2.757494     1.590270     2.287718   \n\n               125          126          127          128        label  \ncount  3964.000000  3964.000000  3964.000000  3964.000000  3897.000000  \nmean     -0.083582     0.338404    -0.135958    -0.183193     4.262510  \nstd       0.439189     0.330743     0.820394     0.626242     2.828992  \nmin      -1.936546    -0.436558    -3.588310    -1.661151     0.000000  \n25%      -0.204926     0.128835    -0.166092    -0.516550     2.000000  \n50%       0.018314     0.277037     0.001256    -0.290211     4.000000  \n75%       0.175263     0.440702     0.196135    -0.043263     7.000000  \nmax       0.639313     1.988750     2.338391     2.369749     9.000000  \n\n[8 rows x 129 columns]",
      "text/html": "<div>\n<style scoped>\n    .dataframe tbody tr th:only-of-type {\n        vertical-align: middle;\n    }\n\n    .dataframe tbody tr th {\n        vertical-align: top;\n    }\n\n    .dataframe thead th {\n        text-align: right;\n    }\n</style>\n<table border=\"1\" class=\"dataframe\">\n  <thead>\n    <tr style=\"text-align: right;\">\n      <th></th>\n      <th>1</th>\n      <th>2</th>\n      <th>3</th>\n      <th>4</th>\n      <th>5</th>\n      <th>6</th>\n      <th>7</th>\n      <th>8</th>\n      <th>9</th>\n      <th>10</th>\n      <th>...</th>\n      <th>120</th>\n      <th>121</th>\n      <th>122</th>\n      <th>123</th>\n      <th>124</th>\n      <th>125</th>\n      <th>126</th>\n      <th>127</th>\n      <th>128</th>\n      <th>label</th>\n    </tr>\n  </thead>\n  <tbody>\n    <tr>\n      <th>count</th>\n      <td>3964.000000</td>\n      <td>3964.000000</td>\n      <td>3964.000000</td>\n      <td>3964.000000</td>\n      <td>3964.000000</td>\n      <td>3964.000000</td>\n      <td>3964.000000</td>\n      <td>3964.000000</td>\n      <td>3964.000000</td>\n      <td>3964.000000</td>\n      <td>...</td>\n      <td>3964.000000</td>\n      <td>3964.000000</td>\n      <td>3964.000000</td>\n      <td>3964.000000</td>\n      <td>3964.000000</td>\n      <td>3964.000000</td>\n      <td>3964.000000</td>\n      <td>3964.000000</td>\n      <td>3964.000000</td>\n      <td>3897.000000</td>\n    </tr>\n    <tr>\n      <th>mean</th>\n      <td>0.245962</td>\n      <td>0.234974</td>\n      <td>-0.118125</td>\n      <td>-0.069435</td>\n      <td>0.130555</td>\n      <td>-0.061437</td>\n      <td>0.135782</td>\n      <td>0.032777</td>\n      <td>-0.030051</td>\n      <td>0.159000</td>\n      <td>...</td>\n      <td>-0.055033</td>\n      <td>0.093342</td>\n      <td>0.198299</td>\n      <td>-0.009326</td>\n      <td>0.003912</td>\n      <td>-0.083582</td>\n      <td>0.338404</td>\n      <td>-0.135958</td>\n      <td>-0.183193</td>\n      <td>4.262510</td>\n    </tr>\n    <tr>\n      <th>std</th>\n      <td>0.285687</td>\n      <td>0.536587</td>\n      <td>0.349763</td>\n      <td>0.284315</td>\n      <td>0.373223</td>\n      <td>0.393623</td>\n      <td>0.279270</td>\n      <td>0.570081</td>\n      <td>0.695714</td>\n      <td>0.558243</td>\n      <td>...</td>\n      <td>0.555397</td>\n      <td>0.396318</td>\n      <td>0.625316</td>\n      <td>0.704484</td>\n      <td>0.415985</td>\n      <td>0.439189</td>\n      <td>0.330743</td>\n      <td>0.820394</td>\n      <td>0.626242</td>\n      <td>2.828992</td>\n    </tr>\n    <tr>\n      <th>min</th>\n      <td>-0.692461</td>\n      <td>-0.683688</td>\n      <td>-2.198696</td>\n      <td>-1.892806</td>\n      <td>-0.855183</td>\n      <td>-2.079889</td>\n      <td>-0.787928</td>\n      <td>-1.668620</td>\n      <td>-1.995587</td>\n      <td>-1.597333</td>\n      <td>...</td>\n      <td>-1.706021</td>\n      <td>-0.641542</td>\n      <td>-0.842246</td>\n      <td>-2.712219</td>\n      <td>-1.082921</td>\n      <td>-1.936546</td>\n      <td>-0.436558</td>\n      <td>-3.588310</td>\n      <td>-1.661151</td>\n      <td>0.000000</td>\n    </tr>\n    <tr>\n      <th>25%</th>\n      <td>0.045890</td>\n      <td>-0.118894</td>\n      <td>-0.274778</td>\n      <td>-0.250238</td>\n      <td>-0.115985</td>\n      <td>-0.191114</td>\n      <td>-0.023315</td>\n      <td>-0.245293</td>\n      <td>-0.274042</td>\n      <td>-0.058783</td>\n      <td>...</td>\n      <td>-0.276742</td>\n      <td>-0.104644</td>\n      <td>-0.125527</td>\n      <td>-0.058614</td>\n      <td>-0.209601</td>\n      <td>-0.204926</td>\n      <td>0.128835</td>\n      <td>-0.166092</td>\n      <td>-0.516550</td>\n      <td>2.000000</td>\n    </tr>\n    <tr>\n      <th>50%</th>\n      <td>0.216832</td>\n      <td>0.047774</td>\n      <td>-0.047532</td>\n      <td>-0.041141</td>\n      <td>0.087722</td>\n      <td>-0.021151</td>\n      <td>0.123140</td>\n      <td>0.022771</td>\n      <td>-0.021171</td>\n      <td>0.086926</td>\n      <td>...</td>\n      <td>-0.050763</td>\n      <td>0.030199</td>\n      <td>0.071797</td>\n      <td>0.098033</td>\n      <td>-0.045417</td>\n      <td>0.018314</td>\n      <td>0.277037</td>\n      <td>0.001256</td>\n      <td>-0.290211</td>\n      <td>4.000000</td>\n    </tr>\n    <tr>\n      <th>75%</th>\n      <td>0.364162</td>\n      <td>0.408460</td>\n      <td>0.114134</td>\n      <td>0.123863</td>\n      <td>0.323650</td>\n      <td>0.151224</td>\n      <td>0.264197</td>\n      <td>0.197018</td>\n      <td>0.114206</td>\n      <td>0.230962</td>\n      <td>...</td>\n      <td>0.143825</td>\n      <td>0.202780</td>\n      <td>0.274561</td>\n      <td>0.329461</td>\n      <td>0.191753</td>\n      <td>0.175263</td>\n      <td>0.440702</td>\n      <td>0.196135</td>\n      <td>-0.043263</td>\n      <td>7.000000</td>\n    </tr>\n    <tr>\n      <th>max</th>\n      <td>1.410215</td>\n      <td>2.177685</td>\n      <td>0.673434</td>\n      <td>0.971740</td>\n      <td>1.719087</td>\n      <td>1.372390</td>\n      <td>1.184074</td>\n      <td>2.493209</td>\n      <td>2.639332</td>\n      <td>2.432325</td>\n      <td>...</td>\n      <td>3.097754</td>\n      <td>3.346251</td>\n      <td>2.757494</td>\n      <td>1.590270</td>\n      <td>2.287718</td>\n      <td>0.639313</td>\n      <td>1.988750</td>\n      <td>2.338391</td>\n      <td>2.369749</td>\n      <td>9.000000</td>\n    </tr>\n  </tbody>\n</table>\n<p>8 rows × 129 columns</p>\n</div>"
     },
     "metadata": {},
     "output_type": "display_data"
    },
    {
     "data": {
      "text/plain": "   u  v\n0  0  1\n1  0  2\n2  0  3\n3  0  4\n4  0  5",
      "text/html": "<div>\n<style scoped>\n    .dataframe tbody tr th:only-of-type {\n        vertical-align: middle;\n    }\n\n    .dataframe tbody tr th {\n        vertical-align: top;\n    }\n\n    .dataframe thead th {\n        text-align: right;\n    }\n</style>\n<table border=\"1\" class=\"dataframe\">\n  <thead>\n    <tr style=\"text-align: right;\">\n      <th></th>\n      <th>u</th>\n      <th>v</th>\n    </tr>\n  </thead>\n  <tbody>\n    <tr>\n      <th>0</th>\n      <td>0</td>\n      <td>1</td>\n    </tr>\n    <tr>\n      <th>1</th>\n      <td>0</td>\n      <td>2</td>\n    </tr>\n    <tr>\n      <th>2</th>\n      <td>0</td>\n      <td>3</td>\n    </tr>\n    <tr>\n      <th>3</th>\n      <td>0</td>\n      <td>4</td>\n    </tr>\n    <tr>\n      <th>4</th>\n      <td>0</td>\n      <td>5</td>\n    </tr>\n  </tbody>\n</table>\n</div>"
     },
     "metadata": {},
     "output_type": "display_data"
    },
    {
     "data": {
      "text/plain": "                  u             v\ncount  86999.000000  86999.000000\nmean    1865.069449   2154.507420\nstd      910.682085    894.143924\nmin        0.000000      1.000000\n25%     1160.000000   1601.000000\n50%     1983.000000   2259.000000\n75%     2423.000000   2631.000000\nmax     4031.000000   4038.000000",
      "text/html": "<div>\n<style scoped>\n    .dataframe tbody tr th:only-of-type {\n        vertical-align: middle;\n    }\n\n    .dataframe tbody tr th {\n        vertical-align: top;\n    }\n\n    .dataframe thead th {\n        text-align: right;\n    }\n</style>\n<table border=\"1\" class=\"dataframe\">\n  <thead>\n    <tr style=\"text-align: right;\">\n      <th></th>\n      <th>u</th>\n      <th>v</th>\n    </tr>\n  </thead>\n  <tbody>\n    <tr>\n      <th>count</th>\n      <td>86999.000000</td>\n      <td>86999.000000</td>\n    </tr>\n    <tr>\n      <th>mean</th>\n      <td>1865.069449</td>\n      <td>2154.507420</td>\n    </tr>\n    <tr>\n      <th>std</th>\n      <td>910.682085</td>\n      <td>894.143924</td>\n    </tr>\n    <tr>\n      <th>min</th>\n      <td>0.000000</td>\n      <td>1.000000</td>\n    </tr>\n    <tr>\n      <th>25%</th>\n      <td>1160.000000</td>\n      <td>1601.000000</td>\n    </tr>\n    <tr>\n      <th>50%</th>\n      <td>1983.000000</td>\n      <td>2259.000000</td>\n    </tr>\n    <tr>\n      <th>75%</th>\n      <td>2423.000000</td>\n      <td>2631.000000</td>\n    </tr>\n    <tr>\n      <th>max</th>\n      <td>4031.000000</td>\n      <td>4038.000000</td>\n    </tr>\n  </tbody>\n</table>\n</div>"
     },
     "metadata": {},
     "output_type": "display_data"
    },
    {
     "data": {
      "text/plain": "        Unnamed: 0\nu  v              \n0  276           0\n9  21            1\n21 281           2\n25 141           3\n26 9             4",
      "text/html": "<div>\n<style scoped>\n    .dataframe tbody tr th:only-of-type {\n        vertical-align: middle;\n    }\n\n    .dataframe tbody tr th {\n        vertical-align: top;\n    }\n\n    .dataframe thead th {\n        text-align: right;\n    }\n</style>\n<table border=\"1\" class=\"dataframe\">\n  <thead>\n    <tr style=\"text-align: right;\">\n      <th></th>\n      <th></th>\n      <th>Unnamed: 0</th>\n    </tr>\n    <tr>\n      <th>u</th>\n      <th>v</th>\n      <th></th>\n    </tr>\n  </thead>\n  <tbody>\n    <tr>\n      <th>0</th>\n      <th>276</th>\n      <td>0</td>\n    </tr>\n    <tr>\n      <th>9</th>\n      <th>21</th>\n      <td>1</td>\n    </tr>\n    <tr>\n      <th>21</th>\n      <th>281</th>\n      <td>2</td>\n    </tr>\n    <tr>\n      <th>25</th>\n      <th>141</th>\n      <td>3</td>\n    </tr>\n    <tr>\n      <th>26</th>\n      <th>9</th>\n      <td>4</td>\n    </tr>\n  </tbody>\n</table>\n</div>"
     },
     "metadata": {},
     "output_type": "display_data"
    },
    {
     "data": {
      "text/plain": "        Unnamed: 0\ncount  1169.000000\nmean    584.000000\nstd     337.605539\nmin       0.000000\n25%     292.000000\n50%     584.000000\n75%     876.000000\nmax    1168.000000",
      "text/html": "<div>\n<style scoped>\n    .dataframe tbody tr th:only-of-type {\n        vertical-align: middle;\n    }\n\n    .dataframe tbody tr th {\n        vertical-align: top;\n    }\n\n    .dataframe thead th {\n        text-align: right;\n    }\n</style>\n<table border=\"1\" class=\"dataframe\">\n  <thead>\n    <tr style=\"text-align: right;\">\n      <th></th>\n      <th>Unnamed: 0</th>\n    </tr>\n  </thead>\n  <tbody>\n    <tr>\n      <th>count</th>\n      <td>1169.000000</td>\n    </tr>\n    <tr>\n      <th>mean</th>\n      <td>584.000000</td>\n    </tr>\n    <tr>\n      <th>std</th>\n      <td>337.605539</td>\n    </tr>\n    <tr>\n      <th>min</th>\n      <td>0.000000</td>\n    </tr>\n    <tr>\n      <th>25%</th>\n      <td>292.000000</td>\n    </tr>\n    <tr>\n      <th>50%</th>\n      <td>584.000000</td>\n    </tr>\n    <tr>\n      <th>75%</th>\n      <td>876.000000</td>\n    </tr>\n    <tr>\n      <th>max</th>\n      <td>1168.000000</td>\n    </tr>\n  </tbody>\n</table>\n</div>"
     },
     "metadata": {},
     "output_type": "display_data"
    }
   ],
   "source": [
    "# node embeddings\n",
    "display(df.head())\n",
    "display(df.describe())\n",
    "\n",
    "# train df\n",
    "display(train.head())\n",
    "display(train.describe())\n",
    "\n",
    "# test df\n",
    "display(test.head())\n",
    "display(test.describe())"
   ],
   "metadata": {
    "collapsed": false,
    "pycharm": {
     "name": "#%%\n"
    }
   }
  },
  {
   "cell_type": "code",
   "execution_count": 63,
   "outputs": [],
   "source": [
    "def emb_from_row(row):\n",
    "    \"\"\"get node embedding np array from df row\"\"\"\n",
    "    return row.drop('label').to_numpy().flatten()\n",
    "\n",
    "def emb_distance(emb1, emb2):\n",
    "    \"\"\"computes the euclidean distance between two node embeddings\"\"\"\n",
    "    return np.linalg.norm(emb1-emb2)"
   ],
   "metadata": {
    "collapsed": false,
    "pycharm": {
     "name": "#%%\n"
    }
   }
  },
  {
   "cell_type": "code",
   "execution_count": 64,
   "outputs": [],
   "source": [
    "# get nx train graph\n",
    "G_train = nx.from_pandas_edgelist(train, \"u\", \"v\")"
   ],
   "metadata": {
    "collapsed": false,
    "pycharm": {
     "name": "#%%\n"
    }
   }
  },
  {
   "cell_type": "code",
   "execution_count": 65,
   "outputs": [
    {
     "name": "stdout",
     "output_type": "stream",
     "text": [
      "10/1169 in 0.37 min\n",
      "  => done at Wed Sep 30 04:17:52 2020\n",
      "20/1169 in 0.71 min\n",
      "  => done at Wed Sep 30 04:15:43 2020\n",
      "30/1169 in 1.03 min\n",
      "  => done at Wed Sep 30 04:14:34 2020\n",
      "40/1169 in 1.36 min\n",
      "  => done at Wed Sep 30 04:14:20 2020\n",
      "50/1169 in 1.80 min\n",
      "  => done at Wed Sep 30 04:16:31 2020\n",
      "60/1169 in 2.22 min\n",
      "  => done at Wed Sep 30 04:17:46 2020\n",
      "70/1169 in 2.66 min\n",
      "  => done at Wed Sep 30 04:19:00 2020\n",
      "80/1169 in 3.15 min\n",
      "  => done at Wed Sep 30 04:20:29 2020\n",
      "90/1169 in 3.54 min\n",
      "  => done at Wed Sep 30 04:20:32 2020\n",
      "100/1169 in 4.06 min\n",
      "  => done at Wed Sep 30 04:21:57 2020\n",
      "110/1169 in 4.43 min\n",
      "  => done at Wed Sep 30 04:21:36 2020\n",
      "120/1169 in 4.78 min\n",
      "  => done at Wed Sep 30 04:21:06 2020\n",
      "130/1169 in 5.19 min\n",
      "  => done at Wed Sep 30 04:21:12 2020\n",
      "140/1169 in 5.58 min\n",
      "  => done at Wed Sep 30 04:21:06 2020\n",
      "150/1169 in 5.91 min\n",
      "  => done at Wed Sep 30 04:20:33 2020\n",
      "160/1169 in 6.23 min\n",
      "  => done at Wed Sep 30 04:20:01 2020\n",
      "170/1169 in 6.55 min\n",
      "  => done at Wed Sep 30 04:19:33 2020\n",
      "180/1169 in 6.87 min\n",
      "  => done at Wed Sep 30 04:19:09 2020\n",
      "190/1169 in 7.20 min\n",
      "  => done at Wed Sep 30 04:18:47 2020\n",
      "200/1169 in 7.54 min\n",
      "  => done at Wed Sep 30 04:18:34 2020\n",
      "210/1169 in 7.88 min\n",
      "  => done at Wed Sep 30 04:18:22 2020\n",
      "220/1169 in 8.20 min\n",
      "  => done at Wed Sep 30 04:18:05 2020\n",
      "230/1169 in 8.55 min\n",
      "  => done at Wed Sep 30 04:17:57 2020\n",
      "240/1169 in 8.87 min\n",
      "  => done at Wed Sep 30 04:17:44 2020\n",
      "250/1169 in 9.20 min\n",
      "  => done at Wed Sep 30 04:17:33 2020\n",
      "260/1169 in 9.58 min\n",
      "  => done at Wed Sep 30 04:17:34 2020\n",
      "270/1169 in 9.89 min\n",
      "  => done at Wed Sep 30 04:17:20 2020\n",
      "280/1169 in 10.21 min\n",
      "  => done at Wed Sep 30 04:17:09 2020\n",
      "290/1169 in 10.53 min\n",
      "  => done at Wed Sep 30 04:16:57 2020\n",
      "300/1169 in 10.84 min\n",
      "  => done at Wed Sep 30 04:16:46 2020\n",
      "310/1169 in 11.23 min\n",
      "  => done at Wed Sep 30 04:16:52 2020\n",
      "320/1169 in 11.61 min\n",
      "  => done at Wed Sep 30 04:16:56 2020\n",
      "330/1169 in 12.00 min\n",
      "  => done at Wed Sep 30 04:17:02 2020\n",
      "340/1169 in 12.35 min\n",
      "  => done at Wed Sep 30 04:16:59 2020\n",
      "350/1169 in 12.67 min\n",
      "  => done at Wed Sep 30 04:16:50 2020\n",
      "360/1169 in 13.00 min\n",
      "  => done at Wed Sep 30 04:16:43 2020\n",
      "370/1169 in 13.34 min\n",
      "  => done at Wed Sep 30 04:16:40 2020\n",
      "380/1169 in 13.68 min\n",
      "  => done at Wed Sep 30 04:16:37 2020\n",
      "390/1169 in 14.02 min\n",
      "  => done at Wed Sep 30 04:16:33 2020\n",
      "400/1169 in 14.37 min\n",
      "  => done at Wed Sep 30 04:16:30 2020\n",
      "410/1169 in 14.70 min\n",
      "  => done at Wed Sep 30 04:16:25 2020\n",
      "420/1169 in 15.09 min\n",
      "  => done at Wed Sep 30 04:16:30 2020\n",
      "430/1169 in 15.44 min\n",
      "  => done at Wed Sep 30 04:16:29 2020\n",
      "440/1169 in 15.80 min\n",
      "  => done at Wed Sep 30 04:16:29 2020\n",
      "450/1169 in 16.16 min\n",
      "  => done at Wed Sep 30 04:16:30 2020\n",
      "460/1169 in 16.57 min\n",
      "  => done at Wed Sep 30 04:16:37 2020\n",
      "470/1169 in 16.98 min\n",
      "  => done at Wed Sep 30 04:16:45 2020\n",
      "480/1169 in 17.44 min\n",
      "  => done at Wed Sep 30 04:17:00 2020\n",
      "490/1169 in 17.89 min\n",
      "  => done at Wed Sep 30 04:17:11 2020\n",
      "500/1169 in 18.30 min\n",
      "  => done at Wed Sep 30 04:17:18 2020\n",
      "510/1169 in 18.71 min\n",
      "  => done at Wed Sep 30 04:17:24 2020\n",
      "520/1169 in 19.13 min\n",
      "  => done at Wed Sep 30 04:17:31 2020\n",
      "530/1169 in 19.58 min\n",
      "  => done at Wed Sep 30 04:17:42 2020\n",
      "540/1169 in 19.99 min\n",
      "  => done at Wed Sep 30 04:17:47 2020\n",
      "550/1169 in 20.43 min\n",
      "  => done at Wed Sep 30 04:17:57 2020\n",
      "560/1169 in 20.85 min\n",
      "  => done at Wed Sep 30 04:18:02 2020\n",
      "570/1169 in 21.27 min\n",
      "  => done at Wed Sep 30 04:18:08 2020\n",
      "580/1169 in 21.70 min\n",
      "  => done at Wed Sep 30 04:18:15 2020\n",
      "590/1169 in 22.14 min\n",
      "  => done at Wed Sep 30 04:18:23 2020\n",
      "600/1169 in 22.47 min\n",
      "  => done at Wed Sep 30 04:18:17 2020\n",
      "610/1169 in 22.78 min\n",
      "  => done at Wed Sep 30 04:18:10 2020\n",
      "620/1169 in 23.11 min\n",
      "  => done at Wed Sep 30 04:18:05 2020\n",
      "630/1169 in 23.42 min\n",
      "  => done at Wed Sep 30 04:17:59 2020\n",
      "640/1169 in 23.75 min\n",
      "  => done at Wed Sep 30 04:17:53 2020\n",
      "650/1169 in 24.10 min\n",
      "  => done at Wed Sep 30 04:17:52 2020\n",
      "660/1169 in 24.49 min\n",
      "  => done at Wed Sep 30 04:17:53 2020\n",
      "670/1169 in 24.88 min\n",
      "  => done at Wed Sep 30 04:17:55 2020\n",
      "680/1169 in 25.22 min\n",
      "  => done at Wed Sep 30 04:17:52 2020\n",
      "690/1169 in 25.59 min\n",
      "  => done at Wed Sep 30 04:17:52 2020\n",
      "700/1169 in 25.98 min\n",
      "  => done at Wed Sep 30 04:17:54 2020\n",
      "710/1169 in 26.30 min\n",
      "  => done at Wed Sep 30 04:17:49 2020\n",
      "720/1169 in 26.63 min\n",
      "  => done at Wed Sep 30 04:17:44 2020\n",
      "730/1169 in 26.94 min\n",
      "  => done at Wed Sep 30 04:17:39 2020\n",
      "740/1169 in 27.27 min\n",
      "  => done at Wed Sep 30 04:17:35 2020\n",
      "750/1169 in 27.60 min\n",
      "  => done at Wed Sep 30 04:17:32 2020\n",
      "760/1169 in 27.93 min\n",
      "  => done at Wed Sep 30 04:17:28 2020\n",
      "770/1169 in 28.25 min\n",
      "  => done at Wed Sep 30 04:17:24 2020\n",
      "780/1169 in 28.58 min\n",
      "  => done at Wed Sep 30 04:17:20 2020\n",
      "790/1169 in 28.91 min\n",
      "  => done at Wed Sep 30 04:17:17 2020\n",
      "800/1169 in 29.25 min\n",
      "  => done at Wed Sep 30 04:17:15 2020\n",
      "810/1169 in 29.60 min\n",
      "  => done at Wed Sep 30 04:17:14 2020\n",
      "820/1169 in 30.01 min\n",
      "  => done at Wed Sep 30 04:17:18 2020\n",
      "830/1169 in 30.39 min\n",
      "  => done at Wed Sep 30 04:17:19 2020\n",
      "840/1169 in 30.82 min\n",
      "  => done at Wed Sep 30 04:17:24 2020\n",
      "850/1169 in 31.15 min\n",
      "  => done at Wed Sep 30 04:17:22 2020\n",
      "860/1169 in 31.60 min\n",
      "  => done at Wed Sep 30 04:17:28 2020\n",
      "870/1169 in 31.92 min\n",
      "  => done at Wed Sep 30 04:17:24 2020\n",
      "880/1169 in 32.22 min\n",
      "  => done at Wed Sep 30 04:17:19 2020\n",
      "890/1169 in 32.52 min\n",
      "  => done at Wed Sep 30 04:17:14 2020\n",
      "900/1169 in 32.85 min\n",
      "  => done at Wed Sep 30 04:17:11 2020\n",
      "910/1169 in 33.17 min\n",
      "  => done at Wed Sep 30 04:17:07 2020\n",
      "920/1169 in 33.48 min\n",
      "  => done at Wed Sep 30 04:17:03 2020\n",
      "930/1169 in 33.79 min\n",
      "  => done at Wed Sep 30 04:16:59 2020\n",
      "940/1169 in 34.09 min\n",
      "  => done at Wed Sep 30 04:16:55 2020\n",
      "950/1169 in 34.40 min\n",
      "  => done at Wed Sep 30 04:16:50 2020\n",
      "960/1169 in 34.70 min\n",
      "  => done at Wed Sep 30 04:16:46 2020\n",
      "970/1169 in 35.02 min\n",
      "  => done at Wed Sep 30 04:16:43 2020\n",
      "980/1169 in 35.32 min\n",
      "  => done at Wed Sep 30 04:16:39 2020\n",
      "990/1169 in 35.64 min\n",
      "  => done at Wed Sep 30 04:16:36 2020\n",
      "1000/1169 in 35.98 min\n",
      "  => done at Wed Sep 30 04:16:34 2020\n",
      "1010/1169 in 36.28 min\n",
      "  => done at Wed Sep 30 04:16:30 2020\n",
      "1020/1169 in 36.59 min\n",
      "  => done at Wed Sep 30 04:16:27 2020\n",
      "1030/1169 in 36.91 min\n",
      "  => done at Wed Sep 30 04:16:24 2020\n",
      "1040/1169 in 37.22 min\n",
      "  => done at Wed Sep 30 04:16:21 2020\n",
      "1050/1169 in 37.52 min\n",
      "  => done at Wed Sep 30 04:16:17 2020\n",
      "1060/1169 in 37.83 min\n",
      "  => done at Wed Sep 30 04:16:14 2020\n",
      "1070/1169 in 38.13 min\n",
      "  => done at Wed Sep 30 04:16:10 2020\n",
      "1080/1169 in 38.44 min\n",
      "  => done at Wed Sep 30 04:16:07 2020\n",
      "1090/1169 in 38.75 min\n",
      "  => done at Wed Sep 30 04:16:04 2020\n",
      "1100/1169 in 39.06 min\n",
      "  => done at Wed Sep 30 04:16:01 2020\n",
      "1110/1169 in 39.37 min\n",
      "  => done at Wed Sep 30 04:15:59 2020\n",
      "1120/1169 in 39.68 min\n",
      "  => done at Wed Sep 30 04:15:56 2020\n",
      "1130/1169 in 40.00 min\n",
      "  => done at Wed Sep 30 04:15:54 2020\n",
      "1140/1169 in 40.30 min\n",
      "  => done at Wed Sep 30 04:15:50 2020\n",
      "1150/1169 in 40.61 min\n",
      "  => done at Wed Sep 30 04:15:47 2020\n",
      "1160/1169 in 40.90 min\n",
      "  => done at Wed Sep 30 04:15:44 2020\n"
     ]
    }
   ],
   "source": [
    "# compute Top-N lists for test dataset\n",
    "# for each testing row\n",
    "results = {}\n",
    "results_com = {}\n",
    "i = 1\n",
    "start_time = time.time()\n",
    "for index, _ in test.iterrows():\n",
    "    userId = index[0]\n",
    "    if not userId in df.index: continue\n",
    "    user_emb = emb_from_row(df.loc[userId])\n",
    "    user_label = df.loc[userId].label\n",
    "\n",
    "    # get user's non_friends in user's community\n",
    "    # users_in_community\n",
    "    users_in_community = df[df.label == user_label]\n",
    "    #print(\"len(users_in_community): \", len(users_in_community))\n",
    "    # friends\n",
    "    friends = list(G_train[userId])\n",
    "    #print(\"len(friends): \", len(friends))\n",
    "    # not_friends\n",
    "    not_friends = df[~df.index.isin(friends+[userId])]\n",
    "    #print(\"len(not_friends): \", len(not_friends))\n",
    "    # not_friends_in_community\n",
    "    not_friends_in_community = users_in_community[~users_in_community.index.isin(friends+[userId])]\n",
    "    #print(\"len(not_friends_in_community): \", len(not_friends_in_community))\n",
    "\n",
    "    # generate user's top_list from all not_friends\n",
    "    distances = {}\n",
    "    top_list = SortedDict()\n",
    "    for movie_id, node_row in not_friends.iterrows():\n",
    "        node_emb = emb_from_row(node_row)\n",
    "        dist = emb_distance(user_emb, node_emb)\n",
    "        top_list[dist] = movie_id\n",
    "        distances[movie_id] = dist\n",
    "    results[userId] = top_list, distances\n",
    "\n",
    "    # generate user's top_list from all not_friends_in_community\n",
    "    distances_com = {}\n",
    "    top_list_com = SortedDict()\n",
    "    for movie_id, node_row in not_friends_in_community.iterrows():\n",
    "        node_emb = emb_from_row(node_row)\n",
    "        dist = emb_distance(user_emb, node_emb)\n",
    "        top_list_com[dist] = movie_id\n",
    "        distances_com[movie_id] = dist\n",
    "    results_com[userId] = top_list_com, distances_com\n",
    "\n",
    "    if i % 10 == 0:\n",
    "        elapsed_sec = (time.time() - start_time)\n",
    "        elapsed_min = elapsed_sec / 60\n",
    "        print(f\"{i}/{len(test)} in {elapsed_min:.2f} min\")\n",
    "        print(f\"  => done at {time.ctime(time.time() + ((len(test)-i)/i)*elapsed_sec)}\")\n",
    "    i += 1"
   ],
   "metadata": {
    "collapsed": false,
    "pycharm": {
     "name": "#%%\n"
    }
   }
  },
  {
   "cell_type": "code",
   "execution_count": 66,
   "outputs": [
    {
     "name": "stdout",
     "output_type": "stream",
     "text": [
      "1: 118/1169 = 0.1009409751924722\n",
      "1: 69/1169 = 0.05902480752780154 (com)\n",
      "2: 205/1169 = 0.17536355859709152\n",
      "2: 99/1169 = 0.08468776732249786 (com)\n",
      "3: 274/1169 = 0.23438836612489308\n",
      "3: 112/1169 = 0.09580838323353294 (com)\n",
      "4: 322/1169 = 0.2754491017964072\n",
      "4: 127/1169 = 0.1086398631308811 (com)\n",
      "5: 351/1169 = 0.30025662959794697\n",
      "5: 136/1169 = 0.11633875106929 (com)\n",
      "6: 382/1169 = 0.32677502138579984\n",
      "6: 142/1169 = 0.12147134302822926 (com)\n",
      "7: 417/1169 = 0.3567151411462789\n",
      "7: 154/1169 = 0.1317365269461078 (com)\n",
      "8: 448/1169 = 0.38323353293413176\n",
      "8: 160/1169 = 0.13686911890504705 (com)\n",
      "9: 478/1169 = 0.40889649272882805\n",
      "9: 164/1169 = 0.14029084687767324 (com)\n",
      "10: 503/1169 = 0.43028229255774164\n",
      "10: 173/1169 = 0.14798973481608213 (com)\n",
      "11: 527/1169 = 0.4508126603934987\n",
      "11: 175/1169 = 0.1497005988023952 (com)\n",
      "12: 554/1169 = 0.4739093242087254\n",
      "12: 182/1169 = 0.15568862275449102 (com)\n",
      "13: 583/1169 = 0.49871685201026517\n",
      "13: 189/1169 = 0.16167664670658682 (com)\n",
      "14: 599/1169 = 0.5124037639007699\n",
      "14: 193/1169 = 0.165098374679213 (com)\n",
      "15: 612/1169 = 0.523524379811805\n",
      "15: 199/1169 = 0.17023096663815226 (com)\n",
      "16: 627/1169 = 0.5363558597091531\n",
      "16: 202/1169 = 0.1727972626176219 (com)\n",
      "17: 654/1169 = 0.5594525235243798\n",
      "17: 206/1169 = 0.17621899059024806 (com)\n",
      "18: 663/1169 = 0.5671514114627887\n",
      "18: 207/1169 = 0.1770744225834046 (com)\n",
      "19: 678/1169 = 0.5799828913601369\n",
      "19: 212/1169 = 0.18135158254918735 (com)\n",
      "20: 688/1169 = 0.5885372112917023\n",
      "20: 216/1169 = 0.1847733105218135 (com)\n",
      "21: 701/1169 = 0.5996578272027374\n",
      "21: 218/1169 = 0.1864841745081266 (com)\n",
      "22: 717/1169 = 0.613344739093242\n",
      "22: 220/1169 = 0.1881950384944397 (com)\n",
      "23: 727/1169 = 0.6218990590248076\n",
      "23: 222/1169 = 0.1899059024807528 (com)\n",
      "24: 738/1169 = 0.6313088109495295\n",
      "24: 223/1169 = 0.19076133447390933 (com)\n",
      "25: 746/1169 = 0.6381522668947819\n",
      "25: 224/1169 = 0.19161676646706588 (com)\n",
      "26: 762/1169 = 0.6518391787852865\n",
      "26: 227/1169 = 0.1941830624465355 (com)\n",
      "27: 771/1169 = 0.6595380667236954\n",
      "27: 229/1169 = 0.1958939264328486 (com)\n",
      "28: 783/1169 = 0.669803250641574\n",
      "28: 230/1169 = 0.19674935842600513 (com)\n",
      "29: 795/1169 = 0.6800684345594525\n",
      "29: 230/1169 = 0.19674935842600513 (com)\n",
      "30: 803/1169 = 0.6869118905047049\n",
      "30: 231/1169 = 0.19760479041916168 (com)\n",
      "31: 811/1169 = 0.6937553464499572\n",
      "31: 231/1169 = 0.19760479041916168 (com)\n",
      "32: 815/1169 = 0.6971770744225834\n",
      "32: 232/1169 = 0.19846022241231823 (com)\n",
      "33: 825/1169 = 0.7057313943541489\n",
      "33: 233/1169 = 0.19931565440547477 (com)\n",
      "34: 831/1169 = 0.7108639863130881\n",
      "34: 234/1169 = 0.20017108639863132 (com)\n",
      "35: 836/1169 = 0.7151411462788708\n",
      "35: 234/1169 = 0.20017108639863132 (com)\n",
      "36: 841/1169 = 0.7194183062446535\n",
      "36: 235/1169 = 0.20102651839178784 (com)\n",
      "37: 848/1169 = 0.7254063301967494\n",
      "37: 237/1169 = 0.20273738237810093 (com)\n",
      "38: 852/1169 = 0.7288280581693756\n",
      "38: 238/1169 = 0.20359281437125748 (com)\n",
      "39: 856/1169 = 0.7322497861420018\n",
      "39: 238/1169 = 0.20359281437125748 (com)\n",
      "40: 864/1169 = 0.739093242087254\n",
      "40: 240/1169 = 0.20530367835757057 (com)\n",
      "41: 871/1169 = 0.7450812660393499\n",
      "41: 241/1169 = 0.20615911035072712 (com)\n",
      "42: 876/1169 = 0.7493584260051326\n",
      "42: 242/1169 = 0.20701454234388367 (com)\n",
      "43: 881/1169 = 0.7536355859709153\n",
      "43: 242/1169 = 0.20701454234388367 (com)\n",
      "44: 886/1169 = 0.757912745936698\n",
      "44: 242/1169 = 0.20701454234388367 (com)\n",
      "45: 888/1169 = 0.7596236099230111\n",
      "45: 242/1169 = 0.20701454234388367 (com)\n",
      "46: 890/1169 = 0.7613344739093242\n",
      "46: 242/1169 = 0.20701454234388367 (com)\n",
      "47: 894/1169 = 0.7647562018819504\n",
      "47: 243/1169 = 0.20786997433704021 (com)\n",
      "48: 900/1169 = 0.7698887938408896\n",
      "48: 244/1169 = 0.20872540633019676 (com)\n",
      "49: 904/1169 = 0.7733105218135158\n",
      "49: 245/1169 = 0.20958083832335328 (com)\n",
      "50: 911/1169 = 0.7792985457656116\n",
      "50: 246/1169 = 0.21043627031650983 (com)\n",
      "51: 916/1169 = 0.7835757057313943\n",
      "51: 246/1169 = 0.21043627031650983 (com)\n",
      "52: 917/1169 = 0.7844311377245509\n",
      "52: 246/1169 = 0.21043627031650983 (com)\n",
      "53: 918/1169 = 0.7852865697177075\n",
      "53: 246/1169 = 0.21043627031650983 (com)\n",
      "54: 924/1169 = 0.7904191616766467\n",
      "54: 247/1169 = 0.21129170230966637 (com)\n",
      "55: 928/1169 = 0.7938408896492729\n",
      "55: 247/1169 = 0.21129170230966637 (com)\n",
      "56: 934/1169 = 0.7989734816082121\n",
      "56: 247/1169 = 0.21129170230966637 (com)\n",
      "57: 937/1169 = 0.8015397775876818\n",
      "57: 247/1169 = 0.21129170230966637 (com)\n",
      "58: 938/1169 = 0.8023952095808383\n",
      "58: 247/1169 = 0.21129170230966637 (com)\n",
      "59: 941/1169 = 0.804961505560308\n",
      "59: 247/1169 = 0.21129170230966637 (com)\n",
      "60: 943/1169 = 0.806672369546621\n",
      "60: 247/1169 = 0.21129170230966637 (com)\n",
      "61: 949/1169 = 0.8118049615055604\n",
      "61: 248/1169 = 0.21214713430282292 (com)\n",
      "62: 952/1169 = 0.8143712574850299\n",
      "62: 248/1169 = 0.21214713430282292 (com)\n",
      "63: 956/1169 = 0.8177929854576561\n",
      "63: 249/1169 = 0.21300256629597947 (com)\n",
      "64: 962/1169 = 0.8229255774165953\n",
      "64: 249/1169 = 0.21300256629597947 (com)\n",
      "65: 964/1169 = 0.8246364414029085\n",
      "65: 250/1169 = 0.21385799828913601 (com)\n",
      "66: 968/1169 = 0.8280581693755347\n",
      "66: 250/1169 = 0.21385799828913601 (com)\n",
      "67: 971/1169 = 0.8306244653550042\n",
      "67: 251/1169 = 0.21471343028229256 (com)\n",
      "68: 975/1169 = 0.8340461933276304\n",
      "68: 251/1169 = 0.21471343028229256 (com)\n",
      "69: 976/1169 = 0.834901625320787\n",
      "69: 252/1169 = 0.2155688622754491 (com)\n",
      "70: 979/1169 = 0.8374679213002566\n",
      "70: 253/1169 = 0.21642429426860565 (com)\n",
      "71: 982/1169 = 0.8400342172797263\n",
      "71: 254/1169 = 0.2172797262617622 (com)\n",
      "72: 984/1169 = 0.8417450812660393\n",
      "72: 254/1169 = 0.2172797262617622 (com)\n",
      "73: 986/1169 = 0.8434559452523525\n",
      "73: 254/1169 = 0.2172797262617622 (com)\n",
      "74: 989/1169 = 0.8460222412318221\n",
      "74: 255/1169 = 0.21813515825491872 (com)\n",
      "75: 991/1169 = 0.8477331052181352\n",
      "75: 255/1169 = 0.21813515825491872 (com)\n",
      "76: 993/1169 = 0.8494439692044482\n",
      "76: 255/1169 = 0.21813515825491872 (com)\n",
      "77: 995/1169 = 0.8511548331907614\n",
      "77: 255/1169 = 0.21813515825491872 (com)\n",
      "78: 996/1169 = 0.8520102651839179\n",
      "78: 255/1169 = 0.21813515825491872 (com)\n",
      "79: 996/1169 = 0.8520102651839179\n",
      "79: 255/1169 = 0.21813515825491872 (com)\n",
      "80: 997/1169 = 0.8528656971770744\n",
      "80: 255/1169 = 0.21813515825491872 (com)\n",
      "81: 1000/1169 = 0.8554319931565441\n",
      "81: 255/1169 = 0.21813515825491872 (com)\n",
      "82: 1003/1169 = 0.8579982891360137\n",
      "82: 255/1169 = 0.21813515825491872 (com)\n",
      "83: 1009/1169 = 0.863130881094953\n",
      "83: 255/1169 = 0.21813515825491872 (com)\n",
      "84: 1010/1169 = 0.8639863130881095\n",
      "84: 255/1169 = 0.21813515825491872 (com)\n",
      "85: 1011/1169 = 0.864841745081266\n",
      "85: 255/1169 = 0.21813515825491872 (com)\n",
      "86: 1012/1169 = 0.8656971770744226\n",
      "86: 255/1169 = 0.21813515825491872 (com)\n",
      "87: 1017/1169 = 0.8699743370402053\n",
      "87: 255/1169 = 0.21813515825491872 (com)\n",
      "88: 1019/1169 = 0.8716852010265184\n",
      "88: 255/1169 = 0.21813515825491872 (com)\n",
      "89: 1020/1169 = 0.8725406330196749\n",
      "89: 255/1169 = 0.21813515825491872 (com)\n",
      "90: 1021/1169 = 0.8733960650128315\n",
      "90: 256/1169 = 0.21899059024807527 (com)\n",
      "91: 1022/1169 = 0.874251497005988\n",
      "91: 256/1169 = 0.21899059024807527 (com)\n",
      "92: 1024/1169 = 0.8759623609923011\n",
      "92: 256/1169 = 0.21899059024807527 (com)\n",
      "93: 1026/1169 = 0.8776732249786142\n",
      "93: 256/1169 = 0.21899059024807527 (com)\n",
      "94: 1026/1169 = 0.8776732249786142\n",
      "94: 256/1169 = 0.21899059024807527 (com)\n",
      "95: 1026/1169 = 0.8776732249786142\n",
      "95: 256/1169 = 0.21899059024807527 (com)\n",
      "96: 1028/1169 = 0.8793840889649273\n",
      "96: 256/1169 = 0.21899059024807527 (com)\n",
      "97: 1029/1169 = 0.8802395209580839\n",
      "97: 256/1169 = 0.21899059024807527 (com)\n",
      "98: 1029/1169 = 0.8802395209580839\n",
      "98: 256/1169 = 0.21899059024807527 (com)\n",
      "99: 1034/1169 = 0.8845166809238666\n",
      "99: 257/1169 = 0.21984602224123181 (com)\n",
      "100: 1038/1169 = 0.8879384088964928\n",
      "100: 257/1169 = 0.21984602224123181 (com)\n"
     ]
    }
   ],
   "source": [
    "N = 100\n",
    "hit_rates = []\n",
    "hit_rates_com = []\n",
    "\n",
    "for n in range(1, N + 1):\n",
    "\n",
    "    # counters\n",
    "    hits = 0\n",
    "    misses = 0\n",
    "    hits_com = 0\n",
    "    misses_com = 0\n",
    "\n",
    "    for userId in results.keys():\n",
    "        top_list, _ = results[userId]\n",
    "        top_list_com, _ = results_com[userId]\n",
    "        # get Top-N friend suggestions\n",
    "        top_n = top_list.values()[:n]\n",
    "        top_n_com = top_list_com.values()[:n]\n",
    "        # get user's test friend\n",
    "        test_friend = test.query(f\"u == {userId}\").index.get_level_values('v')[0]\n",
    "        # evaluate\n",
    "        hit = test_friend in top_n\n",
    "        if hit:\n",
    "            hits += 1\n",
    "        else:\n",
    "            misses += 1\n",
    "        hit_com = test_friend in top_n_com\n",
    "        if hit_com:\n",
    "            hits_com += 1\n",
    "        else:\n",
    "            misses_com += 1\n",
    "\n",
    "        #print(f\"Friend suggestion {test_friend} {'found' if hit else 'not found'} in user {userId}'s Top-{N} list: \", top_N)\n",
    "\n",
    "    hit_rate = hits / (hits+misses)\n",
    "    hit_rate_com = hits_com / (hits_com+misses_com)\n",
    "    print(f\"{n}: {hits}/{hits+misses} = {hit_rate}\")\n",
    "    print(f\"{n}: {hits_com}/{hits_com+misses_com} = {hit_rate_com} (com)\")\n",
    "\n",
    "    hit_rates.append(hit_rate)\n",
    "    hit_rates_com.append(hit_rate_com)"
   ],
   "metadata": {
    "collapsed": false,
    "pycharm": {
     "name": "#%%\n"
    }
   }
  },
  {
   "cell_type": "code",
   "execution_count": 67,
   "outputs": [],
   "source": [
    "# export hit-rates\n",
    "\n",
    "Ns = np.arange(N) + 1\n",
    "\n",
    "hit_rate_1_df = pd.DataFrame(\n",
    "    zip(Ns, hit_rates, ['Algorithm 1' for _ in range(N)]),\n",
    "    columns=['N', 'hit_rate', 'Algorithm']\n",
    ")\n",
    "hit_rate_2_df = pd.DataFrame(\n",
    "    zip(Ns, hit_rates_com, ['Algorithm 2' for _ in range(N)]),\n",
    "    columns=['N', 'hit_rate', 'Algorithm']\n",
    ")\n",
    "hit_rate_df = pd.concat([hit_rate_1_df, hit_rate_2_df])\n",
    "hit_rate_df.to_csv(f\"./hit_rate_df_d-{dim}.csv\")\n"
   ],
   "metadata": {
    "collapsed": false,
    "pycharm": {
     "name": "#%%\n"
    }
   }
  },
  {
   "cell_type": "code",
   "execution_count": 68,
   "outputs": [
    {
     "data": {
      "text/plain": "<Figure size 432x288 with 1 Axes>",
      "image/png": "[encoded data removed]"
     },
     "metadata": {},
     "output_type": "display_data"
    }
   ],
   "source": [
    "# hit rates plot\n",
    "\n",
    "ax = sns.lineplot(x='N', y='hit_rate', hue='Algorithm', data=hit_rate_df)\n",
    "ax.set(xlabel='N', ylabel='hit rate', ylim=(0, 1))\n",
    "ax.yaxis.set_major_formatter(PercentFormatter(1))\n",
    "\n",
    "fig = ax.get_figure()\n",
    "fig.savefig(f\"./hit_rates_d-{dim}.png\", format='png', dpi=1000)"
   ],
   "metadata": {
    "collapsed": false,
    "pycharm": {
     "name": "#%%\n"
    }
   }
  },
  {
   "cell_type": "code",
   "execution_count": 69,
   "outputs": [
    {
     "data": {
      "text/plain": "<Figure size 432x288 with 1 Axes>",
      "image/png": "[encoded data removed]"
     },
     "metadata": {},
     "output_type": "display_data"
    }
   ],
   "source": [
    "# hit rates plot on log scale\n",
    "\n",
    "ax = sns.lineplot(x='N', y='hit_rate', hue='Algorithm', data=hit_rate_df)\n",
    "ax.set(xlabel='N', ylabel='hit rate', ylim=(0, 1), xscale=\"log\")\n",
    "ax.yaxis.set_major_formatter(PercentFormatter(1))\n",
    "\n",
    "fig = ax.get_figure()\n",
    "fig.savefig(f\"./hit_rates_d-{dim}_log.png\", format='png', dpi=1000)\n"
   ],
   "metadata": {
    "collapsed": false,
    "pycharm": {
     "name": "#%%\n"
    }
   }
  }
 ],
 "metadata": {
  "kernelspec": {
   "name": "pycharm-97a28330",
   "language": "python",
   "display_name": "PyCharm (ComE_BGMM)"
  },
  "language_info": {
   "codemirror_mode": {
    "name": "ipython",
    "version": 2
   },
   "file_extension": ".py",
   "mimetype": "text/x-python",
   "name": "python",
   "nbconvert_exporter": "python",
   "pygments_lexer": "ipython2",
   "version": "2.7.6"
  }
 },
 "nbformat": 4,
 "nbformat_minor": 0
}