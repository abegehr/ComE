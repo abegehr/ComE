{
 "cells": [
  {
   "cell_type": "code",
   "execution_count": 51,
   "metadata": {
    "collapsed": true,
    "pycharm": {
     "name": "#%%\n"
    }
   },
   "outputs": [],
   "source": [
    "import sys\n",
    "sys.path.append('../../')\n",
    "\n",
    "from IPython.core.display import display\n",
    "import numpy as np\n",
    "import pandas as pd\n",
    "import networkx as nx\n",
    "from sortedcontainers import SortedDict\n",
    "import seaborn as sns\n",
    "from  matplotlib.ticker import PercentFormatter\n",
    "import time"
   ]
  },
  {
   "cell_type": "code",
   "execution_count": 52,
   "outputs": [],
   "source": [
    "# settings\n",
    "sns.set_style(\"darkgrid\")\n",
    "dim = 2"
   ],
   "metadata": {
    "collapsed": false,
    "pycharm": {
     "name": "#%%\n"
    }
   }
  },
  {
   "cell_type": "code",
   "execution_count": 53,
   "outputs": [
    {
     "name": "stderr",
     "output_type": "stream",
     "text": [
      "/Users/anton/miniconda3/envs/MT/lib/python3.6/site-packages/ipykernel_launcher.py:5: ParserWarning: Falling back to the 'python' engine because the 'c' engine does not support regex separators (separators > 1 char and different from '\\s+' are interpreted as regex); you can avoid this warning by specifying engine='python'.\n",
      "  \"\"\"\n"
     ]
    }
   ],
   "source": [
    "# import node embeddings\n",
    "df = pd.read_csv(\n",
    "    f\"./data/facebook_alpha-0.1_beta-0.1_ws-10_neg-5_lr-0.025_icom-36_ind-36_ds-0.0_d-{dim}_type-BGMM_k-10.txt\",\n",
    "    sep=\"\\t| \",\n",
    "    header=None\n",
    ")\n",
    "df = df.rename(columns={0: 'node'})\n",
    "df.set_index(['node'], inplace=True)"
   ],
   "metadata": {
    "collapsed": false,
    "pycharm": {
     "name": "#%%\n"
    }
   }
  },
  {
   "cell_type": "code",
   "execution_count": 54,
   "outputs": [],
   "source": [
    "# import train\n",
    "train = pd.read_csv(\"./data/facebook_train.csv\", index_col=0)\n",
    "# import test\n",
    "test = pd.read_csv(\"./data/facebook_test.csv\", index_col=['u', 'v'])"
   ],
   "metadata": {
    "collapsed": false,
    "pycharm": {
     "name": "#%%\n"
    }
   }
  },
  {
   "cell_type": "code",
   "execution_count": 55,
   "outputs": [
    {
     "data": {
      "text/plain": "array([1., 1., 1., ..., 6., 6., 6.])"
     },
     "execution_count": 55,
     "metadata": {},
     "output_type": "execute_result"
    }
   ],
   "source": [
    "# import labels\n",
    "labels = np.genfromtxt(f\"./data/labels_pred_BGMM_d{dim}_k10.txt\")\n",
    "labels"
   ],
   "metadata": {
    "collapsed": false,
    "pycharm": {
     "name": "#%%\n"
    }
   }
  },
  {
   "cell_type": "code",
   "execution_count": 56,
   "outputs": [],
   "source": [
    "# add labels to embeddings\n",
    "df['label'] = labels"
   ],
   "metadata": {
    "collapsed": false,
    "pycharm": {
     "name": "#%%\n"
    }
   }
  },
  {
   "cell_type": "code",
   "execution_count": 57,
   "outputs": [
    {
     "data": {
      "text/plain": "             1         2  label\nnode                           \n0    -4.001292  4.017002    1.0\n1    -4.303226  4.328349    1.0\n2    -3.510165  3.493527    1.0\n3    -4.429653  4.469522    1.0\n4    -3.582412  3.565915    1.0",
      "text/html": "<div>\n<style scoped>\n    .dataframe tbody tr th:only-of-type {\n        vertical-align: middle;\n    }\n\n    .dataframe tbody tr th {\n        vertical-align: top;\n    }\n\n    .dataframe thead th {\n        text-align: right;\n    }\n</style>\n<table border=\"1\" class=\"dataframe\">\n  <thead>\n    <tr style=\"text-align: right;\">\n      <th></th>\n      <th>1</th>\n      <th>2</th>\n      <th>label</th>\n    </tr>\n    <tr>\n      <th>node</th>\n      <th></th>\n      <th></th>\n      <th></th>\n    </tr>\n  </thead>\n  <tbody>\n    <tr>\n      <th>0</th>\n      <td>-4.001292</td>\n      <td>4.017002</td>\n      <td>1.0</td>\n    </tr>\n    <tr>\n      <th>1</th>\n      <td>-4.303226</td>\n      <td>4.328349</td>\n      <td>1.0</td>\n    </tr>\n    <tr>\n      <th>2</th>\n      <td>-3.510165</td>\n      <td>3.493527</td>\n      <td>1.0</td>\n    </tr>\n    <tr>\n      <th>3</th>\n      <td>-4.429653</td>\n      <td>4.469522</td>\n      <td>1.0</td>\n    </tr>\n    <tr>\n      <th>4</th>\n      <td>-3.582412</td>\n      <td>3.565915</td>\n      <td>1.0</td>\n    </tr>\n  </tbody>\n</table>\n</div>"
     },
     "metadata": {},
     "output_type": "display_data"
    },
    {
     "data": {
      "text/plain": "                 1            2        label\ncount  3964.000000  3964.000000  3964.000000\nmean     -3.137470    -0.250075     2.614026\nstd       1.930306     3.969619     1.606467\nmin      -6.907726    -7.603607     1.000000\n25%      -4.914396    -3.758388     1.000000\n50%      -3.191420    -0.248374     2.000000\n75%      -1.127887     3.132293     3.000000\nmax      -0.400827     6.904348     6.000000",
      "text/html": "<div>\n<style scoped>\n    .dataframe tbody tr th:only-of-type {\n        vertical-align: middle;\n    }\n\n    .dataframe tbody tr th {\n        vertical-align: top;\n    }\n\n    .dataframe thead th {\n        text-align: right;\n    }\n</style>\n<table border=\"1\" class=\"dataframe\">\n  <thead>\n    <tr style=\"text-align: right;\">\n      <th></th>\n      <th>1</th>\n      <th>2</th>\n      <th>label</th>\n    </tr>\n  </thead>\n  <tbody>\n    <tr>\n      <th>count</th>\n      <td>3964.000000</td>\n      <td>3964.000000</td>\n      <td>3964.000000</td>\n    </tr>\n    <tr>\n      <th>mean</th>\n      <td>-3.137470</td>\n      <td>-0.250075</td>\n      <td>2.614026</td>\n    </tr>\n    <tr>\n      <th>std</th>\n      <td>1.930306</td>\n      <td>3.969619</td>\n      <td>1.606467</td>\n    </tr>\n    <tr>\n      <th>min</th>\n      <td>-6.907726</td>\n      <td>-7.603607</td>\n      <td>1.000000</td>\n    </tr>\n    <tr>\n      <th>25%</th>\n      <td>-4.914396</td>\n      <td>-3.758388</td>\n      <td>1.000000</td>\n    </tr>\n    <tr>\n      <th>50%</th>\n      <td>-3.191420</td>\n      <td>-0.248374</td>\n      <td>2.000000</td>\n    </tr>\n    <tr>\n      <th>75%</th>\n      <td>-1.127887</td>\n      <td>3.132293</td>\n      <td>3.000000</td>\n    </tr>\n    <tr>\n      <th>max</th>\n      <td>-0.400827</td>\n      <td>6.904348</td>\n      <td>6.000000</td>\n    </tr>\n  </tbody>\n</table>\n</div>"
     },
     "metadata": {},
     "output_type": "display_data"
    },
    {
     "data": {
      "text/plain": "   u  v\n0  0  1\n1  0  2\n2  0  3\n3  0  4\n4  0  5",
      "text/html": "<div>\n<style scoped>\n    .dataframe tbody tr th:only-of-type {\n        vertical-align: middle;\n    }\n\n    .dataframe tbody tr th {\n        vertical-align: top;\n    }\n\n    .dataframe thead th {\n        text-align: right;\n    }\n</style>\n<table border=\"1\" class=\"dataframe\">\n  <thead>\n    <tr style=\"text-align: right;\">\n      <th></th>\n      <th>u</th>\n      <th>v</th>\n    </tr>\n  </thead>\n  <tbody>\n    <tr>\n      <th>0</th>\n      <td>0</td>\n      <td>1</td>\n    </tr>\n    <tr>\n      <th>1</th>\n      <td>0</td>\n      <td>2</td>\n    </tr>\n    <tr>\n      <th>2</th>\n      <td>0</td>\n      <td>3</td>\n    </tr>\n    <tr>\n      <th>3</th>\n      <td>0</td>\n      <td>4</td>\n    </tr>\n    <tr>\n      <th>4</th>\n      <td>0</td>\n      <td>5</td>\n    </tr>\n  </tbody>\n</table>\n</div>"
     },
     "metadata": {},
     "output_type": "display_data"
    },
    {
     "data": {
      "text/plain": "                  u             v\ncount  86999.000000  86999.000000\nmean    1865.069449   2154.507420\nstd      910.682085    894.143924\nmin        0.000000      1.000000\n25%     1160.000000   1601.000000\n50%     1983.000000   2259.000000\n75%     2423.000000   2631.000000\nmax     4031.000000   4038.000000",
      "text/html": "<div>\n<style scoped>\n    .dataframe tbody tr th:only-of-type {\n        vertical-align: middle;\n    }\n\n    .dataframe tbody tr th {\n        vertical-align: top;\n    }\n\n    .dataframe thead th {\n        text-align: right;\n    }\n</style>\n<table border=\"1\" class=\"dataframe\">\n  <thead>\n    <tr style=\"text-align: right;\">\n      <th></th>\n      <th>u</th>\n      <th>v</th>\n    </tr>\n  </thead>\n  <tbody>\n    <tr>\n      <th>count</th>\n      <td>86999.000000</td>\n      <td>86999.000000</td>\n    </tr>\n    <tr>\n      <th>mean</th>\n      <td>1865.069449</td>\n      <td>2154.507420</td>\n    </tr>\n    <tr>\n      <th>std</th>\n      <td>910.682085</td>\n      <td>894.143924</td>\n    </tr>\n    <tr>\n      <th>min</th>\n      <td>0.000000</td>\n      <td>1.000000</td>\n    </tr>\n    <tr>\n      <th>25%</th>\n      <td>1160.000000</td>\n      <td>1601.000000</td>\n    </tr>\n    <tr>\n      <th>50%</th>\n      <td>1983.000000</td>\n      <td>2259.000000</td>\n    </tr>\n    <tr>\n      <th>75%</th>\n      <td>2423.000000</td>\n      <td>2631.000000</td>\n    </tr>\n    <tr>\n      <th>max</th>\n      <td>4031.000000</td>\n      <td>4038.000000</td>\n    </tr>\n  </tbody>\n</table>\n</div>"
     },
     "metadata": {},
     "output_type": "display_data"
    },
    {
     "data": {
      "text/plain": "        Unnamed: 0\nu  v              \n0  276           0\n9  21            1\n21 281           2\n25 141           3\n26 9             4",
      "text/html": "<div>\n<style scoped>\n    .dataframe tbody tr th:only-of-type {\n        vertical-align: middle;\n    }\n\n    .dataframe tbody tr th {\n        vertical-align: top;\n    }\n\n    .dataframe thead th {\n        text-align: right;\n    }\n</style>\n<table border=\"1\" class=\"dataframe\">\n  <thead>\n    <tr style=\"text-align: right;\">\n      <th></th>\n      <th></th>\n      <th>Unnamed: 0</th>\n    </tr>\n    <tr>\n      <th>u</th>\n      <th>v</th>\n      <th></th>\n    </tr>\n  </thead>\n  <tbody>\n    <tr>\n      <th>0</th>\n      <th>276</th>\n      <td>0</td>\n    </tr>\n    <tr>\n      <th>9</th>\n      <th>21</th>\n      <td>1</td>\n    </tr>\n    <tr>\n      <th>21</th>\n      <th>281</th>\n      <td>2</td>\n    </tr>\n    <tr>\n      <th>25</th>\n      <th>141</th>\n      <td>3</td>\n    </tr>\n    <tr>\n      <th>26</th>\n      <th>9</th>\n      <td>4</td>\n    </tr>\n  </tbody>\n</table>\n</div>"
     },
     "metadata": {},
     "output_type": "display_data"
    },
    {
     "data": {
      "text/plain": "        Unnamed: 0\ncount  1169.000000\nmean    584.000000\nstd     337.605539\nmin       0.000000\n25%     292.000000\n50%     584.000000\n75%     876.000000\nmax    1168.000000",
      "text/html": "<div>\n<style scoped>\n    .dataframe tbody tr th:only-of-type {\n        vertical-align: middle;\n    }\n\n    .dataframe tbody tr th {\n        vertical-align: top;\n    }\n\n    .dataframe thead th {\n        text-align: right;\n    }\n</style>\n<table border=\"1\" class=\"dataframe\">\n  <thead>\n    <tr style=\"text-align: right;\">\n      <th></th>\n      <th>Unnamed: 0</th>\n    </tr>\n  </thead>\n  <tbody>\n    <tr>\n      <th>count</th>\n      <td>1169.000000</td>\n    </tr>\n    <tr>\n      <th>mean</th>\n      <td>584.000000</td>\n    </tr>\n    <tr>\n      <th>std</th>\n      <td>337.605539</td>\n    </tr>\n    <tr>\n      <th>min</th>\n      <td>0.000000</td>\n    </tr>\n    <tr>\n      <th>25%</th>\n      <td>292.000000</td>\n    </tr>\n    <tr>\n      <th>50%</th>\n      <td>584.000000</td>\n    </tr>\n    <tr>\n      <th>75%</th>\n      <td>876.000000</td>\n    </tr>\n    <tr>\n      <th>max</th>\n      <td>1168.000000</td>\n    </tr>\n  </tbody>\n</table>\n</div>"
     },
     "metadata": {},
     "output_type": "display_data"
    }
   ],
   "source": [
    "# node embeddings\n",
    "display(df.head())\n",
    "display(df.describe())\n",
    "\n",
    "# train df\n",
    "display(train.head())\n",
    "display(train.describe())\n",
    "\n",
    "# test df\n",
    "display(test.head())\n",
    "display(test.describe())"
   ],
   "metadata": {
    "collapsed": false,
    "pycharm": {
     "name": "#%%\n"
    }
   }
  },
  {
   "cell_type": "code",
   "execution_count": 58,
   "outputs": [],
   "source": [
    "def emb_from_row(row):\n",
    "    \"\"\"get node embedding np array from df row\"\"\"\n",
    "    return row.drop('label').to_numpy().flatten()\n",
    "\n",
    "def emb_distance(emb1, emb2):\n",
    "    \"\"\"computes the euclidean distance between two node embeddings\"\"\"\n",
    "    return np.linalg.norm(emb1-emb2)"
   ],
   "metadata": {
    "collapsed": false,
    "pycharm": {
     "name": "#%%\n"
    }
   }
  },
  {
   "cell_type": "code",
   "execution_count": 59,
   "outputs": [],
   "source": [
    "# get nx train graph\n",
    "G_train = nx.from_pandas_edgelist(train, \"u\", \"v\")"
   ],
   "metadata": {
    "collapsed": false,
    "pycharm": {
     "name": "#%%\n"
    }
   }
  },
  {
   "cell_type": "code",
   "execution_count": 60,
   "outputs": [
    {
     "name": "stdout",
     "output_type": "stream",
     "text": [
      "10/1169 in 0.39 min\n",
      "  => done at Thu Oct  1 02:30:10 2020\n",
      "20/1169 in 0.78 min\n",
      "  => done at Thu Oct  1 02:30:22 2020\n",
      "30/1169 in 1.20 min\n",
      "  => done at Thu Oct  1 02:31:46 2020\n",
      "40/1169 in 1.57 min\n",
      "  => done at Thu Oct  1 02:30:37 2020\n",
      "50/1169 in 1.91 min\n",
      "  => done at Thu Oct  1 02:29:29 2020\n",
      "60/1169 in 2.25 min\n",
      "  => done at Thu Oct  1 02:28:38 2020\n",
      "70/1169 in 2.59 min\n",
      "  => done at Thu Oct  1 02:28:06 2020\n",
      "80/1169 in 2.93 min\n",
      "  => done at Thu Oct  1 02:27:41 2020\n",
      "90/1169 in 3.27 min\n",
      "  => done at Thu Oct  1 02:27:21 2020\n",
      "100/1169 in 3.63 min\n",
      "  => done at Thu Oct  1 02:27:19 2020\n",
      "110/1169 in 4.00 min\n",
      "  => done at Thu Oct  1 02:27:23 2020\n",
      "120/1169 in 4.35 min\n",
      "  => done at Thu Oct  1 02:27:12 2020\n",
      "130/1169 in 4.69 min\n",
      "  => done at Thu Oct  1 02:27:03 2020\n",
      "140/1169 in 5.03 min\n",
      "  => done at Thu Oct  1 02:26:52 2020\n",
      "150/1169 in 5.38 min\n",
      "  => done at Thu Oct  1 02:26:47 2020\n",
      "160/1169 in 5.72 min\n",
      "  => done at Thu Oct  1 02:26:39 2020\n",
      "170/1169 in 6.06 min\n",
      "  => done at Thu Oct  1 02:26:32 2020\n",
      "180/1169 in 6.43 min\n",
      "  => done at Thu Oct  1 02:26:35 2020\n",
      "190/1169 in 6.77 min\n",
      "  => done at Thu Oct  1 02:26:30 2020\n",
      "200/1169 in 7.12 min\n",
      "  => done at Thu Oct  1 02:26:27 2020\n",
      "210/1169 in 7.46 min\n",
      "  => done at Thu Oct  1 02:26:21 2020\n",
      "220/1169 in 7.80 min\n",
      "  => done at Thu Oct  1 02:26:17 2020\n",
      "230/1169 in 8.14 min\n",
      "  => done at Thu Oct  1 02:26:12 2020\n",
      "240/1169 in 8.48 min\n",
      "  => done at Thu Oct  1 02:26:08 2020\n",
      "250/1169 in 8.82 min\n",
      "  => done at Thu Oct  1 02:26:05 2020\n",
      "260/1169 in 9.16 min\n",
      "  => done at Thu Oct  1 02:26:02 2020\n",
      "270/1169 in 9.50 min\n",
      "  => done at Thu Oct  1 02:25:59 2020\n",
      "280/1169 in 9.84 min\n",
      "  => done at Thu Oct  1 02:25:55 2020\n",
      "290/1169 in 10.18 min\n",
      "  => done at Thu Oct  1 02:25:52 2020\n",
      "300/1169 in 10.52 min\n",
      "  => done at Thu Oct  1 02:25:50 2020\n",
      "310/1169 in 10.86 min\n",
      "  => done at Thu Oct  1 02:25:47 2020\n",
      "320/1169 in 11.19 min\n",
      "  => done at Thu Oct  1 02:25:44 2020\n",
      "330/1169 in 11.54 min\n",
      "  => done at Thu Oct  1 02:25:43 2020\n",
      "340/1169 in 11.89 min\n",
      "  => done at Thu Oct  1 02:25:43 2020\n",
      "350/1169 in 12.24 min\n",
      "  => done at Thu Oct  1 02:25:43 2020\n",
      "360/1169 in 12.58 min\n",
      "  => done at Thu Oct  1 02:25:41 2020\n",
      "370/1169 in 12.92 min\n",
      "  => done at Thu Oct  1 02:25:40 2020\n",
      "380/1169 in 13.26 min\n",
      "  => done at Thu Oct  1 02:25:39 2020\n",
      "390/1169 in 13.61 min\n",
      "  => done at Thu Oct  1 02:25:38 2020\n",
      "400/1169 in 13.96 min\n",
      "  => done at Thu Oct  1 02:25:38 2020\n",
      "410/1169 in 14.29 min\n",
      "  => done at Thu Oct  1 02:25:35 2020\n",
      "420/1169 in 14.63 min\n",
      "  => done at Thu Oct  1 02:25:33 2020\n",
      "430/1169 in 14.96 min\n",
      "  => done at Thu Oct  1 02:25:31 2020\n",
      "440/1169 in 15.30 min\n",
      "  => done at Thu Oct  1 02:25:30 2020\n",
      "450/1169 in 15.64 min\n",
      "  => done at Thu Oct  1 02:25:28 2020\n",
      "460/1169 in 15.98 min\n",
      "  => done at Thu Oct  1 02:25:27 2020\n",
      "470/1169 in 16.32 min\n",
      "  => done at Thu Oct  1 02:25:25 2020\n",
      "480/1169 in 16.66 min\n",
      "  => done at Thu Oct  1 02:25:24 2020\n",
      "490/1169 in 17.00 min\n",
      "  => done at Thu Oct  1 02:25:23 2020\n",
      "500/1169 in 17.32 min\n",
      "  => done at Thu Oct  1 02:25:20 2020\n",
      "510/1169 in 17.63 min\n",
      "  => done at Thu Oct  1 02:25:15 2020\n",
      "520/1169 in 17.94 min\n",
      "  => done at Thu Oct  1 02:25:10 2020\n",
      "530/1169 in 18.26 min\n",
      "  => done at Thu Oct  1 02:25:06 2020\n",
      "540/1169 in 18.59 min\n",
      "  => done at Thu Oct  1 02:25:05 2020\n",
      "550/1169 in 18.92 min\n",
      "  => done at Thu Oct  1 02:25:04 2020\n",
      "560/1169 in 19.24 min\n",
      "  => done at Thu Oct  1 02:25:00 2020\n",
      "570/1169 in 19.56 min\n",
      "  => done at Thu Oct  1 02:24:57 2020\n",
      "580/1169 in 19.88 min\n",
      "  => done at Thu Oct  1 02:24:54 2020\n",
      "590/1169 in 20.20 min\n",
      "  => done at Thu Oct  1 02:24:51 2020\n",
      "600/1169 in 20.52 min\n",
      "  => done at Thu Oct  1 02:24:50 2020\n",
      "610/1169 in 20.84 min\n",
      "  => done at Thu Oct  1 02:24:47 2020\n",
      "620/1169 in 21.15 min\n",
      "  => done at Thu Oct  1 02:24:44 2020\n",
      "630/1169 in 21.47 min\n",
      "  => done at Thu Oct  1 02:24:41 2020\n",
      "640/1169 in 21.78 min\n",
      "  => done at Thu Oct  1 02:24:38 2020\n",
      "650/1169 in 22.11 min\n",
      "  => done at Thu Oct  1 02:24:36 2020\n",
      "660/1169 in 22.42 min\n",
      "  => done at Thu Oct  1 02:24:33 2020\n",
      "670/1169 in 22.74 min\n",
      "  => done at Thu Oct  1 02:24:31 2020\n",
      "680/1169 in 23.06 min\n",
      "  => done at Thu Oct  1 02:24:29 2020\n",
      "690/1169 in 23.37 min\n",
      "  => done at Thu Oct  1 02:24:26 2020\n",
      "700/1169 in 23.69 min\n",
      "  => done at Thu Oct  1 02:24:24 2020\n",
      "710/1169 in 23.99 min\n",
      "  => done at Thu Oct  1 02:24:20 2020\n",
      "720/1169 in 24.31 min\n",
      "  => done at Thu Oct  1 02:24:18 2020\n",
      "730/1169 in 24.61 min\n",
      "  => done at Thu Oct  1 02:24:15 2020\n",
      "740/1169 in 24.92 min\n",
      "  => done at Thu Oct  1 02:24:13 2020\n",
      "750/1169 in 25.24 min\n",
      "  => done at Thu Oct  1 02:24:11 2020\n",
      "760/1169 in 25.55 min\n",
      "  => done at Thu Oct  1 02:24:09 2020\n",
      "770/1169 in 25.87 min\n",
      "  => done at Thu Oct  1 02:24:07 2020\n",
      "780/1169 in 26.18 min\n",
      "  => done at Thu Oct  1 02:24:05 2020\n",
      "790/1169 in 26.50 min\n",
      "  => done at Thu Oct  1 02:24:03 2020\n",
      "800/1169 in 26.81 min\n",
      "  => done at Thu Oct  1 02:24:01 2020\n",
      "810/1169 in 27.12 min\n",
      "  => done at Thu Oct  1 02:23:59 2020\n",
      "820/1169 in 27.45 min\n",
      "  => done at Thu Oct  1 02:23:58 2020\n",
      "830/1169 in 27.75 min\n",
      "  => done at Thu Oct  1 02:23:55 2020\n",
      "840/1169 in 28.07 min\n",
      "  => done at Thu Oct  1 02:23:54 2020\n",
      "850/1169 in 28.39 min\n",
      "  => done at Thu Oct  1 02:23:53 2020\n",
      "860/1169 in 28.72 min\n",
      "  => done at Thu Oct  1 02:23:53 2020\n",
      "870/1169 in 29.03 min\n",
      "  => done at Thu Oct  1 02:23:51 2020\n",
      "880/1169 in 29.34 min\n",
      "  => done at Thu Oct  1 02:23:49 2020\n",
      "890/1169 in 29.65 min\n",
      "  => done at Thu Oct  1 02:23:47 2020\n",
      "900/1169 in 29.96 min\n",
      "  => done at Thu Oct  1 02:23:45 2020\n",
      "910/1169 in 30.28 min\n",
      "  => done at Thu Oct  1 02:23:44 2020\n",
      "920/1169 in 30.61 min\n",
      "  => done at Thu Oct  1 02:23:44 2020\n",
      "930/1169 in 30.95 min\n",
      "  => done at Thu Oct  1 02:23:45 2020\n",
      "940/1169 in 31.29 min\n",
      "  => done at Thu Oct  1 02:23:45 2020\n",
      "950/1169 in 31.64 min\n",
      "  => done at Thu Oct  1 02:23:46 2020\n",
      "960/1169 in 31.97 min\n",
      "  => done at Thu Oct  1 02:23:47 2020\n",
      "970/1169 in 32.31 min\n",
      "  => done at Thu Oct  1 02:23:47 2020\n",
      "980/1169 in 32.65 min\n",
      "  => done at Thu Oct  1 02:23:47 2020\n",
      "990/1169 in 32.98 min\n",
      "  => done at Thu Oct  1 02:23:47 2020\n",
      "1000/1169 in 33.32 min\n",
      "  => done at Thu Oct  1 02:23:48 2020\n",
      "1010/1169 in 33.67 min\n",
      "  => done at Thu Oct  1 02:23:49 2020\n",
      "1020/1169 in 34.03 min\n",
      "  => done at Thu Oct  1 02:23:50 2020\n",
      "1030/1169 in 34.38 min\n",
      "  => done at Thu Oct  1 02:23:51 2020\n",
      "1040/1169 in 34.78 min\n",
      "  => done at Thu Oct  1 02:23:56 2020\n",
      "1050/1169 in 35.12 min\n",
      "  => done at Thu Oct  1 02:23:56 2020\n",
      "1060/1169 in 35.46 min\n",
      "  => done at Thu Oct  1 02:23:57 2020\n",
      "1070/1169 in 35.80 min\n",
      "  => done at Thu Oct  1 02:23:57 2020\n",
      "1080/1169 in 36.15 min\n",
      "  => done at Thu Oct  1 02:23:58 2020\n",
      "1090/1169 in 36.50 min\n",
      "  => done at Thu Oct  1 02:23:59 2020\n",
      "1100/1169 in 36.84 min\n",
      "  => done at Thu Oct  1 02:24:00 2020\n",
      "1110/1169 in 37.18 min\n",
      "  => done at Thu Oct  1 02:24:00 2020\n",
      "1120/1169 in 37.52 min\n",
      "  => done at Thu Oct  1 02:24:00 2020\n",
      "1130/1169 in 37.86 min\n",
      "  => done at Thu Oct  1 02:24:01 2020\n",
      "1140/1169 in 38.21 min\n",
      "  => done at Thu Oct  1 02:24:01 2020\n",
      "1150/1169 in 38.54 min\n",
      "  => done at Thu Oct  1 02:24:01 2020\n",
      "1160/1169 in 38.88 min\n",
      "  => done at Thu Oct  1 02:24:01 2020\n"
     ]
    }
   ],
   "source": [
    "# compute Top-N lists for test dataset\n",
    "# for each testing row\n",
    "results = {}\n",
    "results_com = {}\n",
    "i = 1\n",
    "start_time = time.time()\n",
    "for index, _ in test.iterrows():\n",
    "    userId = index[0]\n",
    "    if not userId in df.index: continue\n",
    "    user_emb = emb_from_row(df.loc[userId])\n",
    "    user_label = df.loc[userId].label\n",
    "\n",
    "    # get user's non_friends in user's community\n",
    "    # users_in_community\n",
    "    users_in_community = df[df.label == user_label]\n",
    "    #print(\"len(users_in_community): \", len(users_in_community))\n",
    "    # friends\n",
    "    friends = list(G_train[userId])\n",
    "    #print(\"len(friends): \", len(friends))\n",
    "    # not_friends\n",
    "    not_friends = df[~df.index.isin(friends+[userId])]\n",
    "    #print(\"len(not_friends): \", len(not_friends))\n",
    "    # not_friends_in_community\n",
    "    not_friends_in_community = users_in_community[~users_in_community.index.isin(friends+[userId])]\n",
    "    #print(\"len(not_friends_in_community): \", len(not_friends_in_community))\n",
    "\n",
    "    # generate user's top_list from all not_friends\n",
    "    distances = {}\n",
    "    top_list = SortedDict()\n",
    "    for movie_id, node_row in not_friends.iterrows():\n",
    "        node_emb = emb_from_row(node_row)\n",
    "        dist = emb_distance(user_emb, node_emb)\n",
    "        top_list[dist] = movie_id\n",
    "        distances[movie_id] = dist\n",
    "    results[userId] = top_list, distances\n",
    "\n",
    "    # generate user's top_list from all not_friends_in_community\n",
    "    distances_com = {}\n",
    "    top_list_com = SortedDict()\n",
    "    for movie_id, node_row in not_friends_in_community.iterrows():\n",
    "        node_emb = emb_from_row(node_row)\n",
    "        dist = emb_distance(user_emb, node_emb)\n",
    "        top_list_com[dist] = movie_id\n",
    "        distances_com[movie_id] = dist\n",
    "    results_com[userId] = top_list_com, distances_com\n",
    "\n",
    "    if i % 10 == 0:\n",
    "        elapsed_sec = (time.time() - start_time)\n",
    "        elapsed_min = elapsed_sec / 60\n",
    "        print(f\"{i}/{len(test)} in {elapsed_min:.2f} min\")\n",
    "        print(f\"  => done at {time.ctime(time.time() + ((len(test)-i)/i)*elapsed_sec)}\")\n",
    "    i += 1"
   ],
   "metadata": {
    "collapsed": false,
    "pycharm": {
     "name": "#%%\n"
    }
   }
  },
  {
   "cell_type": "code",
   "execution_count": 61,
   "outputs": [
    {
     "name": "stdout",
     "output_type": "stream",
     "text": [
      "1: 34/1169 = 0.0290846877673225\n",
      "1: 34/1169 = 0.0290846877673225 (com)\n",
      "2: 59/1169 = 0.0504704875962361\n",
      "2: 58/1169 = 0.04961505560307956 (com)\n",
      "3: 76/1169 = 0.06501283147989735\n",
      "3: 75/1169 = 0.0641573994867408 (com)\n",
      "4: 84/1169 = 0.0718562874251497\n",
      "4: 83/1169 = 0.07100085543199315 (com)\n",
      "5: 99/1169 = 0.08468776732249786\n",
      "5: 98/1169 = 0.08383233532934131 (com)\n",
      "6: 113/1169 = 0.09666381522668947\n",
      "6: 112/1169 = 0.09580838323353294 (com)\n",
      "7: 128/1169 = 0.10949529512403763\n",
      "7: 127/1169 = 0.1086398631308811 (com)\n",
      "8: 143/1169 = 0.1223267750213858\n",
      "8: 142/1169 = 0.12147134302822926 (com)\n",
      "9: 156/1169 = 0.13344739093242086\n",
      "9: 155/1169 = 0.13259195893926431 (com)\n",
      "10: 166/1169 = 0.1420017108639863\n",
      "10: 165/1169 = 0.14114627887082976 (com)\n",
      "11: 178/1169 = 0.15226689478186484\n",
      "11: 177/1169 = 0.1514114627887083 (com)\n",
      "12: 190/1169 = 0.16253207869974337\n",
      "12: 189/1169 = 0.16167664670658682 (com)\n",
      "13: 202/1169 = 0.1727972626176219\n",
      "13: 201/1169 = 0.17194183062446536 (com)\n",
      "14: 209/1169 = 0.1787852865697177\n",
      "14: 208/1169 = 0.17792985457656116 (com)\n",
      "15: 216/1169 = 0.1847733105218135\n",
      "15: 215/1169 = 0.18391787852865696 (com)\n",
      "16: 229/1169 = 0.1958939264328486\n",
      "16: 228/1169 = 0.19503849443969204 (com)\n",
      "17: 238/1169 = 0.20359281437125748\n",
      "17: 237/1169 = 0.20273738237810093 (com)\n",
      "18: 247/1169 = 0.21129170230966637\n",
      "18: 246/1169 = 0.21043627031650983 (com)\n",
      "19: 252/1169 = 0.2155688622754491\n",
      "19: 251/1169 = 0.21471343028229256 (com)\n",
      "20: 256/1169 = 0.21899059024807527\n",
      "20: 255/1169 = 0.21813515825491872 (com)\n",
      "21: 264/1169 = 0.22583404619332764\n",
      "21: 263/1169 = 0.2249786142001711 (com)\n",
      "22: 271/1169 = 0.23182207014542344\n",
      "22: 270/1169 = 0.2309666381522669 (com)\n",
      "23: 279/1169 = 0.2386655260906758\n",
      "23: 278/1169 = 0.23781009409751924 (com)\n",
      "24: 287/1169 = 0.24550898203592814\n",
      "24: 286/1169 = 0.2446535500427716 (com)\n",
      "25: 292/1169 = 0.24978614200171087\n",
      "25: 291/1169 = 0.24893071000855432 (com)\n",
      "26: 299/1169 = 0.2557741659538067\n",
      "26: 298/1169 = 0.2549187339606501 (com)\n",
      "27: 307/1169 = 0.262617621899059\n",
      "27: 306/1169 = 0.2617621899059025 (com)\n",
      "28: 313/1169 = 0.2677502138579983\n",
      "28: 312/1169 = 0.2668947818648417 (com)\n",
      "29: 321/1169 = 0.2745936698032506\n",
      "29: 320/1169 = 0.2737382378100941 (com)\n",
      "30: 327/1169 = 0.2797262617621899\n",
      "30: 326/1169 = 0.2788708297690334 (com)\n",
      "31: 331/1169 = 0.2831479897348161\n",
      "31: 330/1169 = 0.2822925577416595 (com)\n",
      "32: 337/1169 = 0.28828058169375537\n",
      "32: 336/1169 = 0.2874251497005988 (com)\n",
      "33: 342/1169 = 0.2925577416595381\n",
      "33: 341/1169 = 0.2917023096663815 (com)\n",
      "34: 350/1169 = 0.2994011976047904\n",
      "34: 349/1169 = 0.2985457656116339 (com)\n",
      "35: 354/1169 = 0.3028229255774166\n",
      "35: 353/1169 = 0.30196749358426006 (com)\n",
      "36: 361/1169 = 0.3088109495295124\n",
      "36: 360/1169 = 0.30795551753635586 (com)\n",
      "37: 367/1169 = 0.31394354148845166\n",
      "37: 366/1169 = 0.31308810949529514 (com)\n",
      "38: 371/1169 = 0.31736526946107785\n",
      "38: 370/1169 = 0.3165098374679213 (com)\n",
      "39: 377/1169 = 0.32249786142001713\n",
      "39: 376/1169 = 0.32164242942686055 (com)\n",
      "40: 380/1169 = 0.32506415739948674\n",
      "40: 379/1169 = 0.3242087254063302 (com)\n",
      "41: 382/1169 = 0.32677502138579984\n",
      "41: 381/1169 = 0.32591958939264326 (com)\n",
      "42: 384/1169 = 0.32848588537211293\n",
      "42: 383/1169 = 0.32763045337895635 (com)\n",
      "43: 390/1169 = 0.33361847733105215\n",
      "43: 389/1169 = 0.33276304533789564 (com)\n",
      "44: 394/1169 = 0.33704020530367834\n",
      "44: 393/1169 = 0.3361847733105218 (com)\n",
      "45: 399/1169 = 0.3413173652694611\n",
      "45: 398/1169 = 0.34046193327630453 (com)\n",
      "46: 403/1169 = 0.34473909324208724\n",
      "46: 402/1169 = 0.3438836612489307 (com)\n",
      "47: 407/1169 = 0.3481608212147134\n",
      "47: 406/1169 = 0.3473053892215569 (com)\n",
      "48: 411/1169 = 0.3515825491873396\n",
      "48: 410/1169 = 0.35072711719418304 (com)\n",
      "49: 419/1169 = 0.358426005132592\n",
      "49: 418/1169 = 0.3575705731394354 (com)\n",
      "50: 424/1169 = 0.3627031650983747\n",
      "50: 423/1169 = 0.3618477331052181 (com)\n",
      "51: 426/1169 = 0.3644140290846878\n",
      "51: 425/1169 = 0.3635585970915312 (com)\n",
      "52: 429/1169 = 0.3669803250641574\n",
      "52: 428/1169 = 0.3661248930710009 (com)\n",
      "53: 435/1169 = 0.3721129170230967\n",
      "53: 434/1169 = 0.3712574850299401 (com)\n",
      "54: 444/1169 = 0.3798118049615056\n",
      "54: 443/1169 = 0.378956372968349 (com)\n",
      "55: 449/1169 = 0.3840889649272883\n",
      "55: 448/1169 = 0.38323353293413176 (com)\n",
      "56: 455/1169 = 0.38922155688622756\n",
      "56: 454/1169 = 0.388366124893071 (com)\n",
      "57: 459/1169 = 0.39264328485885375\n",
      "57: 458/1169 = 0.3917878528656972 (com)\n",
      "58: 461/1169 = 0.3943541488451668\n",
      "58: 460/1169 = 0.39349871685201027 (com)\n",
      "59: 467/1169 = 0.39948674080410607\n",
      "59: 467/1169 = 0.39948674080410607 (com)\n",
      "60: 472/1169 = 0.4037639007698888\n",
      "60: 471/1169 = 0.40290846877673225 (com)\n",
      "61: 477/1169 = 0.40804106073567153\n",
      "61: 477/1169 = 0.40804106073567153 (com)\n",
      "62: 479/1169 = 0.40975192472198463\n",
      "62: 479/1169 = 0.40975192472198463 (com)\n",
      "63: 479/1169 = 0.40975192472198463\n",
      "63: 479/1169 = 0.40975192472198463 (com)\n",
      "64: 486/1169 = 0.41573994867408043\n",
      "64: 486/1169 = 0.41573994867408043 (com)\n",
      "65: 487/1169 = 0.41659538066723695\n",
      "65: 487/1169 = 0.41659538066723695 (com)\n",
      "66: 492/1169 = 0.42087254063301965\n",
      "66: 492/1169 = 0.42087254063301965 (com)\n",
      "67: 493/1169 = 0.42172797262617623\n",
      "67: 493/1169 = 0.42172797262617623 (com)\n",
      "68: 498/1169 = 0.42600513259195893\n",
      "68: 498/1169 = 0.42600513259195893 (com)\n",
      "69: 500/1169 = 0.42771599657827203\n",
      "69: 500/1169 = 0.42771599657827203 (com)\n",
      "70: 503/1169 = 0.43028229255774164\n",
      "70: 503/1169 = 0.43028229255774164 (com)\n",
      "71: 504/1169 = 0.4311377245508982\n",
      "71: 504/1169 = 0.4311377245508982 (com)\n",
      "72: 508/1169 = 0.4345594525235244\n",
      "72: 508/1169 = 0.4345594525235244 (com)\n",
      "73: 509/1169 = 0.4354148845166809\n",
      "73: 509/1169 = 0.4354148845166809 (com)\n",
      "74: 513/1169 = 0.4388366124893071\n",
      "74: 513/1169 = 0.4388366124893071 (com)\n",
      "75: 517/1169 = 0.4422583404619333\n",
      "75: 517/1169 = 0.4422583404619333 (com)\n",
      "76: 519/1169 = 0.4439692044482464\n",
      "76: 519/1169 = 0.4439692044482464 (com)\n",
      "77: 522/1169 = 0.446535500427716\n",
      "77: 522/1169 = 0.446535500427716 (com)\n",
      "78: 523/1169 = 0.4473909324208725\n",
      "78: 523/1169 = 0.4473909324208725 (com)\n",
      "79: 532/1169 = 0.4550898203592814\n",
      "79: 532/1169 = 0.4550898203592814 (com)\n",
      "80: 538/1169 = 0.4602224123182207\n",
      "80: 538/1169 = 0.4602224123182207 (com)\n",
      "81: 542/1169 = 0.4636441402908469\n",
      "81: 542/1169 = 0.4636441402908469 (com)\n",
      "82: 546/1169 = 0.46706586826347307\n",
      "82: 545/1169 = 0.4662104362703165 (com)\n",
      "83: 548/1169 = 0.46877673224978617\n",
      "83: 547/1169 = 0.4679213002566296 (com)\n",
      "84: 550/1169 = 0.4704875962360992\n",
      "84: 549/1169 = 0.4696321642429427 (com)\n",
      "85: 551/1169 = 0.4713430282292558\n",
      "85: 550/1169 = 0.4704875962360992 (com)\n",
      "86: 555/1169 = 0.47476475620188197\n",
      "86: 555/1169 = 0.47476475620188197 (com)\n",
      "87: 556/1169 = 0.4756201881950385\n",
      "87: 555/1169 = 0.47476475620188197 (com)\n",
      "88: 561/1169 = 0.4798973481608212\n",
      "88: 560/1169 = 0.47904191616766467 (com)\n",
      "89: 562/1169 = 0.48075278015397777\n",
      "89: 561/1169 = 0.4798973481608212 (com)\n",
      "90: 564/1169 = 0.48246364414029086\n",
      "90: 563/1169 = 0.4816082121471343 (com)\n",
      "91: 565/1169 = 0.4833190761334474\n",
      "91: 564/1169 = 0.48246364414029086 (com)\n",
      "92: 570/1169 = 0.4875962360992301\n",
      "92: 569/1169 = 0.48674080410607357 (com)\n",
      "93: 570/1169 = 0.4875962360992301\n",
      "93: 569/1169 = 0.48674080410607357 (com)\n",
      "94: 572/1169 = 0.4893071000855432\n",
      "94: 571/1169 = 0.48845166809238666 (com)\n",
      "95: 574/1169 = 0.49101796407185627\n",
      "95: 573/1169 = 0.49016253207869975 (com)\n",
      "96: 576/1169 = 0.49272882805816937\n",
      "96: 575/1169 = 0.49187339606501285 (com)\n",
      "97: 579/1169 = 0.49529512403763903\n",
      "97: 578/1169 = 0.49443969204448246 (com)\n",
      "98: 580/1169 = 0.49615055603079555\n",
      "98: 579/1169 = 0.49529512403763903 (com)\n",
      "99: 580/1169 = 0.49615055603079555\n",
      "99: 579/1169 = 0.49529512403763903 (com)\n",
      "100: 587/1169 = 0.5021385799828914\n",
      "100: 586/1169 = 0.5012831479897348 (com)\n"
     ]
    }
   ],
   "source": [
    "N = 100\n",
    "hit_rates = []\n",
    "hit_rates_com = []\n",
    "\n",
    "for n in range(1, N + 1):\n",
    "\n",
    "    # counters\n",
    "    hits = 0\n",
    "    misses = 0\n",
    "    hits_com = 0\n",
    "    misses_com = 0\n",
    "\n",
    "    for userId in results.keys():\n",
    "        top_list, _ = results[userId]\n",
    "        top_list_com, _ = results_com[userId]\n",
    "        # get Top-N friend suggestions\n",
    "        top_n = top_list.values()[:n]\n",
    "        top_n_com = top_list_com.values()[:n]\n",
    "        # get user's test friend\n",
    "        test_friend = test.query(f\"u == {userId}\").index.get_level_values('v')[0]\n",
    "        # evaluate\n",
    "        hit = test_friend in top_n\n",
    "        if hit:\n",
    "            hits += 1\n",
    "        else:\n",
    "            misses += 1\n",
    "        hit_com = test_friend in top_n_com\n",
    "        if hit_com:\n",
    "            hits_com += 1\n",
    "        else:\n",
    "            misses_com += 1\n",
    "\n",
    "        #print(f\"Friend suggestion {test_friend} {'found' if hit else 'not found'} in user {userId}'s Top-{N} list: \", top_N)\n",
    "\n",
    "    hit_rate = hits / (hits+misses)\n",
    "    hit_rate_com = hits_com / (hits_com+misses_com)\n",
    "    print(f\"{n}: {hits}/{hits+misses} = {hit_rate}\")\n",
    "    print(f\"{n}: {hits_com}/{hits_com+misses_com} = {hit_rate_com} (com)\")\n",
    "\n",
    "    hit_rates.append(hit_rate)\n",
    "    hit_rates_com.append(hit_rate_com)"
   ],
   "metadata": {
    "collapsed": false,
    "pycharm": {
     "name": "#%%\n"
    }
   }
  },
  {
   "cell_type": "code",
   "execution_count": 62,
   "outputs": [],
   "source": [
    "# export hit-rates\n",
    "\n",
    "Ns = np.arange(N) + 1\n",
    "\n",
    "hit_rate_1_df = pd.DataFrame(\n",
    "    zip(Ns, hit_rates, ['Algorithm 1' for _ in range(N)]),\n",
    "    columns=['N', 'hit_rate', 'Algorithm']\n",
    ")\n",
    "hit_rate_2_df = pd.DataFrame(\n",
    "    zip(Ns, hit_rates_com, ['Algorithm 2' for _ in range(N)]),\n",
    "    columns=['N', 'hit_rate', 'Algorithm']\n",
    ")\n",
    "hit_rate_df = pd.concat([hit_rate_1_df, hit_rate_2_df])\n",
    "hit_rate_df.to_csv(f\"./data/hit_rate_df_d-{dim}.csv\")\n"
   ],
   "metadata": {
    "collapsed": false,
    "pycharm": {
     "name": "#%%\n"
    }
   }
  },
  {
   "cell_type": "code",
   "execution_count": 63,
   "outputs": [
    {
     "data": {
      "text/plain": "<Figure size 432x288 with 1 Axes>",
      "image/png": "[encoded data removed]"
     },
     "metadata": {},
     "output_type": "display_data"
    }
   ],
   "source": [
    "# hit rates plot\n",
    "\n",
    "ax = sns.lineplot(x='N', y='hit_rate', hue='Algorithm', data=hit_rate_df)\n",
    "ax.set(xlabel='N', ylabel='hit rate', ylim=(0, 1))\n",
    "ax.yaxis.set_major_formatter(PercentFormatter(1))\n",
    "\n",
    "fig = ax.get_figure()\n",
    "fig.savefig(f\"./plots/hit_rates_d-{dim}.png\", format='png', dpi=1000)"
   ],
   "metadata": {
    "collapsed": false,
    "pycharm": {
     "name": "#%%\n"
    }
   }
  },
  {
   "cell_type": "code",
   "execution_count": 64,
   "outputs": [
    {
     "data": {
      "text/plain": "<Figure size 432x288 with 1 Axes>",
      "image/png": "[encoded data removed]"
     },
     "metadata": {},
     "output_type": "display_data"
    }
   ],
   "source": [
    "# hit rates plot on log scale\n",
    "\n",
    "ax = sns.lineplot(x='N', y='hit_rate', hue='Algorithm', data=hit_rate_df)\n",
    "ax.set(xlabel='N', ylabel='hit rate', ylim=(0, 1), xscale=\"log\")\n",
    "ax.yaxis.set_major_formatter(PercentFormatter(1))\n",
    "\n",
    "fig = ax.get_figure()\n",
    "fig.savefig(f\"./plots/hit_rates_d-{dim}_log.png\", format='png', dpi=1000)\n"
   ],
   "metadata": {
    "collapsed": false,
    "pycharm": {
     "name": "#%%\n"
    }
   }
  }
 ],
 "metadata": {
  "kernelspec": {
   "name": "pycharm-97a28330",
   "language": "python",
   "display_name": "PyCharm (ComE_BGMM)"
  },
  "language_info": {
   "codemirror_mode": {
    "name": "ipython",
    "version": 2
   },
   "file_extension": ".py",
   "mimetype": "text/x-python",
   "name": "python",
   "nbconvert_exporter": "python",
   "pygments_lexer": "ipython2",
   "version": "2.7.6"
  }
 },
 "nbformat": 4,
 "nbformat_minor": 0
}