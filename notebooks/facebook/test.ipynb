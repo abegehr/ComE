{
 "cells": [
  {
   "cell_type": "code",
   "execution_count": 35,
   "metadata": {
    "collapsed": true,
    "pycharm": {
     "name": "#%%\n"
    }
   },
   "outputs": [],
   "source": [
    "import sys\n",
    "sys.path.append('../../')\n",
    "\n",
    "from IPython.core.display import display\n",
    "import numpy as np\n",
    "import pandas as pd\n",
    "import networkx as nx\n",
    "from sortedcontainers import SortedDict\n",
    "import matplotlib.pyplot as plt\n",
    "import seaborn as sns\n",
    "from  matplotlib.ticker import PercentFormatter\n",
    "import time"
   ]
  },
  {
   "cell_type": "code",
   "execution_count": 36,
   "outputs": [],
   "source": [
    "# settings\n",
    "\n",
    "dim = 2"
   ],
   "metadata": {
    "collapsed": false,
    "pycharm": {
     "name": "#%%\n"
    }
   }
  },
  {
   "cell_type": "code",
   "execution_count": 37,
   "outputs": [
    {
     "name": "stderr",
     "output_type": "stream",
     "text": [
      "/Users/anton/miniconda3/envs/MT/lib/python3.6/site-packages/ipykernel_launcher.py:5: ParserWarning: Falling back to the 'python' engine because the 'c' engine does not support regex separators (separators > 1 char and different from '\\s+' are interpreted as regex); you can avoid this warning by specifying engine='python'.\n",
      "  \"\"\"\n"
     ]
    }
   ],
   "source": [
    "# import node embeddings\n",
    "df = pd.read_csv(\n",
    "    f\"./facebook_alpha-0.1_beta-0.1_ws-10_neg-5_lr-0.025_icom-36_ind-36_ds-0.0_d-{dim}_type-BGMM_k-10.txt\",\n",
    "    sep=\"\\t| \",\n",
    "    header=None\n",
    ")\n",
    "df = df.rename(columns={0: 'node'})\n",
    "df.set_index(['node'], inplace=True)"
   ],
   "metadata": {
    "collapsed": false,
    "pycharm": {
     "name": "#%%\n"
    }
   }
  },
  {
   "cell_type": "code",
   "execution_count": 38,
   "outputs": [],
   "source": [
    "# import train\n",
    "train = pd.read_csv(\"./facebook_train.csv\", index_col=0)\n",
    "# import test\n",
    "test = pd.read_csv(\"./facebook_test.csv\", index_col=['u', 'v'])"
   ],
   "metadata": {
    "collapsed": false,
    "pycharm": {
     "name": "#%%\n"
    }
   }
  },
  {
   "cell_type": "code",
   "execution_count": 39,
   "outputs": [
    {
     "data": {
      "text/plain": "      label\n0         3\n1         3\n2         3\n3         3\n4         3\n...     ...\n3959      0\n3960      0\n3961      0\n3962      0\n3963      0\n\n[3964 rows x 1 columns]",
      "text/html": "<div>\n<style scoped>\n    .dataframe tbody tr th:only-of-type {\n        vertical-align: middle;\n    }\n\n    .dataframe tbody tr th {\n        vertical-align: top;\n    }\n\n    .dataframe thead th {\n        text-align: right;\n    }\n</style>\n<table border=\"1\" class=\"dataframe\">\n  <thead>\n    <tr style=\"text-align: right;\">\n      <th></th>\n      <th>label</th>\n    </tr>\n  </thead>\n  <tbody>\n    <tr>\n      <th>0</th>\n      <td>3</td>\n    </tr>\n    <tr>\n      <th>1</th>\n      <td>3</td>\n    </tr>\n    <tr>\n      <th>2</th>\n      <td>3</td>\n    </tr>\n    <tr>\n      <th>3</th>\n      <td>3</td>\n    </tr>\n    <tr>\n      <th>4</th>\n      <td>3</td>\n    </tr>\n    <tr>\n      <th>...</th>\n      <td>...</td>\n    </tr>\n    <tr>\n      <th>3959</th>\n      <td>0</td>\n    </tr>\n    <tr>\n      <th>3960</th>\n      <td>0</td>\n    </tr>\n    <tr>\n      <th>3961</th>\n      <td>0</td>\n    </tr>\n    <tr>\n      <th>3962</th>\n      <td>0</td>\n    </tr>\n    <tr>\n      <th>3963</th>\n      <td>0</td>\n    </tr>\n  </tbody>\n</table>\n<p>3964 rows × 1 columns</p>\n</div>"
     },
     "execution_count": 39,
     "metadata": {},
     "output_type": "execute_result"
    }
   ],
   "source": [
    "# import predicted labels\n",
    "labels = pd.read_csv(f\"./labels_pred_BGMM_d{dim}_k10.txt\", header=None)\n",
    "labels = labels.rename(columns={0: 'label'})\n",
    "labels.label = labels.astype(int)\n",
    "labels"
   ],
   "metadata": {
    "collapsed": false,
    "pycharm": {
     "name": "#%%\n"
    }
   }
  },
  {
   "cell_type": "code",
   "execution_count": 40,
   "outputs": [],
   "source": [
    "df = df.join(labels)"
   ],
   "metadata": {
    "collapsed": false,
    "pycharm": {
     "name": "#%% join labels to embeddings\n"
    }
   }
  },
  {
   "cell_type": "code",
   "execution_count": 41,
   "outputs": [
    {
     "data": {
      "text/plain": "             1         2  label\nnode                           \n0    -6.034800  2.406848    3.0\n1    -5.836558  2.331109    3.0\n2    -5.208809  2.064520    3.0\n3    -6.103177  2.438485    3.0\n4    -5.338110  2.101189    3.0",
      "text/html": "<div>\n<style scoped>\n    .dataframe tbody tr th:only-of-type {\n        vertical-align: middle;\n    }\n\n    .dataframe tbody tr th {\n        vertical-align: top;\n    }\n\n    .dataframe thead th {\n        text-align: right;\n    }\n</style>\n<table border=\"1\" class=\"dataframe\">\n  <thead>\n    <tr style=\"text-align: right;\">\n      <th></th>\n      <th>1</th>\n      <th>2</th>\n      <th>label</th>\n    </tr>\n    <tr>\n      <th>node</th>\n      <th></th>\n      <th></th>\n      <th></th>\n    </tr>\n  </thead>\n  <tbody>\n    <tr>\n      <th>0</th>\n      <td>-6.034800</td>\n      <td>2.406848</td>\n      <td>3.0</td>\n    </tr>\n    <tr>\n      <th>1</th>\n      <td>-5.836558</td>\n      <td>2.331109</td>\n      <td>3.0</td>\n    </tr>\n    <tr>\n      <th>2</th>\n      <td>-5.208809</td>\n      <td>2.064520</td>\n      <td>3.0</td>\n    </tr>\n    <tr>\n      <th>3</th>\n      <td>-6.103177</td>\n      <td>2.438485</td>\n      <td>3.0</td>\n    </tr>\n    <tr>\n      <th>4</th>\n      <td>-5.338110</td>\n      <td>2.101189</td>\n      <td>3.0</td>\n    </tr>\n  </tbody>\n</table>\n</div>"
     },
     "metadata": {},
     "output_type": "display_data"
    },
    {
     "data": {
      "text/plain": "                 1            2        label\ncount  3964.000000  3964.000000  3897.000000\nmean     -2.523381    -1.661366     1.539389\nstd       2.086392     3.469893     1.296834\nmin      -8.339770    -9.368287     0.000000\n25%      -3.757715    -5.167219     0.000000\n50%      -1.553363    -0.370108     2.000000\n75%      -1.062986     1.418120     3.000000\nmax      -0.205343     3.329211     3.000000",
      "text/html": "<div>\n<style scoped>\n    .dataframe tbody tr th:only-of-type {\n        vertical-align: middle;\n    }\n\n    .dataframe tbody tr th {\n        vertical-align: top;\n    }\n\n    .dataframe thead th {\n        text-align: right;\n    }\n</style>\n<table border=\"1\" class=\"dataframe\">\n  <thead>\n    <tr style=\"text-align: right;\">\n      <th></th>\n      <th>1</th>\n      <th>2</th>\n      <th>label</th>\n    </tr>\n  </thead>\n  <tbody>\n    <tr>\n      <th>count</th>\n      <td>3964.000000</td>\n      <td>3964.000000</td>\n      <td>3897.000000</td>\n    </tr>\n    <tr>\n      <th>mean</th>\n      <td>-2.523381</td>\n      <td>-1.661366</td>\n      <td>1.539389</td>\n    </tr>\n    <tr>\n      <th>std</th>\n      <td>2.086392</td>\n      <td>3.469893</td>\n      <td>1.296834</td>\n    </tr>\n    <tr>\n      <th>min</th>\n      <td>-8.339770</td>\n      <td>-9.368287</td>\n      <td>0.000000</td>\n    </tr>\n    <tr>\n      <th>25%</th>\n      <td>-3.757715</td>\n      <td>-5.167219</td>\n      <td>0.000000</td>\n    </tr>\n    <tr>\n      <th>50%</th>\n      <td>-1.553363</td>\n      <td>-0.370108</td>\n      <td>2.000000</td>\n    </tr>\n    <tr>\n      <th>75%</th>\n      <td>-1.062986</td>\n      <td>1.418120</td>\n      <td>3.000000</td>\n    </tr>\n    <tr>\n      <th>max</th>\n      <td>-0.205343</td>\n      <td>3.329211</td>\n      <td>3.000000</td>\n    </tr>\n  </tbody>\n</table>\n</div>"
     },
     "metadata": {},
     "output_type": "display_data"
    },
    {
     "data": {
      "text/plain": "   u  v\n0  0  1\n1  0  2\n2  0  3\n3  0  4\n4  0  5",
      "text/html": "<div>\n<style scoped>\n    .dataframe tbody tr th:only-of-type {\n        vertical-align: middle;\n    }\n\n    .dataframe tbody tr th {\n        vertical-align: top;\n    }\n\n    .dataframe thead th {\n        text-align: right;\n    }\n</style>\n<table border=\"1\" class=\"dataframe\">\n  <thead>\n    <tr style=\"text-align: right;\">\n      <th></th>\n      <th>u</th>\n      <th>v</th>\n    </tr>\n  </thead>\n  <tbody>\n    <tr>\n      <th>0</th>\n      <td>0</td>\n      <td>1</td>\n    </tr>\n    <tr>\n      <th>1</th>\n      <td>0</td>\n      <td>2</td>\n    </tr>\n    <tr>\n      <th>2</th>\n      <td>0</td>\n      <td>3</td>\n    </tr>\n    <tr>\n      <th>3</th>\n      <td>0</td>\n      <td>4</td>\n    </tr>\n    <tr>\n      <th>4</th>\n      <td>0</td>\n      <td>5</td>\n    </tr>\n  </tbody>\n</table>\n</div>"
     },
     "metadata": {},
     "output_type": "display_data"
    },
    {
     "data": {
      "text/plain": "                  u             v\ncount  86999.000000  86999.000000\nmean    1865.069449   2154.507420\nstd      910.682085    894.143924\nmin        0.000000      1.000000\n25%     1160.000000   1601.000000\n50%     1983.000000   2259.000000\n75%     2423.000000   2631.000000\nmax     4031.000000   4038.000000",
      "text/html": "<div>\n<style scoped>\n    .dataframe tbody tr th:only-of-type {\n        vertical-align: middle;\n    }\n\n    .dataframe tbody tr th {\n        vertical-align: top;\n    }\n\n    .dataframe thead th {\n        text-align: right;\n    }\n</style>\n<table border=\"1\" class=\"dataframe\">\n  <thead>\n    <tr style=\"text-align: right;\">\n      <th></th>\n      <th>u</th>\n      <th>v</th>\n    </tr>\n  </thead>\n  <tbody>\n    <tr>\n      <th>count</th>\n      <td>86999.000000</td>\n      <td>86999.000000</td>\n    </tr>\n    <tr>\n      <th>mean</th>\n      <td>1865.069449</td>\n      <td>2154.507420</td>\n    </tr>\n    <tr>\n      <th>std</th>\n      <td>910.682085</td>\n      <td>894.143924</td>\n    </tr>\n    <tr>\n      <th>min</th>\n      <td>0.000000</td>\n      <td>1.000000</td>\n    </tr>\n    <tr>\n      <th>25%</th>\n      <td>1160.000000</td>\n      <td>1601.000000</td>\n    </tr>\n    <tr>\n      <th>50%</th>\n      <td>1983.000000</td>\n      <td>2259.000000</td>\n    </tr>\n    <tr>\n      <th>75%</th>\n      <td>2423.000000</td>\n      <td>2631.000000</td>\n    </tr>\n    <tr>\n      <th>max</th>\n      <td>4031.000000</td>\n      <td>4038.000000</td>\n    </tr>\n  </tbody>\n</table>\n</div>"
     },
     "metadata": {},
     "output_type": "display_data"
    },
    {
     "data": {
      "text/plain": "        Unnamed: 0\nu  v              \n0  276           0\n9  21            1\n21 281           2\n25 141           3\n26 9             4",
      "text/html": "<div>\n<style scoped>\n    .dataframe tbody tr th:only-of-type {\n        vertical-align: middle;\n    }\n\n    .dataframe tbody tr th {\n        vertical-align: top;\n    }\n\n    .dataframe thead th {\n        text-align: right;\n    }\n</style>\n<table border=\"1\" class=\"dataframe\">\n  <thead>\n    <tr style=\"text-align: right;\">\n      <th></th>\n      <th></th>\n      <th>Unnamed: 0</th>\n    </tr>\n    <tr>\n      <th>u</th>\n      <th>v</th>\n      <th></th>\n    </tr>\n  </thead>\n  <tbody>\n    <tr>\n      <th>0</th>\n      <th>276</th>\n      <td>0</td>\n    </tr>\n    <tr>\n      <th>9</th>\n      <th>21</th>\n      <td>1</td>\n    </tr>\n    <tr>\n      <th>21</th>\n      <th>281</th>\n      <td>2</td>\n    </tr>\n    <tr>\n      <th>25</th>\n      <th>141</th>\n      <td>3</td>\n    </tr>\n    <tr>\n      <th>26</th>\n      <th>9</th>\n      <td>4</td>\n    </tr>\n  </tbody>\n</table>\n</div>"
     },
     "metadata": {},
     "output_type": "display_data"
    },
    {
     "data": {
      "text/plain": "        Unnamed: 0\ncount  1169.000000\nmean    584.000000\nstd     337.605539\nmin       0.000000\n25%     292.000000\n50%     584.000000\n75%     876.000000\nmax    1168.000000",
      "text/html": "<div>\n<style scoped>\n    .dataframe tbody tr th:only-of-type {\n        vertical-align: middle;\n    }\n\n    .dataframe tbody tr th {\n        vertical-align: top;\n    }\n\n    .dataframe thead th {\n        text-align: right;\n    }\n</style>\n<table border=\"1\" class=\"dataframe\">\n  <thead>\n    <tr style=\"text-align: right;\">\n      <th></th>\n      <th>Unnamed: 0</th>\n    </tr>\n  </thead>\n  <tbody>\n    <tr>\n      <th>count</th>\n      <td>1169.000000</td>\n    </tr>\n    <tr>\n      <th>mean</th>\n      <td>584.000000</td>\n    </tr>\n    <tr>\n      <th>std</th>\n      <td>337.605539</td>\n    </tr>\n    <tr>\n      <th>min</th>\n      <td>0.000000</td>\n    </tr>\n    <tr>\n      <th>25%</th>\n      <td>292.000000</td>\n    </tr>\n    <tr>\n      <th>50%</th>\n      <td>584.000000</td>\n    </tr>\n    <tr>\n      <th>75%</th>\n      <td>876.000000</td>\n    </tr>\n    <tr>\n      <th>max</th>\n      <td>1168.000000</td>\n    </tr>\n  </tbody>\n</table>\n</div>"
     },
     "metadata": {},
     "output_type": "display_data"
    }
   ],
   "source": [
    "# node embeddings\n",
    "display(df.head())\n",
    "display(df.describe())\n",
    "\n",
    "# train df\n",
    "display(train.head())\n",
    "display(train.describe())\n",
    "\n",
    "# test df\n",
    "display(test.head())\n",
    "display(test.describe())"
   ],
   "metadata": {
    "collapsed": false,
    "pycharm": {
     "name": "#%%\n"
    }
   }
  },
  {
   "cell_type": "code",
   "execution_count": 42,
   "outputs": [],
   "source": [
    "def emb_from_row(row):\n",
    "    \"\"\"get node embedding np array from df row\"\"\"\n",
    "    return row.drop('label').to_numpy().flatten()\n",
    "\n",
    "def emb_distance(emb1, emb2):\n",
    "    \"\"\"computes the euclidean distance between two node embeddings\"\"\"\n",
    "    return np.linalg.norm(emb1-emb2)"
   ],
   "metadata": {
    "collapsed": false,
    "pycharm": {
     "name": "#%%\n"
    }
   }
  },
  {
   "cell_type": "code",
   "execution_count": 43,
   "outputs": [],
   "source": [
    "# get nx train graph\n",
    "G_train = nx.from_pandas_edgelist(train, \"u\", \"v\")"
   ],
   "metadata": {
    "collapsed": false,
    "pycharm": {
     "name": "#%%\n"
    }
   }
  },
  {
   "cell_type": "code",
   "execution_count": 44,
   "outputs": [
    {
     "name": "stdout",
     "output_type": "stream",
     "text": [
      "10/1169 in 0.47 min\n",
      "  => done at Tue Sep 29 17:54:16 2020\n",
      "20/1169 in 0.93 min\n",
      "  => done at Tue Sep 29 17:53:59 2020\n",
      "30/1169 in 1.34 min\n",
      "  => done at Tue Sep 29 17:51:45 2020\n",
      "40/1169 in 1.75 min\n",
      "  => done at Tue Sep 29 17:50:46 2020\n",
      "50/1169 in 2.17 min\n",
      "  => done at Tue Sep 29 17:50:19 2020\n"
     ]
    },
    {
     "ename": "KeyboardInterrupt",
     "evalue": "",
     "output_type": "error",
     "traceback": [
      "\u001B[0;31m---------------------------------------------------------------------------\u001B[0m",
      "\u001B[0;31mKeyboardInterrupt\u001B[0m                         Traceback (most recent call last)",
      "\u001B[0;32m<ipython-input-44-965fd48eb317>\u001B[0m in \u001B[0;36m<module>\u001B[0;34m\u001B[0m\n\u001B[1;32m     29\u001B[0m     \u001B[0mtop_list\u001B[0m \u001B[0;34m=\u001B[0m \u001B[0mSortedDict\u001B[0m\u001B[0;34m(\u001B[0m\u001B[0;34m)\u001B[0m\u001B[0;34m\u001B[0m\u001B[0;34m\u001B[0m\u001B[0m\n\u001B[1;32m     30\u001B[0m     \u001B[0;32mfor\u001B[0m \u001B[0mmovie_id\u001B[0m\u001B[0;34m,\u001B[0m \u001B[0mnode_row\u001B[0m \u001B[0;32min\u001B[0m \u001B[0mnot_friends\u001B[0m\u001B[0;34m.\u001B[0m\u001B[0miterrows\u001B[0m\u001B[0;34m(\u001B[0m\u001B[0;34m)\u001B[0m\u001B[0;34m:\u001B[0m\u001B[0;34m\u001B[0m\u001B[0;34m\u001B[0m\u001B[0m\n\u001B[0;32m---> 31\u001B[0;31m         \u001B[0mnode_emb\u001B[0m \u001B[0;34m=\u001B[0m \u001B[0memb_from_row\u001B[0m\u001B[0;34m(\u001B[0m\u001B[0mnode_row\u001B[0m\u001B[0;34m)\u001B[0m\u001B[0;34m\u001B[0m\u001B[0;34m\u001B[0m\u001B[0m\n\u001B[0m\u001B[1;32m     32\u001B[0m         \u001B[0mdist\u001B[0m \u001B[0;34m=\u001B[0m \u001B[0memb_distance\u001B[0m\u001B[0;34m(\u001B[0m\u001B[0muser_emb\u001B[0m\u001B[0;34m,\u001B[0m \u001B[0mnode_emb\u001B[0m\u001B[0;34m)\u001B[0m\u001B[0;34m\u001B[0m\u001B[0;34m\u001B[0m\u001B[0m\n\u001B[1;32m     33\u001B[0m         \u001B[0mtop_list\u001B[0m\u001B[0;34m[\u001B[0m\u001B[0mdist\u001B[0m\u001B[0;34m]\u001B[0m \u001B[0;34m=\u001B[0m \u001B[0mmovie_id\u001B[0m\u001B[0;34m\u001B[0m\u001B[0;34m\u001B[0m\u001B[0m\n",
      "\u001B[0;32m<ipython-input-42-c42b5f9878ea>\u001B[0m in \u001B[0;36memb_from_row\u001B[0;34m(row)\u001B[0m\n\u001B[1;32m      1\u001B[0m \u001B[0;32mdef\u001B[0m \u001B[0memb_from_row\u001B[0m\u001B[0;34m(\u001B[0m\u001B[0mrow\u001B[0m\u001B[0;34m)\u001B[0m\u001B[0;34m:\u001B[0m\u001B[0;34m\u001B[0m\u001B[0;34m\u001B[0m\u001B[0m\n\u001B[1;32m      2\u001B[0m     \u001B[0;34m\"\"\"get node embedding np array from df row\"\"\"\u001B[0m\u001B[0;34m\u001B[0m\u001B[0;34m\u001B[0m\u001B[0m\n\u001B[0;32m----> 3\u001B[0;31m     \u001B[0;32mreturn\u001B[0m \u001B[0mrow\u001B[0m\u001B[0;34m.\u001B[0m\u001B[0mdrop\u001B[0m\u001B[0;34m(\u001B[0m\u001B[0;34m'label'\u001B[0m\u001B[0;34m)\u001B[0m\u001B[0;34m.\u001B[0m\u001B[0mto_numpy\u001B[0m\u001B[0;34m(\u001B[0m\u001B[0;34m)\u001B[0m\u001B[0;34m.\u001B[0m\u001B[0mflatten\u001B[0m\u001B[0;34m(\u001B[0m\u001B[0;34m)\u001B[0m\u001B[0;34m\u001B[0m\u001B[0;34m\u001B[0m\u001B[0m\n\u001B[0m\u001B[1;32m      4\u001B[0m \u001B[0;34m\u001B[0m\u001B[0m\n\u001B[1;32m      5\u001B[0m \u001B[0;32mdef\u001B[0m \u001B[0memb_distance\u001B[0m\u001B[0;34m(\u001B[0m\u001B[0memb1\u001B[0m\u001B[0;34m,\u001B[0m \u001B[0memb2\u001B[0m\u001B[0;34m)\u001B[0m\u001B[0;34m:\u001B[0m\u001B[0;34m\u001B[0m\u001B[0;34m\u001B[0m\u001B[0m\n",
      "\u001B[0;32m~/miniconda3/envs/MT/lib/python3.6/site-packages/pandas/core/series.py\u001B[0m in \u001B[0;36mdrop\u001B[0;34m(self, labels, axis, index, columns, level, inplace, errors)\u001B[0m\n\u001B[1;32m   4502\u001B[0m             \u001B[0mlevel\u001B[0m\u001B[0;34m=\u001B[0m\u001B[0mlevel\u001B[0m\u001B[0;34m,\u001B[0m\u001B[0;34m\u001B[0m\u001B[0;34m\u001B[0m\u001B[0m\n\u001B[1;32m   4503\u001B[0m             \u001B[0minplace\u001B[0m\u001B[0;34m=\u001B[0m\u001B[0minplace\u001B[0m\u001B[0;34m,\u001B[0m\u001B[0;34m\u001B[0m\u001B[0;34m\u001B[0m\u001B[0m\n\u001B[0;32m-> 4504\u001B[0;31m             \u001B[0merrors\u001B[0m\u001B[0;34m=\u001B[0m\u001B[0merrors\u001B[0m\u001B[0;34m,\u001B[0m\u001B[0;34m\u001B[0m\u001B[0;34m\u001B[0m\u001B[0m\n\u001B[0m\u001B[1;32m   4505\u001B[0m         )\n\u001B[1;32m   4506\u001B[0m \u001B[0;34m\u001B[0m\u001B[0m\n",
      "\u001B[0;32m~/miniconda3/envs/MT/lib/python3.6/site-packages/pandas/core/generic.py\u001B[0m in \u001B[0;36mdrop\u001B[0;34m(self, labels, axis, index, columns, level, inplace, errors)\u001B[0m\n\u001B[1;32m   3876\u001B[0m         \u001B[0;32mfor\u001B[0m \u001B[0maxis\u001B[0m\u001B[0;34m,\u001B[0m \u001B[0mlabels\u001B[0m \u001B[0;32min\u001B[0m \u001B[0maxes\u001B[0m\u001B[0;34m.\u001B[0m\u001B[0mitems\u001B[0m\u001B[0;34m(\u001B[0m\u001B[0;34m)\u001B[0m\u001B[0;34m:\u001B[0m\u001B[0;34m\u001B[0m\u001B[0;34m\u001B[0m\u001B[0m\n\u001B[1;32m   3877\u001B[0m             \u001B[0;32mif\u001B[0m \u001B[0mlabels\u001B[0m \u001B[0;32mis\u001B[0m \u001B[0;32mnot\u001B[0m \u001B[0;32mNone\u001B[0m\u001B[0;34m:\u001B[0m\u001B[0;34m\u001B[0m\u001B[0;34m\u001B[0m\u001B[0m\n\u001B[0;32m-> 3878\u001B[0;31m                 \u001B[0mobj\u001B[0m \u001B[0;34m=\u001B[0m \u001B[0mobj\u001B[0m\u001B[0;34m.\u001B[0m\u001B[0m_drop_axis\u001B[0m\u001B[0;34m(\u001B[0m\u001B[0mlabels\u001B[0m\u001B[0;34m,\u001B[0m \u001B[0maxis\u001B[0m\u001B[0;34m,\u001B[0m \u001B[0mlevel\u001B[0m\u001B[0;34m=\u001B[0m\u001B[0mlevel\u001B[0m\u001B[0;34m,\u001B[0m \u001B[0merrors\u001B[0m\u001B[0;34m=\u001B[0m\u001B[0merrors\u001B[0m\u001B[0;34m)\u001B[0m\u001B[0;34m\u001B[0m\u001B[0;34m\u001B[0m\u001B[0m\n\u001B[0m\u001B[1;32m   3879\u001B[0m \u001B[0;34m\u001B[0m\u001B[0m\n\u001B[1;32m   3880\u001B[0m         \u001B[0;32mif\u001B[0m \u001B[0minplace\u001B[0m\u001B[0;34m:\u001B[0m\u001B[0;34m\u001B[0m\u001B[0;34m\u001B[0m\u001B[0m\n",
      "\u001B[0;32m~/miniconda3/envs/MT/lib/python3.6/site-packages/pandas/core/generic.py\u001B[0m in \u001B[0;36m_drop_axis\u001B[0;34m(self, labels, axis, level, errors)\u001B[0m\n\u001B[1;32m   3910\u001B[0m                 \u001B[0mnew_axis\u001B[0m \u001B[0;34m=\u001B[0m \u001B[0maxis\u001B[0m\u001B[0;34m.\u001B[0m\u001B[0mdrop\u001B[0m\u001B[0;34m(\u001B[0m\u001B[0mlabels\u001B[0m\u001B[0;34m,\u001B[0m \u001B[0mlevel\u001B[0m\u001B[0;34m=\u001B[0m\u001B[0mlevel\u001B[0m\u001B[0;34m,\u001B[0m \u001B[0merrors\u001B[0m\u001B[0;34m=\u001B[0m\u001B[0merrors\u001B[0m\u001B[0;34m)\u001B[0m\u001B[0;34m\u001B[0m\u001B[0;34m\u001B[0m\u001B[0m\n\u001B[1;32m   3911\u001B[0m             \u001B[0;32melse\u001B[0m\u001B[0;34m:\u001B[0m\u001B[0;34m\u001B[0m\u001B[0;34m\u001B[0m\u001B[0m\n\u001B[0;32m-> 3912\u001B[0;31m                 \u001B[0mnew_axis\u001B[0m \u001B[0;34m=\u001B[0m \u001B[0maxis\u001B[0m\u001B[0;34m.\u001B[0m\u001B[0mdrop\u001B[0m\u001B[0;34m(\u001B[0m\u001B[0mlabels\u001B[0m\u001B[0;34m,\u001B[0m \u001B[0merrors\u001B[0m\u001B[0;34m=\u001B[0m\u001B[0merrors\u001B[0m\u001B[0;34m)\u001B[0m\u001B[0;34m\u001B[0m\u001B[0;34m\u001B[0m\u001B[0m\n\u001B[0m\u001B[1;32m   3913\u001B[0m             \u001B[0mresult\u001B[0m \u001B[0;34m=\u001B[0m \u001B[0mself\u001B[0m\u001B[0;34m.\u001B[0m\u001B[0mreindex\u001B[0m\u001B[0;34m(\u001B[0m\u001B[0;34m**\u001B[0m\u001B[0;34m{\u001B[0m\u001B[0maxis_name\u001B[0m\u001B[0;34m:\u001B[0m \u001B[0mnew_axis\u001B[0m\u001B[0;34m}\u001B[0m\u001B[0;34m)\u001B[0m\u001B[0;34m\u001B[0m\u001B[0;34m\u001B[0m\u001B[0m\n\u001B[1;32m   3914\u001B[0m \u001B[0;34m\u001B[0m\u001B[0m\n",
      "\u001B[0;32m~/miniconda3/envs/MT/lib/python3.6/site-packages/pandas/core/indexes/base.py\u001B[0m in \u001B[0;36mdrop\u001B[0;34m(self, labels, errors)\u001B[0m\n\u001B[1;32m   5276\u001B[0m                 \u001B[0;32mraise\u001B[0m \u001B[0mKeyError\u001B[0m\u001B[0;34m(\u001B[0m\u001B[0;34mf\"{labels[mask]} not found in axis\"\u001B[0m\u001B[0;34m)\u001B[0m\u001B[0;34m\u001B[0m\u001B[0;34m\u001B[0m\u001B[0m\n\u001B[1;32m   5277\u001B[0m             \u001B[0mindexer\u001B[0m \u001B[0;34m=\u001B[0m \u001B[0mindexer\u001B[0m\u001B[0;34m[\u001B[0m\u001B[0;34m~\u001B[0m\u001B[0mmask\u001B[0m\u001B[0;34m]\u001B[0m\u001B[0;34m\u001B[0m\u001B[0;34m\u001B[0m\u001B[0m\n\u001B[0;32m-> 5278\u001B[0;31m         \u001B[0;32mreturn\u001B[0m \u001B[0mself\u001B[0m\u001B[0;34m.\u001B[0m\u001B[0mdelete\u001B[0m\u001B[0;34m(\u001B[0m\u001B[0mindexer\u001B[0m\u001B[0;34m)\u001B[0m\u001B[0;34m\u001B[0m\u001B[0;34m\u001B[0m\u001B[0m\n\u001B[0m\u001B[1;32m   5279\u001B[0m \u001B[0;34m\u001B[0m\u001B[0m\n\u001B[1;32m   5280\u001B[0m     \u001B[0;31m# --------------------------------------------------------------------\u001B[0m\u001B[0;34m\u001B[0m\u001B[0;34m\u001B[0m\u001B[0;34m\u001B[0m\u001B[0m\n",
      "\u001B[0;32m~/miniconda3/envs/MT/lib/python3.6/site-packages/pandas/core/indexes/base.py\u001B[0m in \u001B[0;36mdelete\u001B[0;34m(self, loc)\u001B[0m\n\u001B[1;32m   5225\u001B[0m         \u001B[0mIndex\u001B[0m\u001B[0;34m(\u001B[0m\u001B[0;34m[\u001B[0m\u001B[0;34m'b'\u001B[0m\u001B[0;34m]\u001B[0m\u001B[0;34m,\u001B[0m \u001B[0mdtype\u001B[0m\u001B[0;34m=\u001B[0m\u001B[0;34m'object'\u001B[0m\u001B[0;34m)\u001B[0m\u001B[0;34m\u001B[0m\u001B[0;34m\u001B[0m\u001B[0m\n\u001B[1;32m   5226\u001B[0m         \"\"\"\n\u001B[0;32m-> 5227\u001B[0;31m         \u001B[0;32mreturn\u001B[0m \u001B[0mself\u001B[0m\u001B[0;34m.\u001B[0m\u001B[0m_shallow_copy\u001B[0m\u001B[0;34m(\u001B[0m\u001B[0mnp\u001B[0m\u001B[0;34m.\u001B[0m\u001B[0mdelete\u001B[0m\u001B[0;34m(\u001B[0m\u001B[0mself\u001B[0m\u001B[0;34m.\u001B[0m\u001B[0m_data\u001B[0m\u001B[0;34m,\u001B[0m \u001B[0mloc\u001B[0m\u001B[0;34m)\u001B[0m\u001B[0;34m)\u001B[0m\u001B[0;34m\u001B[0m\u001B[0;34m\u001B[0m\u001B[0m\n\u001B[0m\u001B[1;32m   5228\u001B[0m \u001B[0;34m\u001B[0m\u001B[0m\n\u001B[1;32m   5229\u001B[0m     \u001B[0;32mdef\u001B[0m \u001B[0minsert\u001B[0m\u001B[0;34m(\u001B[0m\u001B[0mself\u001B[0m\u001B[0;34m,\u001B[0m \u001B[0mloc\u001B[0m\u001B[0;34m:\u001B[0m \u001B[0mint\u001B[0m\u001B[0;34m,\u001B[0m \u001B[0mitem\u001B[0m\u001B[0;34m)\u001B[0m\u001B[0;34m:\u001B[0m\u001B[0;34m\u001B[0m\u001B[0;34m\u001B[0m\u001B[0m\n",
      "\u001B[0;32m<__array_function__ internals>\u001B[0m in \u001B[0;36mdelete\u001B[0;34m(*args, **kwargs)\u001B[0m\n",
      "\u001B[0;32m~/miniconda3/envs/MT/lib/python3.6/site-packages/numpy/lib/function_base.py\u001B[0m in \u001B[0;36mdelete\u001B[0;34m(arr, obj, axis)\u001B[0m\n\u001B[1;32m   4304\u001B[0m     \u001B[0maxis\u001B[0m \u001B[0;34m=\u001B[0m \u001B[0mnormalize_axis_index\u001B[0m\u001B[0;34m(\u001B[0m\u001B[0maxis\u001B[0m\u001B[0;34m,\u001B[0m \u001B[0mndim\u001B[0m\u001B[0;34m)\u001B[0m\u001B[0;34m\u001B[0m\u001B[0;34m\u001B[0m\u001B[0m\n\u001B[1;32m   4305\u001B[0m \u001B[0;34m\u001B[0m\u001B[0m\n\u001B[0;32m-> 4306\u001B[0;31m     \u001B[0mslobj\u001B[0m \u001B[0;34m=\u001B[0m \u001B[0;34m[\u001B[0m\u001B[0mslice\u001B[0m\u001B[0;34m(\u001B[0m\u001B[0;32mNone\u001B[0m\u001B[0;34m)\u001B[0m\u001B[0;34m]\u001B[0m\u001B[0;34m*\u001B[0m\u001B[0mndim\u001B[0m\u001B[0;34m\u001B[0m\u001B[0;34m\u001B[0m\u001B[0m\n\u001B[0m\u001B[1;32m   4307\u001B[0m     \u001B[0mN\u001B[0m \u001B[0;34m=\u001B[0m \u001B[0marr\u001B[0m\u001B[0;34m.\u001B[0m\u001B[0mshape\u001B[0m\u001B[0;34m[\u001B[0m\u001B[0maxis\u001B[0m\u001B[0;34m]\u001B[0m\u001B[0;34m\u001B[0m\u001B[0;34m\u001B[0m\u001B[0m\n\u001B[1;32m   4308\u001B[0m     \u001B[0mnewshape\u001B[0m \u001B[0;34m=\u001B[0m \u001B[0mlist\u001B[0m\u001B[0;34m(\u001B[0m\u001B[0marr\u001B[0m\u001B[0;34m.\u001B[0m\u001B[0mshape\u001B[0m\u001B[0;34m)\u001B[0m\u001B[0;34m\u001B[0m\u001B[0;34m\u001B[0m\u001B[0m\n",
      "\u001B[0;31mKeyboardInterrupt\u001B[0m: "
     ]
    }
   ],
   "source": [
    "# compute Top-N lists for test dataset\n",
    "# for each testing row\n",
    "results = {}\n",
    "results_com = {}\n",
    "i = 1\n",
    "start_time = time.time()\n",
    "for index, _ in test.iterrows():\n",
    "    userId = index[0]\n",
    "    if not userId in df.index: continue\n",
    "    user_emb = emb_from_row(df.loc[userId])\n",
    "    user_label = df.loc[userId].label\n",
    "\n",
    "    # get user's non_friends in user's community\n",
    "    # users_in_community\n",
    "    users_in_community = df[df.label == user_label]\n",
    "    #print(\"len(users_in_community): \", len(users_in_community))\n",
    "    # friends\n",
    "    friends = list(G_train[userId])\n",
    "    #print(\"len(friends): \", len(friends))\n",
    "    # not_friends\n",
    "    not_friends = df[~df.index.isin(friends+[userId])]\n",
    "    #print(\"len(not_friends): \", len(not_friends))\n",
    "    # not_friends_in_community\n",
    "    not_friends_in_community = users_in_community[~users_in_community.index.isin(friends+[userId])]\n",
    "    #print(\"len(not_friends_in_community): \", len(not_friends_in_community))\n",
    "\n",
    "    # generate user's top_list from all not_friends\n",
    "    distances = {}\n",
    "    top_list = SortedDict()\n",
    "    for movie_id, node_row in not_friends.iterrows():\n",
    "        node_emb = emb_from_row(node_row)\n",
    "        dist = emb_distance(user_emb, node_emb)\n",
    "        top_list[dist] = movie_id\n",
    "        distances[movie_id] = dist\n",
    "    results[userId] = top_list, distances\n",
    "\n",
    "    # generate user's top_list from all not_friends_in_community\n",
    "    distances_com = {}\n",
    "    top_list_com = SortedDict()\n",
    "    for movie_id, node_row in not_friends_in_community.iterrows():\n",
    "        node_emb = emb_from_row(node_row)\n",
    "        dist = emb_distance(user_emb, node_emb)\n",
    "        top_list_com[dist] = movie_id\n",
    "        distances_com[movie_id] = dist\n",
    "    results_com[userId] = top_list_com, distances_com\n",
    "\n",
    "    if i % 10 == 0:\n",
    "        elapsed_sec = (time.time() - start_time)\n",
    "        elapsed_min = elapsed_sec / 60\n",
    "        print(f\"{i}/{len(test)} in {elapsed_min:.2f} min\")\n",
    "        print(f\"  => done at {time.ctime(time.time() + ((len(test)-i)/i)*elapsed_sec)}\")\n",
    "    i += 1"
   ],
   "metadata": {
    "collapsed": false,
    "pycharm": {
     "name": "#%%\n"
    }
   }
  },
  {
   "cell_type": "code",
   "execution_count": null,
   "outputs": [],
   "source": [
    "N = 100\n",
    "hit_rates = []\n",
    "hit_rates_com = []\n",
    "\n",
    "for n in range(1, N + 1):\n",
    "\n",
    "    # counters\n",
    "    hits = 0\n",
    "    misses = 0\n",
    "    hits_com = 0\n",
    "    misses_com = 0\n",
    "\n",
    "    for userId in results.keys():\n",
    "        top_list, _ = results[userId]\n",
    "        top_list_com, _ = results_com[userId]\n",
    "        # get Top-N friend suggestions\n",
    "        top_N = top_list.values()[:N]\n",
    "        top_N_com = top_list_com.values()[:N]\n",
    "        # get user's test friend\n",
    "        test_friend = test.query(f\"u == {userId}\").index.get_level_values('v')[0]\n",
    "        # evaluate\n",
    "        hit = test_friend in top_N\n",
    "        if hit:\n",
    "            hits += 1\n",
    "        else:\n",
    "            misses += 1\n",
    "        hit_com = test_friend in top_N_com\n",
    "        if hit_com:\n",
    "            hits_com += 1\n",
    "        else:\n",
    "            misses_com += 1\n",
    "\n",
    "        #print(f\"Friend suggestion {test_friend} {'found' if hit else 'not found'} in user {userId}'s Top-{N} list: \", top_N)\n",
    "\n",
    "    hit_rate = hits / (hits+misses)\n",
    "    hit_rate_com = hits_com / (hits_com+misses_com)\n",
    "    print(f\"{n}: {hits}/{hits+misses} = {hit_rate}\")\n",
    "    print(f\"{n}: {hits_com}/{hits_com+misses_com} = {hit_rate_com} (com)\")\n",
    "\n",
    "    hit_rates.append(hit_rate)\n",
    "    hit_rates_com.append(hit_rate_com)"
   ],
   "metadata": {
    "collapsed": false,
    "pycharm": {
     "name": "#%%\n"
    }
   }
  },
  {
   "cell_type": "code",
   "execution_count": 65,
   "outputs": [
    {
     "data": {
      "text/plain": "<Figure size 432x288 with 1 Axes>",
      "image/png": "[encoded data removed]"
     },
     "metadata": {},
     "output_type": "display_data"
    }
   ],
   "source": [
    "# plot hit-rates\n",
    "\n",
    "Ns = np.arange(N)\n",
    "\n",
    "hit_rate_1_df = pd.DataFrame(\n",
    "    zip(Ns, hit_rates, ['Algorithm 1' for _ in range(N)]),\n",
    "    columns=['N', 'hit_rate', 'Algorithm']\n",
    ")\n",
    "hit_rate_2_df = pd.DataFrame(\n",
    "    zip(Ns, hit_rates_com, ['Algorithm 2' for _ in range(N)]),\n",
    "    columns=['N', 'hit_rate', 'Algorithm']\n",
    ")\n",
    "hit_rate_df = pd.concat([hit_rate_1_df, hit_rate_2_df])\n",
    "\n",
    "sns.set_style(\"darkgrid\")\n",
    "\n",
    "# hit rates plot\n",
    "\n",
    "ax = sns.lineplot(x='N', y='hit_rate', hue='Algorithm', data=hit_rate_df)\n",
    "ax.set(xlabel='N', ylabel='hit rate', ylim=(0, 1))\n",
    "ax.yaxis.set_major_formatter(PercentFormatter(1))\n",
    "\n",
    "fig = ax.get_figure()\n",
    "fig.savefig(f\"./hit_rates_d-{dim}.png\", format='png', dpi=1000)"
   ],
   "metadata": {
    "collapsed": false,
    "pycharm": {
     "name": "#%%\n"
    }
   }
  },
  {
   "cell_type": "code",
   "execution_count": null,
   "outputs": [],
   "source": [
    "# hit rates plot on log scale\n",
    "\n",
    "ax = sns.lineplot(x='N', y='hit_rate', hue='Algorithm', data=hit_rate_df)\n",
    "ax.set(xlabel='N', ylabel='hit rate', ylim=(0, 1), xscale=\"log\")\n",
    "ax.yaxis.set_major_formatter(PercentFormatter(1))\n",
    "\n",
    "fig = ax.get_figure()\n",
    "fig.savefig(f\"./hit_rates_d-{dim}_log.png\", format='png', dpi=1000)\n"
   ],
   "metadata": {
    "collapsed": false,
    "pycharm": {
     "name": "#%%\n",
     "is_executing": true
    }
   }
  }
 ],
 "metadata": {
  "kernelspec": {
   "name": "pycharm-97a28330",
   "language": "python",
   "display_name": "PyCharm (ComE_BGMM)"
  },
  "language_info": {
   "codemirror_mode": {
    "name": "ipython",
    "version": 2
   },
   "file_extension": ".py",
   "mimetype": "text/x-python",
   "name": "python",
   "nbconvert_exporter": "python",
   "pygments_lexer": "ipython2",
   "version": "2.7.6"
  }
 },
 "nbformat": 4,
 "nbformat_minor": 0
}