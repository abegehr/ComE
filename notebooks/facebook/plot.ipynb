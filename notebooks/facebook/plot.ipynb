{
 "cells": [
  {
   "cell_type": "code",
   "execution_count": 33,
   "metadata": {
    "collapsed": true,
    "pycharm": {
     "name": "#%%\n"
    }
   },
   "outputs": [],
   "source": [
    "import sys\n",
    "sys.path.append('../../')\n",
    "\n",
    "from IPython.core.display import display\n",
    "import numpy as np\n",
    "import pandas as pd\n",
    "import networkx as nx\n",
    "import matplotlib.pyplot as plt"
   ]
  },
  {
   "cell_type": "code",
   "execution_count": 34,
   "outputs": [],
   "source": [
    "# settings\n",
    "CMAP = 'viridis'\n",
    "dim = 2"
   ],
   "metadata": {
    "collapsed": false,
    "pycharm": {
     "name": "#%%\n"
    }
   }
  },
  {
   "cell_type": "code",
   "execution_count": 35,
   "outputs": [
    {
     "name": "stderr",
     "output_type": "stream",
     "text": [
      "/Users/anton/miniconda3/envs/MT/lib/python3.6/site-packages/ipykernel_launcher.py:5: ParserWarning: Falling back to the 'python' engine because the 'c' engine does not support regex separators (separators > 1 char and different from '\\s+' are interpreted as regex); you can avoid this warning by specifying engine='python'.\n",
      "  \"\"\"\n"
     ]
    }
   ],
   "source": [
    "# import node embeddings\n",
    "df = pd.read_csv(\n",
    "    f\"./data/facebook_alpha-0.1_beta-0.1_ws-10_neg-5_lr-0.025_icom-36_ind-36_ds-0.0_d-{dim}_type-BGMM_k-10.txt\",\n",
    "    sep=\"\\t| \",\n",
    "    header=None\n",
    ")\n",
    "df = df.rename(columns={0: 'node'})\n",
    "df.set_index(['node'], inplace=True)"
   ],
   "metadata": {
    "collapsed": false,
    "pycharm": {
     "name": "#%%\n"
    }
   }
  },
  {
   "cell_type": "code",
   "execution_count": 36,
   "outputs": [
    {
     "data": {
      "text/plain": "          u     v\n0         0     1\n1         0     2\n2         0     3\n3         0     4\n4         0     5\n...     ...   ...\n88229  4026  4030\n88230  4027  4031\n88231  4027  4032\n88232  4027  4038\n88233  4031  4038\n\n[86999 rows x 2 columns]",
      "text/html": "<div>\n<style scoped>\n    .dataframe tbody tr th:only-of-type {\n        vertical-align: middle;\n    }\n\n    .dataframe tbody tr th {\n        vertical-align: top;\n    }\n\n    .dataframe thead th {\n        text-align: right;\n    }\n</style>\n<table border=\"1\" class=\"dataframe\">\n  <thead>\n    <tr style=\"text-align: right;\">\n      <th></th>\n      <th>u</th>\n      <th>v</th>\n    </tr>\n  </thead>\n  <tbody>\n    <tr>\n      <th>0</th>\n      <td>0</td>\n      <td>1</td>\n    </tr>\n    <tr>\n      <th>1</th>\n      <td>0</td>\n      <td>2</td>\n    </tr>\n    <tr>\n      <th>2</th>\n      <td>0</td>\n      <td>3</td>\n    </tr>\n    <tr>\n      <th>3</th>\n      <td>0</td>\n      <td>4</td>\n    </tr>\n    <tr>\n      <th>4</th>\n      <td>0</td>\n      <td>5</td>\n    </tr>\n    <tr>\n      <th>...</th>\n      <td>...</td>\n      <td>...</td>\n    </tr>\n    <tr>\n      <th>88229</th>\n      <td>4026</td>\n      <td>4030</td>\n    </tr>\n    <tr>\n      <th>88230</th>\n      <td>4027</td>\n      <td>4031</td>\n    </tr>\n    <tr>\n      <th>88231</th>\n      <td>4027</td>\n      <td>4032</td>\n    </tr>\n    <tr>\n      <th>88232</th>\n      <td>4027</td>\n      <td>4038</td>\n    </tr>\n    <tr>\n      <th>88233</th>\n      <td>4031</td>\n      <td>4038</td>\n    </tr>\n  </tbody>\n</table>\n<p>86999 rows × 2 columns</p>\n</div>"
     },
     "execution_count": 36,
     "metadata": {},
     "output_type": "execute_result"
    }
   ],
   "source": [
    "# import train\n",
    "train = pd.read_csv(\"./data/facebook_train.csv\", index_col=0)\n",
    "train"
   ],
   "metadata": {
    "collapsed": false,
    "pycharm": {
     "name": "#%%\n"
    }
   }
  },
  {
   "cell_type": "code",
   "execution_count": 37,
   "outputs": [
    {
     "data": {
      "text/plain": "array([1., 1., 1., ..., 6., 6., 6.])"
     },
     "execution_count": 37,
     "metadata": {},
     "output_type": "execute_result"
    }
   ],
   "source": [
    "# import predicted labels\n",
    "labels = np.genfromtxt(f\"./data/labels_pred_BGMM_d{dim}_k10.txt\")\n",
    "labels"
   ],
   "metadata": {
    "collapsed": false,
    "pycharm": {
     "name": "#%%\n"
    }
   }
  },
  {
   "cell_type": "code",
   "execution_count": 38,
   "outputs": [],
   "source": [
    "df['label'] = labels"
   ],
   "metadata": {
    "collapsed": false,
    "pycharm": {
     "name": "#%% add labels to embeddings\n"
    }
   }
  },
  {
   "cell_type": "code",
   "execution_count": 39,
   "outputs": [
    {
     "data": {
      "text/plain": "             1         2  label\nnode                           \n0    -4.001292  4.017002    1.0\n1    -4.303226  4.328349    1.0\n2    -3.510165  3.493527    1.0\n3    -4.429653  4.469522    1.0\n4    -3.582412  3.565915    1.0\n...        ...       ...    ...\n4033 -1.945650  1.498925    6.0\n4034 -1.973810  1.497245    6.0\n4036 -1.855735  1.397581    6.0\n4037 -1.978046  1.523112    6.0\n4038 -1.863055  1.401045    6.0\n\n[3964 rows x 3 columns]",
      "text/html": "<div>\n<style scoped>\n    .dataframe tbody tr th:only-of-type {\n        vertical-align: middle;\n    }\n\n    .dataframe tbody tr th {\n        vertical-align: top;\n    }\n\n    .dataframe thead th {\n        text-align: right;\n    }\n</style>\n<table border=\"1\" class=\"dataframe\">\n  <thead>\n    <tr style=\"text-align: right;\">\n      <th></th>\n      <th>1</th>\n      <th>2</th>\n      <th>label</th>\n    </tr>\n    <tr>\n      <th>node</th>\n      <th></th>\n      <th></th>\n      <th></th>\n    </tr>\n  </thead>\n  <tbody>\n    <tr>\n      <th>0</th>\n      <td>-4.001292</td>\n      <td>4.017002</td>\n      <td>1.0</td>\n    </tr>\n    <tr>\n      <th>1</th>\n      <td>-4.303226</td>\n      <td>4.328349</td>\n      <td>1.0</td>\n    </tr>\n    <tr>\n      <th>2</th>\n      <td>-3.510165</td>\n      <td>3.493527</td>\n      <td>1.0</td>\n    </tr>\n    <tr>\n      <th>3</th>\n      <td>-4.429653</td>\n      <td>4.469522</td>\n      <td>1.0</td>\n    </tr>\n    <tr>\n      <th>4</th>\n      <td>-3.582412</td>\n      <td>3.565915</td>\n      <td>1.0</td>\n    </tr>\n    <tr>\n      <th>...</th>\n      <td>...</td>\n      <td>...</td>\n      <td>...</td>\n    </tr>\n    <tr>\n      <th>4033</th>\n      <td>-1.945650</td>\n      <td>1.498925</td>\n      <td>6.0</td>\n    </tr>\n    <tr>\n      <th>4034</th>\n      <td>-1.973810</td>\n      <td>1.497245</td>\n      <td>6.0</td>\n    </tr>\n    <tr>\n      <th>4036</th>\n      <td>-1.855735</td>\n      <td>1.397581</td>\n      <td>6.0</td>\n    </tr>\n    <tr>\n      <th>4037</th>\n      <td>-1.978046</td>\n      <td>1.523112</td>\n      <td>6.0</td>\n    </tr>\n    <tr>\n      <th>4038</th>\n      <td>-1.863055</td>\n      <td>1.401045</td>\n      <td>6.0</td>\n    </tr>\n  </tbody>\n</table>\n<p>3964 rows × 3 columns</p>\n</div>"
     },
     "metadata": {},
     "output_type": "display_data"
    },
    {
     "data": {
      "text/plain": "                 1            2        label\ncount  3964.000000  3964.000000  3964.000000\nmean     -3.137470    -0.250075     2.614026\nstd       1.930306     3.969619     1.606467\nmin      -6.907726    -7.603607     1.000000\n25%      -4.914396    -3.758388     1.000000\n50%      -3.191420    -0.248374     2.000000\n75%      -1.127887     3.132293     3.000000\nmax      -0.400827     6.904348     6.000000",
      "text/html": "<div>\n<style scoped>\n    .dataframe tbody tr th:only-of-type {\n        vertical-align: middle;\n    }\n\n    .dataframe tbody tr th {\n        vertical-align: top;\n    }\n\n    .dataframe thead th {\n        text-align: right;\n    }\n</style>\n<table border=\"1\" class=\"dataframe\">\n  <thead>\n    <tr style=\"text-align: right;\">\n      <th></th>\n      <th>1</th>\n      <th>2</th>\n      <th>label</th>\n    </tr>\n  </thead>\n  <tbody>\n    <tr>\n      <th>count</th>\n      <td>3964.000000</td>\n      <td>3964.000000</td>\n      <td>3964.000000</td>\n    </tr>\n    <tr>\n      <th>mean</th>\n      <td>-3.137470</td>\n      <td>-0.250075</td>\n      <td>2.614026</td>\n    </tr>\n    <tr>\n      <th>std</th>\n      <td>1.930306</td>\n      <td>3.969619</td>\n      <td>1.606467</td>\n    </tr>\n    <tr>\n      <th>min</th>\n      <td>-6.907726</td>\n      <td>-7.603607</td>\n      <td>1.000000</td>\n    </tr>\n    <tr>\n      <th>25%</th>\n      <td>-4.914396</td>\n      <td>-3.758388</td>\n      <td>1.000000</td>\n    </tr>\n    <tr>\n      <th>50%</th>\n      <td>-3.191420</td>\n      <td>-0.248374</td>\n      <td>2.000000</td>\n    </tr>\n    <tr>\n      <th>75%</th>\n      <td>-1.127887</td>\n      <td>3.132293</td>\n      <td>3.000000</td>\n    </tr>\n    <tr>\n      <th>max</th>\n      <td>-0.400827</td>\n      <td>6.904348</td>\n      <td>6.000000</td>\n    </tr>\n  </tbody>\n</table>\n</div>"
     },
     "metadata": {},
     "output_type": "display_data"
    }
   ],
   "source": [
    "display(df)\n",
    "display(df.describe())"
   ],
   "metadata": {
    "collapsed": false,
    "pycharm": {
     "name": "#%%\n"
    }
   }
  },
  {
   "cell_type": "code",
   "execution_count": 40,
   "outputs": [],
   "source": [
    "# get nx train graph\n",
    "G = nx.from_pandas_edgelist(train, \"u\", \"v\")"
   ],
   "metadata": {
    "collapsed": false,
    "pycharm": {
     "name": "#%%\n"
    }
   }
  },
  {
   "cell_type": "code",
   "execution_count": null,
   "outputs": [],
   "source": [
    "# plot spring graph\n",
    "spring_pos = nx.spring_layout(G)\n",
    "plt.axis(\"off\")\n",
    "nx.draw_networkx(G,\n",
    "                 node_color=df.label,\n",
    "                 pos=spring_pos,\n",
    "                 cmap=plt.get_cmap(CMAP),\n",
    "                 nodelist=sorted(G.nodes()),\n",
    "                 with_labels=False,\n",
    "                 node_size=42)\n",
    "plt.savefig(f\"./plots/graph_d{dim}.png\")\n"
   ],
   "metadata": {
    "collapsed": false,
    "pycharm": {
     "name": "#%%\n",
     "is_executing": true
    }
   }
  },
  {
   "cell_type": "code",
   "execution_count": null,
   "outputs": [],
   "source": [
    "# plot embedding\n",
    "plt.scatter(df[1], df[2], 20, c=df.label, marker=\"o\", cmap=CMAP)\n",
    "plt.savefig(f\"./plots/node_emb_d{dim}.png\")"
   ],
   "metadata": {
    "collapsed": false,
    "pycharm": {
     "name": "#%%\n",
     "is_executing": true
    }
   }
  }
 ],
 "metadata": {
  "kernelspec": {
   "name": "pycharm-97a28330",
   "language": "python",
   "display_name": "PyCharm (ComE_BGMM)"
  },
  "language_info": {
   "codemirror_mode": {
    "name": "ipython",
    "version": 2
   },
   "file_extension": ".py",
   "mimetype": "text/x-python",
   "name": "python",
   "nbconvert_exporter": "python",
   "pygments_lexer": "ipython2",
   "version": "2.7.6"
  }
 },
 "nbformat": 4,
 "nbformat_minor": 0
}