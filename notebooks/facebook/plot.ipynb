{
 "cells": [
  {
   "cell_type": "code",
   "execution_count": 144,
   "metadata": {
    "collapsed": true,
    "pycharm": {
     "name": "#%%\n"
    }
   },
   "outputs": [],
   "source": [
    "import sys\n",
    "sys.path.append('../../')\n",
    "\n",
    "from IPython.core.display import display\n",
    "import numpy as np\n",
    "import pandas as pd\n",
    "import networkx as nx\n",
    "import matplotlib.pyplot as plt"
   ]
  },
  {
   "cell_type": "code",
   "execution_count": 145,
   "outputs": [],
   "source": [
    "# settings\n",
    "CMAP = 'viridis'\n",
    "dim = 4"
   ],
   "metadata": {
    "collapsed": false,
    "pycharm": {
     "name": "#%%\n"
    }
   }
  },
  {
   "cell_type": "code",
   "execution_count": 146,
   "outputs": [
    {
     "name": "stderr",
     "output_type": "stream",
     "text": [
      "/Users/anton/miniconda3/envs/MT/lib/python3.6/site-packages/ipykernel_launcher.py:5: ParserWarning: Falling back to the 'python' engine because the 'c' engine does not support regex separators (separators > 1 char and different from '\\s+' are interpreted as regex); you can avoid this warning by specifying engine='python'.\n",
      "  \"\"\"\n"
     ]
    }
   ],
   "source": [
    "# import node embeddings\n",
    "df = pd.read_csv(\n",
    "    f\"./data/facebook_alpha-0.1_beta-0.1_ws-10_neg-5_lr-0.025_icom-36_ind-36_ds-0.0_d-{dim}_type-BGMM_k-10.txt\",\n",
    "    sep=\"\\t| \",\n",
    "    header=None\n",
    ")\n",
    "df = df.rename(columns={0: 'node'})\n",
    "df.set_index(['node'], inplace=True)"
   ],
   "metadata": {
    "collapsed": false,
    "pycharm": {
     "name": "#%%\n"
    }
   }
  },
  {
   "cell_type": "code",
   "execution_count": 147,
   "outputs": [
    {
     "data": {
      "text/plain": "          u     v\n0         0     1\n1         0     2\n2         0     3\n3         0     4\n4         0     5\n...     ...   ...\n88229  4026  4030\n88230  4027  4031\n88231  4027  4032\n88232  4027  4038\n88233  4031  4038\n\n[86999 rows x 2 columns]",
      "text/html": "<div>\n<style scoped>\n    .dataframe tbody tr th:only-of-type {\n        vertical-align: middle;\n    }\n\n    .dataframe tbody tr th {\n        vertical-align: top;\n    }\n\n    .dataframe thead th {\n        text-align: right;\n    }\n</style>\n<table border=\"1\" class=\"dataframe\">\n  <thead>\n    <tr style=\"text-align: right;\">\n      <th></th>\n      <th>u</th>\n      <th>v</th>\n    </tr>\n  </thead>\n  <tbody>\n    <tr>\n      <th>0</th>\n      <td>0</td>\n      <td>1</td>\n    </tr>\n    <tr>\n      <th>1</th>\n      <td>0</td>\n      <td>2</td>\n    </tr>\n    <tr>\n      <th>2</th>\n      <td>0</td>\n      <td>3</td>\n    </tr>\n    <tr>\n      <th>3</th>\n      <td>0</td>\n      <td>4</td>\n    </tr>\n    <tr>\n      <th>4</th>\n      <td>0</td>\n      <td>5</td>\n    </tr>\n    <tr>\n      <th>...</th>\n      <td>...</td>\n      <td>...</td>\n    </tr>\n    <tr>\n      <th>88229</th>\n      <td>4026</td>\n      <td>4030</td>\n    </tr>\n    <tr>\n      <th>88230</th>\n      <td>4027</td>\n      <td>4031</td>\n    </tr>\n    <tr>\n      <th>88231</th>\n      <td>4027</td>\n      <td>4032</td>\n    </tr>\n    <tr>\n      <th>88232</th>\n      <td>4027</td>\n      <td>4038</td>\n    </tr>\n    <tr>\n      <th>88233</th>\n      <td>4031</td>\n      <td>4038</td>\n    </tr>\n  </tbody>\n</table>\n<p>86999 rows × 2 columns</p>\n</div>"
     },
     "execution_count": 147,
     "metadata": {},
     "output_type": "execute_result"
    }
   ],
   "source": [
    "# import train\n",
    "train = pd.read_csv(\"./data/facebook_train.csv\", index_col=0)\n",
    "train"
   ],
   "metadata": {
    "collapsed": false,
    "pycharm": {
     "name": "#%%\n"
    }
   }
  },
  {
   "cell_type": "code",
   "execution_count": 148,
   "outputs": [
    {
     "data": {
      "text/plain": "array([0., 5., 9., ..., 6., 6., 6.])"
     },
     "execution_count": 148,
     "metadata": {},
     "output_type": "execute_result"
    }
   ],
   "source": [
    "# import predicted labels\n",
    "labels = np.genfromtxt(f\"./data/labels_pred_BGMM_d{dim}_k10.txt\")\n",
    "labels"
   ],
   "metadata": {
    "collapsed": false,
    "pycharm": {
     "name": "#%%\n"
    }
   }
  },
  {
   "cell_type": "code",
   "execution_count": 149,
   "outputs": [],
   "source": [
    "df['label'] = labels"
   ],
   "metadata": {
    "collapsed": false,
    "pycharm": {
     "name": "#%% add labels to embeddings\n"
    }
   }
  },
  {
   "cell_type": "code",
   "execution_count": 150,
   "outputs": [
    {
     "data": {
      "text/plain": "             1         2         3         4         5         6         7  \\\nnode                                                                         \n0     1.339128  0.185768  0.094387  0.028050 -1.108014 -1.309047 -0.377820   \n1     0.637479  0.051010 -0.150316  0.159893 -0.405086 -0.240235 -0.469979   \n2     0.178027  0.364577 -0.009309 -0.349540 -0.401864 -0.621560  0.057252   \n3     0.561832 -0.089560  0.137567  0.214021 -0.260968 -0.020298 -0.187448   \n4     0.373659 -0.094094 -0.147163 -0.201390 -0.406716 -0.619929  0.305723   \n...        ...       ...       ...       ...       ...       ...       ...   \n4033  0.344782 -0.367673 -0.387626  0.477303  0.207754  0.123088  0.054337   \n4034  0.349901 -0.344832 -0.361063  0.412082  0.235477  0.156236 -0.063146   \n4036  0.274940 -0.316169 -0.382255  0.415992  0.222673  0.098051  0.028109   \n4037  0.363032 -0.305823 -0.458466  0.475447  0.234820  0.181331  0.042175   \n4038  0.433315 -0.291038 -0.566892  0.416170  0.197969  0.128369  0.014228   \n\n             8         9        10  ...       120       121       122  \\\nnode                                ...                                 \n0    -1.788771  1.561685 -1.615455  ... -2.508975 -0.495331  0.731213   \n1    -0.705891  0.561779 -0.892617  ... -1.450744 -0.187287  0.336546   \n2    -0.914340  0.678064 -0.461156  ... -0.635244 -0.071813  0.010921   \n3    -0.994636  0.586645 -0.789595  ... -1.429252 -0.283856  0.386768   \n4    -0.682918  0.793524 -0.305176  ... -0.808432 -0.097911  0.057090   \n...        ...       ...       ...  ...       ...       ...       ...   \n4033  0.143107  0.000952  0.111579  ... -0.166604  0.261408 -0.039707   \n4034  0.117850 -0.026587  0.024229  ... -0.116655  0.230651  0.010614   \n4036  0.117534  0.035170  0.047799  ... -0.175325  0.286692  0.015072   \n4037  0.127413 -0.039399  0.051073  ... -0.139671  0.313044  0.022936   \n4038  0.175862 -0.021475 -0.021189  ...  0.021161  0.337224  0.093209   \n\n           123       124       125       126       127       128  label  \nnode                                                                     \n0     1.673947  0.146874 -1.560871  1.490491  2.336874  0.918792    0.0  \n1     0.789207 -0.149343 -0.433333  0.412500  0.419875  0.323439    5.0  \n2     0.372460  0.187321 -0.304614  0.405106  0.914100  0.037464    9.0  \n3     0.959525  0.026923 -0.372669  0.546174  0.708606  0.260183    6.0  \n4     0.481623  0.157351 -0.438132  0.296040  0.855389  0.129789    2.0  \n...        ...       ...       ...       ...       ...       ...    ...  \n4033  0.500547 -0.448285  0.197055  0.603622  0.051191 -0.580453    6.0  \n4034  0.458247 -0.403625  0.207094  0.603992  0.083834 -0.520060    6.0  \n4036  0.332629 -0.444580  0.197146  0.596902  0.039525 -0.583024    6.0  \n4037  0.460238 -0.505678  0.192035  0.644883  0.050872 -0.502411    6.0  \n4038  0.552002 -0.575294  0.163426  0.684315 -0.056587 -0.680276    6.0  \n\n[3964 rows x 129 columns]",
      "text/html": "<div>\n<style scoped>\n    .dataframe tbody tr th:only-of-type {\n        vertical-align: middle;\n    }\n\n    .dataframe tbody tr th {\n        vertical-align: top;\n    }\n\n    .dataframe thead th {\n        text-align: right;\n    }\n</style>\n<table border=\"1\" class=\"dataframe\">\n  <thead>\n    <tr style=\"text-align: right;\">\n      <th></th>\n      <th>1</th>\n      <th>2</th>\n      <th>3</th>\n      <th>4</th>\n      <th>5</th>\n      <th>6</th>\n      <th>7</th>\n      <th>8</th>\n      <th>9</th>\n      <th>10</th>\n      <th>...</th>\n      <th>120</th>\n      <th>121</th>\n      <th>122</th>\n      <th>123</th>\n      <th>124</th>\n      <th>125</th>\n      <th>126</th>\n      <th>127</th>\n      <th>128</th>\n      <th>label</th>\n    </tr>\n    <tr>\n      <th>node</th>\n      <th></th>\n      <th></th>\n      <th></th>\n      <th></th>\n      <th></th>\n      <th></th>\n      <th></th>\n      <th></th>\n      <th></th>\n      <th></th>\n      <th></th>\n      <th></th>\n      <th></th>\n      <th></th>\n      <th></th>\n      <th></th>\n      <th></th>\n      <th></th>\n      <th></th>\n      <th></th>\n      <th></th>\n    </tr>\n  </thead>\n  <tbody>\n    <tr>\n      <th>0</th>\n      <td>1.339128</td>\n      <td>0.185768</td>\n      <td>0.094387</td>\n      <td>0.028050</td>\n      <td>-1.108014</td>\n      <td>-1.309047</td>\n      <td>-0.377820</td>\n      <td>-1.788771</td>\n      <td>1.561685</td>\n      <td>-1.615455</td>\n      <td>...</td>\n      <td>-2.508975</td>\n      <td>-0.495331</td>\n      <td>0.731213</td>\n      <td>1.673947</td>\n      <td>0.146874</td>\n      <td>-1.560871</td>\n      <td>1.490491</td>\n      <td>2.336874</td>\n      <td>0.918792</td>\n      <td>0.0</td>\n    </tr>\n    <tr>\n      <th>1</th>\n      <td>0.637479</td>\n      <td>0.051010</td>\n      <td>-0.150316</td>\n      <td>0.159893</td>\n      <td>-0.405086</td>\n      <td>-0.240235</td>\n      <td>-0.469979</td>\n      <td>-0.705891</td>\n      <td>0.561779</td>\n      <td>-0.892617</td>\n      <td>...</td>\n      <td>-1.450744</td>\n      <td>-0.187287</td>\n      <td>0.336546</td>\n      <td>0.789207</td>\n      <td>-0.149343</td>\n      <td>-0.433333</td>\n      <td>0.412500</td>\n      <td>0.419875</td>\n      <td>0.323439</td>\n      <td>5.0</td>\n    </tr>\n    <tr>\n      <th>2</th>\n      <td>0.178027</td>\n      <td>0.364577</td>\n      <td>-0.009309</td>\n      <td>-0.349540</td>\n      <td>-0.401864</td>\n      <td>-0.621560</td>\n      <td>0.057252</td>\n      <td>-0.914340</td>\n      <td>0.678064</td>\n      <td>-0.461156</td>\n      <td>...</td>\n      <td>-0.635244</td>\n      <td>-0.071813</td>\n      <td>0.010921</td>\n      <td>0.372460</td>\n      <td>0.187321</td>\n      <td>-0.304614</td>\n      <td>0.405106</td>\n      <td>0.914100</td>\n      <td>0.037464</td>\n      <td>9.0</td>\n    </tr>\n    <tr>\n      <th>3</th>\n      <td>0.561832</td>\n      <td>-0.089560</td>\n      <td>0.137567</td>\n      <td>0.214021</td>\n      <td>-0.260968</td>\n      <td>-0.020298</td>\n      <td>-0.187448</td>\n      <td>-0.994636</td>\n      <td>0.586645</td>\n      <td>-0.789595</td>\n      <td>...</td>\n      <td>-1.429252</td>\n      <td>-0.283856</td>\n      <td>0.386768</td>\n      <td>0.959525</td>\n      <td>0.026923</td>\n      <td>-0.372669</td>\n      <td>0.546174</td>\n      <td>0.708606</td>\n      <td>0.260183</td>\n      <td>6.0</td>\n    </tr>\n    <tr>\n      <th>4</th>\n      <td>0.373659</td>\n      <td>-0.094094</td>\n      <td>-0.147163</td>\n      <td>-0.201390</td>\n      <td>-0.406716</td>\n      <td>-0.619929</td>\n      <td>0.305723</td>\n      <td>-0.682918</td>\n      <td>0.793524</td>\n      <td>-0.305176</td>\n      <td>...</td>\n      <td>-0.808432</td>\n      <td>-0.097911</td>\n      <td>0.057090</td>\n      <td>0.481623</td>\n      <td>0.157351</td>\n      <td>-0.438132</td>\n      <td>0.296040</td>\n      <td>0.855389</td>\n      <td>0.129789</td>\n      <td>2.0</td>\n    </tr>\n    <tr>\n      <th>...</th>\n      <td>...</td>\n      <td>...</td>\n      <td>...</td>\n      <td>...</td>\n      <td>...</td>\n      <td>...</td>\n      <td>...</td>\n      <td>...</td>\n      <td>...</td>\n      <td>...</td>\n      <td>...</td>\n      <td>...</td>\n      <td>...</td>\n      <td>...</td>\n      <td>...</td>\n      <td>...</td>\n      <td>...</td>\n      <td>...</td>\n      <td>...</td>\n      <td>...</td>\n      <td>...</td>\n    </tr>\n    <tr>\n      <th>4033</th>\n      <td>0.344782</td>\n      <td>-0.367673</td>\n      <td>-0.387626</td>\n      <td>0.477303</td>\n      <td>0.207754</td>\n      <td>0.123088</td>\n      <td>0.054337</td>\n      <td>0.143107</td>\n      <td>0.000952</td>\n      <td>0.111579</td>\n      <td>...</td>\n      <td>-0.166604</td>\n      <td>0.261408</td>\n      <td>-0.039707</td>\n      <td>0.500547</td>\n      <td>-0.448285</td>\n      <td>0.197055</td>\n      <td>0.603622</td>\n      <td>0.051191</td>\n      <td>-0.580453</td>\n      <td>6.0</td>\n    </tr>\n    <tr>\n      <th>4034</th>\n      <td>0.349901</td>\n      <td>-0.344832</td>\n      <td>-0.361063</td>\n      <td>0.412082</td>\n      <td>0.235477</td>\n      <td>0.156236</td>\n      <td>-0.063146</td>\n      <td>0.117850</td>\n      <td>-0.026587</td>\n      <td>0.024229</td>\n      <td>...</td>\n      <td>-0.116655</td>\n      <td>0.230651</td>\n      <td>0.010614</td>\n      <td>0.458247</td>\n      <td>-0.403625</td>\n      <td>0.207094</td>\n      <td>0.603992</td>\n      <td>0.083834</td>\n      <td>-0.520060</td>\n      <td>6.0</td>\n    </tr>\n    <tr>\n      <th>4036</th>\n      <td>0.274940</td>\n      <td>-0.316169</td>\n      <td>-0.382255</td>\n      <td>0.415992</td>\n      <td>0.222673</td>\n      <td>0.098051</td>\n      <td>0.028109</td>\n      <td>0.117534</td>\n      <td>0.035170</td>\n      <td>0.047799</td>\n      <td>...</td>\n      <td>-0.175325</td>\n      <td>0.286692</td>\n      <td>0.015072</td>\n      <td>0.332629</td>\n      <td>-0.444580</td>\n      <td>0.197146</td>\n      <td>0.596902</td>\n      <td>0.039525</td>\n      <td>-0.583024</td>\n      <td>6.0</td>\n    </tr>\n    <tr>\n      <th>4037</th>\n      <td>0.363032</td>\n      <td>-0.305823</td>\n      <td>-0.458466</td>\n      <td>0.475447</td>\n      <td>0.234820</td>\n      <td>0.181331</td>\n      <td>0.042175</td>\n      <td>0.127413</td>\n      <td>-0.039399</td>\n      <td>0.051073</td>\n      <td>...</td>\n      <td>-0.139671</td>\n      <td>0.313044</td>\n      <td>0.022936</td>\n      <td>0.460238</td>\n      <td>-0.505678</td>\n      <td>0.192035</td>\n      <td>0.644883</td>\n      <td>0.050872</td>\n      <td>-0.502411</td>\n      <td>6.0</td>\n    </tr>\n    <tr>\n      <th>4038</th>\n      <td>0.433315</td>\n      <td>-0.291038</td>\n      <td>-0.566892</td>\n      <td>0.416170</td>\n      <td>0.197969</td>\n      <td>0.128369</td>\n      <td>0.014228</td>\n      <td>0.175862</td>\n      <td>-0.021475</td>\n      <td>-0.021189</td>\n      <td>...</td>\n      <td>0.021161</td>\n      <td>0.337224</td>\n      <td>0.093209</td>\n      <td>0.552002</td>\n      <td>-0.575294</td>\n      <td>0.163426</td>\n      <td>0.684315</td>\n      <td>-0.056587</td>\n      <td>-0.680276</td>\n      <td>6.0</td>\n    </tr>\n  </tbody>\n</table>\n<p>3964 rows × 129 columns</p>\n</div>"
     },
     "metadata": {},
     "output_type": "display_data"
    },
    {
     "data": {
      "text/plain": "                 1            2            3            4            5  \\\ncount  3964.000000  3964.000000  3964.000000  3964.000000  3964.000000   \nmean      0.254994     0.277835    -0.164388    -0.073278     0.041296   \nstd       0.319276     0.474198     0.248408     0.247338     0.349691   \nmin      -0.406656    -0.568981    -1.605369    -1.368962    -1.108014   \n25%       0.030098    -0.010859    -0.273594    -0.237030    -0.231607   \n50%       0.209008     0.129522    -0.127311    -0.053938     0.059979   \n75%       0.400926     0.389439    -0.010331     0.081483     0.297787   \nmax       1.637774     1.935641     0.432778     0.786001     1.429531   \n\n                 6            7            8            9           10  ...  \\\ncount  3964.000000  3964.000000  3964.000000  3964.000000  3964.000000  ...   \nmean     -0.045288     0.331631     0.028108    -0.066715     0.045796  ...   \nstd       0.370582     0.467594     0.590872     0.751118     0.500528  ...   \nmin      -1.527247    -0.703769    -1.788771    -2.134580    -1.615455  ...   \n25%      -0.156510     0.037107    -0.208956    -0.338660    -0.189795  ...   \n50%      -0.026121     0.221157    -0.025495    -0.087339    -0.017883  ...   \n75%       0.128375     0.464929     0.137444     0.058060     0.140708  ...   \nmax       1.077459     1.939735     2.357463     2.456897     1.788763  ...   \n\n               120          121          122          123          124  \\\ncount  3964.000000  3964.000000  3964.000000  3964.000000  3964.000000   \nmean     -0.111368     0.080548     0.114097     0.094477     0.040162   \nstd       0.649312     0.556443     0.533549     0.465944     0.467383   \nmin      -2.508975    -1.156764    -0.991954    -2.014699    -1.401742   \n25%      -0.306672    -0.149494    -0.167836    -0.075671    -0.162476   \n50%      -0.083766    -0.003784     0.016329     0.098332    -0.008397   \n75%       0.130450     0.181498     0.203829     0.366235     0.207873   \nmax       2.969436     3.535834     2.212559     1.673947     1.965161   \n\n               125          126          127          128        label  \ncount  3964.000000  3964.000000  3964.000000  3964.000000  3964.000000  \nmean     -0.090280     0.256136    -0.159215    -0.185491     4.467457  \nstd       0.373929     0.215631     1.005380     0.532362     2.833098  \nmin      -1.560871    -0.288975    -4.493262    -1.729752     0.000000  \n25%      -0.232871     0.095258    -0.139115    -0.474844     3.000000  \n50%      -0.003910     0.222779     0.039407    -0.262980     4.000000  \n75%       0.159599     0.396928     0.253435    -0.015526     7.000000  \nmax       0.576316     1.686874     2.336874     1.857677     9.000000  \n\n[8 rows x 129 columns]",
      "text/html": "<div>\n<style scoped>\n    .dataframe tbody tr th:only-of-type {\n        vertical-align: middle;\n    }\n\n    .dataframe tbody tr th {\n        vertical-align: top;\n    }\n\n    .dataframe thead th {\n        text-align: right;\n    }\n</style>\n<table border=\"1\" class=\"dataframe\">\n  <thead>\n    <tr style=\"text-align: right;\">\n      <th></th>\n      <th>1</th>\n      <th>2</th>\n      <th>3</th>\n      <th>4</th>\n      <th>5</th>\n      <th>6</th>\n      <th>7</th>\n      <th>8</th>\n      <th>9</th>\n      <th>10</th>\n      <th>...</th>\n      <th>120</th>\n      <th>121</th>\n      <th>122</th>\n      <th>123</th>\n      <th>124</th>\n      <th>125</th>\n      <th>126</th>\n      <th>127</th>\n      <th>128</th>\n      <th>label</th>\n    </tr>\n  </thead>\n  <tbody>\n    <tr>\n      <th>count</th>\n      <td>3964.000000</td>\n      <td>3964.000000</td>\n      <td>3964.000000</td>\n      <td>3964.000000</td>\n      <td>3964.000000</td>\n      <td>3964.000000</td>\n      <td>3964.000000</td>\n      <td>3964.000000</td>\n      <td>3964.000000</td>\n      <td>3964.000000</td>\n      <td>...</td>\n      <td>3964.000000</td>\n      <td>3964.000000</td>\n      <td>3964.000000</td>\n      <td>3964.000000</td>\n      <td>3964.000000</td>\n      <td>3964.000000</td>\n      <td>3964.000000</td>\n      <td>3964.000000</td>\n      <td>3964.000000</td>\n      <td>3964.000000</td>\n    </tr>\n    <tr>\n      <th>mean</th>\n      <td>0.254994</td>\n      <td>0.277835</td>\n      <td>-0.164388</td>\n      <td>-0.073278</td>\n      <td>0.041296</td>\n      <td>-0.045288</td>\n      <td>0.331631</td>\n      <td>0.028108</td>\n      <td>-0.066715</td>\n      <td>0.045796</td>\n      <td>...</td>\n      <td>-0.111368</td>\n      <td>0.080548</td>\n      <td>0.114097</td>\n      <td>0.094477</td>\n      <td>0.040162</td>\n      <td>-0.090280</td>\n      <td>0.256136</td>\n      <td>-0.159215</td>\n      <td>-0.185491</td>\n      <td>4.467457</td>\n    </tr>\n    <tr>\n      <th>std</th>\n      <td>0.319276</td>\n      <td>0.474198</td>\n      <td>0.248408</td>\n      <td>0.247338</td>\n      <td>0.349691</td>\n      <td>0.370582</td>\n      <td>0.467594</td>\n      <td>0.590872</td>\n      <td>0.751118</td>\n      <td>0.500528</td>\n      <td>...</td>\n      <td>0.649312</td>\n      <td>0.556443</td>\n      <td>0.533549</td>\n      <td>0.465944</td>\n      <td>0.467383</td>\n      <td>0.373929</td>\n      <td>0.215631</td>\n      <td>1.005380</td>\n      <td>0.532362</td>\n      <td>2.833098</td>\n    </tr>\n    <tr>\n      <th>min</th>\n      <td>-0.406656</td>\n      <td>-0.568981</td>\n      <td>-1.605369</td>\n      <td>-1.368962</td>\n      <td>-1.108014</td>\n      <td>-1.527247</td>\n      <td>-0.703769</td>\n      <td>-1.788771</td>\n      <td>-2.134580</td>\n      <td>-1.615455</td>\n      <td>...</td>\n      <td>-2.508975</td>\n      <td>-1.156764</td>\n      <td>-0.991954</td>\n      <td>-2.014699</td>\n      <td>-1.401742</td>\n      <td>-1.560871</td>\n      <td>-0.288975</td>\n      <td>-4.493262</td>\n      <td>-1.729752</td>\n      <td>0.000000</td>\n    </tr>\n    <tr>\n      <th>25%</th>\n      <td>0.030098</td>\n      <td>-0.010859</td>\n      <td>-0.273594</td>\n      <td>-0.237030</td>\n      <td>-0.231607</td>\n      <td>-0.156510</td>\n      <td>0.037107</td>\n      <td>-0.208956</td>\n      <td>-0.338660</td>\n      <td>-0.189795</td>\n      <td>...</td>\n      <td>-0.306672</td>\n      <td>-0.149494</td>\n      <td>-0.167836</td>\n      <td>-0.075671</td>\n      <td>-0.162476</td>\n      <td>-0.232871</td>\n      <td>0.095258</td>\n      <td>-0.139115</td>\n      <td>-0.474844</td>\n      <td>3.000000</td>\n    </tr>\n    <tr>\n      <th>50%</th>\n      <td>0.209008</td>\n      <td>0.129522</td>\n      <td>-0.127311</td>\n      <td>-0.053938</td>\n      <td>0.059979</td>\n      <td>-0.026121</td>\n      <td>0.221157</td>\n      <td>-0.025495</td>\n      <td>-0.087339</td>\n      <td>-0.017883</td>\n      <td>...</td>\n      <td>-0.083766</td>\n      <td>-0.003784</td>\n      <td>0.016329</td>\n      <td>0.098332</td>\n      <td>-0.008397</td>\n      <td>-0.003910</td>\n      <td>0.222779</td>\n      <td>0.039407</td>\n      <td>-0.262980</td>\n      <td>4.000000</td>\n    </tr>\n    <tr>\n      <th>75%</th>\n      <td>0.400926</td>\n      <td>0.389439</td>\n      <td>-0.010331</td>\n      <td>0.081483</td>\n      <td>0.297787</td>\n      <td>0.128375</td>\n      <td>0.464929</td>\n      <td>0.137444</td>\n      <td>0.058060</td>\n      <td>0.140708</td>\n      <td>...</td>\n      <td>0.130450</td>\n      <td>0.181498</td>\n      <td>0.203829</td>\n      <td>0.366235</td>\n      <td>0.207873</td>\n      <td>0.159599</td>\n      <td>0.396928</td>\n      <td>0.253435</td>\n      <td>-0.015526</td>\n      <td>7.000000</td>\n    </tr>\n    <tr>\n      <th>max</th>\n      <td>1.637774</td>\n      <td>1.935641</td>\n      <td>0.432778</td>\n      <td>0.786001</td>\n      <td>1.429531</td>\n      <td>1.077459</td>\n      <td>1.939735</td>\n      <td>2.357463</td>\n      <td>2.456897</td>\n      <td>1.788763</td>\n      <td>...</td>\n      <td>2.969436</td>\n      <td>3.535834</td>\n      <td>2.212559</td>\n      <td>1.673947</td>\n      <td>1.965161</td>\n      <td>0.576316</td>\n      <td>1.686874</td>\n      <td>2.336874</td>\n      <td>1.857677</td>\n      <td>9.000000</td>\n    </tr>\n  </tbody>\n</table>\n<p>8 rows × 129 columns</p>\n</div>"
     },
     "metadata": {},
     "output_type": "display_data"
    }
   ],
   "source": [
    "display(df)\n",
    "display(df.describe())"
   ],
   "metadata": {
    "collapsed": false,
    "pycharm": {
     "name": "#%%\n"
    }
   }
  },
  {
   "cell_type": "code",
   "execution_count": 151,
   "outputs": [],
   "source": [
    "# get nx train graph\n",
    "G = nx.from_pandas_edgelist(train, \"u\", \"v\")"
   ],
   "metadata": {
    "collapsed": false,
    "pycharm": {
     "name": "#%%\n"
    }
   }
  },
  {
   "cell_type": "code",
   "execution_count": null,
   "outputs": [],
   "source": [
    "# plot spring graph\n",
    "plt.axis(\"off\")\n",
    "nx.draw_networkx(G,\n",
    "                 node_color=df.label,\n",
    "                 cmap=plt.get_cmap(CMAP),\n",
    "                 with_labels=False,\n",
    "                 node_size=42)\n",
    "plt.savefig(f\"./plots/graph_d{dim}.png\")\n"
   ],
   "metadata": {
    "collapsed": false,
    "pycharm": {
     "name": "#%%\n",
     "is_executing": true
    }
   }
  },
  {
   "cell_type": "code",
   "execution_count": null,
   "outputs": [],
   "source": [
    "# plot embedding\n",
    "plt.scatter(df[1], df[2], 20, c=df.label, marker=\"o\", cmap=CMAP)\n",
    "plt.savefig(f\"./plots/node_emb_d{dim}.png\")"
   ],
   "metadata": {
    "collapsed": false,
    "pycharm": {
     "name": "#%%\n",
     "is_executing": true
    }
   }
  }
 ],
 "metadata": {
  "kernelspec": {
   "name": "pycharm-97a28330",
   "language": "python",
   "display_name": "PyCharm (ComE_BGMM)"
  },
  "language_info": {
   "codemirror_mode": {
    "name": "ipython",
    "version": 2
   },
   "file_extension": ".py",
   "mimetype": "text/x-python",
   "name": "python",
   "nbconvert_exporter": "python",
   "pygments_lexer": "ipython2",
   "version": "2.7.6"
  }
 },
 "nbformat": 4,
 "nbformat_minor": 0
}