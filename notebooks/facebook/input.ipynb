{
 "cells": [
  {
   "cell_type": "code",
   "execution_count": 2,
   "metadata": {
    "collapsed": true,
    "pycharm": {
     "name": "#%%\n"
    }
   },
   "outputs": [],
   "source": [
    "import sys\n",
    "sys.path.append('../')\n",
    "\n",
    "from IPython.core.display import display\n",
    "import numpy as np\n",
    "import pandas as pd\n",
    "import networkx as nx\n",
    "\n",
    "np.random.seed(333)"
   ]
  },
  {
   "cell_type": "code",
   "execution_count": 3,
   "outputs": [],
   "source": [
    "df = pd.read_csv(\"./facebook.txt\", delimiter=\" \")"
   ],
   "metadata": {
    "collapsed": false,
    "pycharm": {
     "name": "#%%\n"
    }
   }
  },
  {
   "cell_type": "code",
   "execution_count": 4,
   "outputs": [
    {
     "data": {
      "text/plain": "   u  v\n0  0  1\n1  0  2\n2  0  3\n3  0  4\n4  0  5",
      "text/html": "<div>\n<style scoped>\n    .dataframe tbody tr th:only-of-type {\n        vertical-align: middle;\n    }\n\n    .dataframe tbody tr th {\n        vertical-align: top;\n    }\n\n    .dataframe thead th {\n        text-align: right;\n    }\n</style>\n<table border=\"1\" class=\"dataframe\">\n  <thead>\n    <tr style=\"text-align: right;\">\n      <th></th>\n      <th>u</th>\n      <th>v</th>\n    </tr>\n  </thead>\n  <tbody>\n    <tr>\n      <th>0</th>\n      <td>0</td>\n      <td>1</td>\n    </tr>\n    <tr>\n      <th>1</th>\n      <td>0</td>\n      <td>2</td>\n    </tr>\n    <tr>\n      <th>2</th>\n      <td>0</td>\n      <td>3</td>\n    </tr>\n    <tr>\n      <th>3</th>\n      <td>0</td>\n      <td>4</td>\n    </tr>\n    <tr>\n      <th>4</th>\n      <td>0</td>\n      <td>5</td>\n    </tr>\n  </tbody>\n</table>\n</div>"
     },
     "metadata": {},
     "output_type": "display_data"
    },
    {
     "data": {
      "text/plain": "                  u             v\ncount  88234.000000  88234.000000\nmean    1864.781773   2154.199130\nstd      910.292292    893.709532\nmin        0.000000      1.000000\n25%     1160.000000   1600.000000\n50%     1983.000000   2259.000000\n75%     2423.000000   2631.000000\nmax     4031.000000   4038.000000",
      "text/html": "<div>\n<style scoped>\n    .dataframe tbody tr th:only-of-type {\n        vertical-align: middle;\n    }\n\n    .dataframe tbody tr th {\n        vertical-align: top;\n    }\n\n    .dataframe thead th {\n        text-align: right;\n    }\n</style>\n<table border=\"1\" class=\"dataframe\">\n  <thead>\n    <tr style=\"text-align: right;\">\n      <th></th>\n      <th>u</th>\n      <th>v</th>\n    </tr>\n  </thead>\n  <tbody>\n    <tr>\n      <th>count</th>\n      <td>88234.000000</td>\n      <td>88234.000000</td>\n    </tr>\n    <tr>\n      <th>mean</th>\n      <td>1864.781773</td>\n      <td>2154.199130</td>\n    </tr>\n    <tr>\n      <th>std</th>\n      <td>910.292292</td>\n      <td>893.709532</td>\n    </tr>\n    <tr>\n      <th>min</th>\n      <td>0.000000</td>\n      <td>1.000000</td>\n    </tr>\n    <tr>\n      <th>25%</th>\n      <td>1160.000000</td>\n      <td>1600.000000</td>\n    </tr>\n    <tr>\n      <th>50%</th>\n      <td>1983.000000</td>\n      <td>2259.000000</td>\n    </tr>\n    <tr>\n      <th>75%</th>\n      <td>2423.000000</td>\n      <td>2631.000000</td>\n    </tr>\n    <tr>\n      <th>max</th>\n      <td>4031.000000</td>\n      <td>4038.000000</td>\n    </tr>\n  </tbody>\n</table>\n</div>"
     },
     "metadata": {},
     "output_type": "display_data"
    }
   ],
   "source": [
    "display(df.head())\n",
    "display(df.describe())"
   ],
   "metadata": {
    "collapsed": false,
    "pycharm": {
     "name": "#%%\n"
    }
   }
  },
  {
   "cell_type": "code",
   "execution_count": 18,
   "outputs": [
    {
     "data": {
      "text/plain": "0       333.0\n1        17.0\n2        10.0\n3        17.0\n4        10.0\n        ...  \n4033      3.0\n4034      2.0\n4036      2.0\n4037      4.0\n4038      9.0\nLength: 3964, dtype: float64"
     },
     "metadata": {},
     "output_type": "display_data"
    },
    {
     "data": {
      "text/plain": "<matplotlib.axes._subplots.AxesSubplot at 0x7f9c78448630>"
     },
     "metadata": {},
     "output_type": "display_data"
    },
    {
     "data": {
      "text/plain": "<Figure size 720x432 with 1 Axes>",
      "image/png": "[encoded data removed]"
     },
     "metadata": {
      "needs_background": "light"
     },
     "output_type": "display_data"
    }
   ],
   "source": [
    "# distribution of edges by node\n",
    "\n",
    "u_counts = df.u.value_counts()\n",
    "v_counts = df.v.value_counts()\n",
    "counts = u_counts.add(v_counts, fill_value=0)\n",
    "\n",
    "display(counts)\n",
    "degree_hist_ax = counts.hist(bins=100, figsize=(10, 6))\n",
    "degree_hist_ax.set(xlabel='degree', ylabel='nodes count')\n",
    "degree_hist_ax.get_figure().savefig('./degree_hist.png')\n",
    "display(degree_hist_ax)"
   ],
   "metadata": {
    "collapsed": false,
    "pycharm": {
     "name": "#%%\n"
    }
   }
  },
  {
   "cell_type": "code",
   "execution_count": 6,
   "outputs": [],
   "source": [
    "def edgelist_with_nodes_in(edgelist, nodes_filter):\n",
    "    \"\"\"filter edgelist to only nodes in nodes_filter\"\"\"\n",
    "    return edgelist[edgelist.u.isin(nodes_filter) & edgelist.v.isin(nodes_filter)]"
   ],
   "metadata": {
    "collapsed": false,
    "pycharm": {
     "name": "#%%\n"
    }
   }
  },
  {
   "cell_type": "code",
   "execution_count": 7,
   "outputs": [
    {
     "name": "stdout",
     "output_type": "stream",
     "text": [
      "len(df):  88234\n",
      "len(df):  88159\n"
     ]
    }
   ],
   "source": [
    "# remove users with count ≤ 1\n",
    "print(\"len(df): \", len(df))\n",
    "df = edgelist_with_nodes_in(df, counts[counts > 1].index)\n",
    "print(\"len(df): \", len(df))"
   ],
   "metadata": {
    "collapsed": false,
    "pycharm": {
     "name": "#%%\n"
    }
   }
  },
  {
   "cell_type": "code",
   "execution_count": 8,
   "outputs": [
    {
     "name": "stdout",
     "output_type": "stream",
     "text": [
      "test_users:  Int64Index([   0,    9,   21,   25,   26,   56,   67,  107,  119,  122,\n",
      "            ...\n",
      "            3684, 3756, 3824, 3830, 3838, 3851, 3877, 3938, 3948, 3980],\n",
      "           dtype='int64', length=1169)\n",
      "len(test_data):  1169\n",
      "len(test):  1169\n",
      "len(df):  88159\n",
      "len(train):  86999\n"
     ]
    }
   ],
   "source": [
    "# recommend only for users with ≥50 friends\n",
    "np.random.seed(333)\n",
    "test_data = []\n",
    "\n",
    "# test_users have ≥50 friends\n",
    "test_users = counts[counts >= 50].index\n",
    "print(\"test_users: \", test_users)\n",
    "\n",
    "# networkx graph of df\n",
    "G = nx.from_pandas_edgelist(df, \"u\", \"v\")\n",
    "\n",
    "# generate n test edges for each test user\n",
    "n = 1\n",
    "for test_user in test_users:\n",
    "    friends = list(G[test_user])\n",
    "    test_friends = np.random.choice(friends, n, replace=False)\n",
    "    for test_friend in test_friends:\n",
    "        test_data.append((test_user, test_friend))\n",
    "print(\"len(test_data): \", len(test_data))\n",
    "\n",
    "# pd df from test_data\n",
    "test = pd.DataFrame.from_records(test_data, columns=['u', 'v'])\n",
    "print(\"len(test): \", len(test))\n",
    "\n",
    "# remove test from df for train\n",
    "print(\"len(df): \", len(df))\n",
    "test_sorted = pd.DataFrame.from_records([sorted(e) for e in test_data], columns=['u', 'v'])\n",
    "train = pd.concat([df, test_sorted]).drop_duplicates(keep=False)\n",
    "print(\"len(train): \", len(train))\n",
    "# length of train and test do not need to equal to length of df, because edges can be in test twice"
   ],
   "metadata": {
    "collapsed": false,
    "pycharm": {
     "name": "#%%\n"
    }
   }
  },
  {
   "cell_type": "code",
   "execution_count": 9,
   "outputs": [
    {
     "name": "stdout",
     "output_type": "stream",
     "text": [
      "done\n"
     ]
    }
   ],
   "source": [
    "# save train and test csvs\n",
    "train.to_csv(\"../../data/facebook/facebook.csv\")\n",
    "train.to_csv(\"./facebook_train.csv\")\n",
    "test.to_csv(\"./facebook_test.csv\")\n",
    "\n",
    "print(\"done\")\n"
   ],
   "metadata": {
    "collapsed": false,
    "pycharm": {
     "name": "#%%\n"
    }
   }
  }
 ],
 "metadata": {
  "kernelspec": {
   "name": "pycharm-97a28330",
   "language": "python",
   "display_name": "PyCharm (ComE_BGMM)"
  },
  "language_info": {
   "codemirror_mode": {
    "name": "ipython",
    "version": 2
   },
   "file_extension": ".py",
   "mimetype": "text/x-python",
   "name": "python",
   "nbconvert_exporter": "python",
   "pygments_lexer": "ipython2",
   "version": "2.7.6"
  }
 },
 "nbformat": 4,
 "nbformat_minor": 0
}